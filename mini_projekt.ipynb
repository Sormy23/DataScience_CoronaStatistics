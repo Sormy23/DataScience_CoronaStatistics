{
 "nbformat": 4,
 "nbformat_minor": 0,
 "metadata": {
  "colab": {
   "provenance": [],
   "toc_visible": true,
   "include_colab_link": true
  },
  "kernelspec": {
   "name": "python3",
   "language": "python",
   "display_name": "Python 3 (ipykernel)"
  },
  "language_info": {
   "name": "python"
  }
 },
 "cells": [
  {
   "cell_type": "markdown",
   "source": [
    "# Covid Status\n",
    "This Data Science project by Sven Oberwalder and Yasin Sahin analyzes the development of the corona pandemic based on input data provided by Statistik Austria\n",
    "\n",
    "The Datasets can be found here:\n",
    "### [Dataset 1](https://data.statistik.gv.at/web/meta.jsp?dataset=OGD_covidggstatus2_GGSTATUS_2)\n",
    "\n",
    "### [Dataset 2](https://data.statistik.gv.at/web/meta.jsp?dataset=OGD_covidggstatus_GGSTATUS_1)"
   ],
   "metadata": {
    "id": "M66WWyDhkRqD"
   }
  },
  {
   "cell_type": "code",
   "execution_count": 1,
   "metadata": {
    "id": "5L8DRvCTyJfY",
    "ExecuteTime": {
     "end_time": "2024-01-19T20:40:51.704166600Z",
     "start_time": "2024-01-19T20:40:51.699118Z"
    }
   },
   "outputs": [],
   "source": [
    "import numpy as np\n",
    "import pandas as pd\n",
    "\n",
    "import matplotlib.pyplot as plt\n",
    "import seaborn as sns"
   ]
  },
  {
   "cell_type": "markdown",
   "source": [
    "# Initial Data Analysis and Import\n",
    "Dataset 1 has following attributes:\n",
    "* **C-BEZIMST-0** Politischer Bezirk (PolBez)\n",
    "* **C-ALTGRIMST-0** 10-years age group (Altersgr)\n",
    "* **C-GLIMST-0** Country of Birth (GebLand)\n",
    "* **C-C11-0** Sex (Geschl)\n",
    "* **C-IMST-0** COVID-19 vaccinated-recovered-status (GeimpftGenesen)\n",
    "* **F-DATA** Number of records (Anz)\n",
    "\n",
    "Dataset 2 has following attributes:\n",
    "* **C-B00-0** Federal country (Bundesland)\n",
    "* **C-BILIMST-0** Education (Bildung)\n",
    "* **C-ALTGRIMST-0** 10-years age group (Altersgr)\n",
    "* **C-ESIMST-0** Economic status (ErwerbStatus)\n",
    "* **C-IMST-0** COVID-19 vaccinated-recovered-status (GeimpftGenesen)\n",
    "* **F-DATA** Number of records (Anz)\n",
    "\n",
    "In below code, the datasets need to be imported and the attributes must be renamed to more meaningful names. Since the data is separated by semi-colons (;), we need to specify that when importing the csv-files. Furthermore, a simple Std-Analysis has to be conducted, to ensure the progress."
   ],
   "metadata": {
    "collapsed": false
   }
  },
  {
   "cell_type": "code",
   "outputs": [],
   "source": [
    "#import databases\n",
    "dataset1 = pd.read_csv(\"./data/dataset1.csv\", sep=\";\")\n",
    "dataset2 = pd.read_csv(\"./data/dataset2.csv\", sep=\";\")\n",
    "\n",
    "#rename attributes\n",
    "dataset1.rename(columns={\"C-BEZIMST-0\": \"PolBez\",\n",
    "                         \"C-ALTGRIMST-0\": \"Altersgr\",\n",
    "                         \"C-GLIMST-0\": \"GebLand\",\n",
    "                         \"C-C11-0\": \"Geschl\",\n",
    "                         \"C-IMST-0\": \"GeimpftGenesen\",\n",
    "                         \"F-DATA\": \"Anz\"}, inplace=True)\n",
    "dataset2.rename(columns={\"C-B00-0\": \"Bundesland\",\n",
    "                         \"C-BILIMST-0\": \"Bildung\",\n",
    "                         \"C-ALTGRIMST-0\": \"Altersgr\",\n",
    "                         \"C-ESIMST-0\": \"ErwerbStatus\",\n",
    "                         \"C-IMST-0\": \"GeimpftGenesen\",\n",
    "                         \"F-DATA\": \"Anz\"}, inplace=True)\n"
   ],
   "metadata": {
    "collapsed": false,
    "ExecuteTime": {
     "end_time": "2024-01-19T20:40:51.750269900Z",
     "start_time": "2024-01-19T20:40:51.703165200Z"
    }
   },
   "execution_count": 2
  },
  {
   "cell_type": "markdown",
   "source": [
    "## Std-Analysis for Dataset 1"
   ],
   "metadata": {
    "collapsed": false
   }
  },
  {
   "cell_type": "code",
   "outputs": [
    {
     "data": {
      "text/plain": "            PolBez      Altersgr   GebLand Geschl GeimpftGenesen   Anz\n51863        B00-5   ALTGRIMST-8  GLIMST-1  C11-2         IMST-1  4247\n13907  BEZIMST-315   ALTGRIMST-7  GLIMST-2  C11-2         IMST-1    83\n43371  BEZIMST-909   ALTGRIMST-2  GLIMST-2  C11-1         IMST-2    19\n45757  BEZIMST-914  ALTGRIMST-13  GLIMST-2  C11-2         IMST-2   105\n42154  BEZIMST-906   ALTGRIMST-8  GLIMST-2  C11-1         IMST-4   109",
      "text/html": "<div>\n<style scoped>\n    .dataframe tbody tr th:only-of-type {\n        vertical-align: middle;\n    }\n\n    .dataframe tbody tr th {\n        vertical-align: top;\n    }\n\n    .dataframe thead th {\n        text-align: right;\n    }\n</style>\n<table border=\"1\" class=\"dataframe\">\n  <thead>\n    <tr style=\"text-align: right;\">\n      <th></th>\n      <th>PolBez</th>\n      <th>Altersgr</th>\n      <th>GebLand</th>\n      <th>Geschl</th>\n      <th>GeimpftGenesen</th>\n      <th>Anz</th>\n    </tr>\n  </thead>\n  <tbody>\n    <tr>\n      <th>51863</th>\n      <td>B00-5</td>\n      <td>ALTGRIMST-8</td>\n      <td>GLIMST-1</td>\n      <td>C11-2</td>\n      <td>IMST-1</td>\n      <td>4247</td>\n    </tr>\n    <tr>\n      <th>13907</th>\n      <td>BEZIMST-315</td>\n      <td>ALTGRIMST-7</td>\n      <td>GLIMST-2</td>\n      <td>C11-2</td>\n      <td>IMST-1</td>\n      <td>83</td>\n    </tr>\n    <tr>\n      <th>43371</th>\n      <td>BEZIMST-909</td>\n      <td>ALTGRIMST-2</td>\n      <td>GLIMST-2</td>\n      <td>C11-1</td>\n      <td>IMST-2</td>\n      <td>19</td>\n    </tr>\n    <tr>\n      <th>45757</th>\n      <td>BEZIMST-914</td>\n      <td>ALTGRIMST-13</td>\n      <td>GLIMST-2</td>\n      <td>C11-2</td>\n      <td>IMST-2</td>\n      <td>105</td>\n    </tr>\n    <tr>\n      <th>42154</th>\n      <td>BEZIMST-906</td>\n      <td>ALTGRIMST-8</td>\n      <td>GLIMST-2</td>\n      <td>C11-1</td>\n      <td>IMST-4</td>\n      <td>109</td>\n    </tr>\n  </tbody>\n</table>\n</div>"
     },
     "execution_count": 3,
     "metadata": {},
     "output_type": "execute_result"
    }
   ],
   "source": [
    "dataset1.sample(5)"
   ],
   "metadata": {
    "collapsed": false,
    "ExecuteTime": {
     "end_time": "2024-01-19T20:40:51.770421900Z",
     "start_time": "2024-01-19T20:40:51.751270700Z"
    }
   },
   "execution_count": 3
  },
  {
   "cell_type": "markdown",
   "source": [
    "We immediately recognize that all values have a certain code (Except for Anz)"
   ],
   "metadata": {
    "collapsed": false
   }
  },
  {
   "cell_type": "code",
   "outputs": [
    {
     "data": {
      "text/plain": "        PolBez     Altersgr   GebLand Geschl GeimpftGenesen  Anz\n0  BEZIMST-101  ALTGRIMST-1  GLIMST-1  C11-1         IMST-1    1\n1  BEZIMST-101  ALTGRIMST-1  GLIMST-1  C11-1         IMST-3   80\n2  BEZIMST-101  ALTGRIMST-1  GLIMST-1  C11-1         IMST-4  216\n3  BEZIMST-101  ALTGRIMST-1  GLIMST-1  C11-2         IMST-1    2\n4  BEZIMST-101  ALTGRIMST-1  GLIMST-1  C11-2         IMST-3   86",
      "text/html": "<div>\n<style scoped>\n    .dataframe tbody tr th:only-of-type {\n        vertical-align: middle;\n    }\n\n    .dataframe tbody tr th {\n        vertical-align: top;\n    }\n\n    .dataframe thead th {\n        text-align: right;\n    }\n</style>\n<table border=\"1\" class=\"dataframe\">\n  <thead>\n    <tr style=\"text-align: right;\">\n      <th></th>\n      <th>PolBez</th>\n      <th>Altersgr</th>\n      <th>GebLand</th>\n      <th>Geschl</th>\n      <th>GeimpftGenesen</th>\n      <th>Anz</th>\n    </tr>\n  </thead>\n  <tbody>\n    <tr>\n      <th>0</th>\n      <td>BEZIMST-101</td>\n      <td>ALTGRIMST-1</td>\n      <td>GLIMST-1</td>\n      <td>C11-1</td>\n      <td>IMST-1</td>\n      <td>1</td>\n    </tr>\n    <tr>\n      <th>1</th>\n      <td>BEZIMST-101</td>\n      <td>ALTGRIMST-1</td>\n      <td>GLIMST-1</td>\n      <td>C11-1</td>\n      <td>IMST-3</td>\n      <td>80</td>\n    </tr>\n    <tr>\n      <th>2</th>\n      <td>BEZIMST-101</td>\n      <td>ALTGRIMST-1</td>\n      <td>GLIMST-1</td>\n      <td>C11-1</td>\n      <td>IMST-4</td>\n      <td>216</td>\n    </tr>\n    <tr>\n      <th>3</th>\n      <td>BEZIMST-101</td>\n      <td>ALTGRIMST-1</td>\n      <td>GLIMST-1</td>\n      <td>C11-2</td>\n      <td>IMST-1</td>\n      <td>2</td>\n    </tr>\n    <tr>\n      <th>4</th>\n      <td>BEZIMST-101</td>\n      <td>ALTGRIMST-1</td>\n      <td>GLIMST-1</td>\n      <td>C11-2</td>\n      <td>IMST-3</td>\n      <td>86</td>\n    </tr>\n  </tbody>\n</table>\n</div>"
     },
     "execution_count": 4,
     "metadata": {},
     "output_type": "execute_result"
    }
   ],
   "source": [
    "dataset1.head(5)"
   ],
   "metadata": {
    "collapsed": false,
    "ExecuteTime": {
     "end_time": "2024-01-19T20:40:51.772423400Z",
     "start_time": "2024-01-19T20:40:51.762101800Z"
    }
   },
   "execution_count": 4
  },
  {
   "cell_type": "code",
   "outputs": [
    {
     "name": "stdout",
     "output_type": "stream",
     "text": [
      "<class 'pandas.core.frame.DataFrame'>\n",
      "RangeIndex: 53961 entries, 0 to 53960\n",
      "Data columns (total 6 columns):\n",
      " #   Column          Non-Null Count  Dtype \n",
      "---  ------          --------------  ----- \n",
      " 0   PolBez          53961 non-null  object\n",
      " 1   Altersgr        53961 non-null  object\n",
      " 2   GebLand         53961 non-null  object\n",
      " 3   Geschl          53961 non-null  object\n",
      " 4   GeimpftGenesen  53961 non-null  object\n",
      " 5   Anz             53961 non-null  int64 \n",
      "dtypes: int64(1), object(5)\n",
      "memory usage: 2.5+ MB\n"
     ]
    }
   ],
   "source": [
    "dataset1.info()"
   ],
   "metadata": {
    "collapsed": false,
    "ExecuteTime": {
     "end_time": "2024-01-19T20:40:51.835486100Z",
     "start_time": "2024-01-19T20:40:51.768422300Z"
    }
   },
   "execution_count": 5
  },
  {
   "cell_type": "markdown",
   "source": [
    "There are no null-values for this dataset, which is positive for future analysis."
   ],
   "metadata": {
    "collapsed": false
   }
  },
  {
   "cell_type": "code",
   "outputs": [
    {
     "data": {
      "text/plain": "                Anz\ncount  53961.000000\nmean     642.049703\nstd     2171.148389\nmin        1.000000\n25%       44.000000\n50%      169.000000\n75%      508.000000\nmax    70338.000000",
      "text/html": "<div>\n<style scoped>\n    .dataframe tbody tr th:only-of-type {\n        vertical-align: middle;\n    }\n\n    .dataframe tbody tr th {\n        vertical-align: top;\n    }\n\n    .dataframe thead th {\n        text-align: right;\n    }\n</style>\n<table border=\"1\" class=\"dataframe\">\n  <thead>\n    <tr style=\"text-align: right;\">\n      <th></th>\n      <th>Anz</th>\n    </tr>\n  </thead>\n  <tbody>\n    <tr>\n      <th>count</th>\n      <td>53961.000000</td>\n    </tr>\n    <tr>\n      <th>mean</th>\n      <td>642.049703</td>\n    </tr>\n    <tr>\n      <th>std</th>\n      <td>2171.148389</td>\n    </tr>\n    <tr>\n      <th>min</th>\n      <td>1.000000</td>\n    </tr>\n    <tr>\n      <th>25%</th>\n      <td>44.000000</td>\n    </tr>\n    <tr>\n      <th>50%</th>\n      <td>169.000000</td>\n    </tr>\n    <tr>\n      <th>75%</th>\n      <td>508.000000</td>\n    </tr>\n    <tr>\n      <th>max</th>\n      <td>70338.000000</td>\n    </tr>\n  </tbody>\n</table>\n</div>"
     },
     "execution_count": 6,
     "metadata": {},
     "output_type": "execute_result"
    }
   ],
   "source": [
    "dataset1.describe()"
   ],
   "metadata": {
    "collapsed": false,
    "ExecuteTime": {
     "end_time": "2024-01-19T20:40:51.859138500Z",
     "start_time": "2024-01-19T20:40:51.786698Z"
    }
   },
   "execution_count": 6
  },
  {
   "cell_type": "markdown",
   "source": [
    "## Std-Analysis for Dataset 2"
   ],
   "metadata": {
    "collapsed": false
   }
  },
  {
   "cell_type": "code",
   "outputs": [
    {
     "data": {
      "text/plain": "     Bundesland    Bildung     Altersgr ErwerbStatus GeimpftGenesen   Anz\n820       B00-6  BILIMST-2  ALT10IMST-5     ESIMST-2         IMST-2  1141\n651       B00-5  BILIMST-2  ALT10IMST-4     ESIMST-1         IMST-3  6880\n165       B00-2  BILIMST-1  ALT10IMST-5     ESIMST-2         IMST-4  1058\n1032      B00-7  BILIMST-4  ALT10IMST-4     ESIMST-2         IMST-2   741\n264       B00-2  BILIMST-4  ALT10IMST-6     ESIMST-1         IMST-3  1386",
      "text/html": "<div>\n<style scoped>\n    .dataframe tbody tr th:only-of-type {\n        vertical-align: middle;\n    }\n\n    .dataframe tbody tr th {\n        vertical-align: top;\n    }\n\n    .dataframe thead th {\n        text-align: right;\n    }\n</style>\n<table border=\"1\" class=\"dataframe\">\n  <thead>\n    <tr style=\"text-align: right;\">\n      <th></th>\n      <th>Bundesland</th>\n      <th>Bildung</th>\n      <th>Altersgr</th>\n      <th>ErwerbStatus</th>\n      <th>GeimpftGenesen</th>\n      <th>Anz</th>\n    </tr>\n  </thead>\n  <tbody>\n    <tr>\n      <th>820</th>\n      <td>B00-6</td>\n      <td>BILIMST-2</td>\n      <td>ALT10IMST-5</td>\n      <td>ESIMST-2</td>\n      <td>IMST-2</td>\n      <td>1141</td>\n    </tr>\n    <tr>\n      <th>651</th>\n      <td>B00-5</td>\n      <td>BILIMST-2</td>\n      <td>ALT10IMST-4</td>\n      <td>ESIMST-1</td>\n      <td>IMST-3</td>\n      <td>6880</td>\n    </tr>\n    <tr>\n      <th>165</th>\n      <td>B00-2</td>\n      <td>BILIMST-1</td>\n      <td>ALT10IMST-5</td>\n      <td>ESIMST-2</td>\n      <td>IMST-4</td>\n      <td>1058</td>\n    </tr>\n    <tr>\n      <th>1032</th>\n      <td>B00-7</td>\n      <td>BILIMST-4</td>\n      <td>ALT10IMST-4</td>\n      <td>ESIMST-2</td>\n      <td>IMST-2</td>\n      <td>741</td>\n    </tr>\n    <tr>\n      <th>264</th>\n      <td>B00-2</td>\n      <td>BILIMST-4</td>\n      <td>ALT10IMST-6</td>\n      <td>ESIMST-1</td>\n      <td>IMST-3</td>\n      <td>1386</td>\n    </tr>\n  </tbody>\n</table>\n</div>"
     },
     "execution_count": 7,
     "metadata": {},
     "output_type": "execute_result"
    }
   ],
   "source": [
    "dataset2.sample(5)"
   ],
   "metadata": {
    "collapsed": false,
    "ExecuteTime": {
     "end_time": "2024-01-19T20:40:51.861139300Z",
     "start_time": "2024-01-19T20:40:51.794145600Z"
    }
   },
   "execution_count": 7
  },
  {
   "cell_type": "markdown",
   "source": [
    "Same here: Every value is its own code and needs to be converted, to understand the dataset better."
   ],
   "metadata": {
    "collapsed": false
   }
  },
  {
   "cell_type": "code",
   "outputs": [
    {
     "data": {
      "text/plain": "  Bundesland    Bildung     Altersgr ErwerbStatus GeimpftGenesen  Anz\n0      B00-1  BILIMST-1  ALT10IMST-4     ESIMST-1         IMST-1  611\n1      B00-1  BILIMST-1  ALT10IMST-4     ESIMST-1         IMST-2  285\n2      B00-1  BILIMST-1  ALT10IMST-4     ESIMST-1         IMST-3  396\n3      B00-1  BILIMST-1  ALT10IMST-4     ESIMST-1         IMST-4  472\n4      B00-1  BILIMST-1  ALT10IMST-4     ESIMST-2         IMST-1  471",
      "text/html": "<div>\n<style scoped>\n    .dataframe tbody tr th:only-of-type {\n        vertical-align: middle;\n    }\n\n    .dataframe tbody tr th {\n        vertical-align: top;\n    }\n\n    .dataframe thead th {\n        text-align: right;\n    }\n</style>\n<table border=\"1\" class=\"dataframe\">\n  <thead>\n    <tr style=\"text-align: right;\">\n      <th></th>\n      <th>Bundesland</th>\n      <th>Bildung</th>\n      <th>Altersgr</th>\n      <th>ErwerbStatus</th>\n      <th>GeimpftGenesen</th>\n      <th>Anz</th>\n    </tr>\n  </thead>\n  <tbody>\n    <tr>\n      <th>0</th>\n      <td>B00-1</td>\n      <td>BILIMST-1</td>\n      <td>ALT10IMST-4</td>\n      <td>ESIMST-1</td>\n      <td>IMST-1</td>\n      <td>611</td>\n    </tr>\n    <tr>\n      <th>1</th>\n      <td>B00-1</td>\n      <td>BILIMST-1</td>\n      <td>ALT10IMST-4</td>\n      <td>ESIMST-1</td>\n      <td>IMST-2</td>\n      <td>285</td>\n    </tr>\n    <tr>\n      <th>2</th>\n      <td>B00-1</td>\n      <td>BILIMST-1</td>\n      <td>ALT10IMST-4</td>\n      <td>ESIMST-1</td>\n      <td>IMST-3</td>\n      <td>396</td>\n    </tr>\n    <tr>\n      <th>3</th>\n      <td>B00-1</td>\n      <td>BILIMST-1</td>\n      <td>ALT10IMST-4</td>\n      <td>ESIMST-1</td>\n      <td>IMST-4</td>\n      <td>472</td>\n    </tr>\n    <tr>\n      <th>4</th>\n      <td>B00-1</td>\n      <td>BILIMST-1</td>\n      <td>ALT10IMST-4</td>\n      <td>ESIMST-2</td>\n      <td>IMST-1</td>\n      <td>471</td>\n    </tr>\n  </tbody>\n</table>\n</div>"
     },
     "execution_count": 8,
     "metadata": {},
     "output_type": "execute_result"
    }
   ],
   "source": [
    "dataset2.head(5)"
   ],
   "metadata": {
    "collapsed": false,
    "ExecuteTime": {
     "end_time": "2024-01-19T20:40:51.974187500Z",
     "start_time": "2024-01-19T20:40:51.801314300Z"
    }
   },
   "execution_count": 8
  },
  {
   "cell_type": "code",
   "outputs": [
    {
     "name": "stdout",
     "output_type": "stream",
     "text": [
      "<class 'pandas.core.frame.DataFrame'>\n",
      "RangeIndex: 1404 entries, 0 to 1403\n",
      "Data columns (total 6 columns):\n",
      " #   Column          Non-Null Count  Dtype \n",
      "---  ------          --------------  ----- \n",
      " 0   Bundesland      1404 non-null   object\n",
      " 1   Bildung         1404 non-null   object\n",
      " 2   Altersgr        1404 non-null   object\n",
      " 3   ErwerbStatus    1404 non-null   object\n",
      " 4   GeimpftGenesen  1404 non-null   object\n",
      " 5   Anz             1404 non-null   int64 \n",
      "dtypes: int64(1), object(5)\n",
      "memory usage: 65.9+ KB\n"
     ]
    }
   ],
   "source": [
    "dataset2.info()"
   ],
   "metadata": {
    "collapsed": false,
    "ExecuteTime": {
     "end_time": "2024-01-19T20:40:51.975225500Z",
     "start_time": "2024-01-19T20:40:51.811854800Z"
    }
   },
   "execution_count": 9
  },
  {
   "cell_type": "markdown",
   "source": [
    "No null-values in this dataset too."
   ],
   "metadata": {
    "collapsed": false
   }
  },
  {
   "cell_type": "code",
   "outputs": [
    {
     "data": {
      "text/plain": "                Anz\ncount   1404.000000\nmean    3414.423789\nstd     5746.310880\nmin        1.000000\n25%      310.500000\n50%     1375.500000\n75%     3926.000000\nmax    55581.000000",
      "text/html": "<div>\n<style scoped>\n    .dataframe tbody tr th:only-of-type {\n        vertical-align: middle;\n    }\n\n    .dataframe tbody tr th {\n        vertical-align: top;\n    }\n\n    .dataframe thead th {\n        text-align: right;\n    }\n</style>\n<table border=\"1\" class=\"dataframe\">\n  <thead>\n    <tr style=\"text-align: right;\">\n      <th></th>\n      <th>Anz</th>\n    </tr>\n  </thead>\n  <tbody>\n    <tr>\n      <th>count</th>\n      <td>1404.000000</td>\n    </tr>\n    <tr>\n      <th>mean</th>\n      <td>3414.423789</td>\n    </tr>\n    <tr>\n      <th>std</th>\n      <td>5746.310880</td>\n    </tr>\n    <tr>\n      <th>min</th>\n      <td>1.000000</td>\n    </tr>\n    <tr>\n      <th>25%</th>\n      <td>310.500000</td>\n    </tr>\n    <tr>\n      <th>50%</th>\n      <td>1375.500000</td>\n    </tr>\n    <tr>\n      <th>75%</th>\n      <td>3926.000000</td>\n    </tr>\n    <tr>\n      <th>max</th>\n      <td>55581.000000</td>\n    </tr>\n  </tbody>\n</table>\n</div>"
     },
     "execution_count": 10,
     "metadata": {},
     "output_type": "execute_result"
    }
   ],
   "source": [
    "dataset2.describe()"
   ],
   "metadata": {
    "collapsed": false,
    "ExecuteTime": {
     "end_time": "2024-01-19T20:40:51.977141200Z",
     "start_time": "2024-01-19T20:40:51.821341200Z"
    }
   },
   "execution_count": 10
  },
  {
   "cell_type": "markdown",
   "source": [
    "# Data Cleaning\n",
    "In this section, the input data will be cleaned. For this manner, any wrong, missing, or irrelevant informations will be treated accordingly.\n",
    "\n",
    "**To Be marked**\n",
    "The Column ``Altersgr`` uses an age gap interval of 10 years to inform us about the age of the adresses person. However, the first interval currently named ``ALT10IMST-1`` only has a 5 year gap (from 0 - 4 years) to especially adress babys and small children"
   ],
   "metadata": {
    "collapsed": false
   }
  },
  {
   "cell_type": "markdown",
   "source": [
    "### Dataset 1"
   ],
   "metadata": {
    "collapsed": false
   }
  },
  {
   "cell_type": "markdown",
   "source": [
    "There is already a csv which helps us convert these codes into values we can understand. The reason we do not import these values from the csv directly, is that the values are too long. We hereby keep the values steady and simple.\n",
    "* ``GeimpftGenesen`` is converted into more meaningful names\n",
    "* For ``Altersgr`` we type in the exact age group\n",
    "* For ``GebLand``: ``GLIMST-1`` stands for people born in Austria, and ``GLIMST-1`` for people born outside of Austria\n",
    "* ``Geschl`` is also being converted into m (male) and f (female)"
   ],
   "metadata": {
    "collapsed": false
   }
  },
  {
   "cell_type": "code",
   "outputs": [
    {
     "data": {
      "text/plain": "            PolBez Altersgr  GebLand Geschl GeimpftGenesen   Anz\n48687  BEZIMST-921      NaN   INLAND      f         NICHTS   869\n4622   BEZIMST-203  25 - 34   INLAND      m     IMPF + GEN   124\n31018  BEZIMST-612   5 - 14   INLAND      f            GEN  1229\n49974  BEZIMST-923      85+  AUSLAND      m     IMPF + GEN    11\n3530   BEZIMST-201      NaN  AUSLAND      m         NICHTS   243\n120    BEZIMST-101      NaN   INLAND      m           IMPF   172\n11919  BEZIMST-310      NaN  AUSLAND      m           IMPF    19\n29768  BEZIMST-606  35 - 44   INLAND      m     IMPF + GEN  2239\n32422  BEZIMST-617      85+   INLAND      m     IMPF + GEN   137\n22955  BEZIMST-412      NaN   INLAND      f         NICHTS   214",
      "text/html": "<div>\n<style scoped>\n    .dataframe tbody tr th:only-of-type {\n        vertical-align: middle;\n    }\n\n    .dataframe tbody tr th {\n        vertical-align: top;\n    }\n\n    .dataframe thead th {\n        text-align: right;\n    }\n</style>\n<table border=\"1\" class=\"dataframe\">\n  <thead>\n    <tr style=\"text-align: right;\">\n      <th></th>\n      <th>PolBez</th>\n      <th>Altersgr</th>\n      <th>GebLand</th>\n      <th>Geschl</th>\n      <th>GeimpftGenesen</th>\n      <th>Anz</th>\n    </tr>\n  </thead>\n  <tbody>\n    <tr>\n      <th>48687</th>\n      <td>BEZIMST-921</td>\n      <td>NaN</td>\n      <td>INLAND</td>\n      <td>f</td>\n      <td>NICHTS</td>\n      <td>869</td>\n    </tr>\n    <tr>\n      <th>4622</th>\n      <td>BEZIMST-203</td>\n      <td>25 - 34</td>\n      <td>INLAND</td>\n      <td>m</td>\n      <td>IMPF + GEN</td>\n      <td>124</td>\n    </tr>\n    <tr>\n      <th>31018</th>\n      <td>BEZIMST-612</td>\n      <td>5 - 14</td>\n      <td>INLAND</td>\n      <td>f</td>\n      <td>GEN</td>\n      <td>1229</td>\n    </tr>\n    <tr>\n      <th>49974</th>\n      <td>BEZIMST-923</td>\n      <td>85+</td>\n      <td>AUSLAND</td>\n      <td>m</td>\n      <td>IMPF + GEN</td>\n      <td>11</td>\n    </tr>\n    <tr>\n      <th>3530</th>\n      <td>BEZIMST-201</td>\n      <td>NaN</td>\n      <td>AUSLAND</td>\n      <td>m</td>\n      <td>NICHTS</td>\n      <td>243</td>\n    </tr>\n    <tr>\n      <th>120</th>\n      <td>BEZIMST-101</td>\n      <td>NaN</td>\n      <td>INLAND</td>\n      <td>m</td>\n      <td>IMPF</td>\n      <td>172</td>\n    </tr>\n    <tr>\n      <th>11919</th>\n      <td>BEZIMST-310</td>\n      <td>NaN</td>\n      <td>AUSLAND</td>\n      <td>m</td>\n      <td>IMPF</td>\n      <td>19</td>\n    </tr>\n    <tr>\n      <th>29768</th>\n      <td>BEZIMST-606</td>\n      <td>35 - 44</td>\n      <td>INLAND</td>\n      <td>m</td>\n      <td>IMPF + GEN</td>\n      <td>2239</td>\n    </tr>\n    <tr>\n      <th>32422</th>\n      <td>BEZIMST-617</td>\n      <td>85+</td>\n      <td>INLAND</td>\n      <td>m</td>\n      <td>IMPF + GEN</td>\n      <td>137</td>\n    </tr>\n    <tr>\n      <th>22955</th>\n      <td>BEZIMST-412</td>\n      <td>NaN</td>\n      <td>INLAND</td>\n      <td>f</td>\n      <td>NICHTS</td>\n      <td>214</td>\n    </tr>\n  </tbody>\n</table>\n</div>"
     },
     "execution_count": 11,
     "metadata": {},
     "output_type": "execute_result"
    }
   ],
   "source": [
    "geimpftGenesenDict = {\"IMST-4\": \"NICHTS\",  #nothing (NICHTS)\n",
    "                       \"IMST-1\": \"IMPF\",  #vaccinated (geIMPFt)\n",
    "                       \"IMST-3\": \"GEN\",  #recovered (GENesen)\n",
    "                       \"IMST-2\": \"IMPF + GEN\"} #vaccinated + recovered (geIMPFt und GENesen)\n",
    "\n",
    "ageGapDict = {\"ALT10IMST-1\": \"0 - 4\",\n",
    "              \"ALT10IMST-2\": \"5 - 14\",\n",
    "              \"ALT10IMST-3\": \"15 - 24\",\n",
    "              \"ALT10IMST-4\": \"25 - 34\",\n",
    "              \"ALT10IMST-5\": \"35 - 44\",\n",
    "              \"ALT10IMST-6\": \"45 - 54\",\n",
    "              \"ALT10IMST-7\": \"55 - 64\",\n",
    "              \"ALT10IMST-8\": \"65 - 74\",\n",
    "              \"ALT10IMST-9\": \"75 - 84\",\n",
    "              \"ALT10IMST-10\": \"85+\"}\n",
    "\n",
    "dataset1[\"GebLand\"] = dataset1[\"GebLand\"].map({\"GLIMST-1\": \"INLAND\",\n",
    "                                               \"GLIMST-2\": \"AUSLAND\"})\n",
    "\n",
    "dataset1[\"Geschl\"] = dataset1[\"Geschl\"].map({\"C11-1\": \"m\",\n",
    "                                             \"C11-2\": \"f\"})\n",
    "\n",
    "dataset1[\"GeimpftGenesen\"] = dataset1[\"GeimpftGenesen\"].map(geimpftGenesenDict)\n",
    "\n",
    "dataset1[\"Altersgr\"] = dataset1[\"Altersgr\"].map(ageGapDict)\n",
    "\n",
    "dataset1.sample(10)"
   ],
   "metadata": {
    "collapsed": false,
    "ExecuteTime": {
     "end_time": "2024-01-19T20:40:52.023707700Z",
     "start_time": "2024-01-19T20:40:51.833499700Z"
    }
   },
   "execution_count": 11
  },
  {
   "cell_type": "markdown",
   "source": [
    "### Dataset 2"
   ],
   "metadata": {
    "collapsed": false
   }
  },
  {
   "cell_type": "code",
   "outputs": [
    {
     "data": {
      "text/plain": "          Bundesland            Bildung Altersgr ErwerbStatus GeimpftGenesen  \\\n154          Kärnten      Pflichtschule  25 - 34      inaktiv           IMPF   \n1008           Tirol     BHS/AHS/Kolleg  35 - 44      inaktiv     IMPF + GEN   \n61        Burgenland  Lehrabschluss/BMS  55 - 64      inaktiv     IMPF + GEN   \n219          Kärnten     BHS/AHS/Kolleg  25 - 34      inaktiv     IMPF + GEN   \n465   Oberösterreich      Pflichtschule  25 - 34      inaktiv           IMPF   \n668         Salzburg  Lehrabschluss/BMS  45 - 54        aktiv         NICHTS   \n467   Oberösterreich      Pflichtschule  25 - 34      inaktiv            GEN   \n1079           Tirol            Unknown  45 - 54      inaktiv     IMPF + GEN   \n71        Burgenland     BHS/AHS/Kolleg  25 - 34      inaktiv         NICHTS   \n1391            Wien            Unknown  45 - 54        aktiv         NICHTS   \n\n       Anz  \n154   1127  \n1008   348  \n61    2165  \n219    350  \n465   3070  \n668   6270  \n467   2410  \n1079     2  \n71     235  \n1391    18  ",
      "text/html": "<div>\n<style scoped>\n    .dataframe tbody tr th:only-of-type {\n        vertical-align: middle;\n    }\n\n    .dataframe tbody tr th {\n        vertical-align: top;\n    }\n\n    .dataframe thead th {\n        text-align: right;\n    }\n</style>\n<table border=\"1\" class=\"dataframe\">\n  <thead>\n    <tr style=\"text-align: right;\">\n      <th></th>\n      <th>Bundesland</th>\n      <th>Bildung</th>\n      <th>Altersgr</th>\n      <th>ErwerbStatus</th>\n      <th>GeimpftGenesen</th>\n      <th>Anz</th>\n    </tr>\n  </thead>\n  <tbody>\n    <tr>\n      <th>154</th>\n      <td>Kärnten</td>\n      <td>Pflichtschule</td>\n      <td>25 - 34</td>\n      <td>inaktiv</td>\n      <td>IMPF</td>\n      <td>1127</td>\n    </tr>\n    <tr>\n      <th>1008</th>\n      <td>Tirol</td>\n      <td>BHS/AHS/Kolleg</td>\n      <td>35 - 44</td>\n      <td>inaktiv</td>\n      <td>IMPF + GEN</td>\n      <td>348</td>\n    </tr>\n    <tr>\n      <th>61</th>\n      <td>Burgenland</td>\n      <td>Lehrabschluss/BMS</td>\n      <td>55 - 64</td>\n      <td>inaktiv</td>\n      <td>IMPF + GEN</td>\n      <td>2165</td>\n    </tr>\n    <tr>\n      <th>219</th>\n      <td>Kärnten</td>\n      <td>BHS/AHS/Kolleg</td>\n      <td>25 - 34</td>\n      <td>inaktiv</td>\n      <td>IMPF + GEN</td>\n      <td>350</td>\n    </tr>\n    <tr>\n      <th>465</th>\n      <td>Oberösterreich</td>\n      <td>Pflichtschule</td>\n      <td>25 - 34</td>\n      <td>inaktiv</td>\n      <td>IMPF</td>\n      <td>3070</td>\n    </tr>\n    <tr>\n      <th>668</th>\n      <td>Salzburg</td>\n      <td>Lehrabschluss/BMS</td>\n      <td>45 - 54</td>\n      <td>aktiv</td>\n      <td>NICHTS</td>\n      <td>6270</td>\n    </tr>\n    <tr>\n      <th>467</th>\n      <td>Oberösterreich</td>\n      <td>Pflichtschule</td>\n      <td>25 - 34</td>\n      <td>inaktiv</td>\n      <td>GEN</td>\n      <td>2410</td>\n    </tr>\n    <tr>\n      <th>1079</th>\n      <td>Tirol</td>\n      <td>Unknown</td>\n      <td>45 - 54</td>\n      <td>inaktiv</td>\n      <td>IMPF + GEN</td>\n      <td>2</td>\n    </tr>\n    <tr>\n      <th>71</th>\n      <td>Burgenland</td>\n      <td>BHS/AHS/Kolleg</td>\n      <td>25 - 34</td>\n      <td>inaktiv</td>\n      <td>NICHTS</td>\n      <td>235</td>\n    </tr>\n    <tr>\n      <th>1391</th>\n      <td>Wien</td>\n      <td>Unknown</td>\n      <td>45 - 54</td>\n      <td>aktiv</td>\n      <td>NICHTS</td>\n      <td>18</td>\n    </tr>\n  </tbody>\n</table>\n</div>"
     },
     "execution_count": 12,
     "metadata": {},
     "output_type": "execute_result"
    }
   ],
   "source": [
    "bundeslandDict = {\n",
    "    \"B00-1\": \"Burgenland\",\n",
    "    \"B00-2\": \"Kärnten\",\n",
    "    \"B00-3\": \"Niederösterreich\",\n",
    "    \"B00-4\": \"Oberösterreich\",\n",
    "    \"B00-5\": \"Salzburg\",\n",
    "    \"B00-6\": \"Steiermark\",\n",
    "    \"B00-7\": \"Tirol\",\n",
    "    \"B00-8\": \"Vorarlberg\",\n",
    "    \"B00-9\": \"Wien\"\n",
    "}\n",
    "\n",
    "dataset2[\"Bundesland\"] = dataset2[\"Bundesland\"].map(bundeslandDict)\n",
    "\n",
    "#uses the dictionary geimpftGenesenDict from the previous code block\n",
    "dataset2[\"GeimpftGenesen\"] = dataset2[\"GeimpftGenesen\"].map(geimpftGenesenDict)\n",
    "\n",
    "dataset2[\"Bildung\"] = dataset2[\"Bildung\"].map({\"BILIMST-1\": \"Pflichtschule\",\n",
    "                                               \"BILIMST-2\": \"Lehrabschluss/BMS\",\n",
    "                                               \"BILIMST-3\": \"BHS/AHS/Kolleg\",\n",
    "                                               \"BILIMST-4\": \"Akademie/Hochschule\",\n",
    "                                               \"BILIMST-99\": \"Unknown\"})\n",
    "\n",
    "dataset2[\"ErwerbStatus\"] = dataset2[\"ErwerbStatus\"].map({\"ESIMST-1\": \"aktiv\",\n",
    "                                                         \"ESIMST-2\": \"inaktiv\"})\n",
    "\n",
    "#uses the dictionary ageGapDict from the previous code block\n",
    "dataset2[\"Altersgr\"] = dataset2[\"Altersgr\"].map(ageGapDict)\n",
    "\n",
    "dataset2.sample(10)"
   ],
   "metadata": {
    "collapsed": false,
    "ExecuteTime": {
     "end_time": "2024-01-19T20:40:52.026707800Z",
     "start_time": "2024-01-19T20:40:51.866258500Z"
    }
   },
   "execution_count": 12
  },
  {
   "cell_type": "markdown",
   "source": [
    "## Duplicate Data"
   ],
   "metadata": {
    "collapsed": false
   }
  },
  {
   "cell_type": "code",
   "outputs": [
    {
     "data": {
      "text/plain": "34645644"
     },
     "execution_count": 13,
     "metadata": {},
     "output_type": "execute_result"
    }
   ],
   "source": [
    "dataset1[\"Anz\"].sum()"
   ],
   "metadata": {
    "collapsed": false,
    "ExecuteTime": {
     "end_time": "2024-01-19T20:40:52.028707600Z",
     "start_time": "2024-01-19T20:40:51.869296300Z"
    }
   },
   "execution_count": 13
  },
  {
   "cell_type": "markdown",
   "source": [
    "In the above code we can see that the sum of records is approximately 4 times the total population of Austria. This strongly suggests that there may be duplicate data. And exactly that is the case: In ``PolBez`` there are records for each province and also for each federal country. This duplicate is not necessary, since one province can easily be assigned to its federal country (e.g. ``BEZIMST-304`` (= Wiener Neustadt) must be in ``B00-3`` (=Niederoesterreich)). So the records for the federal countries can be removed."
   ],
   "metadata": {
    "collapsed": false
   }
  },
  {
   "cell_type": "code",
   "outputs": [
    {
     "data": {
      "text/plain": "17322822"
     },
     "execution_count": 14,
     "metadata": {},
     "output_type": "execute_result"
    }
   ],
   "source": [
    "dataset1 = dataset1.loc[dataset1[\"PolBez\"].map(lambda val: \"BEZIMST\" in val)] #only provinces have the prefix BEZIMST\n",
    "dataset1[\"Anz\"].sum()"
   ],
   "metadata": {
    "collapsed": false,
    "ExecuteTime": {
     "end_time": "2024-01-19T20:40:52.039594800Z",
     "start_time": "2024-01-19T20:40:51.873676300Z"
    }
   },
   "execution_count": 14
  },
  {
   "cell_type": "markdown",
   "source": [
    "The above code still returns an amount which is twice as big as Austria's population. Similarly, the column ``Altersgr`` has duplicate records for different age groups. Previously we mapped `Altersgr` to more readable strings, but left out the duplicate values that will be deleted in the next step. So we can simply drop the N/A records that emerge after mapping the column ``Altersgr``."
   ],
   "metadata": {
    "collapsed": false
   }
  },
  {
   "cell_type": "markdown",
   "source": [],
   "metadata": {
    "collapsed": false
   }
  },
  {
   "cell_type": "code",
   "outputs": [
    {
     "data": {
      "text/plain": "8661411"
     },
     "execution_count": 15,
     "metadata": {},
     "output_type": "execute_result"
    }
   ],
   "source": [
    "dataset1 = dataset1.dropna()\n",
    "dataset1[\"Anz\"].sum()"
   ],
   "metadata": {
    "collapsed": false,
    "ExecuteTime": {
     "end_time": "2024-01-19T20:40:52.041596200Z",
     "start_time": "2024-01-19T20:40:51.891186700Z"
    }
   },
   "execution_count": 15
  },
  {
   "cell_type": "markdown",
   "source": [
    "Now we have removed all duplicate values. Let's continue cleaning our data.\n",
    "## Null Values"
   ],
   "metadata": {
    "collapsed": false
   }
  },
  {
   "cell_type": "code",
   "outputs": [
    {
     "data": {
      "text/plain": "PolBez            0\nAltersgr          0\nGebLand           0\nGeschl            0\nGeimpftGenesen    0\nAnz               0\ndtype: int64"
     },
     "execution_count": 16,
     "metadata": {},
     "output_type": "execute_result"
    }
   ],
   "source": [
    "dataset1.isnull().sum()"
   ],
   "metadata": {
    "collapsed": false,
    "ExecuteTime": {
     "end_time": "2024-01-19T20:40:52.042594300Z",
     "start_time": "2024-01-19T20:40:51.901921500Z"
    }
   },
   "execution_count": 16
  },
  {
   "cell_type": "markdown",
   "source": [],
   "metadata": {
    "collapsed": false
   }
  },
  {
   "cell_type": "code",
   "outputs": [
    {
     "data": {
      "text/plain": "Bundesland        0\nBildung           0\nAltersgr          0\nErwerbStatus      0\nGeimpftGenesen    0\nAnz               0\ndtype: int64"
     },
     "execution_count": 17,
     "metadata": {},
     "output_type": "execute_result"
    }
   ],
   "source": [
    "dataset2.isnull().sum()"
   ],
   "metadata": {
    "collapsed": false,
    "ExecuteTime": {
     "end_time": "2024-01-19T20:40:52.062593700Z",
     "start_time": "2024-01-19T20:40:51.909813900Z"
    }
   },
   "execution_count": 17
  },
  {
   "cell_type": "markdown",
   "source": [
    "Since there are no null values, we can continue!"
   ],
   "metadata": {
    "collapsed": false
   }
  },
  {
   "cell_type": "code",
   "outputs": [
    {
     "data": {
      "text/plain": "Bildung\nPflichtschule          288\nLehrabschluss/BMS      288\nBHS/AHS/Kolleg         288\nAkademie/Hochschule    288\nUnknown                252\nName: count, dtype: int64"
     },
     "execution_count": 18,
     "metadata": {},
     "output_type": "execute_result"
    }
   ],
   "source": [
    "dataset2[\"Bildung\"].value_counts()"
   ],
   "metadata": {
    "collapsed": false,
    "ExecuteTime": {
     "end_time": "2024-01-19T20:40:52.221810500Z",
     "start_time": "2024-01-19T20:40:51.915575800Z"
    }
   },
   "execution_count": 18
  },
  {
   "cell_type": "markdown",
   "source": [
    "After this we are done cleaning our data and can save it into two datasets. ``korr1.csv`` for ``dataset1.csv`` and ``korr2.csv`` for ``dataset2.csv``"
   ],
   "metadata": {
    "collapsed": false
   }
  },
  {
   "cell_type": "code",
   "outputs": [],
   "source": [
    "dataset1.to_csv(\"./output/korr1.csv\", sep=\";\", index=False)\n",
    "dataset2.to_csv(\"./output/korr2.csv\", sep=\";\", index=False)"
   ],
   "metadata": {
    "collapsed": false,
    "ExecuteTime": {
     "end_time": "2024-01-19T20:40:52.222809900Z",
     "start_time": "2024-01-19T20:40:51.923450Z"
    }
   },
   "execution_count": 19
  },
  {
   "cell_type": "markdown",
   "source": [
    "Now, lets look at our corrected values..."
   ],
   "metadata": {
    "collapsed": false
   }
  },
  {
   "cell_type": "code",
   "outputs": [
    {
     "data": {
      "text/plain": "        PolBez Altersgr GebLand Geschl GeimpftGenesen  Anz\n0  BEZIMST-101    0 - 4  INLAND      m           IMPF    1\n1  BEZIMST-101    0 - 4  INLAND      m            GEN   80\n2  BEZIMST-101    0 - 4  INLAND      m         NICHTS  216\n3  BEZIMST-101    0 - 4  INLAND      f           IMPF    2\n4  BEZIMST-101    0 - 4  INLAND      f            GEN   86",
      "text/html": "<div>\n<style scoped>\n    .dataframe tbody tr th:only-of-type {\n        vertical-align: middle;\n    }\n\n    .dataframe tbody tr th {\n        vertical-align: top;\n    }\n\n    .dataframe thead th {\n        text-align: right;\n    }\n</style>\n<table border=\"1\" class=\"dataframe\">\n  <thead>\n    <tr style=\"text-align: right;\">\n      <th></th>\n      <th>PolBez</th>\n      <th>Altersgr</th>\n      <th>GebLand</th>\n      <th>Geschl</th>\n      <th>GeimpftGenesen</th>\n      <th>Anz</th>\n    </tr>\n  </thead>\n  <tbody>\n    <tr>\n      <th>0</th>\n      <td>BEZIMST-101</td>\n      <td>0 - 4</td>\n      <td>INLAND</td>\n      <td>m</td>\n      <td>IMPF</td>\n      <td>1</td>\n    </tr>\n    <tr>\n      <th>1</th>\n      <td>BEZIMST-101</td>\n      <td>0 - 4</td>\n      <td>INLAND</td>\n      <td>m</td>\n      <td>GEN</td>\n      <td>80</td>\n    </tr>\n    <tr>\n      <th>2</th>\n      <td>BEZIMST-101</td>\n      <td>0 - 4</td>\n      <td>INLAND</td>\n      <td>m</td>\n      <td>NICHTS</td>\n      <td>216</td>\n    </tr>\n    <tr>\n      <th>3</th>\n      <td>BEZIMST-101</td>\n      <td>0 - 4</td>\n      <td>INLAND</td>\n      <td>f</td>\n      <td>IMPF</td>\n      <td>2</td>\n    </tr>\n    <tr>\n      <th>4</th>\n      <td>BEZIMST-101</td>\n      <td>0 - 4</td>\n      <td>INLAND</td>\n      <td>f</td>\n      <td>GEN</td>\n      <td>86</td>\n    </tr>\n  </tbody>\n</table>\n</div>"
     },
     "execution_count": 20,
     "metadata": {},
     "output_type": "execute_result"
    }
   ],
   "source": [
    "korr1 = pd.read_csv(\"./output/korr1.csv\", sep=\";\")\n",
    "korr2 = pd.read_csv(\"./output/korr2.csv\", sep=\";\")\n",
    "\n",
    "korr1.head(5)"
   ],
   "metadata": {
    "collapsed": false,
    "ExecuteTime": {
     "end_time": "2024-01-19T20:40:52.226811Z",
     "start_time": "2024-01-19T20:40:51.958172600Z"
    }
   },
   "execution_count": 20
  },
  {
   "cell_type": "code",
   "outputs": [
    {
     "data": {
      "text/plain": "   Bundesland        Bildung Altersgr ErwerbStatus GeimpftGenesen  Anz\n0  Burgenland  Pflichtschule  25 - 34        aktiv           IMPF  611\n1  Burgenland  Pflichtschule  25 - 34        aktiv     IMPF + GEN  285\n2  Burgenland  Pflichtschule  25 - 34        aktiv            GEN  396\n3  Burgenland  Pflichtschule  25 - 34        aktiv         NICHTS  472\n4  Burgenland  Pflichtschule  25 - 34      inaktiv           IMPF  471",
      "text/html": "<div>\n<style scoped>\n    .dataframe tbody tr th:only-of-type {\n        vertical-align: middle;\n    }\n\n    .dataframe tbody tr th {\n        vertical-align: top;\n    }\n\n    .dataframe thead th {\n        text-align: right;\n    }\n</style>\n<table border=\"1\" class=\"dataframe\">\n  <thead>\n    <tr style=\"text-align: right;\">\n      <th></th>\n      <th>Bundesland</th>\n      <th>Bildung</th>\n      <th>Altersgr</th>\n      <th>ErwerbStatus</th>\n      <th>GeimpftGenesen</th>\n      <th>Anz</th>\n    </tr>\n  </thead>\n  <tbody>\n    <tr>\n      <th>0</th>\n      <td>Burgenland</td>\n      <td>Pflichtschule</td>\n      <td>25 - 34</td>\n      <td>aktiv</td>\n      <td>IMPF</td>\n      <td>611</td>\n    </tr>\n    <tr>\n      <th>1</th>\n      <td>Burgenland</td>\n      <td>Pflichtschule</td>\n      <td>25 - 34</td>\n      <td>aktiv</td>\n      <td>IMPF + GEN</td>\n      <td>285</td>\n    </tr>\n    <tr>\n      <th>2</th>\n      <td>Burgenland</td>\n      <td>Pflichtschule</td>\n      <td>25 - 34</td>\n      <td>aktiv</td>\n      <td>GEN</td>\n      <td>396</td>\n    </tr>\n    <tr>\n      <th>3</th>\n      <td>Burgenland</td>\n      <td>Pflichtschule</td>\n      <td>25 - 34</td>\n      <td>aktiv</td>\n      <td>NICHTS</td>\n      <td>472</td>\n    </tr>\n    <tr>\n      <th>4</th>\n      <td>Burgenland</td>\n      <td>Pflichtschule</td>\n      <td>25 - 34</td>\n      <td>inaktiv</td>\n      <td>IMPF</td>\n      <td>471</td>\n    </tr>\n  </tbody>\n</table>\n</div>"
     },
     "execution_count": 21,
     "metadata": {},
     "output_type": "execute_result"
    }
   ],
   "source": [
    "korr2.head(5)"
   ],
   "metadata": {
    "collapsed": false,
    "ExecuteTime": {
     "end_time": "2024-01-19T20:40:52.248810900Z",
     "start_time": "2024-01-19T20:40:51.978650700Z"
    }
   },
   "execution_count": 21
  },
  {
   "cell_type": "markdown",
   "source": [
    "# Data Preparation\n",
    "## Numerical Values\n",
    "### Dataset 1\n",
    "* For ``Polbez`` we take the number in the value code (so ``BEZIMST-340`` will be converted into ``340``)\n",
    "* For ``Altersgr`` we take the mean value from the min and max of the age group (except for 85, it will stay 85 since there is no max)\n",
    "* For ``GebLand`` we take 0 for ``INLAND`` and 1 for ``AUSLAND``\n",
    "* For ``Geschl`` we take 0 for ``m`` and 1 for ``f``\n",
    "* For ``GeimpftGenesen`` we take 0 for ``nothing``, 1 for vaccinated, 2 for recovered, and 3 (1+2) for both vaccinated and recovered\n"
   ],
   "metadata": {
    "collapsed": false
   }
  },
  {
   "cell_type": "code",
   "outputs": [
    {
     "data": {
      "text/plain": "      PolBez  Altersgr  GebLand  Geschl  GeimpftGenesen  Anz\n9060     418      19.5        0       1               3  851\n2708     210      79.5        0       0               0   99\n5373     318       9.5        1       0               0   81\n9891     505      59.5        0       0               1  867\n1456     202      49.5        1       0               0  325",
      "text/html": "<div>\n<style scoped>\n    .dataframe tbody tr th:only-of-type {\n        vertical-align: middle;\n    }\n\n    .dataframe tbody tr th {\n        vertical-align: top;\n    }\n\n    .dataframe thead th {\n        text-align: right;\n    }\n</style>\n<table border=\"1\" class=\"dataframe\">\n  <thead>\n    <tr style=\"text-align: right;\">\n      <th></th>\n      <th>PolBez</th>\n      <th>Altersgr</th>\n      <th>GebLand</th>\n      <th>Geschl</th>\n      <th>GeimpftGenesen</th>\n      <th>Anz</th>\n    </tr>\n  </thead>\n  <tbody>\n    <tr>\n      <th>9060</th>\n      <td>418</td>\n      <td>19.5</td>\n      <td>0</td>\n      <td>1</td>\n      <td>3</td>\n      <td>851</td>\n    </tr>\n    <tr>\n      <th>2708</th>\n      <td>210</td>\n      <td>79.5</td>\n      <td>0</td>\n      <td>0</td>\n      <td>0</td>\n      <td>99</td>\n    </tr>\n    <tr>\n      <th>5373</th>\n      <td>318</td>\n      <td>9.5</td>\n      <td>1</td>\n      <td>0</td>\n      <td>0</td>\n      <td>81</td>\n    </tr>\n    <tr>\n      <th>9891</th>\n      <td>505</td>\n      <td>59.5</td>\n      <td>0</td>\n      <td>0</td>\n      <td>1</td>\n      <td>867</td>\n    </tr>\n    <tr>\n      <th>1456</th>\n      <td>202</td>\n      <td>49.5</td>\n      <td>1</td>\n      <td>0</td>\n      <td>0</td>\n      <td>325</td>\n    </tr>\n  </tbody>\n</table>\n</div>"
     },
     "execution_count": 22,
     "metadata": {},
     "output_type": "execute_result"
    }
   ],
   "source": [
    "altersgrToNumeric = {\"0 - 4\": 2.0,\n",
    "                     \"5 - 14\": 9.5,\n",
    "                     \"15 - 24\": 19.5,\n",
    "                     \"25 - 34\": 29.5,\n",
    "                     \"35 - 44\": 39.5,\n",
    "                     \"45 - 54\": 49.5,\n",
    "                     \"55 - 64\": 59.5,\n",
    "                     \"65 - 74\": 69.5,\n",
    "                     \"75 - 84\": 79.5,\n",
    "                     \"85+\": 85.0}\n",
    "\n",
    "geimpftGenesenToNumeric = {\"NICHTS\": 0,  #nothing\n",
    "                      \"IMPF\": 1,  #vacc\n",
    "                      \"GEN\": 2,  #recov\n",
    "                      \"IMPF + GEN\": 3} #vacc + recov\n",
    "\n",
    "geblandToNumeric = dict((v, k) for k, v in enumerate(korr1[\"GebLand\"].unique()))\n",
    "geschlToNumeric = dict((v, k) for k, v in enumerate(korr1[\"Geschl\"].unique()))\n",
    "\n",
    "korr1[\"PolBez\"] = korr1[\"PolBez\"].map(lambda val: int(val[-3:]))\n",
    "korr1[\"Altersgr\"] = korr1[\"Altersgr\"].map(altersgrToNumeric)\n",
    "korr1[\"GebLand\"] = korr1[\"GebLand\"].map(geblandToNumeric)\n",
    "korr1[\"Geschl\"] = korr1[\"Geschl\"].map(geschlToNumeric)\n",
    "korr1[\"GeimpftGenesen\"] = korr1[\"GeimpftGenesen\"].map(geimpftGenesenToNumeric)\n",
    "\n",
    "korr1.sample(5)\n"
   ],
   "metadata": {
    "collapsed": false,
    "ExecuteTime": {
     "end_time": "2024-01-19T20:40:52.250810100Z",
     "start_time": "2024-01-19T20:40:51.988727500Z"
    }
   },
   "execution_count": 22
  },
  {
   "cell_type": "markdown",
   "source": [
    "Let's look if our values are truly numerical:"
   ],
   "metadata": {
    "collapsed": false
   }
  },
  {
   "cell_type": "code",
   "outputs": [
    {
     "name": "stdout",
     "output_type": "stream",
     "text": [
      "<class 'pandas.core.frame.DataFrame'>\n",
      "RangeIndex: 17694 entries, 0 to 17693\n",
      "Data columns (total 6 columns):\n",
      " #   Column          Non-Null Count  Dtype  \n",
      "---  ------          --------------  -----  \n",
      " 0   PolBez          17694 non-null  int64  \n",
      " 1   Altersgr        17694 non-null  float64\n",
      " 2   GebLand         17694 non-null  int64  \n",
      " 3   Geschl          17694 non-null  int64  \n",
      " 4   GeimpftGenesen  17694 non-null  int64  \n",
      " 5   Anz             17694 non-null  int64  \n",
      "dtypes: float64(1), int64(5)\n",
      "memory usage: 829.5 KB\n"
     ]
    }
   ],
   "source": [
    "korr1.info()"
   ],
   "metadata": {
    "collapsed": false,
    "ExecuteTime": {
     "end_time": "2024-01-19T20:40:52.251810500Z",
     "start_time": "2024-01-19T20:40:52.010381200Z"
    }
   },
   "execution_count": 23
  },
  {
   "cell_type": "markdown",
   "source": [
    "So far so good: Everything's an int64 or float64, so we can do the same thing for dataset 2."
   ],
   "metadata": {
    "collapsed": false
   }
  },
  {
   "cell_type": "markdown",
   "source": [
    "### Dataset 2\n",
    "For ``Altersgr`` and ``GeimpftGenesen`` we used the same dict as above to map our values to numerical ones.\n",
    "* For ``Bundesland`` we should consider looking at the ``PolBez`` once more: On Statistik Austria, it's stated that the first digit of the PolBez corresponds to the ``Bundesland``. Because of this, we should keep these numbers for the sake of having consistent values. (If we look closer, we can also see that the states are numbered alphabetically so that's also what we are going to do)\n",
    "* For ``ErwerbStatus`` we take 0 for inactive and 1 for active (common values to symbolize true/false)\n",
    "* For ``Bildung`` we are just going to enumerate the values. But we will make sure that ``Unknown`` corrsponds to 0"
   ],
   "metadata": {
    "collapsed": false
   }
  },
  {
   "cell_type": "code",
   "outputs": [
    {
     "data": {
      "text/plain": "      Bundesland  Bildung  Altersgr  ErwerbStatus  GeimpftGenesen   Anz\n88             1        2      59.5             1               1  2541\n965            7        3      29.5             1               2  9116\n1124           8        3      29.5             0               1  1052\n650            5        3      29.5             1               3  4367\n482            4        4      49.5             0               3   903",
      "text/html": "<div>\n<style scoped>\n    .dataframe tbody tr th:only-of-type {\n        vertical-align: middle;\n    }\n\n    .dataframe tbody tr th {\n        vertical-align: top;\n    }\n\n    .dataframe thead th {\n        text-align: right;\n    }\n</style>\n<table border=\"1\" class=\"dataframe\">\n  <thead>\n    <tr style=\"text-align: right;\">\n      <th></th>\n      <th>Bundesland</th>\n      <th>Bildung</th>\n      <th>Altersgr</th>\n      <th>ErwerbStatus</th>\n      <th>GeimpftGenesen</th>\n      <th>Anz</th>\n    </tr>\n  </thead>\n  <tbody>\n    <tr>\n      <th>88</th>\n      <td>1</td>\n      <td>2</td>\n      <td>59.5</td>\n      <td>1</td>\n      <td>1</td>\n      <td>2541</td>\n    </tr>\n    <tr>\n      <th>965</th>\n      <td>7</td>\n      <td>3</td>\n      <td>29.5</td>\n      <td>1</td>\n      <td>2</td>\n      <td>9116</td>\n    </tr>\n    <tr>\n      <th>1124</th>\n      <td>8</td>\n      <td>3</td>\n      <td>29.5</td>\n      <td>0</td>\n      <td>1</td>\n      <td>1052</td>\n    </tr>\n    <tr>\n      <th>650</th>\n      <td>5</td>\n      <td>3</td>\n      <td>29.5</td>\n      <td>1</td>\n      <td>3</td>\n      <td>4367</td>\n    </tr>\n    <tr>\n      <th>482</th>\n      <td>4</td>\n      <td>4</td>\n      <td>49.5</td>\n      <td>0</td>\n      <td>3</td>\n      <td>903</td>\n    </tr>\n  </tbody>\n</table>\n</div>"
     },
     "execution_count": 24,
     "metadata": {},
     "output_type": "execute_result"
    }
   ],
   "source": [
    "\n",
    "bundeslandToNumeric = dict((v, k + 1) for k, v in enumerate(np.sort(korr2[\"Bundesland\"].unique())))\n",
    "erwerbstatusToNumeric = {\"inaktiv\": 0, \"aktiv\": 1}\n",
    "\n",
    "bildungToNumeric = dict((v, k + 1) for k, v in enumerate(np.sort(korr2[\"Bildung\"].unique())))\n",
    "# make sure unknown corresponds to 0 todo: not working\n",
    "limit = bildungToNumeric[\"Unknown\"]\n",
    "bildungToNumeric[\"Unknown\"] = 0\n",
    "for key in bildungToNumeric.keys():\n",
    "    if bildungToNumeric[key] > limit:\n",
    "        bildungToNumeric[key] += 1\n",
    "\n",
    "korr2[\"Altersgr\"] = korr2[\"Altersgr\"].map(altersgrToNumeric)\n",
    "korr2[\"GeimpftGenesen\"] = korr2[\"GeimpftGenesen\"].map(geimpftGenesenToNumeric)\n",
    "korr2[\"Bundesland\"] = korr2[\"Bundesland\"].map(bundeslandToNumeric)\n",
    "korr2[\"ErwerbStatus\"] = korr2[\"ErwerbStatus\"].map(erwerbstatusToNumeric)\n",
    "korr2[\"Bildung\"] = korr2[\"Bildung\"].map(bildungToNumeric)\n",
    "\n",
    "korr2.sample(5)"
   ],
   "metadata": {
    "collapsed": false,
    "ExecuteTime": {
     "end_time": "2024-01-19T20:40:52.260834Z",
     "start_time": "2024-01-19T20:40:52.019708200Z"
    }
   },
   "execution_count": 24
  },
  {
   "cell_type": "markdown",
   "source": [
    "We need to check again if the values are all numeric:"
   ],
   "metadata": {
    "collapsed": false
   }
  },
  {
   "cell_type": "code",
   "outputs": [
    {
     "name": "stdout",
     "output_type": "stream",
     "text": [
      "<class 'pandas.core.frame.DataFrame'>\n",
      "RangeIndex: 1404 entries, 0 to 1403\n",
      "Data columns (total 6 columns):\n",
      " #   Column          Non-Null Count  Dtype  \n",
      "---  ------          --------------  -----  \n",
      " 0   Bundesland      1404 non-null   int64  \n",
      " 1   Bildung         1404 non-null   int64  \n",
      " 2   Altersgr        1404 non-null   float64\n",
      " 3   ErwerbStatus    1404 non-null   int64  \n",
      " 4   GeimpftGenesen  1404 non-null   int64  \n",
      " 5   Anz             1404 non-null   int64  \n",
      "dtypes: float64(1), int64(5)\n",
      "memory usage: 65.9 KB\n"
     ]
    }
   ],
   "source": [
    "korr2.info()"
   ],
   "metadata": {
    "collapsed": false,
    "ExecuteTime": {
     "end_time": "2024-01-19T20:40:52.261829500Z",
     "start_time": "2024-01-19T20:40:52.033081200Z"
    }
   },
   "execution_count": 25
  },
  {
   "cell_type": "markdown",
   "source": [
    "So let's save these numerical values into different csv-files."
   ],
   "metadata": {
    "collapsed": false
   }
  },
  {
   "cell_type": "code",
   "outputs": [],
   "source": [
    "korr1.to_csv(\"./output/num1.csv\", index=False)\n",
    "korr2.to_csv(\"./output/num2.csv\", index=False)"
   ],
   "metadata": {
    "collapsed": false,
    "ExecuteTime": {
     "end_time": "2024-01-19T20:40:52.312815300Z",
     "start_time": "2024-01-19T20:40:52.040594600Z"
    }
   },
   "execution_count": 26
  },
  {
   "cell_type": "markdown",
   "source": [
    "# Visualization with Seaborn\n",
    "## Color Palette\n",
    "Generated custom selected color palette handpicked with the finest colors in the world just for you Mr. Wöhrer!"
   ],
   "metadata": {
    "collapsed": false
   }
  },
  {
   "cell_type": "code",
   "outputs": [
    {
     "data": {
      "text/plain": "<Figure size 600x100 with 1 Axes>",
      "image/png": "[encoded data removed]"
     },
     "metadata": {},
     "output_type": "display_data"
    }
   ],
   "source": [
    "colors = [\"#3772FF\", \"#9CFC97\", \"#F038FF\", \"#FF1053\", \"#F29E4C\", \"#14BDEB\"]\n",
    "colorPallet = sns.set_palette(colors)\n",
    "sns.palplot(sns.color_palette())\n",
    "plt.show()"
   ],
   "metadata": {
    "collapsed": false,
    "ExecuteTime": {
     "end_time": "2024-01-19T20:40:52.441048700Z",
     "start_time": "2024-01-19T20:40:52.075138200Z"
    }
   },
   "execution_count": 27
  },
  {
   "cell_type": "markdown",
   "source": [],
   "metadata": {
    "collapsed": false
   }
  }
 ]
}
