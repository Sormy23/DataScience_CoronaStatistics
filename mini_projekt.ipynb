{
 "nbformat": 4,
 "nbformat_minor": 0,
 "metadata": {
  "colab": {
   "provenance": [],
   "toc_visible": true,
   "include_colab_link": true
  },
  "kernelspec": {
   "name": "python3",
   "language": "python",
   "display_name": "Python 3 (ipykernel)"
  },
  "language_info": {
   "name": "python"
  }
 },
 "cells": [
  {
   "cell_type": "markdown",
   "source": [
    "# Covid Status\n",
    "This Data Science project by Sven Oberwalder and Yasin Sahin analyzes the development of the corona pandemic based on input data provided by Statistik Austria\n",
    "\n",
    "The Datasets can be found here:\n",
    "### [Dataset 1](https://data.statistik.gv.at/web/meta.jsp?dataset=OGD_covidggstatus2_GGSTATUS_2)\n",
    "\n",
    "### [Dataset 2](https://data.statistik.gv.at/web/meta.jsp?dataset=OGD_covidggstatus_GGSTATUS_1)"
   ],
   "metadata": {
    "id": "M66WWyDhkRqD"
   }
  },
  {
   "cell_type": "code",
   "execution_count": 22,
   "metadata": {
    "id": "5L8DRvCTyJfY",
    "ExecuteTime": {
     "end_time": "2024-01-19T09:16:06.684656700Z",
     "start_time": "2024-01-19T09:16:06.604281400Z"
    }
   },
   "outputs": [],
   "source": [
    "import numpy as np\n",
    "import pandas as pd\n",
    "\n",
    "import matplotlib.pyplot as plt\n",
    "import seaborn as sns"
   ]
  },
  {
   "cell_type": "markdown",
   "source": [
    "# Initial Data Analysis and Import\n",
    "Dataset 1 has following attributes:\n",
    "* **C-BEZIMST-0** Politischer Bezirk (PolBez)\n",
    "* **C-ALTGRIMST-0** 5-years age group (Altersgr)\n",
    "* **C-GLIMST-0** Country of Birth (GebLand)\n",
    "* **C-C11-0** Sex (Geschl)\n",
    "* **C-IMST-0** COVID-19 vaccinated-recovered-status (GeimpftGenesen)\n",
    "* **F-DATA** Number of records (Anz)\n",
    "\n",
    "Dataset 2 has following attributes:\n",
    "* **C-B00-0** Federal country (Bundesland)\n",
    "* **C-BILIMST-0** Education (Bildung)\n",
    "* **C-ALTGRIMST-0** 5-years age group (Altersgr)\n",
    "* **C-ESIMST-0** Economic status (ErwerbStatus)\n",
    "* **C-IMST-0** COVID-19 vaccinated-recovered-status (GeimpftGenesen)\n",
    "* **F-DATA** Number of records (Anz)\n",
    "\n",
    "In below code, the datasets need to be imported and the attributes must be renamed to more meaningful names. Since the data is separated by semi-colons (;), we need to specify that when importing the csv-files. Furthermore, a simple Std-Analysis has to be conducted, to ensure the progress."
   ],
   "metadata": {
    "id": "D9eIWSwXltfa"
   }
  },
  {
   "cell_type": "code",
   "source": [
    "#import databases\n",
    "dataset1 = pd.read_csv(\"./data/dataset1.csv\", sep=\";\")\n",
    "dataset2 = pd.read_csv(\"./data/dataset2.csv\", sep=\";\")\n",
    "\n",
    "#rename attributes\n",
    "dataset1.rename(columns={\"C-BEZIMST-0\": \"PolBez\",\n",
    "                         \"C-ALTGRIMST-0\": \"Altersgr\",\n",
    "                         \"C-GLIMST-0\": \"GebLand\",\n",
    "                         \"C-C11-0\": \"Geschl\",\n",
    "                         \"C-IMST-0\": \"GeimpftGenesen\",\n",
    "                         \"F-DATA\": \"Anz\"}, inplace=True)\n",
    "dataset2.rename(columns={\"C-B00-0\": \"Bundesland\",\n",
    "                         \"C-BILIMST-0\": \"Bildung\",\n",
    "                         \"C-ALTGRIMST-0\": \"Altersgr\",\n",
    "                         \"C-ESIMST-0\": \"ErwerbStatus\",\n",
    "                         \"C-IMST-0\": \"GeimpftGenesen\",\n",
    "                         \"F-DATA\": \"Anz\"}, inplace=True)\n"
   ],
   "metadata": {
    "id": "30kSCrTBjYaZ",
    "ExecuteTime": {
     "end_time": "2024-01-19T09:16:06.816664900Z",
     "start_time": "2024-01-19T09:16:06.688867900Z"
    }
   },
   "execution_count": 23,
   "outputs": []
  },
  {
   "cell_type": "markdown",
   "source": [
    "## Std-Analysis for Dataset 1"
   ],
   "metadata": {
    "id": "1Fmtt61qu7F6"
   }
  },
  {
   "cell_type": "code",
   "source": [
    "dataset1.sample(5)"
   ],
   "metadata": {
    "colab": {
     "base_uri": "https://localhost:8080/",
     "height": 206
    },
    "id": "Wdo4xvbhu_H-",
    "outputId": "240e451c-a46e-4534-c8f8-dd06f1ecdf83",
    "ExecuteTime": {
     "end_time": "2024-01-19T09:16:06.817812100Z",
     "start_time": "2024-01-19T09:16:06.726144400Z"
    }
   },
   "execution_count": 24,
   "outputs": [
    {
     "data": {
      "text/plain": "            PolBez      Altersgr   GebLand Geschl GeimpftGenesen  Anz\n21821  BEZIMST-409  ALTGRIMST-15  GLIMST-1  C11-1         IMST-3   38\n8652   BEZIMST-303   ALTGRIMST-4  GLIMST-2  C11-1         IMST-2    4\n31576  BEZIMST-614  ALT10IMST-10  GLIMST-2  C11-2         IMST-4    4\n484    BEZIMST-199   ALTGRIMST-5  GLIMST-1  C11-1         IMST-3  153\n21063  BEZIMST-407   ALT10IMST-3  GLIMST-2  C11-2         IMST-2   63",
      "text/html": "<div>\n<style scoped>\n    .dataframe tbody tr th:only-of-type {\n        vertical-align: middle;\n    }\n\n    .dataframe tbody tr th {\n        vertical-align: top;\n    }\n\n    .dataframe thead th {\n        text-align: right;\n    }\n</style>\n<table border=\"1\" class=\"dataframe\">\n  <thead>\n    <tr style=\"text-align: right;\">\n      <th></th>\n      <th>PolBez</th>\n      <th>Altersgr</th>\n      <th>GebLand</th>\n      <th>Geschl</th>\n      <th>GeimpftGenesen</th>\n      <th>Anz</th>\n    </tr>\n  </thead>\n  <tbody>\n    <tr>\n      <th>21821</th>\n      <td>BEZIMST-409</td>\n      <td>ALTGRIMST-15</td>\n      <td>GLIMST-1</td>\n      <td>C11-1</td>\n      <td>IMST-3</td>\n      <td>38</td>\n    </tr>\n    <tr>\n      <th>8652</th>\n      <td>BEZIMST-303</td>\n      <td>ALTGRIMST-4</td>\n      <td>GLIMST-2</td>\n      <td>C11-1</td>\n      <td>IMST-2</td>\n      <td>4</td>\n    </tr>\n    <tr>\n      <th>31576</th>\n      <td>BEZIMST-614</td>\n      <td>ALT10IMST-10</td>\n      <td>GLIMST-2</td>\n      <td>C11-2</td>\n      <td>IMST-4</td>\n      <td>4</td>\n    </tr>\n    <tr>\n      <th>484</th>\n      <td>BEZIMST-199</td>\n      <td>ALTGRIMST-5</td>\n      <td>GLIMST-1</td>\n      <td>C11-1</td>\n      <td>IMST-3</td>\n      <td>153</td>\n    </tr>\n    <tr>\n      <th>21063</th>\n      <td>BEZIMST-407</td>\n      <td>ALT10IMST-3</td>\n      <td>GLIMST-2</td>\n      <td>C11-2</td>\n      <td>IMST-2</td>\n      <td>63</td>\n    </tr>\n  </tbody>\n</table>\n</div>"
     },
     "execution_count": 24,
     "metadata": {},
     "output_type": "execute_result"
    }
   ]
  },
  {
   "cell_type": "code",
   "source": [
    "dataset1.head(5)"
   ],
   "metadata": {
    "colab": {
     "base_uri": "https://localhost:8080/",
     "height": 206
    },
    "id": "PmkZl8CSvhOH",
    "outputId": "a5eabb3f-d088-4977-bc9b-274daad12619",
    "ExecuteTime": {
     "end_time": "2024-01-19T09:16:06.817812100Z",
     "start_time": "2024-01-19T09:16:06.733791700Z"
    }
   },
   "execution_count": 25,
   "outputs": [
    {
     "data": {
      "text/plain": "        PolBez     Altersgr   GebLand Geschl GeimpftGenesen  Anz\n0  BEZIMST-101  ALTGRIMST-1  GLIMST-1  C11-1         IMST-1    1\n1  BEZIMST-101  ALTGRIMST-1  GLIMST-1  C11-1         IMST-3   80\n2  BEZIMST-101  ALTGRIMST-1  GLIMST-1  C11-1         IMST-4  216\n3  BEZIMST-101  ALTGRIMST-1  GLIMST-1  C11-2         IMST-1    2\n4  BEZIMST-101  ALTGRIMST-1  GLIMST-1  C11-2         IMST-3   86",
      "text/html": "<div>\n<style scoped>\n    .dataframe tbody tr th:only-of-type {\n        vertical-align: middle;\n    }\n\n    .dataframe tbody tr th {\n        vertical-align: top;\n    }\n\n    .dataframe thead th {\n        text-align: right;\n    }\n</style>\n<table border=\"1\" class=\"dataframe\">\n  <thead>\n    <tr style=\"text-align: right;\">\n      <th></th>\n      <th>PolBez</th>\n      <th>Altersgr</th>\n      <th>GebLand</th>\n      <th>Geschl</th>\n      <th>GeimpftGenesen</th>\n      <th>Anz</th>\n    </tr>\n  </thead>\n  <tbody>\n    <tr>\n      <th>0</th>\n      <td>BEZIMST-101</td>\n      <td>ALTGRIMST-1</td>\n      <td>GLIMST-1</td>\n      <td>C11-1</td>\n      <td>IMST-1</td>\n      <td>1</td>\n    </tr>\n    <tr>\n      <th>1</th>\n      <td>BEZIMST-101</td>\n      <td>ALTGRIMST-1</td>\n      <td>GLIMST-1</td>\n      <td>C11-1</td>\n      <td>IMST-3</td>\n      <td>80</td>\n    </tr>\n    <tr>\n      <th>2</th>\n      <td>BEZIMST-101</td>\n      <td>ALTGRIMST-1</td>\n      <td>GLIMST-1</td>\n      <td>C11-1</td>\n      <td>IMST-4</td>\n      <td>216</td>\n    </tr>\n    <tr>\n      <th>3</th>\n      <td>BEZIMST-101</td>\n      <td>ALTGRIMST-1</td>\n      <td>GLIMST-1</td>\n      <td>C11-2</td>\n      <td>IMST-1</td>\n      <td>2</td>\n    </tr>\n    <tr>\n      <th>4</th>\n      <td>BEZIMST-101</td>\n      <td>ALTGRIMST-1</td>\n      <td>GLIMST-1</td>\n      <td>C11-2</td>\n      <td>IMST-3</td>\n      <td>86</td>\n    </tr>\n  </tbody>\n</table>\n</div>"
     },
     "execution_count": 25,
     "metadata": {},
     "output_type": "execute_result"
    }
   ]
  },
  {
   "cell_type": "code",
   "source": [
    "dataset1.info()"
   ],
   "metadata": {
    "colab": {
     "base_uri": "https://localhost:8080/"
    },
    "id": "YW3nn_UQvkFH",
    "outputId": "3593f36e-c127-4d1a-855e-70620c5c1b63",
    "ExecuteTime": {
     "end_time": "2024-01-19T09:16:06.846842900Z",
     "start_time": "2024-01-19T09:16:06.740814400Z"
    }
   },
   "execution_count": 26,
   "outputs": [
    {
     "name": "stdout",
     "output_type": "stream",
     "text": [
      "<class 'pandas.core.frame.DataFrame'>\n",
      "RangeIndex: 53961 entries, 0 to 53960\n",
      "Data columns (total 6 columns):\n",
      " #   Column          Non-Null Count  Dtype \n",
      "---  ------          --------------  ----- \n",
      " 0   PolBez          53961 non-null  object\n",
      " 1   Altersgr        53961 non-null  object\n",
      " 2   GebLand         53961 non-null  object\n",
      " 3   Geschl          53961 non-null  object\n",
      " 4   GeimpftGenesen  53961 non-null  object\n",
      " 5   Anz             53961 non-null  int64 \n",
      "dtypes: int64(1), object(5)\n",
      "memory usage: 2.5+ MB\n"
     ]
    }
   ]
  },
  {
   "cell_type": "code",
   "source": [
    "dataset1.describe()"
   ],
   "metadata": {
    "colab": {
     "base_uri": "https://localhost:8080/",
     "height": 300
    },
    "id": "Xh-eOu75vm42",
    "outputId": "26e0d4b1-9ace-413b-f2a2-70927c2f22d5",
    "ExecuteTime": {
     "end_time": "2024-01-19T09:16:06.847890400Z",
     "start_time": "2024-01-19T09:16:06.775064700Z"
    }
   },
   "execution_count": 27,
   "outputs": [
    {
     "data": {
      "text/plain": "                Anz\ncount  53961.000000\nmean     642.049703\nstd     2171.148389\nmin        1.000000\n25%       44.000000\n50%      169.000000\n75%      508.000000\nmax    70338.000000",
      "text/html": "<div>\n<style scoped>\n    .dataframe tbody tr th:only-of-type {\n        vertical-align: middle;\n    }\n\n    .dataframe tbody tr th {\n        vertical-align: top;\n    }\n\n    .dataframe thead th {\n        text-align: right;\n    }\n</style>\n<table border=\"1\" class=\"dataframe\">\n  <thead>\n    <tr style=\"text-align: right;\">\n      <th></th>\n      <th>Anz</th>\n    </tr>\n  </thead>\n  <tbody>\n    <tr>\n      <th>count</th>\n      <td>53961.000000</td>\n    </tr>\n    <tr>\n      <th>mean</th>\n      <td>642.049703</td>\n    </tr>\n    <tr>\n      <th>std</th>\n      <td>2171.148389</td>\n    </tr>\n    <tr>\n      <th>min</th>\n      <td>1.000000</td>\n    </tr>\n    <tr>\n      <th>25%</th>\n      <td>44.000000</td>\n    </tr>\n    <tr>\n      <th>50%</th>\n      <td>169.000000</td>\n    </tr>\n    <tr>\n      <th>75%</th>\n      <td>508.000000</td>\n    </tr>\n    <tr>\n      <th>max</th>\n      <td>70338.000000</td>\n    </tr>\n  </tbody>\n</table>\n</div>"
     },
     "execution_count": 27,
     "metadata": {},
     "output_type": "execute_result"
    }
   ]
  },
  {
   "cell_type": "markdown",
   "source": [
    "## Std-Analysis for Dataset 2"
   ],
   "metadata": {
    "id": "tyjCMpNnvs_L"
   }
  },
  {
   "cell_type": "code",
   "source": [
    "dataset2.sample(5)"
   ],
   "metadata": {
    "colab": {
     "base_uri": "https://localhost:8080/",
     "height": 206
    },
    "id": "9IkCAYv8vvy0",
    "outputId": "44ccad8b-af4a-4794-dc09-43fa24e2e459",
    "ExecuteTime": {
     "end_time": "2024-01-19T09:16:06.848395Z",
     "start_time": "2024-01-19T09:16:06.783292Z"
    }
   },
   "execution_count": 28,
   "outputs": [
    {
     "data": {
      "text/plain": "     Bundesland     Bildung     Altersgr ErwerbStatus GeimpftGenesen   Anz\n66        B00-1   BILIMST-3  ALT10IMST-4     ESIMST-1         IMST-3   939\n127       B00-1   BILIMST-4  ALT10IMST-7     ESIMST-2         IMST-4   162\n929       B00-6  BILIMST-99  ALT10IMST-7     ESIMST-2         IMST-2     1\n1060      B00-7  BILIMST-99  ALT10IMST-4     ESIMST-1         IMST-2     7\n858       B00-6   BILIMST-3  ALT10IMST-6     ESIMST-1         IMST-4  2450",
      "text/html": "<div>\n<style scoped>\n    .dataframe tbody tr th:only-of-type {\n        vertical-align: middle;\n    }\n\n    .dataframe tbody tr th {\n        vertical-align: top;\n    }\n\n    .dataframe thead th {\n        text-align: right;\n    }\n</style>\n<table border=\"1\" class=\"dataframe\">\n  <thead>\n    <tr style=\"text-align: right;\">\n      <th></th>\n      <th>Bundesland</th>\n      <th>Bildung</th>\n      <th>Altersgr</th>\n      <th>ErwerbStatus</th>\n      <th>GeimpftGenesen</th>\n      <th>Anz</th>\n    </tr>\n  </thead>\n  <tbody>\n    <tr>\n      <th>66</th>\n      <td>B00-1</td>\n      <td>BILIMST-3</td>\n      <td>ALT10IMST-4</td>\n      <td>ESIMST-1</td>\n      <td>IMST-3</td>\n      <td>939</td>\n    </tr>\n    <tr>\n      <th>127</th>\n      <td>B00-1</td>\n      <td>BILIMST-4</td>\n      <td>ALT10IMST-7</td>\n      <td>ESIMST-2</td>\n      <td>IMST-4</td>\n      <td>162</td>\n    </tr>\n    <tr>\n      <th>929</th>\n      <td>B00-6</td>\n      <td>BILIMST-99</td>\n      <td>ALT10IMST-7</td>\n      <td>ESIMST-2</td>\n      <td>IMST-2</td>\n      <td>1</td>\n    </tr>\n    <tr>\n      <th>1060</th>\n      <td>B00-7</td>\n      <td>BILIMST-99</td>\n      <td>ALT10IMST-4</td>\n      <td>ESIMST-1</td>\n      <td>IMST-2</td>\n      <td>7</td>\n    </tr>\n    <tr>\n      <th>858</th>\n      <td>B00-6</td>\n      <td>BILIMST-3</td>\n      <td>ALT10IMST-6</td>\n      <td>ESIMST-1</td>\n      <td>IMST-4</td>\n      <td>2450</td>\n    </tr>\n  </tbody>\n</table>\n</div>"
     },
     "execution_count": 28,
     "metadata": {},
     "output_type": "execute_result"
    }
   ]
  },
  {
   "cell_type": "code",
   "source": [
    "dataset2.head(5)"
   ],
   "metadata": {
    "colab": {
     "base_uri": "https://localhost:8080/",
     "height": 206
    },
    "id": "nEMpwqWmvzQW",
    "outputId": "88c4f279-3e85-47cb-f2e3-5f14bb5372b0",
    "ExecuteTime": {
     "end_time": "2024-01-19T09:16:06.849435400Z",
     "start_time": "2024-01-19T09:16:06.790120500Z"
    }
   },
   "execution_count": 29,
   "outputs": [
    {
     "data": {
      "text/plain": "  Bundesland    Bildung     Altersgr ErwerbStatus GeimpftGenesen  Anz\n0      B00-1  BILIMST-1  ALT10IMST-4     ESIMST-1         IMST-1  611\n1      B00-1  BILIMST-1  ALT10IMST-4     ESIMST-1         IMST-2  285\n2      B00-1  BILIMST-1  ALT10IMST-4     ESIMST-1         IMST-3  396\n3      B00-1  BILIMST-1  ALT10IMST-4     ESIMST-1         IMST-4  472\n4      B00-1  BILIMST-1  ALT10IMST-4     ESIMST-2         IMST-1  471",
      "text/html": "<div>\n<style scoped>\n    .dataframe tbody tr th:only-of-type {\n        vertical-align: middle;\n    }\n\n    .dataframe tbody tr th {\n        vertical-align: top;\n    }\n\n    .dataframe thead th {\n        text-align: right;\n    }\n</style>\n<table border=\"1\" class=\"dataframe\">\n  <thead>\n    <tr style=\"text-align: right;\">\n      <th></th>\n      <th>Bundesland</th>\n      <th>Bildung</th>\n      <th>Altersgr</th>\n      <th>ErwerbStatus</th>\n      <th>GeimpftGenesen</th>\n      <th>Anz</th>\n    </tr>\n  </thead>\n  <tbody>\n    <tr>\n      <th>0</th>\n      <td>B00-1</td>\n      <td>BILIMST-1</td>\n      <td>ALT10IMST-4</td>\n      <td>ESIMST-1</td>\n      <td>IMST-1</td>\n      <td>611</td>\n    </tr>\n    <tr>\n      <th>1</th>\n      <td>B00-1</td>\n      <td>BILIMST-1</td>\n      <td>ALT10IMST-4</td>\n      <td>ESIMST-1</td>\n      <td>IMST-2</td>\n      <td>285</td>\n    </tr>\n    <tr>\n      <th>2</th>\n      <td>B00-1</td>\n      <td>BILIMST-1</td>\n      <td>ALT10IMST-4</td>\n      <td>ESIMST-1</td>\n      <td>IMST-3</td>\n      <td>396</td>\n    </tr>\n    <tr>\n      <th>3</th>\n      <td>B00-1</td>\n      <td>BILIMST-1</td>\n      <td>ALT10IMST-4</td>\n      <td>ESIMST-1</td>\n      <td>IMST-4</td>\n      <td>472</td>\n    </tr>\n    <tr>\n      <th>4</th>\n      <td>B00-1</td>\n      <td>BILIMST-1</td>\n      <td>ALT10IMST-4</td>\n      <td>ESIMST-2</td>\n      <td>IMST-1</td>\n      <td>471</td>\n    </tr>\n  </tbody>\n</table>\n</div>"
     },
     "execution_count": 29,
     "metadata": {},
     "output_type": "execute_result"
    }
   ]
  },
  {
   "cell_type": "code",
   "source": [
    "dataset2.info()"
   ],
   "metadata": {
    "colab": {
     "base_uri": "https://localhost:8080/"
    },
    "id": "SgvRkXo-v1EM",
    "outputId": "04bf6168-a572-48c7-d9f7-afb33be9e023",
    "ExecuteTime": {
     "end_time": "2024-01-19T09:16:06.850469600Z",
     "start_time": "2024-01-19T09:16:06.800146700Z"
    }
   },
   "execution_count": 30,
   "outputs": [
    {
     "name": "stdout",
     "output_type": "stream",
     "text": [
      "<class 'pandas.core.frame.DataFrame'>\n",
      "RangeIndex: 1404 entries, 0 to 1403\n",
      "Data columns (total 6 columns):\n",
      " #   Column          Non-Null Count  Dtype \n",
      "---  ------          --------------  ----- \n",
      " 0   Bundesland      1404 non-null   object\n",
      " 1   Bildung         1404 non-null   object\n",
      " 2   Altersgr        1404 non-null   object\n",
      " 3   ErwerbStatus    1404 non-null   object\n",
      " 4   GeimpftGenesen  1404 non-null   object\n",
      " 5   Anz             1404 non-null   int64 \n",
      "dtypes: int64(1), object(5)\n",
      "memory usage: 65.9+ KB\n"
     ]
    }
   ]
  },
  {
   "cell_type": "code",
   "source": [
    "dataset2.describe()"
   ],
   "metadata": {
    "colab": {
     "base_uri": "https://localhost:8080/",
     "height": 300
    },
    "id": "yPUQGcnIv2uu",
    "outputId": "2265a5d5-ff0f-4680-d060-f199cabe5139",
    "ExecuteTime": {
     "end_time": "2024-01-19T09:16:06.863169800Z",
     "start_time": "2024-01-19T09:16:06.810576800Z"
    }
   },
   "execution_count": 31,
   "outputs": [
    {
     "data": {
      "text/plain": "                Anz\ncount   1404.000000\nmean    3414.423789\nstd     5746.310880\nmin        1.000000\n25%      310.500000\n50%     1375.500000\n75%     3926.000000\nmax    55581.000000",
      "text/html": "<div>\n<style scoped>\n    .dataframe tbody tr th:only-of-type {\n        vertical-align: middle;\n    }\n\n    .dataframe tbody tr th {\n        vertical-align: top;\n    }\n\n    .dataframe thead th {\n        text-align: right;\n    }\n</style>\n<table border=\"1\" class=\"dataframe\">\n  <thead>\n    <tr style=\"text-align: right;\">\n      <th></th>\n      <th>Anz</th>\n    </tr>\n  </thead>\n  <tbody>\n    <tr>\n      <th>count</th>\n      <td>1404.000000</td>\n    </tr>\n    <tr>\n      <th>mean</th>\n      <td>3414.423789</td>\n    </tr>\n    <tr>\n      <th>std</th>\n      <td>5746.310880</td>\n    </tr>\n    <tr>\n      <th>min</th>\n      <td>1.000000</td>\n    </tr>\n    <tr>\n      <th>25%</th>\n      <td>310.500000</td>\n    </tr>\n    <tr>\n      <th>50%</th>\n      <td>1375.500000</td>\n    </tr>\n    <tr>\n      <th>75%</th>\n      <td>3926.000000</td>\n    </tr>\n    <tr>\n      <th>max</th>\n      <td>55581.000000</td>\n    </tr>\n  </tbody>\n</table>\n</div>"
     },
     "execution_count": 31,
     "metadata": {},
     "output_type": "execute_result"
    }
   ]
  },
  {
   "cell_type": "markdown",
   "source": [
    "# Data Cleaning\n",
    "In this section, the input data will be cleaned. For this manner, any wrong, missing, or irrelevant informations will be treated accordingly.\n",
    "\n",
    "**To Be marked**\n",
    "The Column ``Altersgr`` uses an age gap interval of 10 years to inform us about the age of the adresses person. However, the first interval currently named ``ALT10IMST-1`` only has a 5 year gap (from 0 - 4 years) to especially adress babys and small children"
   ],
   "metadata": {
    "id": "gFobc4FLwEX_"
   }
  },
  {
   "cell_type": "markdown",
   "source": [
    "### Dataset 1"
   ],
   "metadata": {
    "id": "yivzJedFsp1X"
   }
  },
  {
   "cell_type": "code",
   "source": [
    "geimpftGenesenDict = {\"IMST-4\": 0, #nothing\n",
    "                      \"IMST-1\": 1, #vacc\n",
    "                      \"IMST-3\": 2, #recov\n",
    "                      \"IMST-2\": 3} #vacc + recov\n",
    "\n",
    "ageGapDict = {\"ALT10IMST-1\": \"0 - 4\",\n",
    "              \"ALT10IMST-2\": \"5 - 14\",\n",
    "              \"ALT10IMST-3\": \"15 - 24\",\n",
    "              \"ALT10IMST-4\": \"25 - 34\",\n",
    "              \"ALT10IMST-5\": \"35 - 44\",\n",
    "              \"ALT10IMST-6\": \"45 - 54\",\n",
    "              \"ALT10IMST-7\": \"55 - 64\",\n",
    "              \"ALT10IMST-8\": \"65 - 74\",\n",
    "              \"ALT10IMST-9\": \"75 - 84\",\n",
    "              \"ALT10IMST-10\": \"85+\"}\n",
    "\n",
    "dataset1[\"GebLand\"] = dataset1[\"GebLand\"].map({\"GLIMST-1\": \"INLAND\",\n",
    "                                               \"GLIMST-2\": \"AUSLAND\"})\n",
    "\n",
    "dataset1[\"Geschl\"] = dataset1[\"Geschl\"].map({\"C11-1\": \"m\",\n",
    "                                             \"C11-2\": \"f\"})\n",
    "\n",
    "dataset1[\"GeimpftGenesen\"] = dataset1[\"GeimpftGenesen\"].map(geimpftGenesenDict)\n",
    "\n",
    "dataset1[\"Altersgr\"] = dataset1[\"Altersgr\"].map(ageGapDict)\n",
    "\n",
    "dataset1.sample(10)"
   ],
   "metadata": {
    "id": "MZQ3CBI2wjdy",
    "ExecuteTime": {
     "end_time": "2024-01-19T09:16:06.911073900Z",
     "start_time": "2024-01-19T09:16:06.823973100Z"
    }
   },
   "execution_count": 32,
   "outputs": [
    {
     "data": {
      "text/plain": "            PolBez Altersgr  GebLand Geschl  GeimpftGenesen   Anz\n20785  BEZIMST-407      NaN   INLAND      m               2   792\n27084  BEZIMST-503      NaN   INLAND      m               3   337\n22960  BEZIMST-412      NaN  AUSLAND      f               1    34\n27077  BEZIMST-503      NaN  AUSLAND      m               2     9\n44702  BEZIMST-912      NaN   INLAND      m               2   796\n27599  BEZIMST-504  25 - 34   INLAND      m               2  1025\n33592  BEZIMST-622   5 - 14   INLAND      f               1   463\n38487  BEZIMST-801  75 - 84  AUSLAND      m               2     6\n11236  BEZIMST-309      NaN  AUSLAND      m               0    17\n17931  BEZIMST-325      NaN   INLAND      m               3   185",
      "text/html": "<div>\n<style scoped>\n    .dataframe tbody tr th:only-of-type {\n        vertical-align: middle;\n    }\n\n    .dataframe tbody tr th {\n        vertical-align: top;\n    }\n\n    .dataframe thead th {\n        text-align: right;\n    }\n</style>\n<table border=\"1\" class=\"dataframe\">\n  <thead>\n    <tr style=\"text-align: right;\">\n      <th></th>\n      <th>PolBez</th>\n      <th>Altersgr</th>\n      <th>GebLand</th>\n      <th>Geschl</th>\n      <th>GeimpftGenesen</th>\n      <th>Anz</th>\n    </tr>\n  </thead>\n  <tbody>\n    <tr>\n      <th>20785</th>\n      <td>BEZIMST-407</td>\n      <td>NaN</td>\n      <td>INLAND</td>\n      <td>m</td>\n      <td>2</td>\n      <td>792</td>\n    </tr>\n    <tr>\n      <th>27084</th>\n      <td>BEZIMST-503</td>\n      <td>NaN</td>\n      <td>INLAND</td>\n      <td>m</td>\n      <td>3</td>\n      <td>337</td>\n    </tr>\n    <tr>\n      <th>22960</th>\n      <td>BEZIMST-412</td>\n      <td>NaN</td>\n      <td>AUSLAND</td>\n      <td>f</td>\n      <td>1</td>\n      <td>34</td>\n    </tr>\n    <tr>\n      <th>27077</th>\n      <td>BEZIMST-503</td>\n      <td>NaN</td>\n      <td>AUSLAND</td>\n      <td>m</td>\n      <td>2</td>\n      <td>9</td>\n    </tr>\n    <tr>\n      <th>44702</th>\n      <td>BEZIMST-912</td>\n      <td>NaN</td>\n      <td>INLAND</td>\n      <td>m</td>\n      <td>2</td>\n      <td>796</td>\n    </tr>\n    <tr>\n      <th>27599</th>\n      <td>BEZIMST-504</td>\n      <td>25 - 34</td>\n      <td>INLAND</td>\n      <td>m</td>\n      <td>2</td>\n      <td>1025</td>\n    </tr>\n    <tr>\n      <th>33592</th>\n      <td>BEZIMST-622</td>\n      <td>5 - 14</td>\n      <td>INLAND</td>\n      <td>f</td>\n      <td>1</td>\n      <td>463</td>\n    </tr>\n    <tr>\n      <th>38487</th>\n      <td>BEZIMST-801</td>\n      <td>75 - 84</td>\n      <td>AUSLAND</td>\n      <td>m</td>\n      <td>2</td>\n      <td>6</td>\n    </tr>\n    <tr>\n      <th>11236</th>\n      <td>BEZIMST-309</td>\n      <td>NaN</td>\n      <td>AUSLAND</td>\n      <td>m</td>\n      <td>0</td>\n      <td>17</td>\n    </tr>\n    <tr>\n      <th>17931</th>\n      <td>BEZIMST-325</td>\n      <td>NaN</td>\n      <td>INLAND</td>\n      <td>m</td>\n      <td>3</td>\n      <td>185</td>\n    </tr>\n  </tbody>\n</table>\n</div>"
     },
     "execution_count": 32,
     "metadata": {},
     "output_type": "execute_result"
    }
   ]
  },
  {
   "cell_type": "markdown",
   "source": [
    "### Dataset 2"
   ],
   "metadata": {
    "id": "A3HIe4r6siHP"
   }
  },
  {
   "cell_type": "code",
   "source": [
    "bundeslandDict = {\n",
    "    \"B00-1\": \"Burgenland\",\n",
    "    \"B00-2\": \"Kärnten\",\n",
    "    \"B00-3\": \"Niederösterreich\",\n",
    "    \"B00-4\": \"Oberösterreich\",\n",
    "    \"B00-5\": \"Salzburg\",\n",
    "    \"B00-6\": \"Steiermark\",\n",
    "    \"B00-7\": \"Tirol\",\n",
    "    \"B00-8\": \"Vorarlberg\",\n",
    "    \"B00-9\": \"Wien\"\n",
    "}\n",
    "\n",
    "dataset2[\"Bundesland\"] = dataset2[\"Bundesland\"].map(bundeslandDict)\n",
    "\n",
    "#uses the dictionary geimpftGenesenDict from the previous code block\n",
    "dataset2[\"GeimpftGenesen\"] = dataset2[\"GeimpftGenesen\"].map(geimpftGenesenDict)\n",
    "\n",
    "dataset2[\"Bildung\"] = dataset2[\"Bildung\"].map({\"BILIMST-1\": \"Pflichtschule\",\n",
    "                                               \"BILIMST-2\": \"Lehrabschluss/BMS\",\n",
    "                                               \"BILIMST-3\": \"BHS/AHS/Kolleg\",\n",
    "                                               \"BILIMST-4\": \"Akademie/Hochschule\",\n",
    "                                               \"BILIMST-99\": \"N/A\"})\n",
    "\n",
    "dataset2[\"ErwerbStatus\"] = dataset2[\"ErwerbStatus\"].map({\"ESIMST-1\": \"aktiv\",\n",
    "                                                         \"ESIMST-2\": \"inaktiv\"})\n",
    "\n",
    "#uses the dictionary ageGapDict from the previous code block\n",
    "dataset2[\"Altersgr\"] = dataset2[\"Altersgr\"].map(ageGapDict)\n",
    "\n",
    "dataset2.sample(10)"
   ],
   "metadata": {
    "colab": {
     "base_uri": "https://localhost:8080/",
     "height": 363
    },
    "id": "nQFq6Pmxs2i-",
    "outputId": "a0c5ff3e-77fd-4ab4-e7e2-205ad5a27eab",
    "ExecuteTime": {
     "end_time": "2024-01-19T09:16:06.968013200Z",
     "start_time": "2024-01-19T09:16:06.853073300Z"
    }
   },
   "execution_count": 33,
   "outputs": [
    {
     "data": {
      "text/plain": "          Bundesland              Bildung Altersgr ErwerbStatus  \\\n1397            Wien                  N/A  55 - 64        aktiv   \n262          Kärnten  Akademie/Hochschule  45 - 54        aktiv   \n1296            Wien    Lehrabschluss/BMS  45 - 54      inaktiv   \n649         Salzburg    Lehrabschluss/BMS  25 - 34        aktiv   \n1335            Wien       BHS/AHS/Kolleg  55 - 64        aktiv   \n482   Oberösterreich        Pflichtschule  45 - 54      inaktiv   \n494   Oberösterreich    Lehrabschluss/BMS  25 - 34        aktiv   \n136       Burgenland                  N/A  35 - 44      inaktiv   \n963            Tirol    Lehrabschluss/BMS  25 - 34        aktiv   \n487   Oberösterreich        Pflichtschule  55 - 64        aktiv   \n\n      GeimpftGenesen    Anz  \n1397               3      2  \n262                1   5689  \n1296               1   8570  \n649                1   8030  \n1335               0   2603  \n482                3    903  \n494                3  12216  \n136                1      2  \n963                1  13239  \n487                2   2668  ",
      "text/html": "<div>\n<style scoped>\n    .dataframe tbody tr th:only-of-type {\n        vertical-align: middle;\n    }\n\n    .dataframe tbody tr th {\n        vertical-align: top;\n    }\n\n    .dataframe thead th {\n        text-align: right;\n    }\n</style>\n<table border=\"1\" class=\"dataframe\">\n  <thead>\n    <tr style=\"text-align: right;\">\n      <th></th>\n      <th>Bundesland</th>\n      <th>Bildung</th>\n      <th>Altersgr</th>\n      <th>ErwerbStatus</th>\n      <th>GeimpftGenesen</th>\n      <th>Anz</th>\n    </tr>\n  </thead>\n  <tbody>\n    <tr>\n      <th>1397</th>\n      <td>Wien</td>\n      <td>N/A</td>\n      <td>55 - 64</td>\n      <td>aktiv</td>\n      <td>3</td>\n      <td>2</td>\n    </tr>\n    <tr>\n      <th>262</th>\n      <td>Kärnten</td>\n      <td>Akademie/Hochschule</td>\n      <td>45 - 54</td>\n      <td>aktiv</td>\n      <td>1</td>\n      <td>5689</td>\n    </tr>\n    <tr>\n      <th>1296</th>\n      <td>Wien</td>\n      <td>Lehrabschluss/BMS</td>\n      <td>45 - 54</td>\n      <td>inaktiv</td>\n      <td>1</td>\n      <td>8570</td>\n    </tr>\n    <tr>\n      <th>649</th>\n      <td>Salzburg</td>\n      <td>Lehrabschluss/BMS</td>\n      <td>25 - 34</td>\n      <td>aktiv</td>\n      <td>1</td>\n      <td>8030</td>\n    </tr>\n    <tr>\n      <th>1335</th>\n      <td>Wien</td>\n      <td>BHS/AHS/Kolleg</td>\n      <td>55 - 64</td>\n      <td>aktiv</td>\n      <td>0</td>\n      <td>2603</td>\n    </tr>\n    <tr>\n      <th>482</th>\n      <td>Oberösterreich</td>\n      <td>Pflichtschule</td>\n      <td>45 - 54</td>\n      <td>inaktiv</td>\n      <td>3</td>\n      <td>903</td>\n    </tr>\n    <tr>\n      <th>494</th>\n      <td>Oberösterreich</td>\n      <td>Lehrabschluss/BMS</td>\n      <td>25 - 34</td>\n      <td>aktiv</td>\n      <td>3</td>\n      <td>12216</td>\n    </tr>\n    <tr>\n      <th>136</th>\n      <td>Burgenland</td>\n      <td>N/A</td>\n      <td>35 - 44</td>\n      <td>inaktiv</td>\n      <td>1</td>\n      <td>2</td>\n    </tr>\n    <tr>\n      <th>963</th>\n      <td>Tirol</td>\n      <td>Lehrabschluss/BMS</td>\n      <td>25 - 34</td>\n      <td>aktiv</td>\n      <td>1</td>\n      <td>13239</td>\n    </tr>\n    <tr>\n      <th>487</th>\n      <td>Oberösterreich</td>\n      <td>Pflichtschule</td>\n      <td>55 - 64</td>\n      <td>aktiv</td>\n      <td>2</td>\n      <td>2668</td>\n    </tr>\n  </tbody>\n</table>\n</div>"
     },
     "execution_count": 33,
     "metadata": {},
     "output_type": "execute_result"
    }
   ]
  },
  {
   "cell_type": "markdown",
   "source": [
    "## Duplicate Data"
   ],
   "metadata": {
    "id": "uIajRH5HATLm"
   }
  },
  {
   "cell_type": "code",
   "source": [
    "dataset1[\"Anz\"].sum()"
   ],
   "metadata": {
    "colab": {
     "base_uri": "https://localhost:8080/"
    },
    "id": "dSlWSzYR7e9f",
    "outputId": "54f21b48-4cde-4b90-cc5a-a1f52cff8cc5",
    "ExecuteTime": {
     "end_time": "2024-01-19T09:16:06.970122700Z",
     "start_time": "2024-01-19T09:16:06.864202200Z"
    }
   },
   "execution_count": 34,
   "outputs": [
    {
     "data": {
      "text/plain": "34645644"
     },
     "execution_count": 34,
     "metadata": {},
     "output_type": "execute_result"
    }
   ]
  },
  {
   "cell_type": "markdown",
   "source": [
    "In the above code we can see that the sum of records is approximately 4 times the total population of Austria. This strongly suggests that there may be duplicate data. And exactly that is the case: In ``PolBez`` there are records for each province and also for each federal country. This duplicate is not necessary, since one province can easily be assigned to its federal country (e.g. ``BEZIMST-304`` (= Wiener Neustadt) must be in ``B00-3`` (=Niederoesterreich)). So the records for the federal countries can be removed."
   ],
   "metadata": {
    "id": "dEn-2wDz7jUL"
   }
  },
  {
   "cell_type": "code",
   "source": [
    "dataset1 = dataset1.loc[dataset1[\"PolBez\"].map(lambda val: \"BEZIMST\" in val)] #only provinces have the prefix BEZIMST\n",
    "dataset1[\"Anz\"].sum()"
   ],
   "metadata": {
    "colab": {
     "base_uri": "https://localhost:8080/"
    },
    "id": "UhduHT9j9hkT",
    "outputId": "c97cf443-a8a8-45c1-d750-e94aa8a84dfc",
    "ExecuteTime": {
     "end_time": "2024-01-19T09:16:07.012799400Z",
     "start_time": "2024-01-19T09:16:06.868718300Z"
    }
   },
   "execution_count": 35,
   "outputs": [
    {
     "data": {
      "text/plain": "17322822"
     },
     "execution_count": 35,
     "metadata": {},
     "output_type": "execute_result"
    }
   ]
  },
  {
   "cell_type": "markdown",
   "source": [
    "The above code still returns an amount which is twice as big as Austria's population. Similairly, the column ``Altersgr`` has duplicate records for different age groups. Previously we maped `Altersgr` to an more readable string, but left out the duplicate values that will be deleted in the next step so we can simply drop the N/A records."
   ],
   "metadata": {
    "id": "9YqvKyrt-8pM"
   }
  },
  {
   "cell_type": "markdown",
   "source": [],
   "metadata": {
    "collapsed": false
   }
  },
  {
   "cell_type": "code",
   "source": [
    "dataset1 = dataset1.dropna()\n",
    "dataset1[\"Anz\"].sum()"
   ],
   "metadata": {
    "colab": {
     "base_uri": "https://localhost:8080/"
    },
    "id": "ix7rrnHc_xZ9",
    "outputId": "dea7debe-d63d-40cd-cd3c-bb7c68f86bbe",
    "ExecuteTime": {
     "end_time": "2024-01-19T09:22:29.936147700Z",
     "start_time": "2024-01-19T09:22:29.903919800Z"
    }
   },
   "execution_count": 37,
   "outputs": [
    {
     "data": {
      "text/plain": "8661411"
     },
     "execution_count": 37,
     "metadata": {},
     "output_type": "execute_result"
    }
   ]
  },
  {
   "cell_type": "markdown",
   "source": [
    "Now we have removed all duplicate values. Let's continue cleaning our data.\n",
    "## Null Values"
   ],
   "metadata": {
    "id": "DFirC0vsAKcb"
   }
  },
  {
   "cell_type": "code",
   "source": [
    "dataset1.isnull().sum()"
   ],
   "metadata": {
    "colab": {
     "base_uri": "https://localhost:8080/"
    },
    "id": "47idnUU9Ak3n",
    "outputId": "c0532026-d848-41fd-c4e8-846dc1f0c816",
    "ExecuteTime": {
     "end_time": "2024-01-19T09:16:07.867826900Z",
     "start_time": "2024-01-19T09:16:07.865776500Z"
    }
   },
   "execution_count": null,
   "outputs": []
  },
  {
   "cell_type": "markdown",
   "source": [],
   "metadata": {
    "id": "IBCfoU-PIhKr"
   }
  },
  {
   "cell_type": "code",
   "source": [
    "dataset2.isnull().sum()"
   ],
   "metadata": {
    "colab": {
     "base_uri": "https://localhost:8080/"
    },
    "id": "_BVxuSZ0BT-7",
    "outputId": "8f743b02-7811-47c9-b47d-df8069152447",
    "ExecuteTime": {
     "start_time": "2024-01-19T09:16:07.866800800Z"
    }
   },
   "execution_count": null,
   "outputs": []
  },
  {
   "cell_type": "markdown",
   "source": [
    "Since there are no null values, we can continue!"
   ],
   "metadata": {
    "id": "FtMMCEh1BY42"
   }
  },
  {
   "cell_type": "code",
   "source": [
    "dataset2[\"Bildung\"].value_counts()"
   ],
   "metadata": {
    "colab": {
     "base_uri": "https://localhost:8080/"
    },
    "id": "Suy_qulEBdES",
    "outputId": "7a968a1f-042d-4859-a6e4-f3c59a69c64a",
    "ExecuteTime": {
     "end_time": "2024-01-19T09:16:07.868877600Z",
     "start_time": "2024-01-19T09:16:07.868877600Z"
    }
   },
   "execution_count": null,
   "outputs": []
  },
  {
   "cell_type": "markdown",
   "source": [
    "After this we are done cleaning our data and can save it into two datasets. ``korr1.csv`` for ``dataset1.csv`` and ``korr2.csv`` for ``dataset2.csv``"
   ],
   "metadata": {
    "id": "zEgugeGcH7A-"
   }
  },
  {
   "cell_type": "code",
   "source": [
    "dataset1.to_csv(\"./data/korr1.csv\", sep=\";\")\n",
    "dataset2.to_csv(\"./data/korr2.csv\", sep=\";\")"
   ],
   "metadata": {
    "id": "DdTWt4OsW48V",
    "ExecuteTime": {
     "start_time": "2024-01-19T09:16:07.869903700Z"
    }
   },
   "execution_count": null,
   "outputs": []
  },
  {
   "cell_type": "markdown",
   "source": [
    "# Data Preparation\n",
    "## Numerical Values"
   ],
   "metadata": {
    "id": "5aTnxhnNXthS"
   }
  },
  {
   "cell_type": "code",
   "source": [
    "dataset1.sample(10)"
   ],
   "metadata": {
    "colab": {
     "base_uri": "https://localhost:8080/"
    },
    "id": "-ALRqVH3gHiW",
    "outputId": "38e67ddb-45e3-486e-c225-08d4639bc310",
    "ExecuteTime": {
     "end_time": "2024-01-19T09:22:50.198937Z",
     "start_time": "2024-01-19T09:22:50.186308Z"
    }
   },
   "execution_count": 39,
   "outputs": [
    {
     "data": {
      "text/plain": "            PolBez Altersgr  GebLand Geschl  GeimpftGenesen   Anz\n38392  BEZIMST-801  15 - 24  AUSLAND      m               0   140\n48152  BEZIMST-919  55 - 64   INLAND      f               3   723\n42342  BEZIMST-906   5 - 14  AUSLAND      f               3    24\n8576   BEZIMST-302  75 - 84   INLAND      m               0   122\n29355  BEZIMST-603  45 - 54  AUSLAND      m               3    47\n9870   BEZIMST-305  75 - 84   INLAND      f               1  2916\n44666  BEZIMST-911      85+  AUSLAND      m               0    14\n34467  BEZIMST-701   5 - 14  AUSLAND      m               0   276\n34945  BEZIMST-702  35 - 44   INLAND      f               2   768\n41479  BEZIMST-904  15 - 24  AUSLAND      f               2   109",
      "text/html": "<div>\n<style scoped>\n    .dataframe tbody tr th:only-of-type {\n        vertical-align: middle;\n    }\n\n    .dataframe tbody tr th {\n        vertical-align: top;\n    }\n\n    .dataframe thead th {\n        text-align: right;\n    }\n</style>\n<table border=\"1\" class=\"dataframe\">\n  <thead>\n    <tr style=\"text-align: right;\">\n      <th></th>\n      <th>PolBez</th>\n      <th>Altersgr</th>\n      <th>GebLand</th>\n      <th>Geschl</th>\n      <th>GeimpftGenesen</th>\n      <th>Anz</th>\n    </tr>\n  </thead>\n  <tbody>\n    <tr>\n      <th>38392</th>\n      <td>BEZIMST-801</td>\n      <td>15 - 24</td>\n      <td>AUSLAND</td>\n      <td>m</td>\n      <td>0</td>\n      <td>140</td>\n    </tr>\n    <tr>\n      <th>48152</th>\n      <td>BEZIMST-919</td>\n      <td>55 - 64</td>\n      <td>INLAND</td>\n      <td>f</td>\n      <td>3</td>\n      <td>723</td>\n    </tr>\n    <tr>\n      <th>42342</th>\n      <td>BEZIMST-906</td>\n      <td>5 - 14</td>\n      <td>AUSLAND</td>\n      <td>f</td>\n      <td>3</td>\n      <td>24</td>\n    </tr>\n    <tr>\n      <th>8576</th>\n      <td>BEZIMST-302</td>\n      <td>75 - 84</td>\n      <td>INLAND</td>\n      <td>m</td>\n      <td>0</td>\n      <td>122</td>\n    </tr>\n    <tr>\n      <th>29355</th>\n      <td>BEZIMST-603</td>\n      <td>45 - 54</td>\n      <td>AUSLAND</td>\n      <td>m</td>\n      <td>3</td>\n      <td>47</td>\n    </tr>\n    <tr>\n      <th>9870</th>\n      <td>BEZIMST-305</td>\n      <td>75 - 84</td>\n      <td>INLAND</td>\n      <td>f</td>\n      <td>1</td>\n      <td>2916</td>\n    </tr>\n    <tr>\n      <th>44666</th>\n      <td>BEZIMST-911</td>\n      <td>85+</td>\n      <td>AUSLAND</td>\n      <td>m</td>\n      <td>0</td>\n      <td>14</td>\n    </tr>\n    <tr>\n      <th>34467</th>\n      <td>BEZIMST-701</td>\n      <td>5 - 14</td>\n      <td>AUSLAND</td>\n      <td>m</td>\n      <td>0</td>\n      <td>276</td>\n    </tr>\n    <tr>\n      <th>34945</th>\n      <td>BEZIMST-702</td>\n      <td>35 - 44</td>\n      <td>INLAND</td>\n      <td>f</td>\n      <td>2</td>\n      <td>768</td>\n    </tr>\n    <tr>\n      <th>41479</th>\n      <td>BEZIMST-904</td>\n      <td>15 - 24</td>\n      <td>AUSLAND</td>\n      <td>f</td>\n      <td>2</td>\n      <td>109</td>\n    </tr>\n  </tbody>\n</table>\n</div>"
     },
     "execution_count": 39,
     "metadata": {},
     "output_type": "execute_result"
    }
   ]
  },
  {
   "cell_type": "code",
   "outputs": [],
   "source": [],
   "metadata": {
    "collapsed": false,
    "ExecuteTime": {
     "start_time": "2024-01-19T09:16:07.870969800Z"
    }
   },
   "execution_count": null
  }
 ]
}
