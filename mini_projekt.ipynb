{
 "nbformat": 4,
 "nbformat_minor": 0,
 "metadata": {
  "colab": {
   "provenance": [],
   "toc_visible": true,
   "include_colab_link": true
  },
  "kernelspec": {
   "name": "python3",
   "language": "python",
   "display_name": "Python 3 (ipykernel)"
  },
  "language_info": {
   "name": "python"
  }
 },
 "cells": [
  {
   "cell_type": "markdown",
   "source": [
    "# Covid Status\n",
    "This Data Science project by Sven Oberwalder and Yasin Sahin analyzes the development of the corona pandemic based on input data provided by Statistik Austria\n",
    "\n",
    "The Datasets can be found here:\n",
    "### [Dataset 1](https://data.statistik.gv.at/web/meta.jsp?dataset=OGD_covidggstatus2_GGSTATUS_2)\n",
    "\n",
    "### [Dataset 2](https://data.statistik.gv.at/web/meta.jsp?dataset=OGD_covidggstatus_GGSTATUS_1)"
   ],
   "metadata": {
    "id": "M66WWyDhkRqD"
   }
  },
  {
   "cell_type": "code",
   "execution_count": 320,
   "metadata": {
    "id": "5L8DRvCTyJfY",
    "ExecuteTime": {
     "end_time": "2024-01-19T20:15:47.351540400Z",
     "start_time": "2024-01-19T20:15:47.254471700Z"
    }
   },
   "outputs": [],
   "source": [
    "import numpy as np\n",
    "import pandas as pd\n",
    "\n",
    "import matplotlib.pyplot as plt\n",
    "import seaborn as sns"
   ]
  },
  {
   "cell_type": "markdown",
   "source": [
    "# Initial Data Analysis and Import\n",
    "Dataset 1 has following attributes:\n",
    "* **C-BEZIMST-0** Politischer Bezirk (PolBez)\n",
    "* **C-ALTGRIMST-0** 10-years age group (Altersgr)\n",
    "* **C-GLIMST-0** Country of Birth (GebLand)\n",
    "* **C-C11-0** Sex (Geschl)\n",
    "* **C-IMST-0** COVID-19 vaccinated-recovered-status (GeimpftGenesen)\n",
    "* **F-DATA** Number of records (Anz)\n",
    "\n",
    "Dataset 2 has following attributes:\n",
    "* **C-B00-0** Federal country (Bundesland)\n",
    "* **C-BILIMST-0** Education (Bildung)\n",
    "* **C-ALTGRIMST-0** 10-years age group (Altersgr)\n",
    "* **C-ESIMST-0** Economic status (ErwerbStatus)\n",
    "* **C-IMST-0** COVID-19 vaccinated-recovered-status (GeimpftGenesen)\n",
    "* **F-DATA** Number of records (Anz)\n",
    "\n",
    "In below code, the datasets need to be imported and the attributes must be renamed to more meaningful names. Since the data is separated by semi-colons (;), we need to specify that when importing the csv-files. Furthermore, a simple Std-Analysis has to be conducted, to ensure the progress."
   ],
   "metadata": {
    "collapsed": false
   }
  },
  {
   "cell_type": "code",
   "outputs": [],
   "source": [
    "#import databases\n",
    "dataset1 = pd.read_csv(\"./data/dataset1.csv\", sep=\";\")\n",
    "dataset2 = pd.read_csv(\"./data/dataset2.csv\", sep=\";\")\n",
    "\n",
    "#rename attributes\n",
    "dataset1.rename(columns={\"C-BEZIMST-0\": \"PolBez\",\n",
    "                         \"C-ALTGRIMST-0\": \"Altersgr\",\n",
    "                         \"C-GLIMST-0\": \"GebLand\",\n",
    "                         \"C-C11-0\": \"Geschl\",\n",
    "                         \"C-IMST-0\": \"GeimpftGenesen\",\n",
    "                         \"F-DATA\": \"Anz\"}, inplace=True)\n",
    "dataset2.rename(columns={\"C-B00-0\": \"Bundesland\",\n",
    "                         \"C-BILIMST-0\": \"Bildung\",\n",
    "                         \"C-ALTGRIMST-0\": \"Altersgr\",\n",
    "                         \"C-ESIMST-0\": \"ErwerbStatus\",\n",
    "                         \"C-IMST-0\": \"GeimpftGenesen\",\n",
    "                         \"F-DATA\": \"Anz\"}, inplace=True)\n"
   ],
   "metadata": {
    "collapsed": false,
    "ExecuteTime": {
     "end_time": "2024-01-19T20:15:47.424935Z",
     "start_time": "2024-01-19T20:15:47.355540100Z"
    }
   },
   "execution_count": 321
  },
  {
   "cell_type": "markdown",
   "source": [
    "## Std-Analysis for Dataset 1"
   ],
   "metadata": {
    "collapsed": false
   }
  },
  {
   "cell_type": "code",
   "outputs": [
    {
     "data": {
      "text/plain": "            PolBez      Altersgr   GebLand Geschl GeimpftGenesen  Anz\n8692   BEZIMST-303   ALTGRIMST-7  GLIMST-1  C11-1         IMST-2   72\n36640  BEZIMST-706   ALT10IMST-2  GLIMST-2  C11-2         IMST-2    5\n35492  BEZIMST-704   ALTGRIMST-2  GLIMST-2  C11-1         IMST-2    8\n44453  BEZIMST-911  ALTGRIMST-15  GLIMST-1  C11-1         IMST-3   20\n19098  BEZIMST-403   ALTGRIMST-7  GLIMST-1  C11-1         IMST-2  196",
      "text/html": "<div>\n<style scoped>\n    .dataframe tbody tr th:only-of-type {\n        vertical-align: middle;\n    }\n\n    .dataframe tbody tr th {\n        vertical-align: top;\n    }\n\n    .dataframe thead th {\n        text-align: right;\n    }\n</style>\n<table border=\"1\" class=\"dataframe\">\n  <thead>\n    <tr style=\"text-align: right;\">\n      <th></th>\n      <th>PolBez</th>\n      <th>Altersgr</th>\n      <th>GebLand</th>\n      <th>Geschl</th>\n      <th>GeimpftGenesen</th>\n      <th>Anz</th>\n    </tr>\n  </thead>\n  <tbody>\n    <tr>\n      <th>8692</th>\n      <td>BEZIMST-303</td>\n      <td>ALTGRIMST-7</td>\n      <td>GLIMST-1</td>\n      <td>C11-1</td>\n      <td>IMST-2</td>\n      <td>72</td>\n    </tr>\n    <tr>\n      <th>36640</th>\n      <td>BEZIMST-706</td>\n      <td>ALT10IMST-2</td>\n      <td>GLIMST-2</td>\n      <td>C11-2</td>\n      <td>IMST-2</td>\n      <td>5</td>\n    </tr>\n    <tr>\n      <th>35492</th>\n      <td>BEZIMST-704</td>\n      <td>ALTGRIMST-2</td>\n      <td>GLIMST-2</td>\n      <td>C11-1</td>\n      <td>IMST-2</td>\n      <td>8</td>\n    </tr>\n    <tr>\n      <th>44453</th>\n      <td>BEZIMST-911</td>\n      <td>ALTGRIMST-15</td>\n      <td>GLIMST-1</td>\n      <td>C11-1</td>\n      <td>IMST-3</td>\n      <td>20</td>\n    </tr>\n    <tr>\n      <th>19098</th>\n      <td>BEZIMST-403</td>\n      <td>ALTGRIMST-7</td>\n      <td>GLIMST-1</td>\n      <td>C11-1</td>\n      <td>IMST-2</td>\n      <td>196</td>\n    </tr>\n  </tbody>\n</table>\n</div>"
     },
     "execution_count": 322,
     "metadata": {},
     "output_type": "execute_result"
    }
   ],
   "source": [
    "dataset1.sample(5)"
   ],
   "metadata": {
    "collapsed": false,
    "ExecuteTime": {
     "end_time": "2024-01-19T20:15:47.425938100Z",
     "start_time": "2024-01-19T20:15:47.387524800Z"
    }
   },
   "execution_count": 322
  },
  {
   "cell_type": "markdown",
   "source": [
    "We immediately recognize that all values have a certain code (Except for Anz)"
   ],
   "metadata": {
    "collapsed": false
   }
  },
  {
   "cell_type": "code",
   "outputs": [
    {
     "data": {
      "text/plain": "        PolBez     Altersgr   GebLand Geschl GeimpftGenesen  Anz\n0  BEZIMST-101  ALTGRIMST-1  GLIMST-1  C11-1         IMST-1    1\n1  BEZIMST-101  ALTGRIMST-1  GLIMST-1  C11-1         IMST-3   80\n2  BEZIMST-101  ALTGRIMST-1  GLIMST-1  C11-1         IMST-4  216\n3  BEZIMST-101  ALTGRIMST-1  GLIMST-1  C11-2         IMST-1    2\n4  BEZIMST-101  ALTGRIMST-1  GLIMST-1  C11-2         IMST-3   86",
      "text/html": "<div>\n<style scoped>\n    .dataframe tbody tr th:only-of-type {\n        vertical-align: middle;\n    }\n\n    .dataframe tbody tr th {\n        vertical-align: top;\n    }\n\n    .dataframe thead th {\n        text-align: right;\n    }\n</style>\n<table border=\"1\" class=\"dataframe\">\n  <thead>\n    <tr style=\"text-align: right;\">\n      <th></th>\n      <th>PolBez</th>\n      <th>Altersgr</th>\n      <th>GebLand</th>\n      <th>Geschl</th>\n      <th>GeimpftGenesen</th>\n      <th>Anz</th>\n    </tr>\n  </thead>\n  <tbody>\n    <tr>\n      <th>0</th>\n      <td>BEZIMST-101</td>\n      <td>ALTGRIMST-1</td>\n      <td>GLIMST-1</td>\n      <td>C11-1</td>\n      <td>IMST-1</td>\n      <td>1</td>\n    </tr>\n    <tr>\n      <th>1</th>\n      <td>BEZIMST-101</td>\n      <td>ALTGRIMST-1</td>\n      <td>GLIMST-1</td>\n      <td>C11-1</td>\n      <td>IMST-3</td>\n      <td>80</td>\n    </tr>\n    <tr>\n      <th>2</th>\n      <td>BEZIMST-101</td>\n      <td>ALTGRIMST-1</td>\n      <td>GLIMST-1</td>\n      <td>C11-1</td>\n      <td>IMST-4</td>\n      <td>216</td>\n    </tr>\n    <tr>\n      <th>3</th>\n      <td>BEZIMST-101</td>\n      <td>ALTGRIMST-1</td>\n      <td>GLIMST-1</td>\n      <td>C11-2</td>\n      <td>IMST-1</td>\n      <td>2</td>\n    </tr>\n    <tr>\n      <th>4</th>\n      <td>BEZIMST-101</td>\n      <td>ALTGRIMST-1</td>\n      <td>GLIMST-1</td>\n      <td>C11-2</td>\n      <td>IMST-3</td>\n      <td>86</td>\n    </tr>\n  </tbody>\n</table>\n</div>"
     },
     "execution_count": 323,
     "metadata": {},
     "output_type": "execute_result"
    }
   ],
   "source": [
    "dataset1.head(5)"
   ],
   "metadata": {
    "collapsed": false,
    "ExecuteTime": {
     "end_time": "2024-01-19T20:15:47.426934800Z",
     "start_time": "2024-01-19T20:15:47.395136400Z"
    }
   },
   "execution_count": 323
  },
  {
   "cell_type": "code",
   "outputs": [
    {
     "name": "stdout",
     "output_type": "stream",
     "text": [
      "<class 'pandas.core.frame.DataFrame'>\n",
      "RangeIndex: 53961 entries, 0 to 53960\n",
      "Data columns (total 6 columns):\n",
      " #   Column          Non-Null Count  Dtype \n",
      "---  ------          --------------  ----- \n",
      " 0   PolBez          53961 non-null  object\n",
      " 1   Altersgr        53961 non-null  object\n",
      " 2   GebLand         53961 non-null  object\n",
      " 3   Geschl          53961 non-null  object\n",
      " 4   GeimpftGenesen  53961 non-null  object\n",
      " 5   Anz             53961 non-null  int64 \n",
      "dtypes: int64(1), object(5)\n",
      "memory usage: 2.5+ MB\n"
     ]
    }
   ],
   "source": [
    "dataset1.info()"
   ],
   "metadata": {
    "collapsed": false,
    "ExecuteTime": {
     "end_time": "2024-01-19T20:15:47.465026200Z",
     "start_time": "2024-01-19T20:15:47.401652600Z"
    }
   },
   "execution_count": 324
  },
  {
   "cell_type": "markdown",
   "source": [
    "There are no null-values for this dataset, which is positive for future analysis."
   ],
   "metadata": {
    "collapsed": false
   }
  },
  {
   "cell_type": "code",
   "outputs": [
    {
     "data": {
      "text/plain": "                Anz\ncount  53961.000000\nmean     642.049703\nstd     2171.148389\nmin        1.000000\n25%       44.000000\n50%      169.000000\n75%      508.000000\nmax    70338.000000",
      "text/html": "<div>\n<style scoped>\n    .dataframe tbody tr th:only-of-type {\n        vertical-align: middle;\n    }\n\n    .dataframe tbody tr th {\n        vertical-align: top;\n    }\n\n    .dataframe thead th {\n        text-align: right;\n    }\n</style>\n<table border=\"1\" class=\"dataframe\">\n  <thead>\n    <tr style=\"text-align: right;\">\n      <th></th>\n      <th>Anz</th>\n    </tr>\n  </thead>\n  <tbody>\n    <tr>\n      <th>count</th>\n      <td>53961.000000</td>\n    </tr>\n    <tr>\n      <th>mean</th>\n      <td>642.049703</td>\n    </tr>\n    <tr>\n      <th>std</th>\n      <td>2171.148389</td>\n    </tr>\n    <tr>\n      <th>min</th>\n      <td>1.000000</td>\n    </tr>\n    <tr>\n      <th>25%</th>\n      <td>44.000000</td>\n    </tr>\n    <tr>\n      <th>50%</th>\n      <td>169.000000</td>\n    </tr>\n    <tr>\n      <th>75%</th>\n      <td>508.000000</td>\n    </tr>\n    <tr>\n      <th>max</th>\n      <td>70338.000000</td>\n    </tr>\n  </tbody>\n</table>\n</div>"
     },
     "execution_count": 325,
     "metadata": {},
     "output_type": "execute_result"
    }
   ],
   "source": [
    "dataset1.describe()"
   ],
   "metadata": {
    "collapsed": false,
    "ExecuteTime": {
     "end_time": "2024-01-19T20:15:47.466025700Z",
     "start_time": "2024-01-19T20:15:47.415197600Z"
    }
   },
   "execution_count": 325
  },
  {
   "cell_type": "markdown",
   "source": [
    "## Std-Analysis for Dataset 2"
   ],
   "metadata": {
    "collapsed": false
   }
  },
  {
   "cell_type": "code",
   "outputs": [
    {
     "data": {
      "text/plain": "     Bundesland     Bildung     Altersgr ErwerbStatus GeimpftGenesen   Anz\n1209      B00-8   BILIMST-4  ALT10IMST-7     ESIMST-1         IMST-2  1593\n1079      B00-7  BILIMST-99  ALT10IMST-6     ESIMST-2         IMST-2     2\n429       B00-3   BILIMST-4  ALT10IMST-7     ESIMST-2         IMST-1  3829\n83        B00-1   BILIMST-3  ALT10IMST-6     ESIMST-1         IMST-4   651\n97        B00-1   BILIMST-4  ALT10IMST-4     ESIMST-1         IMST-2  1872",
      "text/html": "<div>\n<style scoped>\n    .dataframe tbody tr th:only-of-type {\n        vertical-align: middle;\n    }\n\n    .dataframe tbody tr th {\n        vertical-align: top;\n    }\n\n    .dataframe thead th {\n        text-align: right;\n    }\n</style>\n<table border=\"1\" class=\"dataframe\">\n  <thead>\n    <tr style=\"text-align: right;\">\n      <th></th>\n      <th>Bundesland</th>\n      <th>Bildung</th>\n      <th>Altersgr</th>\n      <th>ErwerbStatus</th>\n      <th>GeimpftGenesen</th>\n      <th>Anz</th>\n    </tr>\n  </thead>\n  <tbody>\n    <tr>\n      <th>1209</th>\n      <td>B00-8</td>\n      <td>BILIMST-4</td>\n      <td>ALT10IMST-7</td>\n      <td>ESIMST-1</td>\n      <td>IMST-2</td>\n      <td>1593</td>\n    </tr>\n    <tr>\n      <th>1079</th>\n      <td>B00-7</td>\n      <td>BILIMST-99</td>\n      <td>ALT10IMST-6</td>\n      <td>ESIMST-2</td>\n      <td>IMST-2</td>\n      <td>2</td>\n    </tr>\n    <tr>\n      <th>429</th>\n      <td>B00-3</td>\n      <td>BILIMST-4</td>\n      <td>ALT10IMST-7</td>\n      <td>ESIMST-2</td>\n      <td>IMST-1</td>\n      <td>3829</td>\n    </tr>\n    <tr>\n      <th>83</th>\n      <td>B00-1</td>\n      <td>BILIMST-3</td>\n      <td>ALT10IMST-6</td>\n      <td>ESIMST-1</td>\n      <td>IMST-4</td>\n      <td>651</td>\n    </tr>\n    <tr>\n      <th>97</th>\n      <td>B00-1</td>\n      <td>BILIMST-4</td>\n      <td>ALT10IMST-4</td>\n      <td>ESIMST-1</td>\n      <td>IMST-2</td>\n      <td>1872</td>\n    </tr>\n  </tbody>\n</table>\n</div>"
     },
     "execution_count": 326,
     "metadata": {},
     "output_type": "execute_result"
    }
   ],
   "source": [
    "dataset2.sample(5)"
   ],
   "metadata": {
    "collapsed": false,
    "ExecuteTime": {
     "end_time": "2024-01-19T20:15:47.480713Z",
     "start_time": "2024-01-19T20:15:47.431007600Z"
    }
   },
   "execution_count": 326
  },
  {
   "cell_type": "markdown",
   "source": [
    "Same here: Every value is its own code and needs to be converted, to understand the dataset better."
   ],
   "metadata": {
    "collapsed": false
   }
  },
  {
   "cell_type": "code",
   "outputs": [
    {
     "data": {
      "text/plain": "  Bundesland    Bildung     Altersgr ErwerbStatus GeimpftGenesen  Anz\n0      B00-1  BILIMST-1  ALT10IMST-4     ESIMST-1         IMST-1  611\n1      B00-1  BILIMST-1  ALT10IMST-4     ESIMST-1         IMST-2  285\n2      B00-1  BILIMST-1  ALT10IMST-4     ESIMST-1         IMST-3  396\n3      B00-1  BILIMST-1  ALT10IMST-4     ESIMST-1         IMST-4  472\n4      B00-1  BILIMST-1  ALT10IMST-4     ESIMST-2         IMST-1  471",
      "text/html": "<div>\n<style scoped>\n    .dataframe tbody tr th:only-of-type {\n        vertical-align: middle;\n    }\n\n    .dataframe tbody tr th {\n        vertical-align: top;\n    }\n\n    .dataframe thead th {\n        text-align: right;\n    }\n</style>\n<table border=\"1\" class=\"dataframe\">\n  <thead>\n    <tr style=\"text-align: right;\">\n      <th></th>\n      <th>Bundesland</th>\n      <th>Bildung</th>\n      <th>Altersgr</th>\n      <th>ErwerbStatus</th>\n      <th>GeimpftGenesen</th>\n      <th>Anz</th>\n    </tr>\n  </thead>\n  <tbody>\n    <tr>\n      <th>0</th>\n      <td>B00-1</td>\n      <td>BILIMST-1</td>\n      <td>ALT10IMST-4</td>\n      <td>ESIMST-1</td>\n      <td>IMST-1</td>\n      <td>611</td>\n    </tr>\n    <tr>\n      <th>1</th>\n      <td>B00-1</td>\n      <td>BILIMST-1</td>\n      <td>ALT10IMST-4</td>\n      <td>ESIMST-1</td>\n      <td>IMST-2</td>\n      <td>285</td>\n    </tr>\n    <tr>\n      <th>2</th>\n      <td>B00-1</td>\n      <td>BILIMST-1</td>\n      <td>ALT10IMST-4</td>\n      <td>ESIMST-1</td>\n      <td>IMST-3</td>\n      <td>396</td>\n    </tr>\n    <tr>\n      <th>3</th>\n      <td>B00-1</td>\n      <td>BILIMST-1</td>\n      <td>ALT10IMST-4</td>\n      <td>ESIMST-1</td>\n      <td>IMST-4</td>\n      <td>472</td>\n    </tr>\n    <tr>\n      <th>4</th>\n      <td>B00-1</td>\n      <td>BILIMST-1</td>\n      <td>ALT10IMST-4</td>\n      <td>ESIMST-2</td>\n      <td>IMST-1</td>\n      <td>471</td>\n    </tr>\n  </tbody>\n</table>\n</div>"
     },
     "execution_count": 327,
     "metadata": {},
     "output_type": "execute_result"
    }
   ],
   "source": [
    "dataset2.head(5)"
   ],
   "metadata": {
    "collapsed": false,
    "ExecuteTime": {
     "end_time": "2024-01-19T20:15:47.573268900Z",
     "start_time": "2024-01-19T20:15:47.474203400Z"
    }
   },
   "execution_count": 327
  },
  {
   "cell_type": "code",
   "outputs": [
    {
     "name": "stdout",
     "output_type": "stream",
     "text": [
      "<class 'pandas.core.frame.DataFrame'>\n",
      "RangeIndex: 1404 entries, 0 to 1403\n",
      "Data columns (total 6 columns):\n",
      " #   Column          Non-Null Count  Dtype \n",
      "---  ------          --------------  ----- \n",
      " 0   Bundesland      1404 non-null   object\n",
      " 1   Bildung         1404 non-null   object\n",
      " 2   Altersgr        1404 non-null   object\n",
      " 3   ErwerbStatus    1404 non-null   object\n",
      " 4   GeimpftGenesen  1404 non-null   object\n",
      " 5   Anz             1404 non-null   int64 \n",
      "dtypes: int64(1), object(5)\n",
      "memory usage: 65.9+ KB\n"
     ]
    }
   ],
   "source": [
    "dataset2.info()"
   ],
   "metadata": {
    "collapsed": false,
    "ExecuteTime": {
     "end_time": "2024-01-19T20:15:47.650202600Z",
     "start_time": "2024-01-19T20:15:47.575422100Z"
    }
   },
   "execution_count": 328
  },
  {
   "cell_type": "markdown",
   "source": [
    "No null-values in this dataset too."
   ],
   "metadata": {
    "collapsed": false
   }
  },
  {
   "cell_type": "code",
   "outputs": [
    {
     "data": {
      "text/plain": "                Anz\ncount   1404.000000\nmean    3414.423789\nstd     5746.310880\nmin        1.000000\n25%      310.500000\n50%     1375.500000\n75%     3926.000000\nmax    55581.000000",
      "text/html": "<div>\n<style scoped>\n    .dataframe tbody tr th:only-of-type {\n        vertical-align: middle;\n    }\n\n    .dataframe tbody tr th {\n        vertical-align: top;\n    }\n\n    .dataframe thead th {\n        text-align: right;\n    }\n</style>\n<table border=\"1\" class=\"dataframe\">\n  <thead>\n    <tr style=\"text-align: right;\">\n      <th></th>\n      <th>Anz</th>\n    </tr>\n  </thead>\n  <tbody>\n    <tr>\n      <th>count</th>\n      <td>1404.000000</td>\n    </tr>\n    <tr>\n      <th>mean</th>\n      <td>3414.423789</td>\n    </tr>\n    <tr>\n      <th>std</th>\n      <td>5746.310880</td>\n    </tr>\n    <tr>\n      <th>min</th>\n      <td>1.000000</td>\n    </tr>\n    <tr>\n      <th>25%</th>\n      <td>310.500000</td>\n    </tr>\n    <tr>\n      <th>50%</th>\n      <td>1375.500000</td>\n    </tr>\n    <tr>\n      <th>75%</th>\n      <td>3926.000000</td>\n    </tr>\n    <tr>\n      <th>max</th>\n      <td>55581.000000</td>\n    </tr>\n  </tbody>\n</table>\n</div>"
     },
     "execution_count": 329,
     "metadata": {},
     "output_type": "execute_result"
    }
   ],
   "source": [
    "dataset2.describe()"
   ],
   "metadata": {
    "collapsed": false,
    "ExecuteTime": {
     "end_time": "2024-01-19T20:15:47.741205500Z",
     "start_time": "2024-01-19T20:15:47.651203200Z"
    }
   },
   "execution_count": 329
  },
  {
   "cell_type": "markdown",
   "source": [
    "# Data Cleaning\n",
    "In this section, the input data will be cleaned. For this manner, any wrong, missing, or irrelevant informations will be treated accordingly.\n",
    "\n",
    "**To Be marked**\n",
    "The Column ``Altersgr`` uses an age gap interval of 10 years to inform us about the age of the adresses person. However, the first interval currently named ``ALT10IMST-1`` only has a 5 year gap (from 0 - 4 years) to especially adress babys and small children"
   ],
   "metadata": {
    "collapsed": false
   }
  },
  {
   "cell_type": "markdown",
   "source": [
    "### Dataset 1"
   ],
   "metadata": {
    "collapsed": false
   }
  },
  {
   "cell_type": "markdown",
   "source": [
    "There is already a csv which helps us convert these codes into values we can understand. The reason we do not import these values from the csv directly, is that the values are too long. We hereby keep the values steady and simple.\n",
    "* ``GeimpftGenesen`` is converted into more meaningful names\n",
    "* For ``Altersgr`` we type in the exact age group\n",
    "* For ``GebLand``: ``GLIMST-1`` stands for people born in Austria, and ``GLIMST-1`` for people born outside of Austria\n",
    "* ``Geschl`` is also being converted into m (male) and f (female)"
   ],
   "metadata": {
    "collapsed": false
   }
  },
  {
   "cell_type": "code",
   "outputs": [
    {
     "data": {
      "text/plain": "            PolBez Altersgr  GebLand Geschl GeimpftGenesen   Anz\n7562   BEZIMST-210      NaN   INLAND      f            GEN    21\n18786  BEZIMST-402      NaN  AUSLAND      m            GEN    16\n45790  BEZIMST-914      NaN  AUSLAND      f            GEN    35\n13692  BEZIMST-314  15 - 24  AUSLAND      f           IMPF    25\n46141  BEZIMST-915      NaN   INLAND      f           IMPF   411\n28747  BEZIMST-601      NaN   INLAND      f            GEN   319\n3730   BEZIMST-201    0 - 4   INLAND      f            GEN   219\n48868  BEZIMST-921      NaN  AUSLAND      f           IMPF   808\n43574  BEZIMST-909      NaN   INLAND      f           IMPF   389\n51305        B00-3      85+  AUSLAND      f           IMPF  1480",
      "text/html": "<div>\n<style scoped>\n    .dataframe tbody tr th:only-of-type {\n        vertical-align: middle;\n    }\n\n    .dataframe tbody tr th {\n        vertical-align: top;\n    }\n\n    .dataframe thead th {\n        text-align: right;\n    }\n</style>\n<table border=\"1\" class=\"dataframe\">\n  <thead>\n    <tr style=\"text-align: right;\">\n      <th></th>\n      <th>PolBez</th>\n      <th>Altersgr</th>\n      <th>GebLand</th>\n      <th>Geschl</th>\n      <th>GeimpftGenesen</th>\n      <th>Anz</th>\n    </tr>\n  </thead>\n  <tbody>\n    <tr>\n      <th>7562</th>\n      <td>BEZIMST-210</td>\n      <td>NaN</td>\n      <td>INLAND</td>\n      <td>f</td>\n      <td>GEN</td>\n      <td>21</td>\n    </tr>\n    <tr>\n      <th>18786</th>\n      <td>BEZIMST-402</td>\n      <td>NaN</td>\n      <td>AUSLAND</td>\n      <td>m</td>\n      <td>GEN</td>\n      <td>16</td>\n    </tr>\n    <tr>\n      <th>45790</th>\n      <td>BEZIMST-914</td>\n      <td>NaN</td>\n      <td>AUSLAND</td>\n      <td>f</td>\n      <td>GEN</td>\n      <td>35</td>\n    </tr>\n    <tr>\n      <th>13692</th>\n      <td>BEZIMST-314</td>\n      <td>15 - 24</td>\n      <td>AUSLAND</td>\n      <td>f</td>\n      <td>IMPF</td>\n      <td>25</td>\n    </tr>\n    <tr>\n      <th>46141</th>\n      <td>BEZIMST-915</td>\n      <td>NaN</td>\n      <td>INLAND</td>\n      <td>f</td>\n      <td>IMPF</td>\n      <td>411</td>\n    </tr>\n    <tr>\n      <th>28747</th>\n      <td>BEZIMST-601</td>\n      <td>NaN</td>\n      <td>INLAND</td>\n      <td>f</td>\n      <td>GEN</td>\n      <td>319</td>\n    </tr>\n    <tr>\n      <th>3730</th>\n      <td>BEZIMST-201</td>\n      <td>0 - 4</td>\n      <td>INLAND</td>\n      <td>f</td>\n      <td>GEN</td>\n      <td>219</td>\n    </tr>\n    <tr>\n      <th>48868</th>\n      <td>BEZIMST-921</td>\n      <td>NaN</td>\n      <td>AUSLAND</td>\n      <td>f</td>\n      <td>IMPF</td>\n      <td>808</td>\n    </tr>\n    <tr>\n      <th>43574</th>\n      <td>BEZIMST-909</td>\n      <td>NaN</td>\n      <td>INLAND</td>\n      <td>f</td>\n      <td>IMPF</td>\n      <td>389</td>\n    </tr>\n    <tr>\n      <th>51305</th>\n      <td>B00-3</td>\n      <td>85+</td>\n      <td>AUSLAND</td>\n      <td>f</td>\n      <td>IMPF</td>\n      <td>1480</td>\n    </tr>\n  </tbody>\n</table>\n</div>"
     },
     "execution_count": 330,
     "metadata": {},
     "output_type": "execute_result"
    }
   ],
   "source": [
    "geimpftGenesenDict = {\"IMST-4\": \"NICHTS\",  #nothing (NICHTS)\n",
    "                       \"IMST-1\": \"IMPF\",  #vaccinated (geIMPFt)\n",
    "                       \"IMST-3\": \"GEN\",  #recovered (GENesen)\n",
    "                       \"IMST-2\": \"IMPF + GEN\"} #vaccinated + recovered (geIMPFt und GENesen)\n",
    "\n",
    "ageGapDict = {\"ALT10IMST-1\": \"0 - 4\",\n",
    "              \"ALT10IMST-2\": \"5 - 14\",\n",
    "              \"ALT10IMST-3\": \"15 - 24\",\n",
    "              \"ALT10IMST-4\": \"25 - 34\",\n",
    "              \"ALT10IMST-5\": \"35 - 44\",\n",
    "              \"ALT10IMST-6\": \"45 - 54\",\n",
    "              \"ALT10IMST-7\": \"55 - 64\",\n",
    "              \"ALT10IMST-8\": \"65 - 74\",\n",
    "              \"ALT10IMST-9\": \"75 - 84\",\n",
    "              \"ALT10IMST-10\": \"85+\"}\n",
    "\n",
    "dataset1[\"GebLand\"] = dataset1[\"GebLand\"].map({\"GLIMST-1\": \"INLAND\",\n",
    "                                               \"GLIMST-2\": \"AUSLAND\"})\n",
    "\n",
    "dataset1[\"Geschl\"] = dataset1[\"Geschl\"].map({\"C11-1\": \"m\",\n",
    "                                             \"C11-2\": \"f\"})\n",
    "\n",
    "dataset1[\"GeimpftGenesen\"] = dataset1[\"GeimpftGenesen\"].map(geimpftGenesenDict)\n",
    "\n",
    "dataset1[\"Altersgr\"] = dataset1[\"Altersgr\"].map(ageGapDict)\n",
    "\n",
    "dataset1.sample(10)"
   ],
   "metadata": {
    "collapsed": false,
    "ExecuteTime": {
     "end_time": "2024-01-19T20:15:47.822806400Z",
     "start_time": "2024-01-19T20:15:47.725767400Z"
    }
   },
   "execution_count": 330
  },
  {
   "cell_type": "markdown",
   "source": [
    "### Dataset 2"
   ],
   "metadata": {
    "collapsed": false
   }
  },
  {
   "cell_type": "code",
   "outputs": [
    {
     "data": {
      "text/plain": "            Bundesland              Bildung Altersgr ErwerbStatus  \\\n446   Niederösterreich              Unknown  35 - 44      inaktiv   \n248            Kärnten  Akademie/Hochschule  25 - 34        aktiv   \n88          Burgenland       BHS/AHS/Kolleg  55 - 64        aktiv   \n283            Kärnten              Unknown  25 - 34      inaktiv   \n1053             Tirol  Akademie/Hochschule  55 - 64        aktiv   \n1024             Tirol       BHS/AHS/Kolleg  55 - 64      inaktiv   \n952              Tirol        Pflichtschule  45 - 54      inaktiv   \n1289              Wien    Lehrabschluss/BMS  35 - 44      inaktiv   \n510     Oberösterreich    Lehrabschluss/BMS  45 - 54        aktiv   \n1369              Wien  Akademie/Hochschule  55 - 64      inaktiv   \n\n     GeimpftGenesen    Anz  \n446      IMPF + GEN      4  \n248             GEN   1710  \n88             IMPF   2541  \n283      IMPF + GEN      1  \n1053            GEN    766  \n1024     IMPF + GEN    465  \n952      IMPF + GEN    421  \n1289     IMPF + GEN   1970  \n510      IMPF + GEN  20437  \n1369     IMPF + GEN   1883  ",
      "text/html": "<div>\n<style scoped>\n    .dataframe tbody tr th:only-of-type {\n        vertical-align: middle;\n    }\n\n    .dataframe tbody tr th {\n        vertical-align: top;\n    }\n\n    .dataframe thead th {\n        text-align: right;\n    }\n</style>\n<table border=\"1\" class=\"dataframe\">\n  <thead>\n    <tr style=\"text-align: right;\">\n      <th></th>\n      <th>Bundesland</th>\n      <th>Bildung</th>\n      <th>Altersgr</th>\n      <th>ErwerbStatus</th>\n      <th>GeimpftGenesen</th>\n      <th>Anz</th>\n    </tr>\n  </thead>\n  <tbody>\n    <tr>\n      <th>446</th>\n      <td>Niederösterreich</td>\n      <td>Unknown</td>\n      <td>35 - 44</td>\n      <td>inaktiv</td>\n      <td>IMPF + GEN</td>\n      <td>4</td>\n    </tr>\n    <tr>\n      <th>248</th>\n      <td>Kärnten</td>\n      <td>Akademie/Hochschule</td>\n      <td>25 - 34</td>\n      <td>aktiv</td>\n      <td>GEN</td>\n      <td>1710</td>\n    </tr>\n    <tr>\n      <th>88</th>\n      <td>Burgenland</td>\n      <td>BHS/AHS/Kolleg</td>\n      <td>55 - 64</td>\n      <td>aktiv</td>\n      <td>IMPF</td>\n      <td>2541</td>\n    </tr>\n    <tr>\n      <th>283</th>\n      <td>Kärnten</td>\n      <td>Unknown</td>\n      <td>25 - 34</td>\n      <td>inaktiv</td>\n      <td>IMPF + GEN</td>\n      <td>1</td>\n    </tr>\n    <tr>\n      <th>1053</th>\n      <td>Tirol</td>\n      <td>Akademie/Hochschule</td>\n      <td>55 - 64</td>\n      <td>aktiv</td>\n      <td>GEN</td>\n      <td>766</td>\n    </tr>\n    <tr>\n      <th>1024</th>\n      <td>Tirol</td>\n      <td>BHS/AHS/Kolleg</td>\n      <td>55 - 64</td>\n      <td>inaktiv</td>\n      <td>IMPF + GEN</td>\n      <td>465</td>\n    </tr>\n    <tr>\n      <th>952</th>\n      <td>Tirol</td>\n      <td>Pflichtschule</td>\n      <td>45 - 54</td>\n      <td>inaktiv</td>\n      <td>IMPF + GEN</td>\n      <td>421</td>\n    </tr>\n    <tr>\n      <th>1289</th>\n      <td>Wien</td>\n      <td>Lehrabschluss/BMS</td>\n      <td>35 - 44</td>\n      <td>inaktiv</td>\n      <td>IMPF + GEN</td>\n      <td>1970</td>\n    </tr>\n    <tr>\n      <th>510</th>\n      <td>Oberösterreich</td>\n      <td>Lehrabschluss/BMS</td>\n      <td>45 - 54</td>\n      <td>aktiv</td>\n      <td>IMPF + GEN</td>\n      <td>20437</td>\n    </tr>\n    <tr>\n      <th>1369</th>\n      <td>Wien</td>\n      <td>Akademie/Hochschule</td>\n      <td>55 - 64</td>\n      <td>inaktiv</td>\n      <td>IMPF + GEN</td>\n      <td>1883</td>\n    </tr>\n  </tbody>\n</table>\n</div>"
     },
     "execution_count": 331,
     "metadata": {},
     "output_type": "execute_result"
    }
   ],
   "source": [
    "bundeslandDict = {\n",
    "    \"B00-1\": \"Burgenland\",\n",
    "    \"B00-2\": \"Kärnten\",\n",
    "    \"B00-3\": \"Niederösterreich\",\n",
    "    \"B00-4\": \"Oberösterreich\",\n",
    "    \"B00-5\": \"Salzburg\",\n",
    "    \"B00-6\": \"Steiermark\",\n",
    "    \"B00-7\": \"Tirol\",\n",
    "    \"B00-8\": \"Vorarlberg\",\n",
    "    \"B00-9\": \"Wien\"\n",
    "}\n",
    "\n",
    "dataset2[\"Bundesland\"] = dataset2[\"Bundesland\"].map(bundeslandDict)\n",
    "\n",
    "#uses the dictionary geimpftGenesenDict from the previous code block\n",
    "dataset2[\"GeimpftGenesen\"] = dataset2[\"GeimpftGenesen\"].map(geimpftGenesenDict)\n",
    "\n",
    "dataset2[\"Bildung\"] = dataset2[\"Bildung\"].map({\"BILIMST-1\": \"Pflichtschule\",\n",
    "                                               \"BILIMST-2\": \"Lehrabschluss/BMS\",\n",
    "                                               \"BILIMST-3\": \"BHS/AHS/Kolleg\",\n",
    "                                               \"BILIMST-4\": \"Akademie/Hochschule\",\n",
    "                                               \"BILIMST-99\": \"Unknown\"})\n",
    "\n",
    "dataset2[\"ErwerbStatus\"] = dataset2[\"ErwerbStatus\"].map({\"ESIMST-1\": \"aktiv\",\n",
    "                                                         \"ESIMST-2\": \"inaktiv\"})\n",
    "\n",
    "#uses the dictionary ageGapDict from the previous code block\n",
    "dataset2[\"Altersgr\"] = dataset2[\"Altersgr\"].map(ageGapDict)\n",
    "\n",
    "dataset2.sample(10)"
   ],
   "metadata": {
    "collapsed": false,
    "ExecuteTime": {
     "end_time": "2024-01-19T20:15:47.825806300Z",
     "start_time": "2024-01-19T20:15:47.789295800Z"
    }
   },
   "execution_count": 331
  },
  {
   "cell_type": "markdown",
   "source": [
    "## Duplicate Data"
   ],
   "metadata": {
    "collapsed": false
   }
  },
  {
   "cell_type": "code",
   "outputs": [
    {
     "data": {
      "text/plain": "34645644"
     },
     "execution_count": 332,
     "metadata": {},
     "output_type": "execute_result"
    }
   ],
   "source": [
    "dataset1[\"Anz\"].sum()"
   ],
   "metadata": {
    "collapsed": false,
    "ExecuteTime": {
     "end_time": "2024-01-19T20:15:47.919587200Z",
     "start_time": "2024-01-19T20:15:47.830231200Z"
    }
   },
   "execution_count": 332
  },
  {
   "cell_type": "markdown",
   "source": [
    "In the above code we can see that the sum of records is approximately 4 times the total population of Austria. This strongly suggests that there may be duplicate data. And exactly that is the case: In ``PolBez`` there are records for each province and also for each federal country. This duplicate is not necessary, since one province can easily be assigned to its federal country (e.g. ``BEZIMST-304`` (= Wiener Neustadt) must be in ``B00-3`` (=Niederoesterreich)). So the records for the federal countries can be removed."
   ],
   "metadata": {
    "collapsed": false
   }
  },
  {
   "cell_type": "code",
   "outputs": [
    {
     "data": {
      "text/plain": "17322822"
     },
     "execution_count": 333,
     "metadata": {},
     "output_type": "execute_result"
    }
   ],
   "source": [
    "dataset1 = dataset1.loc[dataset1[\"PolBez\"].map(lambda val: \"BEZIMST\" in val)] #only provinces have the prefix BEZIMST\n",
    "dataset1[\"Anz\"].sum()"
   ],
   "metadata": {
    "collapsed": false,
    "ExecuteTime": {
     "end_time": "2024-01-19T20:15:47.981847900Z",
     "start_time": "2024-01-19T20:15:47.887227100Z"
    }
   },
   "execution_count": 333
  },
  {
   "cell_type": "markdown",
   "source": [
    "The above code still returns an amount which is twice as big as Austria's population. Similarly, the column ``Altersgr`` has duplicate records for different age groups. Previously we mapped `Altersgr` to more readable strings, but left out the duplicate values that will be deleted in the next step. So we can simply drop the N/A records that emerge after mapping the column ``Altersgr``."
   ],
   "metadata": {
    "collapsed": false
   }
  },
  {
   "cell_type": "markdown",
   "source": [],
   "metadata": {
    "collapsed": false
   }
  },
  {
   "cell_type": "code",
   "outputs": [
    {
     "data": {
      "text/plain": "8661411"
     },
     "execution_count": 334,
     "metadata": {},
     "output_type": "execute_result"
    }
   ],
   "source": [
    "dataset1 = dataset1.dropna()\n",
    "dataset1[\"Anz\"].sum()"
   ],
   "metadata": {
    "collapsed": false,
    "ExecuteTime": {
     "end_time": "2024-01-19T20:15:48.026638100Z",
     "start_time": "2024-01-19T20:15:47.983847800Z"
    }
   },
   "execution_count": 334
  },
  {
   "cell_type": "markdown",
   "source": [
    "Now we have removed all duplicate values. Let's continue cleaning our data.\n",
    "## Null Values"
   ],
   "metadata": {
    "collapsed": false
   }
  },
  {
   "cell_type": "code",
   "outputs": [
    {
     "data": {
      "text/plain": "PolBez            0\nAltersgr          0\nGebLand           0\nGeschl            0\nGeimpftGenesen    0\nAnz               0\ndtype: int64"
     },
     "execution_count": 335,
     "metadata": {},
     "output_type": "execute_result"
    }
   ],
   "source": [
    "dataset1.isnull().sum()"
   ],
   "metadata": {
    "collapsed": false,
    "ExecuteTime": {
     "end_time": "2024-01-19T20:15:48.078193600Z",
     "start_time": "2024-01-19T20:15:48.032388400Z"
    }
   },
   "execution_count": 335
  },
  {
   "cell_type": "markdown",
   "source": [],
   "metadata": {
    "collapsed": false
   }
  },
  {
   "cell_type": "code",
   "outputs": [
    {
     "data": {
      "text/plain": "Bundesland        0\nBildung           0\nAltersgr          0\nErwerbStatus      0\nGeimpftGenesen    0\nAnz               0\ndtype: int64"
     },
     "execution_count": 336,
     "metadata": {},
     "output_type": "execute_result"
    }
   ],
   "source": [
    "dataset2.isnull().sum()"
   ],
   "metadata": {
    "collapsed": false,
    "ExecuteTime": {
     "end_time": "2024-01-19T20:15:48.124192Z",
     "start_time": "2024-01-19T20:15:48.069053300Z"
    }
   },
   "execution_count": 336
  },
  {
   "cell_type": "markdown",
   "source": [
    "Since there are no null values, we can continue!"
   ],
   "metadata": {
    "collapsed": false
   }
  },
  {
   "cell_type": "code",
   "outputs": [
    {
     "data": {
      "text/plain": "Bildung\nPflichtschule          288\nLehrabschluss/BMS      288\nBHS/AHS/Kolleg         288\nAkademie/Hochschule    288\nUnknown                252\nName: count, dtype: int64"
     },
     "execution_count": 337,
     "metadata": {},
     "output_type": "execute_result"
    }
   ],
   "source": [
    "dataset2[\"Bildung\"].value_counts()"
   ],
   "metadata": {
    "collapsed": false,
    "ExecuteTime": {
     "end_time": "2024-01-19T20:15:48.142638900Z",
     "start_time": "2024-01-19T20:15:48.127541700Z"
    }
   },
   "execution_count": 337
  },
  {
   "cell_type": "markdown",
   "source": [
    "After this we are done cleaning our data and can save it into two datasets. ``korr1.csv`` for ``dataset1.csv`` and ``korr2.csv`` for ``dataset2.csv``"
   ],
   "metadata": {
    "collapsed": false
   }
  },
  {
   "cell_type": "code",
   "outputs": [],
   "source": [
    "dataset1.to_csv(\"./output/korr1.csv\", sep=\";\", index=False)\n",
    "dataset2.to_csv(\"./output/korr2.csv\", sep=\";\", index=False)"
   ],
   "metadata": {
    "collapsed": false,
    "ExecuteTime": {
     "end_time": "2024-01-19T20:15:48.194762Z",
     "start_time": "2024-01-19T20:15:48.132606800Z"
    }
   },
   "execution_count": 338
  },
  {
   "cell_type": "markdown",
   "source": [
    "Now, lets look at our corrected values..."
   ],
   "metadata": {
    "collapsed": false
   }
  },
  {
   "cell_type": "code",
   "outputs": [
    {
     "data": {
      "text/plain": "        PolBez Altersgr GebLand Geschl GeimpftGenesen  Anz\n0  BEZIMST-101    0 - 4  INLAND      m           IMPF    1\n1  BEZIMST-101    0 - 4  INLAND      m            GEN   80\n2  BEZIMST-101    0 - 4  INLAND      m         NICHTS  216\n3  BEZIMST-101    0 - 4  INLAND      f           IMPF    2\n4  BEZIMST-101    0 - 4  INLAND      f            GEN   86",
      "text/html": "<div>\n<style scoped>\n    .dataframe tbody tr th:only-of-type {\n        vertical-align: middle;\n    }\n\n    .dataframe tbody tr th {\n        vertical-align: top;\n    }\n\n    .dataframe thead th {\n        text-align: right;\n    }\n</style>\n<table border=\"1\" class=\"dataframe\">\n  <thead>\n    <tr style=\"text-align: right;\">\n      <th></th>\n      <th>PolBez</th>\n      <th>Altersgr</th>\n      <th>GebLand</th>\n      <th>Geschl</th>\n      <th>GeimpftGenesen</th>\n      <th>Anz</th>\n    </tr>\n  </thead>\n  <tbody>\n    <tr>\n      <th>0</th>\n      <td>BEZIMST-101</td>\n      <td>0 - 4</td>\n      <td>INLAND</td>\n      <td>m</td>\n      <td>IMPF</td>\n      <td>1</td>\n    </tr>\n    <tr>\n      <th>1</th>\n      <td>BEZIMST-101</td>\n      <td>0 - 4</td>\n      <td>INLAND</td>\n      <td>m</td>\n      <td>GEN</td>\n      <td>80</td>\n    </tr>\n    <tr>\n      <th>2</th>\n      <td>BEZIMST-101</td>\n      <td>0 - 4</td>\n      <td>INLAND</td>\n      <td>m</td>\n      <td>NICHTS</td>\n      <td>216</td>\n    </tr>\n    <tr>\n      <th>3</th>\n      <td>BEZIMST-101</td>\n      <td>0 - 4</td>\n      <td>INLAND</td>\n      <td>f</td>\n      <td>IMPF</td>\n      <td>2</td>\n    </tr>\n    <tr>\n      <th>4</th>\n      <td>BEZIMST-101</td>\n      <td>0 - 4</td>\n      <td>INLAND</td>\n      <td>f</td>\n      <td>GEN</td>\n      <td>86</td>\n    </tr>\n  </tbody>\n</table>\n</div>"
     },
     "execution_count": 339,
     "metadata": {},
     "output_type": "execute_result"
    }
   ],
   "source": [
    "korr1 = pd.read_csv(\"./output/korr1.csv\", sep=\";\")\n",
    "korr2 = pd.read_csv(\"./output/korr2.csv\", sep=\";\")\n",
    "\n",
    "korr1.head(5)"
   ],
   "metadata": {
    "collapsed": false,
    "ExecuteTime": {
     "end_time": "2024-01-19T20:15:48.195762100Z",
     "start_time": "2024-01-19T20:15:48.164732300Z"
    }
   },
   "execution_count": 339
  },
  {
   "cell_type": "code",
   "outputs": [
    {
     "data": {
      "text/plain": "   Bundesland        Bildung Altersgr ErwerbStatus GeimpftGenesen  Anz\n0  Burgenland  Pflichtschule  25 - 34        aktiv           IMPF  611\n1  Burgenland  Pflichtschule  25 - 34        aktiv     IMPF + GEN  285\n2  Burgenland  Pflichtschule  25 - 34        aktiv            GEN  396\n3  Burgenland  Pflichtschule  25 - 34        aktiv         NICHTS  472\n4  Burgenland  Pflichtschule  25 - 34      inaktiv           IMPF  471",
      "text/html": "<div>\n<style scoped>\n    .dataframe tbody tr th:only-of-type {\n        vertical-align: middle;\n    }\n\n    .dataframe tbody tr th {\n        vertical-align: top;\n    }\n\n    .dataframe thead th {\n        text-align: right;\n    }\n</style>\n<table border=\"1\" class=\"dataframe\">\n  <thead>\n    <tr style=\"text-align: right;\">\n      <th></th>\n      <th>Bundesland</th>\n      <th>Bildung</th>\n      <th>Altersgr</th>\n      <th>ErwerbStatus</th>\n      <th>GeimpftGenesen</th>\n      <th>Anz</th>\n    </tr>\n  </thead>\n  <tbody>\n    <tr>\n      <th>0</th>\n      <td>Burgenland</td>\n      <td>Pflichtschule</td>\n      <td>25 - 34</td>\n      <td>aktiv</td>\n      <td>IMPF</td>\n      <td>611</td>\n    </tr>\n    <tr>\n      <th>1</th>\n      <td>Burgenland</td>\n      <td>Pflichtschule</td>\n      <td>25 - 34</td>\n      <td>aktiv</td>\n      <td>IMPF + GEN</td>\n      <td>285</td>\n    </tr>\n    <tr>\n      <th>2</th>\n      <td>Burgenland</td>\n      <td>Pflichtschule</td>\n      <td>25 - 34</td>\n      <td>aktiv</td>\n      <td>GEN</td>\n      <td>396</td>\n    </tr>\n    <tr>\n      <th>3</th>\n      <td>Burgenland</td>\n      <td>Pflichtschule</td>\n      <td>25 - 34</td>\n      <td>aktiv</td>\n      <td>NICHTS</td>\n      <td>472</td>\n    </tr>\n    <tr>\n      <th>4</th>\n      <td>Burgenland</td>\n      <td>Pflichtschule</td>\n      <td>25 - 34</td>\n      <td>inaktiv</td>\n      <td>IMPF</td>\n      <td>471</td>\n    </tr>\n  </tbody>\n</table>\n</div>"
     },
     "execution_count": 340,
     "metadata": {},
     "output_type": "execute_result"
    }
   ],
   "source": [
    "korr2.head(5)"
   ],
   "metadata": {
    "collapsed": false,
    "ExecuteTime": {
     "end_time": "2024-01-19T20:15:48.222747400Z",
     "start_time": "2024-01-19T20:15:48.180947700Z"
    }
   },
   "execution_count": 340
  },
  {
   "cell_type": "markdown",
   "source": [
    "# Data Preparation\n",
    "## Numerical Values\n",
    "### Dataset 1\n",
    "* For ``Polbez`` we take the number in the value code (so ``BEZIMST-340`` will be converted into ``340``)\n",
    "* For ``Altersgr`` we take the mean value from the min and max of the age group (except for 85, it will stay 85 since there is no max)\n",
    "* For ``GebLand`` we take 0 for ``INLAND`` and 1 for ``AUSLAND``\n",
    "* For ``Geschl`` we take 0 for ``m`` and 1 for ``f``\n",
    "* For ``GeimpftGenesen`` we take 0 for ``nothing``, 1 for vaccinated, 2 for recovered, and 3 (1+2) for both vaccinated and recovered\n"
   ],
   "metadata": {
    "collapsed": false
   }
  },
  {
   "cell_type": "code",
   "outputs": [
    {
     "data": {
      "text/plain": "       PolBez  Altersgr  GebLand  Geschl  GeimpftGenesen  Anz\n2070      206      59.5        0       0               3  657\n15620     910      79.5        0       0               3  687\n4956      315      39.5        1       1               0  170\n5042      316       2.0        0       1               3    2\n12698     704      85.0        1       1               1  100",
      "text/html": "<div>\n<style scoped>\n    .dataframe tbody tr th:only-of-type {\n        vertical-align: middle;\n    }\n\n    .dataframe tbody tr th {\n        vertical-align: top;\n    }\n\n    .dataframe thead th {\n        text-align: right;\n    }\n</style>\n<table border=\"1\" class=\"dataframe\">\n  <thead>\n    <tr style=\"text-align: right;\">\n      <th></th>\n      <th>PolBez</th>\n      <th>Altersgr</th>\n      <th>GebLand</th>\n      <th>Geschl</th>\n      <th>GeimpftGenesen</th>\n      <th>Anz</th>\n    </tr>\n  </thead>\n  <tbody>\n    <tr>\n      <th>2070</th>\n      <td>206</td>\n      <td>59.5</td>\n      <td>0</td>\n      <td>0</td>\n      <td>3</td>\n      <td>657</td>\n    </tr>\n    <tr>\n      <th>15620</th>\n      <td>910</td>\n      <td>79.5</td>\n      <td>0</td>\n      <td>0</td>\n      <td>3</td>\n      <td>687</td>\n    </tr>\n    <tr>\n      <th>4956</th>\n      <td>315</td>\n      <td>39.5</td>\n      <td>1</td>\n      <td>1</td>\n      <td>0</td>\n      <td>170</td>\n    </tr>\n    <tr>\n      <th>5042</th>\n      <td>316</td>\n      <td>2.0</td>\n      <td>0</td>\n      <td>1</td>\n      <td>3</td>\n      <td>2</td>\n    </tr>\n    <tr>\n      <th>12698</th>\n      <td>704</td>\n      <td>85.0</td>\n      <td>1</td>\n      <td>1</td>\n      <td>1</td>\n      <td>100</td>\n    </tr>\n  </tbody>\n</table>\n</div>"
     },
     "execution_count": 341,
     "metadata": {},
     "output_type": "execute_result"
    }
   ],
   "source": [
    "altersgrToNumeric = {\"0 - 4\": 2.0,\n",
    "                     \"5 - 14\": 9.5,\n",
    "                     \"15 - 24\": 19.5,\n",
    "                     \"25 - 34\": 29.5,\n",
    "                     \"35 - 44\": 39.5,\n",
    "                     \"45 - 54\": 49.5,\n",
    "                     \"55 - 64\": 59.5,\n",
    "                     \"65 - 74\": 69.5,\n",
    "                     \"75 - 84\": 79.5,\n",
    "                     \"85+\": 85.0}\n",
    "\n",
    "geimpftGenesenToNumeric = {\"NICHTS\": 0,  #nothing\n",
    "                      \"IMPF\": 1,  #vacc\n",
    "                      \"GEN\": 2,  #recov\n",
    "                      \"IMPF + GEN\": 3} #vacc + recov\n",
    "\n",
    "geblandToNumeric = dict((v, k) for k, v in enumerate(korr1[\"GebLand\"].unique()))\n",
    "geschlToNumeric = dict((v, k) for k, v in enumerate(korr1[\"Geschl\"].unique()))\n",
    "\n",
    "korr1[\"PolBez\"] = korr1[\"PolBez\"].map(lambda val: int(val[-3:]))\n",
    "korr1[\"Altersgr\"] = korr1[\"Altersgr\"].map(altersgrToNumeric)\n",
    "korr1[\"GebLand\"] = korr1[\"GebLand\"].map(geblandToNumeric)\n",
    "korr1[\"Geschl\"] = korr1[\"Geschl\"].map(geschlToNumeric)\n",
    "korr1[\"GeimpftGenesen\"] = korr1[\"GeimpftGenesen\"].map(geimpftGenesenToNumeric)\n",
    "\n",
    "korr1.sample(5)\n"
   ],
   "metadata": {
    "collapsed": false,
    "ExecuteTime": {
     "end_time": "2024-01-19T20:15:48.267979400Z",
     "start_time": "2024-01-19T20:15:48.187762700Z"
    }
   },
   "execution_count": 341
  },
  {
   "cell_type": "markdown",
   "source": [
    "Let's look if our values are truly numerical:"
   ],
   "metadata": {
    "collapsed": false
   }
  },
  {
   "cell_type": "code",
   "outputs": [
    {
     "name": "stdout",
     "output_type": "stream",
     "text": [
      "<class 'pandas.core.frame.DataFrame'>\n",
      "RangeIndex: 17694 entries, 0 to 17693\n",
      "Data columns (total 6 columns):\n",
      " #   Column          Non-Null Count  Dtype  \n",
      "---  ------          --------------  -----  \n",
      " 0   PolBez          17694 non-null  int64  \n",
      " 1   Altersgr        17694 non-null  float64\n",
      " 2   GebLand         17694 non-null  int64  \n",
      " 3   Geschl          17694 non-null  int64  \n",
      " 4   GeimpftGenesen  17694 non-null  int64  \n",
      " 5   Anz             17694 non-null  int64  \n",
      "dtypes: float64(1), int64(5)\n",
      "memory usage: 829.5 KB\n"
     ]
    }
   ],
   "source": [
    "korr1.info()"
   ],
   "metadata": {
    "collapsed": false,
    "ExecuteTime": {
     "end_time": "2024-01-19T20:15:48.268980700Z",
     "start_time": "2024-01-19T20:15:48.208683300Z"
    }
   },
   "execution_count": 342
  },
  {
   "cell_type": "markdown",
   "source": [
    "So far so good: Everything's an int64 or float64, so we can do the same thing for dataset 2."
   ],
   "metadata": {
    "collapsed": false
   }
  },
  {
   "cell_type": "markdown",
   "source": [
    "### Dataset 2\n",
    "For ``Altersgr`` and ``GeimpftGenesen`` we used the same dict as above to map our values to numerical ones.\n",
    "* For ``Bundesland`` we should consider looking at the ``PolBez`` once more: On Statistik Austria, it's stated that the first digit of the PolBez corresponds to the ``Bundesland``. Because of this, we should keep these numbers for the sake of having consistent values. (If we look closer, we can also see that the states are numbered alphabetically so that's also what we are going to do)\n",
    "* For ``ErwerbStatus`` we take 0 for inactive and 1 for active (common values to symbolize true/false)\n",
    "* For ``Bildung`` we are just going to enumerate the values. But we will make sure that ``Unknown`` corrsponds to 0"
   ],
   "metadata": {
    "collapsed": false
   }
  },
  {
   "cell_type": "code",
   "outputs": [
    {
     "data": {
      "text/plain": "      Bundesland  Bildung  Altersgr  ErwerbStatus  GeimpftGenesen    Anz\n1323           9        2      39.5             0               0   2787\n61             1        3      59.5             0               3   2165\n1171           8        2      49.5             1               0    746\n888            6        1      49.5             1               3   7375\n364            3        3      59.5             1               0  10028",
      "text/html": "<div>\n<style scoped>\n    .dataframe tbody tr th:only-of-type {\n        vertical-align: middle;\n    }\n\n    .dataframe tbody tr th {\n        vertical-align: top;\n    }\n\n    .dataframe thead th {\n        text-align: right;\n    }\n</style>\n<table border=\"1\" class=\"dataframe\">\n  <thead>\n    <tr style=\"text-align: right;\">\n      <th></th>\n      <th>Bundesland</th>\n      <th>Bildung</th>\n      <th>Altersgr</th>\n      <th>ErwerbStatus</th>\n      <th>GeimpftGenesen</th>\n      <th>Anz</th>\n    </tr>\n  </thead>\n  <tbody>\n    <tr>\n      <th>1323</th>\n      <td>9</td>\n      <td>2</td>\n      <td>39.5</td>\n      <td>0</td>\n      <td>0</td>\n      <td>2787</td>\n    </tr>\n    <tr>\n      <th>61</th>\n      <td>1</td>\n      <td>3</td>\n      <td>59.5</td>\n      <td>0</td>\n      <td>3</td>\n      <td>2165</td>\n    </tr>\n    <tr>\n      <th>1171</th>\n      <td>8</td>\n      <td>2</td>\n      <td>49.5</td>\n      <td>1</td>\n      <td>0</td>\n      <td>746</td>\n    </tr>\n    <tr>\n      <th>888</th>\n      <td>6</td>\n      <td>1</td>\n      <td>49.5</td>\n      <td>1</td>\n      <td>3</td>\n      <td>7375</td>\n    </tr>\n    <tr>\n      <th>364</th>\n      <td>3</td>\n      <td>3</td>\n      <td>59.5</td>\n      <td>1</td>\n      <td>0</td>\n      <td>10028</td>\n    </tr>\n  </tbody>\n</table>\n</div>"
     },
     "execution_count": 343,
     "metadata": {},
     "output_type": "execute_result"
    }
   ],
   "source": [
    "\n",
    "bundeslandToNumeric = dict((v, k + 1) for k, v in enumerate(np.sort(korr2[\"Bundesland\"].unique())))\n",
    "erwerbstatusToNumeric = {\"inaktiv\": 0, \"aktiv\": 1}\n",
    "\n",
    "bildungToNumeric = dict((v, k + 1) for k, v in enumerate(np.sort(korr2[\"Bildung\"].unique())))\n",
    "# make sure unknown corresponds to 0 todo: not working\n",
    "limit = bildungToNumeric[\"Unknown\"]\n",
    "bildungToNumeric[\"Unknown\"] = 0\n",
    "for key in bildungToNumeric.keys():\n",
    "    if bildungToNumeric[key] > limit:\n",
    "        bildungToNumeric[key] += 1\n",
    "\n",
    "korr2[\"Altersgr\"] = korr2[\"Altersgr\"].map(altersgrToNumeric)\n",
    "korr2[\"GeimpftGenesen\"] = korr2[\"GeimpftGenesen\"].map(geimpftGenesenToNumeric)\n",
    "korr2[\"Bundesland\"] = korr2[\"Bundesland\"].map(bundeslandToNumeric)\n",
    "korr2[\"ErwerbStatus\"] = korr2[\"ErwerbStatus\"].map(erwerbstatusToNumeric)\n",
    "korr2[\"Bildung\"] = korr2[\"Bildung\"].map(bildungToNumeric)\n",
    "\n",
    "korr2.sample(5)"
   ],
   "metadata": {
    "collapsed": false,
    "ExecuteTime": {
     "end_time": "2024-01-19T20:15:48.336613500Z",
     "start_time": "2024-01-19T20:15:48.227748100Z"
    }
   },
   "execution_count": 343
  },
  {
   "cell_type": "markdown",
   "source": [
    "We need to check again if the values are all numeric:"
   ],
   "metadata": {
    "collapsed": false
   }
  },
  {
   "cell_type": "code",
   "outputs": [
    {
     "name": "stdout",
     "output_type": "stream",
     "text": [
      "<class 'pandas.core.frame.DataFrame'>\n",
      "RangeIndex: 1404 entries, 0 to 1403\n",
      "Data columns (total 6 columns):\n",
      " #   Column          Non-Null Count  Dtype  \n",
      "---  ------          --------------  -----  \n",
      " 0   Bundesland      1404 non-null   int64  \n",
      " 1   Bildung         1404 non-null   int64  \n",
      " 2   Altersgr        1404 non-null   float64\n",
      " 3   ErwerbStatus    1404 non-null   int64  \n",
      " 4   GeimpftGenesen  1404 non-null   int64  \n",
      " 5   Anz             1404 non-null   int64  \n",
      "dtypes: float64(1), int64(5)\n",
      "memory usage: 65.9 KB\n"
     ]
    }
   ],
   "source": [
    "korr2.info()"
   ],
   "metadata": {
    "collapsed": false,
    "ExecuteTime": {
     "end_time": "2024-01-19T20:15:48.375893Z",
     "start_time": "2024-01-19T20:15:48.274980300Z"
    }
   },
   "execution_count": 344
  },
  {
   "cell_type": "markdown",
   "source": [
    "So let's save these numerical values into different csv-files."
   ],
   "metadata": {
    "collapsed": false
   }
  },
  {
   "cell_type": "code",
   "outputs": [],
   "source": [
    "korr1.to_csv(\"./output/num1.csv\", index=False)\n",
    "korr2.to_csv(\"./output/num2.csv\", index=False)"
   ],
   "metadata": {
    "collapsed": false,
    "ExecuteTime": {
     "end_time": "2024-01-19T20:15:48.488932800Z",
     "start_time": "2024-01-19T20:15:48.377892100Z"
    }
   },
   "execution_count": 345
  }
 ]
}
