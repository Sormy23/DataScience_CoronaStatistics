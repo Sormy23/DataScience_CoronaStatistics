{
 "nbformat": 4,
 "nbformat_minor": 0,
 "metadata": {
  "colab": {
   "provenance": [],
   "toc_visible": true,
   "include_colab_link": true
  },
  "kernelspec": {
   "name": "python3",
   "language": "python",
   "display_name": "Python 3 (ipykernel)"
  },
  "language_info": {
   "name": "python"
  }
 },
 "cells": [
  {
   "cell_type": "markdown",
   "source": [
    "# Covid Status\n",
    "This Data Science project by Sven Oberwalder and Yasin Sahin analyzes the development of the corona pandemic based on input data provided by Statistik Austria\n",
    "\n",
    "The Datasets can be found here:\n",
    "### [Dataset 1](https://data.statistik.gv.at/web/meta.jsp?dataset=OGD_covidggstatus2_GGSTATUS_2)\n",
    "\n",
    "### [Dataset 2](https://data.statistik.gv.at/web/meta.jsp?dataset=OGD_covidggstatus_GGSTATUS_1)"
   ],
   "metadata": {
    "id": "M66WWyDhkRqD"
   }
  },
  {
   "cell_type": "code",
   "execution_count": 31,
   "metadata": {
    "id": "5L8DRvCTyJfY",
    "ExecuteTime": {
     "end_time": "2024-01-19T20:50:55.995730600Z",
     "start_time": "2024-01-19T20:50:55.861969800Z"
    }
   },
   "outputs": [],
   "source": [
    "import numpy as np\n",
    "import pandas as pd\n",
    "\n",
    "import matplotlib.pyplot as plt\n",
    "import seaborn as sns"
   ]
  },
  {
   "cell_type": "markdown",
   "source": [
    "# Initial Data Analysis and Import\n",
    "Dataset 1 has following attributes:\n",
    "* **C-BEZIMST-0** Politischer Bezirk (PolBez)\n",
    "* **C-ALTGRIMST-0** 10-years age group (Altersgr)\n",
    "* **C-GLIMST-0** Country of Birth (GebLand)\n",
    "* **C-C11-0** Sex (Geschl)\n",
    "* **C-IMST-0** COVID-19 vaccinated-recovered-status (GeimpftGenesen)\n",
    "* **F-DATA** Number of records (Anz)\n",
    "\n",
    "Dataset 2 has following attributes:\n",
    "* **C-B00-0** Federal country (Bundesland)\n",
    "* **C-BILIMST-0** Education (Bildung)\n",
    "* **C-ALTGRIMST-0** 10-years age group (Altersgr)\n",
    "* **C-ESIMST-0** Economic status (ErwerbStatus)\n",
    "* **C-IMST-0** COVID-19 vaccinated-recovered-status (GeimpftGenesen)\n",
    "* **F-DATA** Number of records (Anz)\n",
    "\n",
    "In below code, the datasets need to be imported and the attributes must be renamed to more meaningful names. Since the data is separated by semi-colons (;), we need to specify that when importing the csv-files. Furthermore, a simple Std-Analysis has to be conducted, to ensure the progress."
   ],
   "metadata": {
    "collapsed": false
   }
  },
  {
   "cell_type": "code",
   "outputs": [],
   "source": [
    "#import databases\n",
    "dataset1 = pd.read_csv(\"./data/dataset1.csv\", sep=\";\")\n",
    "dataset2 = pd.read_csv(\"./data/dataset2.csv\", sep=\";\")\n",
    "\n",
    "#rename attributes\n",
    "dataset1.rename(columns={\"C-BEZIMST-0\": \"PolBez\",\n",
    "                         \"C-ALTGRIMST-0\": \"Altersgr\",\n",
    "                         \"C-GLIMST-0\": \"GebLand\",\n",
    "                         \"C-C11-0\": \"Geschl\",\n",
    "                         \"C-IMST-0\": \"GeimpftGenesen\",\n",
    "                         \"F-DATA\": \"Anz\"}, inplace=True)\n",
    "dataset2.rename(columns={\"C-B00-0\": \"Bundesland\",\n",
    "                         \"C-BILIMST-0\": \"Bildung\",\n",
    "                         \"C-ALTGRIMST-0\": \"Altersgr\",\n",
    "                         \"C-ESIMST-0\": \"ErwerbStatus\",\n",
    "                         \"C-IMST-0\": \"GeimpftGenesen\",\n",
    "                         \"F-DATA\": \"Anz\"}, inplace=True)\n"
   ],
   "metadata": {
    "collapsed": false,
    "ExecuteTime": {
     "end_time": "2024-01-19T20:50:56.070255300Z",
     "start_time": "2024-01-19T20:50:55.999731100Z"
    }
   },
   "execution_count": 32
  },
  {
   "cell_type": "markdown",
   "source": [
    "## Std-Analysis for Dataset 1"
   ],
   "metadata": {
    "collapsed": false
   }
  },
  {
   "cell_type": "code",
   "outputs": [
    {
     "data": {
      "text/plain": "            PolBez      Altersgr   GebLand Geschl GeimpftGenesen  Anz\n27278  BEZIMST-504   ALTGRIMST-1  GLIMST-2  C11-1         IMST-3    2\n27878  BEZIMST-505  ALTGRIMST-12  GLIMST-1  C11-2         IMST-1  422\n2089   BEZIMST-106   ALT10IMST-7  GLIMST-2  C11-1         IMST-2   42\n22903  BEZIMST-411  ALT10IMST-10  GLIMST-2  C11-2         IMST-4    4\n36184  BEZIMST-705  ALTGRIMST-18  GLIMST-2  C11-2         IMST-1  186",
      "text/html": "<div>\n<style scoped>\n    .dataframe tbody tr th:only-of-type {\n        vertical-align: middle;\n    }\n\n    .dataframe tbody tr th {\n        vertical-align: top;\n    }\n\n    .dataframe thead th {\n        text-align: right;\n    }\n</style>\n<table border=\"1\" class=\"dataframe\">\n  <thead>\n    <tr style=\"text-align: right;\">\n      <th></th>\n      <th>PolBez</th>\n      <th>Altersgr</th>\n      <th>GebLand</th>\n      <th>Geschl</th>\n      <th>GeimpftGenesen</th>\n      <th>Anz</th>\n    </tr>\n  </thead>\n  <tbody>\n    <tr>\n      <th>27278</th>\n      <td>BEZIMST-504</td>\n      <td>ALTGRIMST-1</td>\n      <td>GLIMST-2</td>\n      <td>C11-1</td>\n      <td>IMST-3</td>\n      <td>2</td>\n    </tr>\n    <tr>\n      <th>27878</th>\n      <td>BEZIMST-505</td>\n      <td>ALTGRIMST-12</td>\n      <td>GLIMST-1</td>\n      <td>C11-2</td>\n      <td>IMST-1</td>\n      <td>422</td>\n    </tr>\n    <tr>\n      <th>2089</th>\n      <td>BEZIMST-106</td>\n      <td>ALT10IMST-7</td>\n      <td>GLIMST-2</td>\n      <td>C11-1</td>\n      <td>IMST-2</td>\n      <td>42</td>\n    </tr>\n    <tr>\n      <th>22903</th>\n      <td>BEZIMST-411</td>\n      <td>ALT10IMST-10</td>\n      <td>GLIMST-2</td>\n      <td>C11-2</td>\n      <td>IMST-4</td>\n      <td>4</td>\n    </tr>\n    <tr>\n      <th>36184</th>\n      <td>BEZIMST-705</td>\n      <td>ALTGRIMST-18</td>\n      <td>GLIMST-2</td>\n      <td>C11-2</td>\n      <td>IMST-1</td>\n      <td>186</td>\n    </tr>\n  </tbody>\n</table>\n</div>"
     },
     "execution_count": 33,
     "metadata": {},
     "output_type": "execute_result"
    }
   ],
   "source": [
    "dataset1.sample(5)"
   ],
   "metadata": {
    "collapsed": false,
    "ExecuteTime": {
     "end_time": "2024-01-19T20:50:56.071270300Z",
     "start_time": "2024-01-19T20:50:56.034817700Z"
    }
   },
   "execution_count": 33
  },
  {
   "cell_type": "markdown",
   "source": [
    "We immediately recognize that all values have a certain code (Except for Anz)"
   ],
   "metadata": {
    "collapsed": false
   }
  },
  {
   "cell_type": "code",
   "outputs": [
    {
     "data": {
      "text/plain": "        PolBez     Altersgr   GebLand Geschl GeimpftGenesen  Anz\n0  BEZIMST-101  ALTGRIMST-1  GLIMST-1  C11-1         IMST-1    1\n1  BEZIMST-101  ALTGRIMST-1  GLIMST-1  C11-1         IMST-3   80\n2  BEZIMST-101  ALTGRIMST-1  GLIMST-1  C11-1         IMST-4  216\n3  BEZIMST-101  ALTGRIMST-1  GLIMST-1  C11-2         IMST-1    2\n4  BEZIMST-101  ALTGRIMST-1  GLIMST-1  C11-2         IMST-3   86",
      "text/html": "<div>\n<style scoped>\n    .dataframe tbody tr th:only-of-type {\n        vertical-align: middle;\n    }\n\n    .dataframe tbody tr th {\n        vertical-align: top;\n    }\n\n    .dataframe thead th {\n        text-align: right;\n    }\n</style>\n<table border=\"1\" class=\"dataframe\">\n  <thead>\n    <tr style=\"text-align: right;\">\n      <th></th>\n      <th>PolBez</th>\n      <th>Altersgr</th>\n      <th>GebLand</th>\n      <th>Geschl</th>\n      <th>GeimpftGenesen</th>\n      <th>Anz</th>\n    </tr>\n  </thead>\n  <tbody>\n    <tr>\n      <th>0</th>\n      <td>BEZIMST-101</td>\n      <td>ALTGRIMST-1</td>\n      <td>GLIMST-1</td>\n      <td>C11-1</td>\n      <td>IMST-1</td>\n      <td>1</td>\n    </tr>\n    <tr>\n      <th>1</th>\n      <td>BEZIMST-101</td>\n      <td>ALTGRIMST-1</td>\n      <td>GLIMST-1</td>\n      <td>C11-1</td>\n      <td>IMST-3</td>\n      <td>80</td>\n    </tr>\n    <tr>\n      <th>2</th>\n      <td>BEZIMST-101</td>\n      <td>ALTGRIMST-1</td>\n      <td>GLIMST-1</td>\n      <td>C11-1</td>\n      <td>IMST-4</td>\n      <td>216</td>\n    </tr>\n    <tr>\n      <th>3</th>\n      <td>BEZIMST-101</td>\n      <td>ALTGRIMST-1</td>\n      <td>GLIMST-1</td>\n      <td>C11-2</td>\n      <td>IMST-1</td>\n      <td>2</td>\n    </tr>\n    <tr>\n      <th>4</th>\n      <td>BEZIMST-101</td>\n      <td>ALTGRIMST-1</td>\n      <td>GLIMST-1</td>\n      <td>C11-2</td>\n      <td>IMST-3</td>\n      <td>86</td>\n    </tr>\n  </tbody>\n</table>\n</div>"
     },
     "execution_count": 34,
     "metadata": {},
     "output_type": "execute_result"
    }
   ],
   "source": [
    "dataset1.head(5)"
   ],
   "metadata": {
    "collapsed": false,
    "ExecuteTime": {
     "end_time": "2024-01-19T20:50:56.072296500Z",
     "start_time": "2024-01-19T20:50:56.047893700Z"
    }
   },
   "execution_count": 34
  },
  {
   "cell_type": "code",
   "outputs": [
    {
     "name": "stdout",
     "output_type": "stream",
     "text": [
      "<class 'pandas.core.frame.DataFrame'>\n",
      "RangeIndex: 53961 entries, 0 to 53960\n",
      "Data columns (total 6 columns):\n",
      " #   Column          Non-Null Count  Dtype \n",
      "---  ------          --------------  ----- \n",
      " 0   PolBez          53961 non-null  object\n",
      " 1   Altersgr        53961 non-null  object\n",
      " 2   GebLand         53961 non-null  object\n",
      " 3   Geschl          53961 non-null  object\n",
      " 4   GeimpftGenesen  53961 non-null  object\n",
      " 5   Anz             53961 non-null  int64 \n",
      "dtypes: int64(1), object(5)\n",
      "memory usage: 2.5+ MB\n"
     ]
    }
   ],
   "source": [
    "dataset1.info()"
   ],
   "metadata": {
    "collapsed": false,
    "ExecuteTime": {
     "end_time": "2024-01-19T20:50:56.109981600Z",
     "start_time": "2024-01-19T20:50:56.050918200Z"
    }
   },
   "execution_count": 35
  },
  {
   "cell_type": "markdown",
   "source": [
    "There are no null-values for this dataset, which is positive for future analysis."
   ],
   "metadata": {
    "collapsed": false
   }
  },
  {
   "cell_type": "code",
   "outputs": [
    {
     "data": {
      "text/plain": "                Anz\ncount  53961.000000\nmean     642.049703\nstd     2171.148389\nmin        1.000000\n25%       44.000000\n50%      169.000000\n75%      508.000000\nmax    70338.000000",
      "text/html": "<div>\n<style scoped>\n    .dataframe tbody tr th:only-of-type {\n        vertical-align: middle;\n    }\n\n    .dataframe tbody tr th {\n        vertical-align: top;\n    }\n\n    .dataframe thead th {\n        text-align: right;\n    }\n</style>\n<table border=\"1\" class=\"dataframe\">\n  <thead>\n    <tr style=\"text-align: right;\">\n      <th></th>\n      <th>Anz</th>\n    </tr>\n  </thead>\n  <tbody>\n    <tr>\n      <th>count</th>\n      <td>53961.000000</td>\n    </tr>\n    <tr>\n      <th>mean</th>\n      <td>642.049703</td>\n    </tr>\n    <tr>\n      <th>std</th>\n      <td>2171.148389</td>\n    </tr>\n    <tr>\n      <th>min</th>\n      <td>1.000000</td>\n    </tr>\n    <tr>\n      <th>25%</th>\n      <td>44.000000</td>\n    </tr>\n    <tr>\n      <th>50%</th>\n      <td>169.000000</td>\n    </tr>\n    <tr>\n      <th>75%</th>\n      <td>508.000000</td>\n    </tr>\n    <tr>\n      <th>max</th>\n      <td>70338.000000</td>\n    </tr>\n  </tbody>\n</table>\n</div>"
     },
     "execution_count": 36,
     "metadata": {},
     "output_type": "execute_result"
    }
   ],
   "source": [
    "dataset1.describe()"
   ],
   "metadata": {
    "collapsed": false,
    "ExecuteTime": {
     "end_time": "2024-01-19T20:50:56.136955900Z",
     "start_time": "2024-01-19T20:50:56.074291400Z"
    }
   },
   "execution_count": 36
  },
  {
   "cell_type": "markdown",
   "source": [
    "## Std-Analysis for Dataset 2"
   ],
   "metadata": {
    "collapsed": false
   }
  },
  {
   "cell_type": "code",
   "outputs": [
    {
     "data": {
      "text/plain": "     Bundesland     Bildung     Altersgr ErwerbStatus GeimpftGenesen   Anz\n478       B00-4   BILIMST-1  ALT10IMST-6     ESIMST-1         IMST-2  3994\n749       B00-5  BILIMST-99  ALT10IMST-4     ESIMST-2         IMST-1    11\n372       B00-3   BILIMST-3  ALT10IMST-4     ESIMST-1         IMST-4  3955\n1128      B00-8   BILIMST-2  ALT10IMST-5     ESIMST-1         IMST-1  7834\n1376      B00-9  BILIMST-99  ALT10IMST-4     ESIMST-2         IMST-1    73",
      "text/html": "<div>\n<style scoped>\n    .dataframe tbody tr th:only-of-type {\n        vertical-align: middle;\n    }\n\n    .dataframe tbody tr th {\n        vertical-align: top;\n    }\n\n    .dataframe thead th {\n        text-align: right;\n    }\n</style>\n<table border=\"1\" class=\"dataframe\">\n  <thead>\n    <tr style=\"text-align: right;\">\n      <th></th>\n      <th>Bundesland</th>\n      <th>Bildung</th>\n      <th>Altersgr</th>\n      <th>ErwerbStatus</th>\n      <th>GeimpftGenesen</th>\n      <th>Anz</th>\n    </tr>\n  </thead>\n  <tbody>\n    <tr>\n      <th>478</th>\n      <td>B00-4</td>\n      <td>BILIMST-1</td>\n      <td>ALT10IMST-6</td>\n      <td>ESIMST-1</td>\n      <td>IMST-2</td>\n      <td>3994</td>\n    </tr>\n    <tr>\n      <th>749</th>\n      <td>B00-5</td>\n      <td>BILIMST-99</td>\n      <td>ALT10IMST-4</td>\n      <td>ESIMST-2</td>\n      <td>IMST-1</td>\n      <td>11</td>\n    </tr>\n    <tr>\n      <th>372</th>\n      <td>B00-3</td>\n      <td>BILIMST-3</td>\n      <td>ALT10IMST-4</td>\n      <td>ESIMST-1</td>\n      <td>IMST-4</td>\n      <td>3955</td>\n    </tr>\n    <tr>\n      <th>1128</th>\n      <td>B00-8</td>\n      <td>BILIMST-2</td>\n      <td>ALT10IMST-5</td>\n      <td>ESIMST-1</td>\n      <td>IMST-1</td>\n      <td>7834</td>\n    </tr>\n    <tr>\n      <th>1376</th>\n      <td>B00-9</td>\n      <td>BILIMST-99</td>\n      <td>ALT10IMST-4</td>\n      <td>ESIMST-2</td>\n      <td>IMST-1</td>\n      <td>73</td>\n    </tr>\n  </tbody>\n</table>\n</div>"
     },
     "execution_count": 37,
     "metadata": {},
     "output_type": "execute_result"
    }
   ],
   "source": [
    "dataset2.sample(5)"
   ],
   "metadata": {
    "collapsed": false,
    "ExecuteTime": {
     "end_time": "2024-01-19T20:50:56.267758200Z",
     "start_time": "2024-01-19T20:50:56.137917500Z"
    }
   },
   "execution_count": 37
  },
  {
   "cell_type": "markdown",
   "source": [
    "Same here: Every value is its own code and needs to be converted, to understand the dataset better."
   ],
   "metadata": {
    "collapsed": false
   }
  },
  {
   "cell_type": "code",
   "outputs": [
    {
     "data": {
      "text/plain": "  Bundesland    Bildung     Altersgr ErwerbStatus GeimpftGenesen  Anz\n0      B00-1  BILIMST-1  ALT10IMST-4     ESIMST-1         IMST-1  611\n1      B00-1  BILIMST-1  ALT10IMST-4     ESIMST-1         IMST-2  285\n2      B00-1  BILIMST-1  ALT10IMST-4     ESIMST-1         IMST-3  396\n3      B00-1  BILIMST-1  ALT10IMST-4     ESIMST-1         IMST-4  472\n4      B00-1  BILIMST-1  ALT10IMST-4     ESIMST-2         IMST-1  471",
      "text/html": "<div>\n<style scoped>\n    .dataframe tbody tr th:only-of-type {\n        vertical-align: middle;\n    }\n\n    .dataframe tbody tr th {\n        vertical-align: top;\n    }\n\n    .dataframe thead th {\n        text-align: right;\n    }\n</style>\n<table border=\"1\" class=\"dataframe\">\n  <thead>\n    <tr style=\"text-align: right;\">\n      <th></th>\n      <th>Bundesland</th>\n      <th>Bildung</th>\n      <th>Altersgr</th>\n      <th>ErwerbStatus</th>\n      <th>GeimpftGenesen</th>\n      <th>Anz</th>\n    </tr>\n  </thead>\n  <tbody>\n    <tr>\n      <th>0</th>\n      <td>B00-1</td>\n      <td>BILIMST-1</td>\n      <td>ALT10IMST-4</td>\n      <td>ESIMST-1</td>\n      <td>IMST-1</td>\n      <td>611</td>\n    </tr>\n    <tr>\n      <th>1</th>\n      <td>B00-1</td>\n      <td>BILIMST-1</td>\n      <td>ALT10IMST-4</td>\n      <td>ESIMST-1</td>\n      <td>IMST-2</td>\n      <td>285</td>\n    </tr>\n    <tr>\n      <th>2</th>\n      <td>B00-1</td>\n      <td>BILIMST-1</td>\n      <td>ALT10IMST-4</td>\n      <td>ESIMST-1</td>\n      <td>IMST-3</td>\n      <td>396</td>\n    </tr>\n    <tr>\n      <th>3</th>\n      <td>B00-1</td>\n      <td>BILIMST-1</td>\n      <td>ALT10IMST-4</td>\n      <td>ESIMST-1</td>\n      <td>IMST-4</td>\n      <td>472</td>\n    </tr>\n    <tr>\n      <th>4</th>\n      <td>B00-1</td>\n      <td>BILIMST-1</td>\n      <td>ALT10IMST-4</td>\n      <td>ESIMST-2</td>\n      <td>IMST-1</td>\n      <td>471</td>\n    </tr>\n  </tbody>\n</table>\n</div>"
     },
     "execution_count": 38,
     "metadata": {},
     "output_type": "execute_result"
    }
   ],
   "source": [
    "dataset2.head(5)"
   ],
   "metadata": {
    "collapsed": false,
    "ExecuteTime": {
     "end_time": "2024-01-19T20:50:56.325540900Z",
     "start_time": "2024-01-19T20:50:56.245067600Z"
    }
   },
   "execution_count": 38
  },
  {
   "cell_type": "code",
   "outputs": [
    {
     "name": "stdout",
     "output_type": "stream",
     "text": [
      "<class 'pandas.core.frame.DataFrame'>\n",
      "RangeIndex: 1404 entries, 0 to 1403\n",
      "Data columns (total 6 columns):\n",
      " #   Column          Non-Null Count  Dtype \n",
      "---  ------          --------------  ----- \n",
      " 0   Bundesland      1404 non-null   object\n",
      " 1   Bildung         1404 non-null   object\n",
      " 2   Altersgr        1404 non-null   object\n",
      " 3   ErwerbStatus    1404 non-null   object\n",
      " 4   GeimpftGenesen  1404 non-null   object\n",
      " 5   Anz             1404 non-null   int64 \n",
      "dtypes: int64(1), object(5)\n",
      "memory usage: 65.9+ KB\n"
     ]
    }
   ],
   "source": [
    "dataset2.info()"
   ],
   "metadata": {
    "collapsed": false,
    "ExecuteTime": {
     "end_time": "2024-01-19T20:50:56.440676200Z",
     "start_time": "2024-01-19T20:50:56.328535300Z"
    }
   },
   "execution_count": 39
  },
  {
   "cell_type": "markdown",
   "source": [
    "No null-values in this dataset too."
   ],
   "metadata": {
    "collapsed": false
   }
  },
  {
   "cell_type": "code",
   "outputs": [
    {
     "data": {
      "text/plain": "                Anz\ncount   1404.000000\nmean    3414.423789\nstd     5746.310880\nmin        1.000000\n25%      310.500000\n50%     1375.500000\n75%     3926.000000\nmax    55581.000000",
      "text/html": "<div>\n<style scoped>\n    .dataframe tbody tr th:only-of-type {\n        vertical-align: middle;\n    }\n\n    .dataframe tbody tr th {\n        vertical-align: top;\n    }\n\n    .dataframe thead th {\n        text-align: right;\n    }\n</style>\n<table border=\"1\" class=\"dataframe\">\n  <thead>\n    <tr style=\"text-align: right;\">\n      <th></th>\n      <th>Anz</th>\n    </tr>\n  </thead>\n  <tbody>\n    <tr>\n      <th>count</th>\n      <td>1404.000000</td>\n    </tr>\n    <tr>\n      <th>mean</th>\n      <td>3414.423789</td>\n    </tr>\n    <tr>\n      <th>std</th>\n      <td>5746.310880</td>\n    </tr>\n    <tr>\n      <th>min</th>\n      <td>1.000000</td>\n    </tr>\n    <tr>\n      <th>25%</th>\n      <td>310.500000</td>\n    </tr>\n    <tr>\n      <th>50%</th>\n      <td>1375.500000</td>\n    </tr>\n    <tr>\n      <th>75%</th>\n      <td>3926.000000</td>\n    </tr>\n    <tr>\n      <th>max</th>\n      <td>55581.000000</td>\n    </tr>\n  </tbody>\n</table>\n</div>"
     },
     "execution_count": 40,
     "metadata": {},
     "output_type": "execute_result"
    }
   ],
   "source": [
    "dataset2.describe()"
   ],
   "metadata": {
    "collapsed": false,
    "ExecuteTime": {
     "end_time": "2024-01-19T20:50:56.558221300Z",
     "start_time": "2024-01-19T20:50:56.419967400Z"
    }
   },
   "execution_count": 40
  },
  {
   "cell_type": "markdown",
   "source": [
    "# Data Cleaning\n",
    "In this section, the input data will be cleaned. For this manner, any wrong, missing, or irrelevant informations will be treated accordingly.\n",
    "\n",
    "**To Be marked**\n",
    "The Column ``Altersgr`` uses an age gap interval of 10 years to inform us about the age of the adresses person. However, the first interval currently named ``ALT10IMST-1`` only has a 5 year gap (from 0 - 4 years) to especially adress babys and small children"
   ],
   "metadata": {
    "collapsed": false
   }
  },
  {
   "cell_type": "markdown",
   "source": [
    "### Dataset 1"
   ],
   "metadata": {
    "collapsed": false
   }
  },
  {
   "cell_type": "markdown",
   "source": [
    "There is already a csv which helps us convert these codes into values we can understand. The reason we do not import these values from the csv directly, is that the values are too long. We hereby keep the values steady and simple.\n",
    "* ``GeimpftGenesen`` is converted into more meaningful names\n",
    "* For ``Altersgr`` we type in the exact age group\n",
    "* For ``GebLand``: ``GLIMST-1`` stands for people born in Austria, and ``GLIMST-1`` for people born outside of Austria\n",
    "* ``Geschl`` is also being converted into m (male) and f (female)"
   ],
   "metadata": {
    "collapsed": false
   }
  },
  {
   "cell_type": "code",
   "outputs": [
    {
     "data": {
      "text/plain": "            PolBez Altersgr  GebLand Geschl GeimpftGenesen   Anz\n33980  BEZIMST-623      NaN   INLAND      m         NICHTS    93\n22095  BEZIMST-410      NaN   INLAND      m            GEN   688\n6896   BEZIMST-209      NaN  AUSLAND      f         NICHTS     5\n35010  BEZIMST-702  75 - 84   INLAND      f         NICHTS   177\n11750  BEZIMST-310      NaN  AUSLAND      f            GEN    39\n21637  BEZIMST-409      NaN  AUSLAND      m            GEN    49\n50830        B00-2  65 - 74  AUSLAND      f         NICHTS   878\n21137  BEZIMST-407  65 - 74   INLAND      f         NICHTS   621\n51177        B00-3   5 - 14  AUSLAND      f           IMPF   584\n50965        B00-3      NaN   INLAND      f         NICHTS  5349",
      "text/html": "<div>\n<style scoped>\n    .dataframe tbody tr th:only-of-type {\n        vertical-align: middle;\n    }\n\n    .dataframe tbody tr th {\n        vertical-align: top;\n    }\n\n    .dataframe thead th {\n        text-align: right;\n    }\n</style>\n<table border=\"1\" class=\"dataframe\">\n  <thead>\n    <tr style=\"text-align: right;\">\n      <th></th>\n      <th>PolBez</th>\n      <th>Altersgr</th>\n      <th>GebLand</th>\n      <th>Geschl</th>\n      <th>GeimpftGenesen</th>\n      <th>Anz</th>\n    </tr>\n  </thead>\n  <tbody>\n    <tr>\n      <th>33980</th>\n      <td>BEZIMST-623</td>\n      <td>NaN</td>\n      <td>INLAND</td>\n      <td>m</td>\n      <td>NICHTS</td>\n      <td>93</td>\n    </tr>\n    <tr>\n      <th>22095</th>\n      <td>BEZIMST-410</td>\n      <td>NaN</td>\n      <td>INLAND</td>\n      <td>m</td>\n      <td>GEN</td>\n      <td>688</td>\n    </tr>\n    <tr>\n      <th>6896</th>\n      <td>BEZIMST-209</td>\n      <td>NaN</td>\n      <td>AUSLAND</td>\n      <td>f</td>\n      <td>NICHTS</td>\n      <td>5</td>\n    </tr>\n    <tr>\n      <th>35010</th>\n      <td>BEZIMST-702</td>\n      <td>75 - 84</td>\n      <td>INLAND</td>\n      <td>f</td>\n      <td>NICHTS</td>\n      <td>177</td>\n    </tr>\n    <tr>\n      <th>11750</th>\n      <td>BEZIMST-310</td>\n      <td>NaN</td>\n      <td>AUSLAND</td>\n      <td>f</td>\n      <td>GEN</td>\n      <td>39</td>\n    </tr>\n    <tr>\n      <th>21637</th>\n      <td>BEZIMST-409</td>\n      <td>NaN</td>\n      <td>AUSLAND</td>\n      <td>m</td>\n      <td>GEN</td>\n      <td>49</td>\n    </tr>\n    <tr>\n      <th>50830</th>\n      <td>B00-2</td>\n      <td>65 - 74</td>\n      <td>AUSLAND</td>\n      <td>f</td>\n      <td>NICHTS</td>\n      <td>878</td>\n    </tr>\n    <tr>\n      <th>21137</th>\n      <td>BEZIMST-407</td>\n      <td>65 - 74</td>\n      <td>INLAND</td>\n      <td>f</td>\n      <td>NICHTS</td>\n      <td>621</td>\n    </tr>\n    <tr>\n      <th>51177</th>\n      <td>B00-3</td>\n      <td>5 - 14</td>\n      <td>AUSLAND</td>\n      <td>f</td>\n      <td>IMPF</td>\n      <td>584</td>\n    </tr>\n    <tr>\n      <th>50965</th>\n      <td>B00-3</td>\n      <td>NaN</td>\n      <td>INLAND</td>\n      <td>f</td>\n      <td>NICHTS</td>\n      <td>5349</td>\n    </tr>\n  </tbody>\n</table>\n</div>"
     },
     "execution_count": 41,
     "metadata": {},
     "output_type": "execute_result"
    }
   ],
   "source": [
    "geimpftGenesenDict = {\"IMST-4\": \"NICHTS\",  #nothing (NICHTS)\n",
    "                       \"IMST-1\": \"IMPF\",  #vaccinated (geIMPFt)\n",
    "                       \"IMST-3\": \"GEN\",  #recovered (GENesen)\n",
    "                       \"IMST-2\": \"IMPF + GEN\"} #vaccinated + recovered (geIMPFt und GENesen)\n",
    "\n",
    "ageGapDict = {\"ALT10IMST-1\": \"0 - 4\",\n",
    "              \"ALT10IMST-2\": \"5 - 14\",\n",
    "              \"ALT10IMST-3\": \"15 - 24\",\n",
    "              \"ALT10IMST-4\": \"25 - 34\",\n",
    "              \"ALT10IMST-5\": \"35 - 44\",\n",
    "              \"ALT10IMST-6\": \"45 - 54\",\n",
    "              \"ALT10IMST-7\": \"55 - 64\",\n",
    "              \"ALT10IMST-8\": \"65 - 74\",\n",
    "              \"ALT10IMST-9\": \"75 - 84\",\n",
    "              \"ALT10IMST-10\": \"85+\"}\n",
    "\n",
    "dataset1[\"GebLand\"] = dataset1[\"GebLand\"].map({\"GLIMST-1\": \"INLAND\",\n",
    "                                               \"GLIMST-2\": \"AUSLAND\"})\n",
    "\n",
    "dataset1[\"Geschl\"] = dataset1[\"Geschl\"].map({\"C11-1\": \"m\",\n",
    "                                             \"C11-2\": \"f\"})\n",
    "\n",
    "dataset1[\"GeimpftGenesen\"] = dataset1[\"GeimpftGenesen\"].map(geimpftGenesenDict)\n",
    "\n",
    "dataset1[\"Altersgr\"] = dataset1[\"Altersgr\"].map(ageGapDict)\n",
    "\n",
    "dataset1.sample(10)"
   ],
   "metadata": {
    "collapsed": false,
    "ExecuteTime": {
     "end_time": "2024-01-19T20:50:56.661576700Z",
     "start_time": "2024-01-19T20:50:56.538460200Z"
    }
   },
   "execution_count": 41
  },
  {
   "cell_type": "markdown",
   "source": [
    "### Dataset 2"
   ],
   "metadata": {
    "collapsed": false
   }
  },
  {
   "cell_type": "code",
   "outputs": [
    {
     "data": {
      "text/plain": "          Bundesland              Bildung Altersgr ErwerbStatus  \\\n105       Burgenland  Akademie/Hochschule  35 - 44        aktiv   \n920       Steiermark              Unknown  45 - 54        aktiv   \n770         Salzburg              Unknown  55 - 64        aktiv   \n299          Kärnten              Unknown  45 - 54      inaktiv   \n270          Kärnten  Akademie/Hochschule  55 - 64        aktiv   \n1333            Wien       BHS/AHS/Kolleg  55 - 64        aktiv   \n157          Kärnten        Pflichtschule  25 - 34      inaktiv   \n539   Oberösterreich       BHS/AHS/Kolleg  35 - 44      inaktiv   \n1119      Vorarlberg        Pflichtschule  55 - 64      inaktiv   \n102       Burgenland  Akademie/Hochschule  25 - 34      inaktiv   \n\n     GeimpftGenesen   Anz  \n105      IMPF + GEN  2336  \n920      IMPF + GEN     1  \n770          NICHTS     1  \n299          NICHTS     1  \n270            IMPF  5190  \n1333     IMPF + GEN  6723  \n157          NICHTS  1364  \n539             GEN   851  \n1119         NICHTS  1463  \n102             GEN   170  ",
      "text/html": "<div>\n<style scoped>\n    .dataframe tbody tr th:only-of-type {\n        vertical-align: middle;\n    }\n\n    .dataframe tbody tr th {\n        vertical-align: top;\n    }\n\n    .dataframe thead th {\n        text-align: right;\n    }\n</style>\n<table border=\"1\" class=\"dataframe\">\n  <thead>\n    <tr style=\"text-align: right;\">\n      <th></th>\n      <th>Bundesland</th>\n      <th>Bildung</th>\n      <th>Altersgr</th>\n      <th>ErwerbStatus</th>\n      <th>GeimpftGenesen</th>\n      <th>Anz</th>\n    </tr>\n  </thead>\n  <tbody>\n    <tr>\n      <th>105</th>\n      <td>Burgenland</td>\n      <td>Akademie/Hochschule</td>\n      <td>35 - 44</td>\n      <td>aktiv</td>\n      <td>IMPF + GEN</td>\n      <td>2336</td>\n    </tr>\n    <tr>\n      <th>920</th>\n      <td>Steiermark</td>\n      <td>Unknown</td>\n      <td>45 - 54</td>\n      <td>aktiv</td>\n      <td>IMPF + GEN</td>\n      <td>1</td>\n    </tr>\n    <tr>\n      <th>770</th>\n      <td>Salzburg</td>\n      <td>Unknown</td>\n      <td>55 - 64</td>\n      <td>aktiv</td>\n      <td>NICHTS</td>\n      <td>1</td>\n    </tr>\n    <tr>\n      <th>299</th>\n      <td>Kärnten</td>\n      <td>Unknown</td>\n      <td>45 - 54</td>\n      <td>inaktiv</td>\n      <td>NICHTS</td>\n      <td>1</td>\n    </tr>\n    <tr>\n      <th>270</th>\n      <td>Kärnten</td>\n      <td>Akademie/Hochschule</td>\n      <td>55 - 64</td>\n      <td>aktiv</td>\n      <td>IMPF</td>\n      <td>5190</td>\n    </tr>\n    <tr>\n      <th>1333</th>\n      <td>Wien</td>\n      <td>BHS/AHS/Kolleg</td>\n      <td>55 - 64</td>\n      <td>aktiv</td>\n      <td>IMPF + GEN</td>\n      <td>6723</td>\n    </tr>\n    <tr>\n      <th>157</th>\n      <td>Kärnten</td>\n      <td>Pflichtschule</td>\n      <td>25 - 34</td>\n      <td>inaktiv</td>\n      <td>NICHTS</td>\n      <td>1364</td>\n    </tr>\n    <tr>\n      <th>539</th>\n      <td>Oberösterreich</td>\n      <td>BHS/AHS/Kolleg</td>\n      <td>35 - 44</td>\n      <td>inaktiv</td>\n      <td>GEN</td>\n      <td>851</td>\n    </tr>\n    <tr>\n      <th>1119</th>\n      <td>Vorarlberg</td>\n      <td>Pflichtschule</td>\n      <td>55 - 64</td>\n      <td>inaktiv</td>\n      <td>NICHTS</td>\n      <td>1463</td>\n    </tr>\n    <tr>\n      <th>102</th>\n      <td>Burgenland</td>\n      <td>Akademie/Hochschule</td>\n      <td>25 - 34</td>\n      <td>inaktiv</td>\n      <td>GEN</td>\n      <td>170</td>\n    </tr>\n  </tbody>\n</table>\n</div>"
     },
     "execution_count": 42,
     "metadata": {},
     "output_type": "execute_result"
    }
   ],
   "source": [
    "bundeslandDict = {\n",
    "    \"B00-1\": \"Burgenland\",\n",
    "    \"B00-2\": \"Kärnten\",\n",
    "    \"B00-3\": \"Niederösterreich\",\n",
    "    \"B00-4\": \"Oberösterreich\",\n",
    "    \"B00-5\": \"Salzburg\",\n",
    "    \"B00-6\": \"Steiermark\",\n",
    "    \"B00-7\": \"Tirol\",\n",
    "    \"B00-8\": \"Vorarlberg\",\n",
    "    \"B00-9\": \"Wien\"\n",
    "}\n",
    "\n",
    "dataset2[\"Bundesland\"] = dataset2[\"Bundesland\"].map(bundeslandDict)\n",
    "\n",
    "#uses the dictionary geimpftGenesenDict from the previous code block\n",
    "dataset2[\"GeimpftGenesen\"] = dataset2[\"GeimpftGenesen\"].map(geimpftGenesenDict)\n",
    "\n",
    "dataset2[\"Bildung\"] = dataset2[\"Bildung\"].map({\"BILIMST-1\": \"Pflichtschule\",\n",
    "                                               \"BILIMST-2\": \"Lehrabschluss/BMS\",\n",
    "                                               \"BILIMST-3\": \"BHS/AHS/Kolleg\",\n",
    "                                               \"BILIMST-4\": \"Akademie/Hochschule\",\n",
    "                                               \"BILIMST-99\": \"Unknown\"})\n",
    "\n",
    "dataset2[\"ErwerbStatus\"] = dataset2[\"ErwerbStatus\"].map({\"ESIMST-1\": \"aktiv\",\n",
    "                                                         \"ESIMST-2\": \"inaktiv\"})\n",
    "\n",
    "#uses the dictionary ageGapDict from the previous code block\n",
    "dataset2[\"Altersgr\"] = dataset2[\"Altersgr\"].map(ageGapDict)\n",
    "\n",
    "dataset2.sample(10)"
   ],
   "metadata": {
    "collapsed": false,
    "ExecuteTime": {
     "end_time": "2024-01-19T20:50:56.698758900Z",
     "start_time": "2024-01-19T20:50:56.606051Z"
    }
   },
   "execution_count": 42
  },
  {
   "cell_type": "markdown",
   "source": [
    "## Duplicate Data"
   ],
   "metadata": {
    "collapsed": false
   }
  },
  {
   "cell_type": "code",
   "outputs": [
    {
     "data": {
      "text/plain": "34645644"
     },
     "execution_count": 43,
     "metadata": {},
     "output_type": "execute_result"
    }
   ],
   "source": [
    "dataset1[\"Anz\"].sum()"
   ],
   "metadata": {
    "collapsed": false,
    "ExecuteTime": {
     "end_time": "2024-01-19T20:50:56.730757Z",
     "start_time": "2024-01-19T20:50:56.669569800Z"
    }
   },
   "execution_count": 43
  },
  {
   "cell_type": "markdown",
   "source": [
    "In the above code we can see that the sum of records is approximately 4 times the total population of Austria. This strongly suggests that there may be duplicate data. And exactly that is the case: In ``PolBez`` there are records for each province and also for each federal country. This duplicate is not necessary, since one province can easily be assigned to its federal country (e.g. ``BEZIMST-304`` (= Wiener Neustadt) must be in ``B00-3`` (=Niederoesterreich)). So the records for the federal countries can be removed."
   ],
   "metadata": {
    "collapsed": false
   }
  },
  {
   "cell_type": "code",
   "outputs": [
    {
     "data": {
      "text/plain": "17322822"
     },
     "execution_count": 44,
     "metadata": {},
     "output_type": "execute_result"
    }
   ],
   "source": [
    "dataset1 = dataset1.loc[dataset1[\"PolBez\"].map(lambda val: \"BEZIMST\" in val)] #only provinces have the prefix BEZIMST\n",
    "dataset1[\"Anz\"].sum()"
   ],
   "metadata": {
    "collapsed": false,
    "ExecuteTime": {
     "end_time": "2024-01-19T20:50:56.839816800Z",
     "start_time": "2024-01-19T20:50:56.733760400Z"
    }
   },
   "execution_count": 44
  },
  {
   "cell_type": "markdown",
   "source": [
    "The above code still returns an amount which is twice as big as Austria's population. Similarly, the column ``Altersgr`` has duplicate records for different age groups. Previously we mapped `Altersgr` to more readable strings, but left out the duplicate values that will be deleted in the next step. So we can simply drop the N/A records that emerge after mapping the column ``Altersgr``."
   ],
   "metadata": {
    "collapsed": false
   }
  },
  {
   "cell_type": "markdown",
   "source": [],
   "metadata": {
    "collapsed": false
   }
  },
  {
   "cell_type": "code",
   "outputs": [
    {
     "data": {
      "text/plain": "8661411"
     },
     "execution_count": 45,
     "metadata": {},
     "output_type": "execute_result"
    }
   ],
   "source": [
    "dataset1 = dataset1.dropna()\n",
    "dataset1[\"Anz\"].sum()"
   ],
   "metadata": {
    "collapsed": false,
    "ExecuteTime": {
     "end_time": "2024-01-19T20:50:56.900444700Z",
     "start_time": "2024-01-19T20:50:56.815823Z"
    }
   },
   "execution_count": 45
  },
  {
   "cell_type": "markdown",
   "source": [
    "Now we have removed all duplicate values. Let's continue cleaning our data.\n",
    "## Null Values"
   ],
   "metadata": {
    "collapsed": false
   }
  },
  {
   "cell_type": "code",
   "outputs": [
    {
     "data": {
      "text/plain": "PolBez            0\nAltersgr          0\nGebLand           0\nGeschl            0\nGeimpftGenesen    0\nAnz               0\ndtype: int64"
     },
     "execution_count": 46,
     "metadata": {},
     "output_type": "execute_result"
    }
   ],
   "source": [
    "dataset1.isnull().sum()"
   ],
   "metadata": {
    "collapsed": false,
    "ExecuteTime": {
     "end_time": "2024-01-19T20:50:57.015543800Z",
     "start_time": "2024-01-19T20:50:56.904456300Z"
    }
   },
   "execution_count": 46
  },
  {
   "cell_type": "markdown",
   "source": [],
   "metadata": {
    "collapsed": false
   }
  },
  {
   "cell_type": "code",
   "outputs": [
    {
     "data": {
      "text/plain": "Bundesland        0\nBildung           0\nAltersgr          0\nErwerbStatus      0\nGeimpftGenesen    0\nAnz               0\ndtype: int64"
     },
     "execution_count": 47,
     "metadata": {},
     "output_type": "execute_result"
    }
   ],
   "source": [
    "dataset2.isnull().sum()"
   ],
   "metadata": {
    "collapsed": false,
    "ExecuteTime": {
     "end_time": "2024-01-19T20:50:57.087785400Z",
     "start_time": "2024-01-19T20:50:57.016538600Z"
    }
   },
   "execution_count": 47
  },
  {
   "cell_type": "markdown",
   "source": [
    "Since there are no null values, we can continue!"
   ],
   "metadata": {
    "collapsed": false
   }
  },
  {
   "cell_type": "code",
   "outputs": [
    {
     "data": {
      "text/plain": "Bildung\nPflichtschule          288\nLehrabschluss/BMS      288\nBHS/AHS/Kolleg         288\nAkademie/Hochschule    288\nUnknown                252\nName: count, dtype: int64"
     },
     "execution_count": 48,
     "metadata": {},
     "output_type": "execute_result"
    }
   ],
   "source": [
    "dataset2[\"Bildung\"].value_counts()"
   ],
   "metadata": {
    "collapsed": false,
    "ExecuteTime": {
     "end_time": "2024-01-19T20:50:57.099695900Z",
     "start_time": "2024-01-19T20:50:57.092161800Z"
    }
   },
   "execution_count": 48
  },
  {
   "cell_type": "markdown",
   "source": [
    "After this we are done cleaning our data and can save it into two datasets. ``korr1.csv`` for ``dataset1.csv`` and ``korr2.csv`` for ``dataset2.csv``"
   ],
   "metadata": {
    "collapsed": false
   }
  },
  {
   "cell_type": "code",
   "outputs": [],
   "source": [
    "dataset1.to_csv(\"./output/korr1.csv\", sep=\";\", index=False)\n",
    "dataset2.to_csv(\"./output/korr2.csv\", sep=\";\", index=False)"
   ],
   "metadata": {
    "collapsed": false,
    "ExecuteTime": {
     "end_time": "2024-01-19T20:50:57.182483500Z",
     "start_time": "2024-01-19T20:50:57.096743Z"
    }
   },
   "execution_count": 49
  },
  {
   "cell_type": "markdown",
   "source": [
    "Now, lets look at our corrected values..."
   ],
   "metadata": {
    "collapsed": false
   }
  },
  {
   "cell_type": "code",
   "outputs": [
    {
     "data": {
      "text/plain": "        PolBez Altersgr GebLand Geschl GeimpftGenesen  Anz\n0  BEZIMST-101    0 - 4  INLAND      m           IMPF    1\n1  BEZIMST-101    0 - 4  INLAND      m            GEN   80\n2  BEZIMST-101    0 - 4  INLAND      m         NICHTS  216\n3  BEZIMST-101    0 - 4  INLAND      f           IMPF    2\n4  BEZIMST-101    0 - 4  INLAND      f            GEN   86",
      "text/html": "<div>\n<style scoped>\n    .dataframe tbody tr th:only-of-type {\n        vertical-align: middle;\n    }\n\n    .dataframe tbody tr th {\n        vertical-align: top;\n    }\n\n    .dataframe thead th {\n        text-align: right;\n    }\n</style>\n<table border=\"1\" class=\"dataframe\">\n  <thead>\n    <tr style=\"text-align: right;\">\n      <th></th>\n      <th>PolBez</th>\n      <th>Altersgr</th>\n      <th>GebLand</th>\n      <th>Geschl</th>\n      <th>GeimpftGenesen</th>\n      <th>Anz</th>\n    </tr>\n  </thead>\n  <tbody>\n    <tr>\n      <th>0</th>\n      <td>BEZIMST-101</td>\n      <td>0 - 4</td>\n      <td>INLAND</td>\n      <td>m</td>\n      <td>IMPF</td>\n      <td>1</td>\n    </tr>\n    <tr>\n      <th>1</th>\n      <td>BEZIMST-101</td>\n      <td>0 - 4</td>\n      <td>INLAND</td>\n      <td>m</td>\n      <td>GEN</td>\n      <td>80</td>\n    </tr>\n    <tr>\n      <th>2</th>\n      <td>BEZIMST-101</td>\n      <td>0 - 4</td>\n      <td>INLAND</td>\n      <td>m</td>\n      <td>NICHTS</td>\n      <td>216</td>\n    </tr>\n    <tr>\n      <th>3</th>\n      <td>BEZIMST-101</td>\n      <td>0 - 4</td>\n      <td>INLAND</td>\n      <td>f</td>\n      <td>IMPF</td>\n      <td>2</td>\n    </tr>\n    <tr>\n      <th>4</th>\n      <td>BEZIMST-101</td>\n      <td>0 - 4</td>\n      <td>INLAND</td>\n      <td>f</td>\n      <td>GEN</td>\n      <td>86</td>\n    </tr>\n  </tbody>\n</table>\n</div>"
     },
     "execution_count": 50,
     "metadata": {},
     "output_type": "execute_result"
    }
   ],
   "source": [
    "korr1 = pd.read_csv(\"./output/korr1.csv\", sep=\";\")\n",
    "korr2 = pd.read_csv(\"./output/korr2.csv\", sep=\";\")\n",
    "\n",
    "korr1.head(5)"
   ],
   "metadata": {
    "collapsed": false,
    "ExecuteTime": {
     "end_time": "2024-01-19T20:50:57.184474700Z",
     "start_time": "2024-01-19T20:50:57.129960800Z"
    }
   },
   "execution_count": 50
  },
  {
   "cell_type": "code",
   "outputs": [
    {
     "data": {
      "text/plain": "   Bundesland        Bildung Altersgr ErwerbStatus GeimpftGenesen  Anz\n0  Burgenland  Pflichtschule  25 - 34        aktiv           IMPF  611\n1  Burgenland  Pflichtschule  25 - 34        aktiv     IMPF + GEN  285\n2  Burgenland  Pflichtschule  25 - 34        aktiv            GEN  396\n3  Burgenland  Pflichtschule  25 - 34        aktiv         NICHTS  472\n4  Burgenland  Pflichtschule  25 - 34      inaktiv           IMPF  471",
      "text/html": "<div>\n<style scoped>\n    .dataframe tbody tr th:only-of-type {\n        vertical-align: middle;\n    }\n\n    .dataframe tbody tr th {\n        vertical-align: top;\n    }\n\n    .dataframe thead th {\n        text-align: right;\n    }\n</style>\n<table border=\"1\" class=\"dataframe\">\n  <thead>\n    <tr style=\"text-align: right;\">\n      <th></th>\n      <th>Bundesland</th>\n      <th>Bildung</th>\n      <th>Altersgr</th>\n      <th>ErwerbStatus</th>\n      <th>GeimpftGenesen</th>\n      <th>Anz</th>\n    </tr>\n  </thead>\n  <tbody>\n    <tr>\n      <th>0</th>\n      <td>Burgenland</td>\n      <td>Pflichtschule</td>\n      <td>25 - 34</td>\n      <td>aktiv</td>\n      <td>IMPF</td>\n      <td>611</td>\n    </tr>\n    <tr>\n      <th>1</th>\n      <td>Burgenland</td>\n      <td>Pflichtschule</td>\n      <td>25 - 34</td>\n      <td>aktiv</td>\n      <td>IMPF + GEN</td>\n      <td>285</td>\n    </tr>\n    <tr>\n      <th>2</th>\n      <td>Burgenland</td>\n      <td>Pflichtschule</td>\n      <td>25 - 34</td>\n      <td>aktiv</td>\n      <td>GEN</td>\n      <td>396</td>\n    </tr>\n    <tr>\n      <th>3</th>\n      <td>Burgenland</td>\n      <td>Pflichtschule</td>\n      <td>25 - 34</td>\n      <td>aktiv</td>\n      <td>NICHTS</td>\n      <td>472</td>\n    </tr>\n    <tr>\n      <th>4</th>\n      <td>Burgenland</td>\n      <td>Pflichtschule</td>\n      <td>25 - 34</td>\n      <td>inaktiv</td>\n      <td>IMPF</td>\n      <td>471</td>\n    </tr>\n  </tbody>\n</table>\n</div>"
     },
     "execution_count": 51,
     "metadata": {},
     "output_type": "execute_result"
    }
   ],
   "source": [
    "korr2.head(5)"
   ],
   "metadata": {
    "collapsed": false,
    "ExecuteTime": {
     "end_time": "2024-01-19T20:50:57.223662500Z",
     "start_time": "2024-01-19T20:50:57.186438900Z"
    }
   },
   "execution_count": 51
  },
  {
   "cell_type": "markdown",
   "source": [
    "# Data Preparation\n",
    "## Numerical Values\n",
    "### Dataset 1\n",
    "* For ``Polbez`` we take the number in the value code (so ``BEZIMST-340`` will be converted into ``340``)\n",
    "* For ``Altersgr`` we take the mean value from the min and max of the age group (except for 85, it will stay 85 since there is no max)\n",
    "* For ``GebLand`` we take 0 for ``INLAND`` and 1 for ``AUSLAND``\n",
    "* For ``Geschl`` we take 0 for ``m`` and 1 for ``f``\n",
    "* For ``GeimpftGenesen`` we take 0 for ``nothing``, 1 for vaccinated, 2 for recovered, and 3 (1+2) for both vaccinated and recovered\n"
   ],
   "metadata": {
    "collapsed": false
   }
  },
  {
   "cell_type": "code",
   "outputs": [
    {
     "data": {
      "text/plain": "       PolBez  Altersgr  GebLand  Geschl  GeimpftGenesen  Anz\n5482      318      79.5        1       0               1  157\n17184     920      69.5        1       0               0  549\n3874      308      39.5        0       0               2  665\n12356     702      69.5        1       0               2   12\n14665     904      59.5        1       1               2   83",
      "text/html": "<div>\n<style scoped>\n    .dataframe tbody tr th:only-of-type {\n        vertical-align: middle;\n    }\n\n    .dataframe tbody tr th {\n        vertical-align: top;\n    }\n\n    .dataframe thead th {\n        text-align: right;\n    }\n</style>\n<table border=\"1\" class=\"dataframe\">\n  <thead>\n    <tr style=\"text-align: right;\">\n      <th></th>\n      <th>PolBez</th>\n      <th>Altersgr</th>\n      <th>GebLand</th>\n      <th>Geschl</th>\n      <th>GeimpftGenesen</th>\n      <th>Anz</th>\n    </tr>\n  </thead>\n  <tbody>\n    <tr>\n      <th>5482</th>\n      <td>318</td>\n      <td>79.5</td>\n      <td>1</td>\n      <td>0</td>\n      <td>1</td>\n      <td>157</td>\n    </tr>\n    <tr>\n      <th>17184</th>\n      <td>920</td>\n      <td>69.5</td>\n      <td>1</td>\n      <td>0</td>\n      <td>0</td>\n      <td>549</td>\n    </tr>\n    <tr>\n      <th>3874</th>\n      <td>308</td>\n      <td>39.5</td>\n      <td>0</td>\n      <td>0</td>\n      <td>2</td>\n      <td>665</td>\n    </tr>\n    <tr>\n      <th>12356</th>\n      <td>702</td>\n      <td>69.5</td>\n      <td>1</td>\n      <td>0</td>\n      <td>2</td>\n      <td>12</td>\n    </tr>\n    <tr>\n      <th>14665</th>\n      <td>904</td>\n      <td>59.5</td>\n      <td>1</td>\n      <td>1</td>\n      <td>2</td>\n      <td>83</td>\n    </tr>\n  </tbody>\n</table>\n</div>"
     },
     "execution_count": 52,
     "metadata": {},
     "output_type": "execute_result"
    }
   ],
   "source": [
    "altersgrToNumeric = {\"0 - 4\": 2.0,\n",
    "                     \"5 - 14\": 9.5,\n",
    "                     \"15 - 24\": 19.5,\n",
    "                     \"25 - 34\": 29.5,\n",
    "                     \"35 - 44\": 39.5,\n",
    "                     \"45 - 54\": 49.5,\n",
    "                     \"55 - 64\": 59.5,\n",
    "                     \"65 - 74\": 69.5,\n",
    "                     \"75 - 84\": 79.5,\n",
    "                     \"85+\": 85.0}\n",
    "\n",
    "geimpftGenesenToNumeric = {\"NICHTS\": 0,  #nothing\n",
    "                      \"IMPF\": 1,  #vacc\n",
    "                      \"GEN\": 2,  #recov\n",
    "                      \"IMPF + GEN\": 3} #vacc + recov\n",
    "\n",
    "geblandToNumeric = dict((v, k) for k, v in enumerate(korr1[\"GebLand\"].unique()))\n",
    "geschlToNumeric = dict((v, k) for k, v in enumerate(korr1[\"Geschl\"].unique()))\n",
    "\n",
    "korr1[\"PolBez\"] = korr1[\"PolBez\"].map(lambda val: int(val[-3:]))\n",
    "korr1[\"Altersgr\"] = korr1[\"Altersgr\"].map(altersgrToNumeric)\n",
    "korr1[\"GebLand\"] = korr1[\"GebLand\"].map(geblandToNumeric)\n",
    "korr1[\"Geschl\"] = korr1[\"Geschl\"].map(geschlToNumeric)\n",
    "korr1[\"GeimpftGenesen\"] = korr1[\"GeimpftGenesen\"].map(geimpftGenesenToNumeric)\n",
    "\n",
    "korr1.sample(5)\n"
   ],
   "metadata": {
    "collapsed": false,
    "ExecuteTime": {
     "end_time": "2024-01-19T20:50:57.270320100Z",
     "start_time": "2024-01-19T20:50:57.210666300Z"
    }
   },
   "execution_count": 52
  },
  {
   "cell_type": "markdown",
   "source": [
    "Let's look if our values are truly numerical:"
   ],
   "metadata": {
    "collapsed": false
   }
  },
  {
   "cell_type": "code",
   "outputs": [
    {
     "name": "stdout",
     "output_type": "stream",
     "text": [
      "<class 'pandas.core.frame.DataFrame'>\n",
      "RangeIndex: 17694 entries, 0 to 17693\n",
      "Data columns (total 6 columns):\n",
      " #   Column          Non-Null Count  Dtype  \n",
      "---  ------          --------------  -----  \n",
      " 0   PolBez          17694 non-null  int64  \n",
      " 1   Altersgr        17694 non-null  float64\n",
      " 2   GebLand         17694 non-null  int64  \n",
      " 3   Geschl          17694 non-null  int64  \n",
      " 4   GeimpftGenesen  17694 non-null  int64  \n",
      " 5   Anz             17694 non-null  int64  \n",
      "dtypes: float64(1), int64(5)\n",
      "memory usage: 829.5 KB\n"
     ]
    }
   ],
   "source": [
    "korr1.info()"
   ],
   "metadata": {
    "collapsed": false,
    "ExecuteTime": {
     "end_time": "2024-01-19T20:50:57.366221100Z",
     "start_time": "2024-01-19T20:50:57.271403400Z"
    }
   },
   "execution_count": 53
  },
  {
   "cell_type": "markdown",
   "source": [
    "So far so good: Everything's an int64 or float64, so we can do the same thing for dataset 2."
   ],
   "metadata": {
    "collapsed": false
   }
  },
  {
   "cell_type": "markdown",
   "source": [
    "### Dataset 2\n",
    "For ``Altersgr`` and ``GeimpftGenesen`` we used the same dict as above to map our values to numerical ones.\n",
    "* For ``Bundesland`` we should consider looking at the ``PolBez`` once more: On Statistik Austria, it's stated that the first digit of the PolBez corresponds to the ``Bundesland``. Because of this, we should keep these numbers for the sake of having consistent values. (If we look closer, we can also see that the states are numbered alphabetically so that's also what we are going to do)\n",
    "* For ``ErwerbStatus`` we take 0 for inactive and 1 for active (common values to symbolize true/false)\n",
    "* For ``Bildung`` we are just going to enumerate the values. But we will make sure that ``Unknown`` corrsponds to 0"
   ],
   "metadata": {
    "collapsed": false
   }
  },
  {
   "cell_type": "code",
   "outputs": [
    {
     "data": {
      "text/plain": "      Bundesland  Bildung  Altersgr  ErwerbStatus  GeimpftGenesen    Anz\n53             1        3      49.5             0               3    448\n1164           8        2      39.5             0               1    405\n606            4        0      49.5             1               3      2\n155            2        4      29.5             0               3    271\n809            6        3      29.5             1               2  13637",
      "text/html": "<div>\n<style scoped>\n    .dataframe tbody tr th:only-of-type {\n        vertical-align: middle;\n    }\n\n    .dataframe tbody tr th {\n        vertical-align: top;\n    }\n\n    .dataframe thead th {\n        text-align: right;\n    }\n</style>\n<table border=\"1\" class=\"dataframe\">\n  <thead>\n    <tr style=\"text-align: right;\">\n      <th></th>\n      <th>Bundesland</th>\n      <th>Bildung</th>\n      <th>Altersgr</th>\n      <th>ErwerbStatus</th>\n      <th>GeimpftGenesen</th>\n      <th>Anz</th>\n    </tr>\n  </thead>\n  <tbody>\n    <tr>\n      <th>53</th>\n      <td>1</td>\n      <td>3</td>\n      <td>49.5</td>\n      <td>0</td>\n      <td>3</td>\n      <td>448</td>\n    </tr>\n    <tr>\n      <th>1164</th>\n      <td>8</td>\n      <td>2</td>\n      <td>39.5</td>\n      <td>0</td>\n      <td>1</td>\n      <td>405</td>\n    </tr>\n    <tr>\n      <th>606</th>\n      <td>4</td>\n      <td>0</td>\n      <td>49.5</td>\n      <td>1</td>\n      <td>3</td>\n      <td>2</td>\n    </tr>\n    <tr>\n      <th>155</th>\n      <td>2</td>\n      <td>4</td>\n      <td>29.5</td>\n      <td>0</td>\n      <td>3</td>\n      <td>271</td>\n    </tr>\n    <tr>\n      <th>809</th>\n      <td>6</td>\n      <td>3</td>\n      <td>29.5</td>\n      <td>1</td>\n      <td>2</td>\n      <td>13637</td>\n    </tr>\n  </tbody>\n</table>\n</div>"
     },
     "execution_count": 54,
     "metadata": {},
     "output_type": "execute_result"
    }
   ],
   "source": [
    "\n",
    "bundeslandToNumeric = dict((v, k + 1) for k, v in enumerate(np.sort(korr2[\"Bundesland\"].unique())))\n",
    "erwerbstatusToNumeric = {\"inaktiv\": 0, \"aktiv\": 1}\n",
    "\n",
    "bildungToNumeric = dict((v, k + 1) for k, v in enumerate(np.sort(korr2[\"Bildung\"].unique())))\n",
    "# make sure unknown corresponds to 0 todo: not working\n",
    "limit = bildungToNumeric[\"Unknown\"]\n",
    "bildungToNumeric[\"Unknown\"] = 0\n",
    "for key in bildungToNumeric.keys():\n",
    "    if bildungToNumeric[key] > limit:\n",
    "        bildungToNumeric[key] += 1\n",
    "\n",
    "korr2[\"Altersgr\"] = korr2[\"Altersgr\"].map(altersgrToNumeric)\n",
    "korr2[\"GeimpftGenesen\"] = korr2[\"GeimpftGenesen\"].map(geimpftGenesenToNumeric)\n",
    "korr2[\"Bundesland\"] = korr2[\"Bundesland\"].map(bundeslandToNumeric)\n",
    "korr2[\"ErwerbStatus\"] = korr2[\"ErwerbStatus\"].map(erwerbstatusToNumeric)\n",
    "korr2[\"Bildung\"] = korr2[\"Bildung\"].map(bildungToNumeric)\n",
    "\n",
    "korr2.sample(5)"
   ],
   "metadata": {
    "collapsed": false,
    "ExecuteTime": {
     "end_time": "2024-01-19T20:50:57.451745200Z",
     "start_time": "2024-01-19T20:50:57.335162400Z"
    }
   },
   "execution_count": 54
  },
  {
   "cell_type": "markdown",
   "source": [
    "We need to check again if the values are all numeric:"
   ],
   "metadata": {
    "collapsed": false
   }
  },
  {
   "cell_type": "code",
   "outputs": [
    {
     "name": "stdout",
     "output_type": "stream",
     "text": [
      "<class 'pandas.core.frame.DataFrame'>\n",
      "RangeIndex: 1404 entries, 0 to 1403\n",
      "Data columns (total 6 columns):\n",
      " #   Column          Non-Null Count  Dtype  \n",
      "---  ------          --------------  -----  \n",
      " 0   Bundesland      1404 non-null   int64  \n",
      " 1   Bildung         1404 non-null   int64  \n",
      " 2   Altersgr        1404 non-null   float64\n",
      " 3   ErwerbStatus    1404 non-null   int64  \n",
      " 4   GeimpftGenesen  1404 non-null   int64  \n",
      " 5   Anz             1404 non-null   int64  \n",
      "dtypes: float64(1), int64(5)\n",
      "memory usage: 65.9 KB\n"
     ]
    }
   ],
   "source": [
    "korr2.info()"
   ],
   "metadata": {
    "collapsed": false,
    "ExecuteTime": {
     "end_time": "2024-01-19T20:50:57.500899100Z",
     "start_time": "2024-01-19T20:50:57.459349100Z"
    }
   },
   "execution_count": 55
  },
  {
   "cell_type": "markdown",
   "source": [
    "So let's save these numerical values into different csv-files."
   ],
   "metadata": {
    "collapsed": false
   }
  },
  {
   "cell_type": "code",
   "outputs": [],
   "source": [
    "korr1.to_csv(\"./output/num1.csv\", index=False)\n",
    "korr2.to_csv(\"./output/num2.csv\", index=False)"
   ],
   "metadata": {
    "collapsed": false,
    "ExecuteTime": {
     "end_time": "2024-01-19T20:50:57.549122900Z",
     "start_time": "2024-01-19T20:50:57.476159900Z"
    }
   },
   "execution_count": 56
  },
  {
   "cell_type": "markdown",
   "source": [
    "## Normalized Values\n",
    "In this section, we will adjust our numerical values so that all of them are in the range of 0 - 1 (each column). First, we need to import the csv with the numerical data."
   ],
   "metadata": {
    "collapsed": false
   }
  },
  {
   "cell_type": "code",
   "outputs": [],
   "source": [
    "num1 = pd.read_csv(\"./output/num1.csv\")\n",
    "num2 = pd.read_csv(\"./output/num2.csv\")"
   ],
   "metadata": {
    "collapsed": false,
    "ExecuteTime": {
     "end_time": "2024-01-19T20:50:57.570845600Z",
     "start_time": "2024-01-19T20:50:57.515946500Z"
    }
   },
   "execution_count": 57
  },
  {
   "cell_type": "code",
   "outputs": [],
   "source": [
    "norm1 = (num1 - num1.min()) / (num1.max() - num1.min())\n",
    "norm2 = (num2 - num2.min()) / (num2.max() - num2.min())"
   ],
   "metadata": {
    "collapsed": false,
    "ExecuteTime": {
     "end_time": "2024-01-19T20:50:57.617598700Z",
     "start_time": "2024-01-19T20:50:57.555119600Z"
    }
   },
   "execution_count": 58
  },
  {
   "cell_type": "markdown",
   "source": [
    "Let's see if all of these values are within 0 and 1 with a simple pandas function:"
   ],
   "metadata": {
    "collapsed": false
   }
  },
  {
   "cell_type": "code",
   "outputs": [
    {
     "data": {
      "text/plain": "             PolBez      Altersgr       GebLand        Geschl  GeimpftGenesen  \\\ncount  17694.000000  17694.000000  17694.000000  17694.000000    17694.000000   \nmean       0.508211      0.525914      0.488584      0.501187        0.492012   \nstd        0.318163      0.323962      0.499884      0.500013        0.372839   \nmin        0.000000      0.000000      0.000000      0.000000        0.000000   \n25%        0.256691      0.210843      0.000000      0.000000        0.000000   \n50%        0.383212      0.572289      0.000000      1.000000        0.333333   \n75%        0.738443      0.813253      1.000000      1.000000        0.666667   \nmax        1.000000      1.000000      1.000000      1.000000        1.000000   \n\n                Anz  \ncount  17694.000000  \nmean       0.054846  \nstd        0.081404  \nmin        0.000000  \n25%        0.005838  \n50%        0.023802  \n75%        0.071180  \nmax        1.000000  ",
      "text/html": "<div>\n<style scoped>\n    .dataframe tbody tr th:only-of-type {\n        vertical-align: middle;\n    }\n\n    .dataframe tbody tr th {\n        vertical-align: top;\n    }\n\n    .dataframe thead th {\n        text-align: right;\n    }\n</style>\n<table border=\"1\" class=\"dataframe\">\n  <thead>\n    <tr style=\"text-align: right;\">\n      <th></th>\n      <th>PolBez</th>\n      <th>Altersgr</th>\n      <th>GebLand</th>\n      <th>Geschl</th>\n      <th>GeimpftGenesen</th>\n      <th>Anz</th>\n    </tr>\n  </thead>\n  <tbody>\n    <tr>\n      <th>count</th>\n      <td>17694.000000</td>\n      <td>17694.000000</td>\n      <td>17694.000000</td>\n      <td>17694.000000</td>\n      <td>17694.000000</td>\n      <td>17694.000000</td>\n    </tr>\n    <tr>\n      <th>mean</th>\n      <td>0.508211</td>\n      <td>0.525914</td>\n      <td>0.488584</td>\n      <td>0.501187</td>\n      <td>0.492012</td>\n      <td>0.054846</td>\n    </tr>\n    <tr>\n      <th>std</th>\n      <td>0.318163</td>\n      <td>0.323962</td>\n      <td>0.499884</td>\n      <td>0.500013</td>\n      <td>0.372839</td>\n      <td>0.081404</td>\n    </tr>\n    <tr>\n      <th>min</th>\n      <td>0.000000</td>\n      <td>0.000000</td>\n      <td>0.000000</td>\n      <td>0.000000</td>\n      <td>0.000000</td>\n      <td>0.000000</td>\n    </tr>\n    <tr>\n      <th>25%</th>\n      <td>0.256691</td>\n      <td>0.210843</td>\n      <td>0.000000</td>\n      <td>0.000000</td>\n      <td>0.000000</td>\n      <td>0.005838</td>\n    </tr>\n    <tr>\n      <th>50%</th>\n      <td>0.383212</td>\n      <td>0.572289</td>\n      <td>0.000000</td>\n      <td>1.000000</td>\n      <td>0.333333</td>\n      <td>0.023802</td>\n    </tr>\n    <tr>\n      <th>75%</th>\n      <td>0.738443</td>\n      <td>0.813253</td>\n      <td>1.000000</td>\n      <td>1.000000</td>\n      <td>0.666667</td>\n      <td>0.071180</td>\n    </tr>\n    <tr>\n      <th>max</th>\n      <td>1.000000</td>\n      <td>1.000000</td>\n      <td>1.000000</td>\n      <td>1.000000</td>\n      <td>1.000000</td>\n      <td>1.000000</td>\n    </tr>\n  </tbody>\n</table>\n</div>"
     },
     "execution_count": 59,
     "metadata": {},
     "output_type": "execute_result"
    }
   ],
   "source": [
    "norm1.describe()"
   ],
   "metadata": {
    "collapsed": false,
    "ExecuteTime": {
     "end_time": "2024-01-19T20:50:57.656586Z",
     "start_time": "2024-01-19T20:50:57.609650800Z"
    }
   },
   "execution_count": 59
  },
  {
   "cell_type": "markdown",
   "source": [
    "Looking good so far. Now let's check norm2, too."
   ],
   "metadata": {
    "collapsed": false
   }
  },
  {
   "cell_type": "code",
   "outputs": [
    {
     "data": {
      "text/plain": "        Bundesland      Bildung     Altersgr  ErwerbStatus  GeimpftGenesen  \\\ncount  1404.000000  1404.000000  1404.000000   1404.000000     1404.000000   \nmean      0.504006     0.512821     0.493115      0.499288        0.491690   \nstd       0.322200     0.348880     0.371470      0.500178        0.372293   \nmin       0.000000     0.000000     0.000000      0.000000        0.000000   \n25%       0.250000     0.250000     0.000000      0.000000        0.000000   \n50%       0.500000     0.500000     0.333333      0.000000        0.333333   \n75%       0.750000     0.750000     0.666667      1.000000        0.666667   \nmax       1.000000     1.000000     1.000000      1.000000        1.000000   \n\n               Anz  \ncount  1404.000000  \nmean      0.061415  \nstd       0.103388  \nmin       0.000000  \n25%       0.005569  \n50%       0.024730  \n75%       0.070619  \nmax       1.000000  ",
      "text/html": "<div>\n<style scoped>\n    .dataframe tbody tr th:only-of-type {\n        vertical-align: middle;\n    }\n\n    .dataframe tbody tr th {\n        vertical-align: top;\n    }\n\n    .dataframe thead th {\n        text-align: right;\n    }\n</style>\n<table border=\"1\" class=\"dataframe\">\n  <thead>\n    <tr style=\"text-align: right;\">\n      <th></th>\n      <th>Bundesland</th>\n      <th>Bildung</th>\n      <th>Altersgr</th>\n      <th>ErwerbStatus</th>\n      <th>GeimpftGenesen</th>\n      <th>Anz</th>\n    </tr>\n  </thead>\n  <tbody>\n    <tr>\n      <th>count</th>\n      <td>1404.000000</td>\n      <td>1404.000000</td>\n      <td>1404.000000</td>\n      <td>1404.000000</td>\n      <td>1404.000000</td>\n      <td>1404.000000</td>\n    </tr>\n    <tr>\n      <th>mean</th>\n      <td>0.504006</td>\n      <td>0.512821</td>\n      <td>0.493115</td>\n      <td>0.499288</td>\n      <td>0.491690</td>\n      <td>0.061415</td>\n    </tr>\n    <tr>\n      <th>std</th>\n      <td>0.322200</td>\n      <td>0.348880</td>\n      <td>0.371470</td>\n      <td>0.500178</td>\n      <td>0.372293</td>\n      <td>0.103388</td>\n    </tr>\n    <tr>\n      <th>min</th>\n      <td>0.000000</td>\n      <td>0.000000</td>\n      <td>0.000000</td>\n      <td>0.000000</td>\n      <td>0.000000</td>\n      <td>0.000000</td>\n    </tr>\n    <tr>\n      <th>25%</th>\n      <td>0.250000</td>\n      <td>0.250000</td>\n      <td>0.000000</td>\n      <td>0.000000</td>\n      <td>0.000000</td>\n      <td>0.005569</td>\n    </tr>\n    <tr>\n      <th>50%</th>\n      <td>0.500000</td>\n      <td>0.500000</td>\n      <td>0.333333</td>\n      <td>0.000000</td>\n      <td>0.333333</td>\n      <td>0.024730</td>\n    </tr>\n    <tr>\n      <th>75%</th>\n      <td>0.750000</td>\n      <td>0.750000</td>\n      <td>0.666667</td>\n      <td>1.000000</td>\n      <td>0.666667</td>\n      <td>0.070619</td>\n    </tr>\n    <tr>\n      <th>max</th>\n      <td>1.000000</td>\n      <td>1.000000</td>\n      <td>1.000000</td>\n      <td>1.000000</td>\n      <td>1.000000</td>\n      <td>1.000000</td>\n    </tr>\n  </tbody>\n</table>\n</div>"
     },
     "execution_count": 60,
     "metadata": {},
     "output_type": "execute_result"
    }
   ],
   "source": [
    "norm2.describe()"
   ],
   "metadata": {
    "collapsed": false,
    "ExecuteTime": {
     "end_time": "2024-01-19T20:50:57.709476900Z",
     "start_time": "2024-01-19T20:50:57.647567300Z"
    }
   },
   "execution_count": 60
  },
  {
   "cell_type": "markdown",
   "source": [
    "# Visualization with Seaborn\n",
    "## Color Palette\n",
    "Generated custom selected color palette handpicked with the finest colors in the world just for you Mr. Wöhrer!"
   ],
   "metadata": {
    "collapsed": false
   }
  },
  {
   "cell_type": "code",
   "outputs": [
    {
     "data": {
      "text/plain": "<Figure size 600x100 with 1 Axes>",
      "image/png": "[encoded data removed]"
     },
     "metadata": {},
     "output_type": "display_data"
    }
   ],
   "source": [
    "colors = [\"#3772FF\", \"#9CFC97\", \"#F038FF\", \"#FF1053\", \"#F29E4C\", \"#14BDEB\"]\n",
    "colorPallet = sns.set_palette(colors)\n",
    "sns.palplot(sns.color_palette())\n",
    "plt.show()"
   ],
   "metadata": {
    "collapsed": false,
    "ExecuteTime": {
     "end_time": "2024-01-19T20:50:57.826381800Z",
     "start_time": "2024-01-19T20:50:57.711482900Z"
    }
   },
   "execution_count": 61
  },
  {
   "cell_type": "markdown",
   "source": [],
   "metadata": {
    "collapsed": false
   }
  }
 ]
}
