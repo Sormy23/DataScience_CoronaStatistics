{
 "nbformat": 4,
 "nbformat_minor": 0,
 "metadata": {
  "colab": {
   "provenance": [],
   "toc_visible": true,
   "include_colab_link": true
  },
  "kernelspec": {
   "name": "python3",
   "language": "python",
   "display_name": "Python 3 (ipykernel)"
  },
  "language_info": {
   "name": "python"
  }
 },
 "cells": [
  {
   "cell_type": "markdown",
   "metadata": {
    "id": "view-in-github",
    "colab_type": "text"
   },
   "source": [
    "<a href=\"https://colab.research.google.com/github/Sormy23/DataScience_CoronaStatistics/blob/main/mini_projekt.ipynb\" target=\"_parent\"><img src=\"https://colab.research.google.com/assets/colab-badge.svg\" alt=\"Open In Colab\"/></a>"
   ]
  },
  {
   "cell_type": "markdown",
   "source": [
    "# Covid Status\n",
    "This Data Science project by Sven Oberwalder and Yasin Sahin analyzes the development of the corona pandemic based on input data provided by Statistik Austria\n",
    "\n",
    "The Datasets can be found here:\n",
    "### [Dataset 1](https://data.statistik.gv.at/web/meta.jsp?dataset=OGD_covidggstatus2_GGSTATUS_2)\n",
    "\n",
    "### [Dataset 2](https://data.statistik.gv.at/web/meta.jsp?dataset=OGD_covidggstatus_GGSTATUS_1)"
   ],
   "metadata": {
    "id": "M66WWyDhkRqD"
   }
  },
  {
   "cell_type": "code",
   "execution_count": 1,
   "metadata": {
    "id": "5L8DRvCTyJfY",
    "ExecuteTime": {
     "end_time": "2024-01-19T08:44:35.021603200Z",
     "start_time": "2024-01-19T08:44:35.018598500Z"
    }
   },
   "outputs": [],
   "source": [
    "import numpy as np\n",
    "import pandas as pd\n",
    "\n",
    "import matplotlib.pyplot as plt\n",
    "import seaborn as sns"
   ]
  },
  {
   "cell_type": "markdown",
   "source": [
    "# Initial Data Analysis and Import\n",
    "Dataset 1 has following attributes:\n",
    "* **C-BEZIMST-0** Politischer Bezirk (PolBez)\n",
    "* **C-ALTGRIMST-0** 10-years age group (Altersgr)\n",
    "* **C-GLIMST-0** Country of Birth (GebLand)\n",
    "* **C-C11-0** Sex (Geschl)\n",
    "* **C-IMST-0** COVID-19 vaccinated-recovered-status (GeimpftGenesen)\n",
    "* **F-DATA** Number of records (Anz)\n",
    "\n",
    "Dataset 2 has following attributes:\n",
    "* **C-B00-0** Federal country (Bundesland)\n",
    "* **C-BILIMST-0** Education (Bildung)\n",
    "* **C-ALTGRIMST-0** 10-years age group (Altersgr)\n",
    "* **C-ESIMST-0** Economic status (ErwerbStatus)\n",
    "* **C-IMST-0** COVID-19 vaccinated-recovered-status (GeimpftGenesen)\n",
    "* **F-DATA** Number of records (Anz)\n",
    "\n",
    "In below code, the datasets need to be imported and the attributes must be renamed to more meaningful names. Since the data is separated by semi-colons (;), we need to specify that when importing the csv-files. Furthermore, a simple Std-Analysis has to be conducted, to ensure the progress."
   ],
   "metadata": {
    "id": "D9eIWSwXltfa"
   }
  },
  {
   "cell_type": "code",
   "source": [
    "#import databases\n",
    "dataset1 = pd.read_csv(\"./data/dataset1.csv\", sep=\";\")\n",
    "dataset2 = pd.read_csv(\"./data/dataset2.csv\", sep=\";\")\n",
    "\n",
    "#rename attributes\n",
    "dataset1.rename(columns={\"C-BEZIMST-0\": \"PolBez\",\n",
    "                         \"C-ALTGRIMST-0\": \"Altersgr\",\n",
    "                         \"C-GLIMST-0\": \"GebLand\",\n",
    "                         \"C-C11-0\": \"Geschl\",\n",
    "                         \"C-IMST-0\": \"GeimpftGenesen\",\n",
    "                         \"F-DATA\": \"Anz\"}, inplace=True)\n",
    "dataset2.rename(columns={\"C-B00-0\": \"Bundesland\",\n",
    "                         \"C-BILIMST-0\": \"Bildung\",\n",
    "                         \"C-ALTGRIMST-0\": \"Altersgr\",\n",
    "                         \"C-ESIMST-0\": \"ErwerbStatus\",\n",
    "                         \"C-IMST-0\": \"GeimpftGenesen\",\n",
    "                         \"F-DATA\": \"Anz\"}, inplace=True)\n"
   ],
   "metadata": {
    "id": "30kSCrTBjYaZ",
    "ExecuteTime": {
     "end_time": "2024-01-19T08:44:35.067258100Z",
     "start_time": "2024-01-19T08:44:35.021603200Z"
    }
   },
   "execution_count": 2,
   "outputs": []
  },
  {
   "cell_type": "markdown",
   "source": [
    "## Std-Analysis for Dataset 1"
   ],
   "metadata": {
    "id": "1Fmtt61qu7F6"
   }
  },
  {
   "cell_type": "code",
   "source": [
    "dataset1.sample(5)"
   ],
   "metadata": {
    "colab": {
     "base_uri": "https://localhost:8080/",
     "height": 206
    },
    "id": "Wdo4xvbhu_H-",
    "outputId": "240e451c-a46e-4534-c8f8-dd06f1ecdf83",
    "ExecuteTime": {
     "end_time": "2024-01-19T08:44:35.092575200Z",
     "start_time": "2024-01-19T08:44:35.068257800Z"
    }
   },
   "execution_count": 3,
   "outputs": [
    {
     "data": {
      "text/plain": "            PolBez      Altersgr   GebLand Geschl GeimpftGenesen  Anz\n33061  BEZIMST-621  ALTGRIMST-13  GLIMST-2  C11-1         IMST-2   25\n1611   BEZIMST-105   ALT10IMST-5  GLIMST-1  C11-1         IMST-1  394\n7961   BEZIMST-301  ALTGRIMST-15  GLIMST-2  C11-1         IMST-2    6\n48133  BEZIMST-919   ALT10IMST-6  GLIMST-1  C11-1         IMST-3  190\n18579  BEZIMST-402   ALTGRIMST-1  GLIMST-1  C11-2         IMST-1    3",
      "text/html": "<div>\n<style scoped>\n    .dataframe tbody tr th:only-of-type {\n        vertical-align: middle;\n    }\n\n    .dataframe tbody tr th {\n        vertical-align: top;\n    }\n\n    .dataframe thead th {\n        text-align: right;\n    }\n</style>\n<table border=\"1\" class=\"dataframe\">\n  <thead>\n    <tr style=\"text-align: right;\">\n      <th></th>\n      <th>PolBez</th>\n      <th>Altersgr</th>\n      <th>GebLand</th>\n      <th>Geschl</th>\n      <th>GeimpftGenesen</th>\n      <th>Anz</th>\n    </tr>\n  </thead>\n  <tbody>\n    <tr>\n      <th>33061</th>\n      <td>BEZIMST-621</td>\n      <td>ALTGRIMST-13</td>\n      <td>GLIMST-2</td>\n      <td>C11-1</td>\n      <td>IMST-2</td>\n      <td>25</td>\n    </tr>\n    <tr>\n      <th>1611</th>\n      <td>BEZIMST-105</td>\n      <td>ALT10IMST-5</td>\n      <td>GLIMST-1</td>\n      <td>C11-1</td>\n      <td>IMST-1</td>\n      <td>394</td>\n    </tr>\n    <tr>\n      <th>7961</th>\n      <td>BEZIMST-301</td>\n      <td>ALTGRIMST-15</td>\n      <td>GLIMST-2</td>\n      <td>C11-1</td>\n      <td>IMST-2</td>\n      <td>6</td>\n    </tr>\n    <tr>\n      <th>48133</th>\n      <td>BEZIMST-919</td>\n      <td>ALT10IMST-6</td>\n      <td>GLIMST-1</td>\n      <td>C11-1</td>\n      <td>IMST-3</td>\n      <td>190</td>\n    </tr>\n    <tr>\n      <th>18579</th>\n      <td>BEZIMST-402</td>\n      <td>ALTGRIMST-1</td>\n      <td>GLIMST-1</td>\n      <td>C11-2</td>\n      <td>IMST-1</td>\n      <td>3</td>\n    </tr>\n  </tbody>\n</table>\n</div>"
     },
     "execution_count": 3,
     "metadata": {},
     "output_type": "execute_result"
    }
   ]
  },
  {
   "cell_type": "code",
   "source": [
    "dataset1.head(5)"
   ],
   "metadata": {
    "colab": {
     "base_uri": "https://localhost:8080/",
     "height": 206
    },
    "id": "PmkZl8CSvhOH",
    "outputId": "a5eabb3f-d088-4977-bc9b-274daad12619",
    "ExecuteTime": {
     "end_time": "2024-01-19T08:44:35.094574900Z",
     "start_time": "2024-01-19T08:44:35.082840400Z"
    }
   },
   "execution_count": 4,
   "outputs": [
    {
     "data": {
      "text/plain": "        PolBez     Altersgr   GebLand Geschl GeimpftGenesen  Anz\n0  BEZIMST-101  ALTGRIMST-1  GLIMST-1  C11-1         IMST-1    1\n1  BEZIMST-101  ALTGRIMST-1  GLIMST-1  C11-1         IMST-3   80\n2  BEZIMST-101  ALTGRIMST-1  GLIMST-1  C11-1         IMST-4  216\n3  BEZIMST-101  ALTGRIMST-1  GLIMST-1  C11-2         IMST-1    2\n4  BEZIMST-101  ALTGRIMST-1  GLIMST-1  C11-2         IMST-3   86",
      "text/html": "<div>\n<style scoped>\n    .dataframe tbody tr th:only-of-type {\n        vertical-align: middle;\n    }\n\n    .dataframe tbody tr th {\n        vertical-align: top;\n    }\n\n    .dataframe thead th {\n        text-align: right;\n    }\n</style>\n<table border=\"1\" class=\"dataframe\">\n  <thead>\n    <tr style=\"text-align: right;\">\n      <th></th>\n      <th>PolBez</th>\n      <th>Altersgr</th>\n      <th>GebLand</th>\n      <th>Geschl</th>\n      <th>GeimpftGenesen</th>\n      <th>Anz</th>\n    </tr>\n  </thead>\n  <tbody>\n    <tr>\n      <th>0</th>\n      <td>BEZIMST-101</td>\n      <td>ALTGRIMST-1</td>\n      <td>GLIMST-1</td>\n      <td>C11-1</td>\n      <td>IMST-1</td>\n      <td>1</td>\n    </tr>\n    <tr>\n      <th>1</th>\n      <td>BEZIMST-101</td>\n      <td>ALTGRIMST-1</td>\n      <td>GLIMST-1</td>\n      <td>C11-1</td>\n      <td>IMST-3</td>\n      <td>80</td>\n    </tr>\n    <tr>\n      <th>2</th>\n      <td>BEZIMST-101</td>\n      <td>ALTGRIMST-1</td>\n      <td>GLIMST-1</td>\n      <td>C11-1</td>\n      <td>IMST-4</td>\n      <td>216</td>\n    </tr>\n    <tr>\n      <th>3</th>\n      <td>BEZIMST-101</td>\n      <td>ALTGRIMST-1</td>\n      <td>GLIMST-1</td>\n      <td>C11-2</td>\n      <td>IMST-1</td>\n      <td>2</td>\n    </tr>\n    <tr>\n      <th>4</th>\n      <td>BEZIMST-101</td>\n      <td>ALTGRIMST-1</td>\n      <td>GLIMST-1</td>\n      <td>C11-2</td>\n      <td>IMST-3</td>\n      <td>86</td>\n    </tr>\n  </tbody>\n</table>\n</div>"
     },
     "execution_count": 4,
     "metadata": {},
     "output_type": "execute_result"
    }
   ]
  },
  {
   "cell_type": "code",
   "source": [
    "dataset1.info()"
   ],
   "metadata": {
    "colab": {
     "base_uri": "https://localhost:8080/"
    },
    "id": "YW3nn_UQvkFH",
    "outputId": "3593f36e-c127-4d1a-855e-70620c5c1b63",
    "ExecuteTime": {
     "end_time": "2024-01-19T08:44:35.138218700Z",
     "start_time": "2024-01-19T08:44:35.089575300Z"
    }
   },
   "execution_count": 5,
   "outputs": [
    {
     "name": "stdout",
     "output_type": "stream",
     "text": [
      "<class 'pandas.core.frame.DataFrame'>\n",
      "RangeIndex: 53961 entries, 0 to 53960\n",
      "Data columns (total 6 columns):\n",
      " #   Column          Non-Null Count  Dtype \n",
      "---  ------          --------------  ----- \n",
      " 0   PolBez          53961 non-null  object\n",
      " 1   Altersgr        53961 non-null  object\n",
      " 2   GebLand         53961 non-null  object\n",
      " 3   Geschl          53961 non-null  object\n",
      " 4   GeimpftGenesen  53961 non-null  object\n",
      " 5   Anz             53961 non-null  int64 \n",
      "dtypes: int64(1), object(5)\n",
      "memory usage: 2.5+ MB\n"
     ]
    }
   ]
  },
  {
   "cell_type": "code",
   "source": [
    "dataset1.describe()"
   ],
   "metadata": {
    "colab": {
     "base_uri": "https://localhost:8080/",
     "height": 300
    },
    "id": "Xh-eOu75vm42",
    "outputId": "26e0d4b1-9ace-413b-f2a2-70927c2f22d5",
    "ExecuteTime": {
     "end_time": "2024-01-19T08:44:35.179532900Z",
     "start_time": "2024-01-19T08:44:35.109727300Z"
    }
   },
   "execution_count": 6,
   "outputs": [
    {
     "data": {
      "text/plain": "                Anz\ncount  53961.000000\nmean     642.049703\nstd     2171.148389\nmin        1.000000\n25%       44.000000\n50%      169.000000\n75%      508.000000\nmax    70338.000000",
      "text/html": "<div>\n<style scoped>\n    .dataframe tbody tr th:only-of-type {\n        vertical-align: middle;\n    }\n\n    .dataframe tbody tr th {\n        vertical-align: top;\n    }\n\n    .dataframe thead th {\n        text-align: right;\n    }\n</style>\n<table border=\"1\" class=\"dataframe\">\n  <thead>\n    <tr style=\"text-align: right;\">\n      <th></th>\n      <th>Anz</th>\n    </tr>\n  </thead>\n  <tbody>\n    <tr>\n      <th>count</th>\n      <td>53961.000000</td>\n    </tr>\n    <tr>\n      <th>mean</th>\n      <td>642.049703</td>\n    </tr>\n    <tr>\n      <th>std</th>\n      <td>2171.148389</td>\n    </tr>\n    <tr>\n      <th>min</th>\n      <td>1.000000</td>\n    </tr>\n    <tr>\n      <th>25%</th>\n      <td>44.000000</td>\n    </tr>\n    <tr>\n      <th>50%</th>\n      <td>169.000000</td>\n    </tr>\n    <tr>\n      <th>75%</th>\n      <td>508.000000</td>\n    </tr>\n    <tr>\n      <th>max</th>\n      <td>70338.000000</td>\n    </tr>\n  </tbody>\n</table>\n</div>"
     },
     "execution_count": 6,
     "metadata": {},
     "output_type": "execute_result"
    }
   ]
  },
  {
   "cell_type": "markdown",
   "source": [
    "## Std-Analysis for Dataset 2"
   ],
   "metadata": {
    "id": "tyjCMpNnvs_L"
   }
  },
  {
   "cell_type": "code",
   "source": [
    "dataset2.sample(5)"
   ],
   "metadata": {
    "colab": {
     "base_uri": "https://localhost:8080/",
     "height": 206
    },
    "id": "9IkCAYv8vvy0",
    "outputId": "44ccad8b-af4a-4794-dc09-43fa24e2e459",
    "ExecuteTime": {
     "end_time": "2024-01-19T08:44:35.224174300Z",
     "start_time": "2024-01-19T08:44:35.120140900Z"
    }
   },
   "execution_count": 7,
   "outputs": [
    {
     "data": {
      "text/plain": "    Bundesland    Bildung     Altersgr ErwerbStatus GeimpftGenesen    Anz\n425      B00-3  BILIMST-4  ALT10IMST-7     ESIMST-1         IMST-1  15181\n251      B00-2  BILIMST-4  ALT10IMST-4     ESIMST-2         IMST-2    360\n851      B00-6  BILIMST-3  ALT10IMST-5     ESIMST-2         IMST-1   1440\n503      B00-4  BILIMST-2  ALT10IMST-5     ESIMST-1         IMST-3  22040\n208      B00-2  BILIMST-2  ALT10IMST-7     ESIMST-1         IMST-3   3183",
      "text/html": "<div>\n<style scoped>\n    .dataframe tbody tr th:only-of-type {\n        vertical-align: middle;\n    }\n\n    .dataframe tbody tr th {\n        vertical-align: top;\n    }\n\n    .dataframe thead th {\n        text-align: right;\n    }\n</style>\n<table border=\"1\" class=\"dataframe\">\n  <thead>\n    <tr style=\"text-align: right;\">\n      <th></th>\n      <th>Bundesland</th>\n      <th>Bildung</th>\n      <th>Altersgr</th>\n      <th>ErwerbStatus</th>\n      <th>GeimpftGenesen</th>\n      <th>Anz</th>\n    </tr>\n  </thead>\n  <tbody>\n    <tr>\n      <th>425</th>\n      <td>B00-3</td>\n      <td>BILIMST-4</td>\n      <td>ALT10IMST-7</td>\n      <td>ESIMST-1</td>\n      <td>IMST-1</td>\n      <td>15181</td>\n    </tr>\n    <tr>\n      <th>251</th>\n      <td>B00-2</td>\n      <td>BILIMST-4</td>\n      <td>ALT10IMST-4</td>\n      <td>ESIMST-2</td>\n      <td>IMST-2</td>\n      <td>360</td>\n    </tr>\n    <tr>\n      <th>851</th>\n      <td>B00-6</td>\n      <td>BILIMST-3</td>\n      <td>ALT10IMST-5</td>\n      <td>ESIMST-2</td>\n      <td>IMST-1</td>\n      <td>1440</td>\n    </tr>\n    <tr>\n      <th>503</th>\n      <td>B00-4</td>\n      <td>BILIMST-2</td>\n      <td>ALT10IMST-5</td>\n      <td>ESIMST-1</td>\n      <td>IMST-3</td>\n      <td>22040</td>\n    </tr>\n    <tr>\n      <th>208</th>\n      <td>B00-2</td>\n      <td>BILIMST-2</td>\n      <td>ALT10IMST-7</td>\n      <td>ESIMST-1</td>\n      <td>IMST-3</td>\n      <td>3183</td>\n    </tr>\n  </tbody>\n</table>\n</div>"
     },
     "execution_count": 7,
     "metadata": {},
     "output_type": "execute_result"
    }
   ]
  },
  {
   "cell_type": "code",
   "source": [
    "dataset2.head(5)"
   ],
   "metadata": {
    "colab": {
     "base_uri": "https://localhost:8080/",
     "height": 206
    },
    "id": "nEMpwqWmvzQW",
    "outputId": "88c4f279-3e85-47cb-f2e3-5f14bb5372b0",
    "ExecuteTime": {
     "end_time": "2024-01-19T08:44:35.300016Z",
     "start_time": "2024-01-19T08:44:35.125480900Z"
    }
   },
   "execution_count": 8,
   "outputs": [
    {
     "data": {
      "text/plain": "  Bundesland    Bildung     Altersgr ErwerbStatus GeimpftGenesen  Anz\n0      B00-1  BILIMST-1  ALT10IMST-4     ESIMST-1         IMST-1  611\n1      B00-1  BILIMST-1  ALT10IMST-4     ESIMST-1         IMST-2  285\n2      B00-1  BILIMST-1  ALT10IMST-4     ESIMST-1         IMST-3  396\n3      B00-1  BILIMST-1  ALT10IMST-4     ESIMST-1         IMST-4  472\n4      B00-1  BILIMST-1  ALT10IMST-4     ESIMST-2         IMST-1  471",
      "text/html": "<div>\n<style scoped>\n    .dataframe tbody tr th:only-of-type {\n        vertical-align: middle;\n    }\n\n    .dataframe tbody tr th {\n        vertical-align: top;\n    }\n\n    .dataframe thead th {\n        text-align: right;\n    }\n</style>\n<table border=\"1\" class=\"dataframe\">\n  <thead>\n    <tr style=\"text-align: right;\">\n      <th></th>\n      <th>Bundesland</th>\n      <th>Bildung</th>\n      <th>Altersgr</th>\n      <th>ErwerbStatus</th>\n      <th>GeimpftGenesen</th>\n      <th>Anz</th>\n    </tr>\n  </thead>\n  <tbody>\n    <tr>\n      <th>0</th>\n      <td>B00-1</td>\n      <td>BILIMST-1</td>\n      <td>ALT10IMST-4</td>\n      <td>ESIMST-1</td>\n      <td>IMST-1</td>\n      <td>611</td>\n    </tr>\n    <tr>\n      <th>1</th>\n      <td>B00-1</td>\n      <td>BILIMST-1</td>\n      <td>ALT10IMST-4</td>\n      <td>ESIMST-1</td>\n      <td>IMST-2</td>\n      <td>285</td>\n    </tr>\n    <tr>\n      <th>2</th>\n      <td>B00-1</td>\n      <td>BILIMST-1</td>\n      <td>ALT10IMST-4</td>\n      <td>ESIMST-1</td>\n      <td>IMST-3</td>\n      <td>396</td>\n    </tr>\n    <tr>\n      <th>3</th>\n      <td>B00-1</td>\n      <td>BILIMST-1</td>\n      <td>ALT10IMST-4</td>\n      <td>ESIMST-1</td>\n      <td>IMST-4</td>\n      <td>472</td>\n    </tr>\n    <tr>\n      <th>4</th>\n      <td>B00-1</td>\n      <td>BILIMST-1</td>\n      <td>ALT10IMST-4</td>\n      <td>ESIMST-2</td>\n      <td>IMST-1</td>\n      <td>471</td>\n    </tr>\n  </tbody>\n</table>\n</div>"
     },
     "execution_count": 8,
     "metadata": {},
     "output_type": "execute_result"
    }
   ]
  },
  {
   "cell_type": "code",
   "source": [
    "dataset2.info()"
   ],
   "metadata": {
    "colab": {
     "base_uri": "https://localhost:8080/"
    },
    "id": "SgvRkXo-v1EM",
    "outputId": "04bf6168-a572-48c7-d9f7-afb33be9e023",
    "ExecuteTime": {
     "end_time": "2024-01-19T08:44:35.328521Z",
     "start_time": "2024-01-19T08:44:35.137219400Z"
    }
   },
   "execution_count": 9,
   "outputs": [
    {
     "name": "stdout",
     "output_type": "stream",
     "text": [
      "<class 'pandas.core.frame.DataFrame'>\n",
      "RangeIndex: 1404 entries, 0 to 1403\n",
      "Data columns (total 6 columns):\n",
      " #   Column          Non-Null Count  Dtype \n",
      "---  ------          --------------  ----- \n",
      " 0   Bundesland      1404 non-null   object\n",
      " 1   Bildung         1404 non-null   object\n",
      " 2   Altersgr        1404 non-null   object\n",
      " 3   ErwerbStatus    1404 non-null   object\n",
      " 4   GeimpftGenesen  1404 non-null   object\n",
      " 5   Anz             1404 non-null   int64 \n",
      "dtypes: int64(1), object(5)\n",
      "memory usage: 65.9+ KB\n"
     ]
    }
   ]
  },
  {
   "cell_type": "code",
   "source": [
    "dataset2.describe()"
   ],
   "metadata": {
    "colab": {
     "base_uri": "https://localhost:8080/",
     "height": 300
    },
    "id": "yPUQGcnIv2uu",
    "outputId": "2265a5d5-ff0f-4680-d060-f199cabe5139",
    "ExecuteTime": {
     "end_time": "2024-01-19T08:44:35.349543600Z",
     "start_time": "2024-01-19T08:44:35.147124900Z"
    }
   },
   "execution_count": 10,
   "outputs": [
    {
     "data": {
      "text/plain": "                Anz\ncount   1404.000000\nmean    3414.423789\nstd     5746.310880\nmin        1.000000\n25%      310.500000\n50%     1375.500000\n75%     3926.000000\nmax    55581.000000",
      "text/html": "<div>\n<style scoped>\n    .dataframe tbody tr th:only-of-type {\n        vertical-align: middle;\n    }\n\n    .dataframe tbody tr th {\n        vertical-align: top;\n    }\n\n    .dataframe thead th {\n        text-align: right;\n    }\n</style>\n<table border=\"1\" class=\"dataframe\">\n  <thead>\n    <tr style=\"text-align: right;\">\n      <th></th>\n      <th>Anz</th>\n    </tr>\n  </thead>\n  <tbody>\n    <tr>\n      <th>count</th>\n      <td>1404.000000</td>\n    </tr>\n    <tr>\n      <th>mean</th>\n      <td>3414.423789</td>\n    </tr>\n    <tr>\n      <th>std</th>\n      <td>5746.310880</td>\n    </tr>\n    <tr>\n      <th>min</th>\n      <td>1.000000</td>\n    </tr>\n    <tr>\n      <th>25%</th>\n      <td>310.500000</td>\n    </tr>\n    <tr>\n      <th>50%</th>\n      <td>1375.500000</td>\n    </tr>\n    <tr>\n      <th>75%</th>\n      <td>3926.000000</td>\n    </tr>\n    <tr>\n      <th>max</th>\n      <td>55581.000000</td>\n    </tr>\n  </tbody>\n</table>\n</div>"
     },
     "execution_count": 10,
     "metadata": {},
     "output_type": "execute_result"
    }
   ]
  },
  {
   "cell_type": "markdown",
   "source": [
    "# Data Cleaning\n",
    "In this section, the input data will be cleaned. For this manner, any wrong, missing, or irrelevant informations will be treated accordingly."
   ],
   "metadata": {
    "id": "gFobc4FLwEX_"
   }
  },
  {
   "cell_type": "markdown",
   "source": [
    "### Dataset 1"
   ],
   "metadata": {
    "id": "yivzJedFsp1X"
   }
  },
  {
   "cell_type": "code",
   "source": [
    "geimpftGenesenDict = {\"IMST-4\": 0, #nothing\n",
    "                      \"IMST-1\": 1, #vacc\n",
    "                      \"IMST-3\": 2, #recov\n",
    "                      \"IMST-2\": 3} #vacc + recov\n",
    "\n",
    "dataset1[\"GebLand\"] = dataset1[\"GebLand\"].map({\"GLIMST-1\": \"INLAND\",\n",
    "                                               \"GLIMST-2\": \"AUSLAND\"})\n",
    "\n",
    "dataset1[\"Geschl\"] = dataset1[\"Geschl\"].map({\"C11-1\": \"m\",\n",
    "                                             \"C11-2\": \"f\"})\n",
    "\n",
    "dataset1[\"GeimpftGenesen\"] = dataset1[\"GeimpftGenesen\"].map(geimpftGenesenDict)"
   ],
   "metadata": {
    "id": "MZQ3CBI2wjdy",
    "ExecuteTime": {
     "end_time": "2024-01-19T08:44:35.350522400Z",
     "start_time": "2024-01-19T08:44:35.158145500Z"
    }
   },
   "execution_count": 11,
   "outputs": []
  },
  {
   "cell_type": "markdown",
   "source": [
    "### Dataset 2"
   ],
   "metadata": {
    "id": "A3HIe4r6siHP"
   }
  },
  {
   "cell_type": "code",
   "source": [
    "bundeslandDict = {\n",
    "    \"B00-1\": \"Burgenland\",\n",
    "    \"B00-2\": \"Kärnten\",\n",
    "    \"B00-3\": \"Niederösterreich\",\n",
    "    \"B00-4\": \"Oberösterreich\",\n",
    "    \"B00-5\": \"Salzburg\",\n",
    "    \"B00-6\": \"Steiermark\",\n",
    "    \"B00-7\": \"Tirol\",\n",
    "    \"B00-8\": \"Vorarlberg\",\n",
    "    \"B00-9\": \"Wien\"\n",
    "}\n",
    "\n",
    "dataset2[\"Bundesland\"] = dataset2[\"Bundesland\"].map(bundeslandDict)\n",
    "\n",
    "dataset2[\"GeimpftGenesen\"] = dataset2[\"GeimpftGenesen\"].map(geimpftGenesenDict)\n",
    "\n",
    "dataset2[\"Bildung\"] = dataset2[\"Bildung\"].map({\"BILIMST-1\": \"Pflichtschule\",\n",
    "                                               \"BILIMST-2\": \"Lehrabschluss/BMS\",\n",
    "                                               \"BILIMST-3\": \"BHS/AHS/Kolleg\",\n",
    "                                               \"BILIMST-4\": \"Akademie/Hochschule\",\n",
    "                                               \"BILIMST-99\": \"N/A\"})\n",
    "\n",
    "dataset2[\"ErwerbStatus\"] = dataset2[\"ErwerbStatus\"].map({\"ESIMST-1\": 1,\n",
    "                                                         \"ESIMST-2\": 0})\n",
    "\n",
    "dataset2.sample(10)"
   ],
   "metadata": {
    "colab": {
     "base_uri": "https://localhost:8080/",
     "height": 363
    },
    "id": "nQFq6Pmxs2i-",
    "outputId": "a0c5ff3e-77fd-4ab4-e7e2-205ad5a27eab",
    "ExecuteTime": {
     "end_time": "2024-01-19T08:44:35.352521Z",
     "start_time": "2024-01-19T08:44:35.172532100Z"
    }
   },
   "execution_count": 12,
   "outputs": [
    {
     "data": {
      "text/plain": "          Bundesland              Bildung     Altersgr  ErwerbStatus  \\\n1311            Wien       BHS/AHS/Kolleg  ALT10IMST-4             1   \n1224      Vorarlberg                  N/A  ALT10IMST-5             1   \n1312            Wien       BHS/AHS/Kolleg  ALT10IMST-4             0   \n1023           Tirol       BHS/AHS/Kolleg  ALT10IMST-7             0   \n297          Kärnten                  N/A  ALT10IMST-6             1   \n1039           Tirol  Akademie/Hochschule  ALT10IMST-5             0   \n539   Oberösterreich       BHS/AHS/Kolleg  ALT10IMST-5             0   \n1047           Tirol  Akademie/Hochschule  ALT10IMST-6             0   \n1242      Vorarlberg                  N/A  ALT10IMST-7             0   \n142       Burgenland                  N/A  ALT10IMST-6             1   \n\n      GeimpftGenesen   Anz  \n1311               0  6288  \n1224               1     7  \n1312               1  6930  \n1023               1  1799  \n297                0     3  \n1039               1  1072  \n539                2   851  \n1047               1   526  \n1242               1     5  \n142                2     3  ",
      "text/html": "<div>\n<style scoped>\n    .dataframe tbody tr th:only-of-type {\n        vertical-align: middle;\n    }\n\n    .dataframe tbody tr th {\n        vertical-align: top;\n    }\n\n    .dataframe thead th {\n        text-align: right;\n    }\n</style>\n<table border=\"1\" class=\"dataframe\">\n  <thead>\n    <tr style=\"text-align: right;\">\n      <th></th>\n      <th>Bundesland</th>\n      <th>Bildung</th>\n      <th>Altersgr</th>\n      <th>ErwerbStatus</th>\n      <th>GeimpftGenesen</th>\n      <th>Anz</th>\n    </tr>\n  </thead>\n  <tbody>\n    <tr>\n      <th>1311</th>\n      <td>Wien</td>\n      <td>BHS/AHS/Kolleg</td>\n      <td>ALT10IMST-4</td>\n      <td>1</td>\n      <td>0</td>\n      <td>6288</td>\n    </tr>\n    <tr>\n      <th>1224</th>\n      <td>Vorarlberg</td>\n      <td>N/A</td>\n      <td>ALT10IMST-5</td>\n      <td>1</td>\n      <td>1</td>\n      <td>7</td>\n    </tr>\n    <tr>\n      <th>1312</th>\n      <td>Wien</td>\n      <td>BHS/AHS/Kolleg</td>\n      <td>ALT10IMST-4</td>\n      <td>0</td>\n      <td>1</td>\n      <td>6930</td>\n    </tr>\n    <tr>\n      <th>1023</th>\n      <td>Tirol</td>\n      <td>BHS/AHS/Kolleg</td>\n      <td>ALT10IMST-7</td>\n      <td>0</td>\n      <td>1</td>\n      <td>1799</td>\n    </tr>\n    <tr>\n      <th>297</th>\n      <td>Kärnten</td>\n      <td>N/A</td>\n      <td>ALT10IMST-6</td>\n      <td>1</td>\n      <td>0</td>\n      <td>3</td>\n    </tr>\n    <tr>\n      <th>1039</th>\n      <td>Tirol</td>\n      <td>Akademie/Hochschule</td>\n      <td>ALT10IMST-5</td>\n      <td>0</td>\n      <td>1</td>\n      <td>1072</td>\n    </tr>\n    <tr>\n      <th>539</th>\n      <td>Oberösterreich</td>\n      <td>BHS/AHS/Kolleg</td>\n      <td>ALT10IMST-5</td>\n      <td>0</td>\n      <td>2</td>\n      <td>851</td>\n    </tr>\n    <tr>\n      <th>1047</th>\n      <td>Tirol</td>\n      <td>Akademie/Hochschule</td>\n      <td>ALT10IMST-6</td>\n      <td>0</td>\n      <td>1</td>\n      <td>526</td>\n    </tr>\n    <tr>\n      <th>1242</th>\n      <td>Vorarlberg</td>\n      <td>N/A</td>\n      <td>ALT10IMST-7</td>\n      <td>0</td>\n      <td>1</td>\n      <td>5</td>\n    </tr>\n    <tr>\n      <th>142</th>\n      <td>Burgenland</td>\n      <td>N/A</td>\n      <td>ALT10IMST-6</td>\n      <td>1</td>\n      <td>2</td>\n      <td>3</td>\n    </tr>\n  </tbody>\n</table>\n</div>"
     },
     "execution_count": 12,
     "metadata": {},
     "output_type": "execute_result"
    }
   ]
  },
  {
   "cell_type": "markdown",
   "source": [
    "## Duplicate Data"
   ],
   "metadata": {
    "id": "uIajRH5HATLm"
   }
  },
  {
   "cell_type": "code",
   "source": [
    "dataset1[\"Anz\"].sum()"
   ],
   "metadata": {
    "colab": {
     "base_uri": "https://localhost:8080/"
    },
    "id": "dSlWSzYR7e9f",
    "outputId": "54f21b48-4cde-4b90-cc5a-a1f52cff8cc5",
    "ExecuteTime": {
     "end_time": "2024-01-19T08:44:35.353520600Z",
     "start_time": "2024-01-19T08:44:35.183782700Z"
    }
   },
   "execution_count": 13,
   "outputs": [
    {
     "data": {
      "text/plain": "34645644"
     },
     "execution_count": 13,
     "metadata": {},
     "output_type": "execute_result"
    }
   ]
  },
  {
   "cell_type": "markdown",
   "source": [
    "In the above code we can see that the sum of records is approximately 4 times the total population of Austria. This strongly suggests that there may be duplicate data. And exactly that is the case: In ``PolBez`` there are records for each province and also for each federal country. This duplicate is not necessary, since one province can easily be assigned to its federal country (e.g. ``BEZIMST-304`` (= Wiener Neustadt) must be in ``B00-3`` (=Niederoesterreich)). So the records for the federal countries can be removed."
   ],
   "metadata": {
    "id": "dEn-2wDz7jUL"
   }
  },
  {
   "cell_type": "code",
   "source": [
    "dataset1 = dataset1.loc[dataset1[\"PolBez\"].map(lambda val: \"BEZIMST\" in val)] #only provinces have the prefix BEZIMST\n",
    "dataset1[\"Anz\"].sum()"
   ],
   "metadata": {
    "colab": {
     "base_uri": "https://localhost:8080/"
    },
    "id": "UhduHT9j9hkT",
    "outputId": "c97cf443-a8a8-45c1-d750-e94aa8a84dfc",
    "ExecuteTime": {
     "end_time": "2024-01-19T08:44:35.363522Z",
     "start_time": "2024-01-19T08:44:35.188010200Z"
    }
   },
   "execution_count": 14,
   "outputs": [
    {
     "data": {
      "text/plain": "17322822"
     },
     "execution_count": 14,
     "metadata": {},
     "output_type": "execute_result"
    }
   ]
  },
  {
   "cell_type": "markdown",
   "source": [
    "The above code still returns an amount which is twice as big as Austria's population. Similairly, the column ``Altersgr`` has duplicate records for different age groups. We can remove the non-specific records."
   ],
   "metadata": {
    "id": "9YqvKyrt-8pM"
   }
  },
  {
   "cell_type": "code",
   "source": [
    "dataset1 = dataset1.loc[dataset1[\"Altersgr\"].map(lambda val: \"ALT10IMST\" in val)] #only groups with prefix ALTGRIMST\n",
    "dataset1[\"Anz\"].sum()"
   ],
   "metadata": {
    "colab": {
     "base_uri": "https://localhost:8080/"
    },
    "id": "ix7rrnHc_xZ9",
    "outputId": "dea7debe-d63d-40cd-cd3c-bb7c68f86bbe",
    "ExecuteTime": {
     "end_time": "2024-01-19T08:44:35.364521400Z",
     "start_time": "2024-01-19T08:44:35.204864800Z"
    }
   },
   "execution_count": 15,
   "outputs": [
    {
     "data": {
      "text/plain": "8661411"
     },
     "execution_count": 15,
     "metadata": {},
     "output_type": "execute_result"
    }
   ]
  },
  {
   "cell_type": "markdown",
   "source": [
    "Now we have removed all duplicate values. Let's continue cleaning our data.\n",
    "## Null Values"
   ],
   "metadata": {
    "id": "DFirC0vsAKcb"
   }
  },
  {
   "cell_type": "code",
   "source": [
    "dataset1.isnull().sum()"
   ],
   "metadata": {
    "colab": {
     "base_uri": "https://localhost:8080/"
    },
    "id": "47idnUU9Ak3n",
    "outputId": "c0532026-d848-41fd-c4e8-846dc1f0c816",
    "ExecuteTime": {
     "end_time": "2024-01-19T08:44:35.366522600Z",
     "start_time": "2024-01-19T08:44:35.215913Z"
    }
   },
   "execution_count": 16,
   "outputs": [
    {
     "data": {
      "text/plain": "PolBez            0\nAltersgr          0\nGebLand           0\nGeschl            0\nGeimpftGenesen    0\nAnz               0\ndtype: int64"
     },
     "execution_count": 16,
     "metadata": {},
     "output_type": "execute_result"
    }
   ]
  },
  {
   "cell_type": "markdown",
   "source": [],
   "metadata": {
    "id": "IBCfoU-PIhKr"
   }
  },
  {
   "cell_type": "code",
   "source": [
    "dataset2.isnull().sum()"
   ],
   "metadata": {
    "colab": {
     "base_uri": "https://localhost:8080/"
    },
    "id": "_BVxuSZ0BT-7",
    "outputId": "8f743b02-7811-47c9-b47d-df8069152447",
    "ExecuteTime": {
     "end_time": "2024-01-19T08:44:35.366522600Z",
     "start_time": "2024-01-19T08:44:35.226178400Z"
    }
   },
   "execution_count": 17,
   "outputs": [
    {
     "data": {
      "text/plain": "Bundesland        0\nBildung           0\nAltersgr          0\nErwerbStatus      0\nGeimpftGenesen    0\nAnz               0\ndtype: int64"
     },
     "execution_count": 17,
     "metadata": {},
     "output_type": "execute_result"
    }
   ]
  },
  {
   "cell_type": "markdown",
   "source": [
    "Since there are no null values, we can continue. (Es gibt null values in Bildung -- gekennzeichnet mit ``BILIMST-99`` siehe unten, KA wie behandeln (°~°))"
   ],
   "metadata": {
    "id": "FtMMCEh1BY42"
   }
  },
  {
   "cell_type": "code",
   "source": [
    "dataset2[\"Bildung\"].value_counts()"
   ],
   "metadata": {
    "colab": {
     "base_uri": "https://localhost:8080/"
    },
    "id": "Suy_qulEBdES",
    "outputId": "7a968a1f-042d-4859-a6e4-f3c59a69c64a",
    "ExecuteTime": {
     "end_time": "2024-01-19T08:44:35.367521800Z",
     "start_time": "2024-01-19T08:44:35.232863100Z"
    }
   },
   "execution_count": 18,
   "outputs": [
    {
     "data": {
      "text/plain": "Bildung\nPflichtschule          288\nLehrabschluss/BMS      288\nBHS/AHS/Kolleg         288\nAkademie/Hochschule    288\nN/A                    252\nName: count, dtype: int64"
     },
     "execution_count": 18,
     "metadata": {},
     "output_type": "execute_result"
    }
   ]
  },
  {
   "cell_type": "markdown",
   "source": [
    "After this we are done cleaning our data and can save it into two datasets. ``korr1.csv`` for ``dataset1.csv`` and ``korr2.csv`` for ``dataset2.csv``"
   ],
   "metadata": {
    "id": "zEgugeGcH7A-"
   }
  },
  {
   "cell_type": "code",
   "source": [
    "dataset1.to_csv(\"./output/korr1.csv\", sep=\";\")\n",
    "dataset2.to_csv(\"./output/korr2.csv\", sep=\";\")"
   ],
   "metadata": {
    "id": "DdTWt4OsW48V",
    "ExecuteTime": {
     "end_time": "2024-01-19T08:53:03.515141700Z",
     "start_time": "2024-01-19T08:53:03.480073800Z"
    }
   },
   "execution_count": 23,
   "outputs": []
  },
  {
   "cell_type": "markdown",
   "source": [
    "Now, let's look at our cleaned data."
   ],
   "metadata": {
    "collapsed": false
   }
  },
  {
   "cell_type": "code",
   "outputs": [
    {
     "data": {
      "text/plain": "            PolBez     Altersgr  GebLand Geschl  GeimpftGenesen  Anz\n27614  BEZIMST-504  ALT10IMST-5   INLAND      m               3  758\n6759   BEZIMST-208  ALT10IMST-2  AUSLAND      f               3    7\n811    BEZIMST-199  ALT10IMST-8   INLAND      m               3  511\n40142  BEZIMST-901  ALT10IMST-3   INLAND      f               3  149\n5994   BEZIMST-206  ALT10IMST-8  AUSLAND      f               2   24",
      "text/html": "<div>\n<style scoped>\n    .dataframe tbody tr th:only-of-type {\n        vertical-align: middle;\n    }\n\n    .dataframe tbody tr th {\n        vertical-align: top;\n    }\n\n    .dataframe thead th {\n        text-align: right;\n    }\n</style>\n<table border=\"1\" class=\"dataframe\">\n  <thead>\n    <tr style=\"text-align: right;\">\n      <th></th>\n      <th>PolBez</th>\n      <th>Altersgr</th>\n      <th>GebLand</th>\n      <th>Geschl</th>\n      <th>GeimpftGenesen</th>\n      <th>Anz</th>\n    </tr>\n  </thead>\n  <tbody>\n    <tr>\n      <th>27614</th>\n      <td>BEZIMST-504</td>\n      <td>ALT10IMST-5</td>\n      <td>INLAND</td>\n      <td>m</td>\n      <td>3</td>\n      <td>758</td>\n    </tr>\n    <tr>\n      <th>6759</th>\n      <td>BEZIMST-208</td>\n      <td>ALT10IMST-2</td>\n      <td>AUSLAND</td>\n      <td>f</td>\n      <td>3</td>\n      <td>7</td>\n    </tr>\n    <tr>\n      <th>811</th>\n      <td>BEZIMST-199</td>\n      <td>ALT10IMST-8</td>\n      <td>INLAND</td>\n      <td>m</td>\n      <td>3</td>\n      <td>511</td>\n    </tr>\n    <tr>\n      <th>40142</th>\n      <td>BEZIMST-901</td>\n      <td>ALT10IMST-3</td>\n      <td>INLAND</td>\n      <td>f</td>\n      <td>3</td>\n      <td>149</td>\n    </tr>\n    <tr>\n      <th>5994</th>\n      <td>BEZIMST-206</td>\n      <td>ALT10IMST-8</td>\n      <td>AUSLAND</td>\n      <td>f</td>\n      <td>2</td>\n      <td>24</td>\n    </tr>\n  </tbody>\n</table>\n</div>"
     },
     "execution_count": 25,
     "metadata": {},
     "output_type": "execute_result"
    }
   ],
   "source": [
    "dataset1.sample(5)"
   ],
   "metadata": {
    "collapsed": false,
    "ExecuteTime": {
     "end_time": "2024-01-19T09:07:57.700368900Z",
     "start_time": "2024-01-19T09:07:57.687766100Z"
    }
   },
   "execution_count": 25
  },
  {
   "cell_type": "code",
   "outputs": [
    {
     "data": {
      "text/plain": "           Bundesland              Bildung     Altersgr  ErwerbStatus  \\\n180           Kärnten        Pflichtschule  ALT10IMST-7             0   \n570    Oberösterreich  Akademie/Hochschule  ALT10IMST-5             0   \n405  Niederösterreich  Akademie/Hochschule  ALT10IMST-4             0   \n574    Oberösterreich  Akademie/Hochschule  ALT10IMST-6             1   \n374  Niederösterreich       BHS/AHS/Kolleg  ALT10IMST-4             0   \n\n     GeimpftGenesen   Anz  \n180               2   631  \n570               3   815  \n405               1  2682  \n574               3  8343  \n374               3  1613  ",
      "text/html": "<div>\n<style scoped>\n    .dataframe tbody tr th:only-of-type {\n        vertical-align: middle;\n    }\n\n    .dataframe tbody tr th {\n        vertical-align: top;\n    }\n\n    .dataframe thead th {\n        text-align: right;\n    }\n</style>\n<table border=\"1\" class=\"dataframe\">\n  <thead>\n    <tr style=\"text-align: right;\">\n      <th></th>\n      <th>Bundesland</th>\n      <th>Bildung</th>\n      <th>Altersgr</th>\n      <th>ErwerbStatus</th>\n      <th>GeimpftGenesen</th>\n      <th>Anz</th>\n    </tr>\n  </thead>\n  <tbody>\n    <tr>\n      <th>180</th>\n      <td>Kärnten</td>\n      <td>Pflichtschule</td>\n      <td>ALT10IMST-7</td>\n      <td>0</td>\n      <td>2</td>\n      <td>631</td>\n    </tr>\n    <tr>\n      <th>570</th>\n      <td>Oberösterreich</td>\n      <td>Akademie/Hochschule</td>\n      <td>ALT10IMST-5</td>\n      <td>0</td>\n      <td>3</td>\n      <td>815</td>\n    </tr>\n    <tr>\n      <th>405</th>\n      <td>Niederösterreich</td>\n      <td>Akademie/Hochschule</td>\n      <td>ALT10IMST-4</td>\n      <td>0</td>\n      <td>1</td>\n      <td>2682</td>\n    </tr>\n    <tr>\n      <th>574</th>\n      <td>Oberösterreich</td>\n      <td>Akademie/Hochschule</td>\n      <td>ALT10IMST-6</td>\n      <td>1</td>\n      <td>3</td>\n      <td>8343</td>\n    </tr>\n    <tr>\n      <th>374</th>\n      <td>Niederösterreich</td>\n      <td>BHS/AHS/Kolleg</td>\n      <td>ALT10IMST-4</td>\n      <td>0</td>\n      <td>3</td>\n      <td>1613</td>\n    </tr>\n  </tbody>\n</table>\n</div>"
     },
     "execution_count": 26,
     "metadata": {},
     "output_type": "execute_result"
    }
   ],
   "source": [
    "dataset2.sample(5)"
   ],
   "metadata": {
    "collapsed": false,
    "ExecuteTime": {
     "end_time": "2024-01-19T09:08:39.655066900Z",
     "start_time": "2024-01-19T09:08:39.647911500Z"
    }
   },
   "execution_count": 26
  },
  {
   "cell_type": "markdown",
   "source": [
    "# Data Preparation\n",
    "## Numerical Values\n",
    "### Dataset 1\n",
    "For ``PolBez`` we take the number in the current values as the numerical value.\n",
    "For ``Altersgr`` we take the mean value of the min and max of the age group."
   ],
   "metadata": {
    "id": "5aTnxhnNXthS"
   }
  },
  {
   "cell_type": "code",
   "source": [
    "dataset1[\"PolBez\"] = dataset1[\"PolBez\"].map(lambda val: int(val[-3:]))\n",
    "dataset1[\"Altersgr\"] = dataset1[\"Altersgr\"].map(lambda val: (int(val.split(\"-\")[0]) - int(val.split(\"-\")[1])) / 2)\n"
   ],
   "metadata": {
    "colab": {
     "base_uri": "https://localhost:8080/"
    },
    "id": "-ALRqVH3gHiW",
    "outputId": "38e67ddb-45e3-486e-c225-08d4639bc310",
    "ExecuteTime": {
     "end_time": "2024-01-19T08:52:40.430652600Z",
     "start_time": "2024-01-19T08:52:40.415568900Z"
    }
   },
   "execution_count": 22,
   "outputs": [
    {
     "name": "stdout",
     "output_type": "stream",
     "text": [
      "<class 'pandas.core.frame.DataFrame'>\n",
      "Index: 17694 entries, 275 to 49980\n",
      "Data columns (total 6 columns):\n",
      " #   Column          Non-Null Count  Dtype \n",
      "---  ------          --------------  ----- \n",
      " 0   PolBez          17694 non-null  object\n",
      " 1   Altersgr        17694 non-null  object\n",
      " 2   GebLand         17694 non-null  object\n",
      " 3   Geschl          17694 non-null  object\n",
      " 4   GeimpftGenesen  17694 non-null  int64 \n",
      " 5   Anz             17694 non-null  int64 \n",
      "dtypes: int64(2), object(4)\n",
      "memory usage: 967.6+ KB\n"
     ]
    }
   ]
  }
 ]
}
