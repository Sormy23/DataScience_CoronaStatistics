{
 "nbformat": 4,
 "nbformat_minor": 0,
 "metadata": {
  "colab": {
   "provenance": [],
   "toc_visible": true,
   "include_colab_link": true
  },
  "kernelspec": {
   "name": "python3",
   "language": "python",
   "display_name": "Python 3 (ipykernel)"
  },
  "language_info": {
   "name": "python"
  }
 },
 "cells": [
  {
   "cell_type": "markdown",
   "source": [
    "# Covid Status\n",
    "This Data Science project by Sven Oberwalder and Yasin Sahin analyzes the development of the corona pandemic based on input data provided by Statistik Austria\n",
    "\n",
    "The Datasets can be found here:\n",
    "### [Dataset 1](https://data.statistik.gv.at/web/meta.jsp?dataset=OGD_covidggstatus2_GGSTATUS_2)\n",
    "\n",
    "### [Dataset 2](https://data.statistik.gv.at/web/meta.jsp?dataset=OGD_covidggstatus_GGSTATUS_1)"
   ],
   "metadata": {
    "id": "M66WWyDhkRqD"
   }
  },
  {
   "cell_type": "code",
   "execution_count": 62,
   "metadata": {
    "id": "5L8DRvCTyJfY",
    "ExecuteTime": {
     "end_time": "2024-01-19T21:04:20.603784500Z",
     "start_time": "2024-01-19T21:04:20.442203300Z"
    }
   },
   "outputs": [],
   "source": [
    "import numpy as np\n",
    "import pandas as pd\n",
    "\n",
    "import matplotlib.pyplot as plt\n",
    "import seaborn as sns"
   ]
  },
  {
   "cell_type": "markdown",
   "source": [
    "# Initial Data Analysis and Import\n",
    "Dataset 1 has following attributes:\n",
    "* **C-BEZIMST-0** Politischer Bezirk (PolBez)\n",
    "* **C-ALTGRIMST-0** 10-years age group (Altersgr)\n",
    "* **C-GLIMST-0** Country of Birth (GebLand)\n",
    "* **C-C11-0** Sex (Geschl)\n",
    "* **C-IMST-0** COVID-19 vaccinated-recovered-status (GeimpftGenesen)\n",
    "* **F-DATA** Number of records (Anz)\n",
    "\n",
    "Dataset 2 has following attributes:\n",
    "* **C-B00-0** Federal country (Bundesland)\n",
    "* **C-BILIMST-0** Education (Bildung)\n",
    "* **C-ALTGRIMST-0** 10-years age group (Altersgr)\n",
    "* **C-ESIMST-0** Economic status (ErwerbStatus)\n",
    "* **C-IMST-0** COVID-19 vaccinated-recovered-status (GeimpftGenesen)\n",
    "* **F-DATA** Number of records (Anz)\n",
    "\n",
    "In below code, the datasets need to be imported and the attributes must be renamed to more meaningful names. Since the data is separated by semi-colons (;), we need to specify that when importing the csv-files. Furthermore, a simple Std-Analysis has to be conducted, to ensure the progress."
   ],
   "metadata": {
    "collapsed": false
   }
  },
  {
   "cell_type": "code",
   "outputs": [],
   "source": [
    "#import databases\n",
    "dataset1 = pd.read_csv(\"./data/dataset1.csv\", sep=\";\")\n",
    "dataset2 = pd.read_csv(\"./data/dataset2.csv\", sep=\";\")\n",
    "\n",
    "#rename attributes\n",
    "dataset1.rename(columns={\"C-BEZIMST-0\": \"PolBez\",\n",
    "                         \"C-ALTGRIMST-0\": \"Altersgr\",\n",
    "                         \"C-GLIMST-0\": \"GebLand\",\n",
    "                         \"C-C11-0\": \"Geschl\",\n",
    "                         \"C-IMST-0\": \"GeimpftGenesen\",\n",
    "                         \"F-DATA\": \"Anz\"}, inplace=True)\n",
    "dataset2.rename(columns={\"C-B00-0\": \"Bundesland\",\n",
    "                         \"C-BILIMST-0\": \"Bildung\",\n",
    "                         \"C-ALTGRIMST-0\": \"Altersgr\",\n",
    "                         \"C-ESIMST-0\": \"ErwerbStatus\",\n",
    "                         \"C-IMST-0\": \"GeimpftGenesen\",\n",
    "                         \"F-DATA\": \"Anz\"}, inplace=True)\n"
   ],
   "metadata": {
    "collapsed": false,
    "ExecuteTime": {
     "end_time": "2024-01-19T21:04:20.680004800Z",
     "start_time": "2024-01-19T21:04:20.606784300Z"
    }
   },
   "execution_count": 63
  },
  {
   "cell_type": "markdown",
   "source": [
    "## Std-Analysis for Dataset 1"
   ],
   "metadata": {
    "collapsed": false
   }
  },
  {
   "cell_type": "code",
   "outputs": [
    {
     "data": {
      "text/plain": "            PolBez      Altersgr   GebLand Geschl GeimpftGenesen  Anz\n30195  BEZIMST-610   ALT10IMST-4  GLIMST-2  C11-2         IMST-2   86\n19261  BEZIMST-403  ALTGRIMST-17  GLIMST-1  C11-2         IMST-1  804\n45506  BEZIMST-913   ALT10IMST-7  GLIMST-2  C11-2         IMST-3   97\n20580  BEZIMST-406  ALTGRIMST-18  GLIMST-2  C11-1         IMST-4    3\n21611  BEZIMST-409   ALTGRIMST-1  GLIMST-2  C11-2         IMST-4   13",
      "text/html": "<div>\n<style scoped>\n    .dataframe tbody tr th:only-of-type {\n        vertical-align: middle;\n    }\n\n    .dataframe tbody tr th {\n        vertical-align: top;\n    }\n\n    .dataframe thead th {\n        text-align: right;\n    }\n</style>\n<table border=\"1\" class=\"dataframe\">\n  <thead>\n    <tr style=\"text-align: right;\">\n      <th></th>\n      <th>PolBez</th>\n      <th>Altersgr</th>\n      <th>GebLand</th>\n      <th>Geschl</th>\n      <th>GeimpftGenesen</th>\n      <th>Anz</th>\n    </tr>\n  </thead>\n  <tbody>\n    <tr>\n      <th>30195</th>\n      <td>BEZIMST-610</td>\n      <td>ALT10IMST-4</td>\n      <td>GLIMST-2</td>\n      <td>C11-2</td>\n      <td>IMST-2</td>\n      <td>86</td>\n    </tr>\n    <tr>\n      <th>19261</th>\n      <td>BEZIMST-403</td>\n      <td>ALTGRIMST-17</td>\n      <td>GLIMST-1</td>\n      <td>C11-2</td>\n      <td>IMST-1</td>\n      <td>804</td>\n    </tr>\n    <tr>\n      <th>45506</th>\n      <td>BEZIMST-913</td>\n      <td>ALT10IMST-7</td>\n      <td>GLIMST-2</td>\n      <td>C11-2</td>\n      <td>IMST-3</td>\n      <td>97</td>\n    </tr>\n    <tr>\n      <th>20580</th>\n      <td>BEZIMST-406</td>\n      <td>ALTGRIMST-18</td>\n      <td>GLIMST-2</td>\n      <td>C11-1</td>\n      <td>IMST-4</td>\n      <td>3</td>\n    </tr>\n    <tr>\n      <th>21611</th>\n      <td>BEZIMST-409</td>\n      <td>ALTGRIMST-1</td>\n      <td>GLIMST-2</td>\n      <td>C11-2</td>\n      <td>IMST-4</td>\n      <td>13</td>\n    </tr>\n  </tbody>\n</table>\n</div>"
     },
     "execution_count": 64,
     "metadata": {},
     "output_type": "execute_result"
    }
   ],
   "source": [
    "dataset1.sample(5)"
   ],
   "metadata": {
    "collapsed": false,
    "ExecuteTime": {
     "end_time": "2024-01-19T21:04:20.682006300Z",
     "start_time": "2024-01-19T21:04:20.642243400Z"
    }
   },
   "execution_count": 64
  },
  {
   "cell_type": "markdown",
   "source": [
    "We immediately recognize that all values have a certain code (Except for Anz)"
   ],
   "metadata": {
    "collapsed": false
   }
  },
  {
   "cell_type": "code",
   "outputs": [
    {
     "data": {
      "text/plain": "        PolBez     Altersgr   GebLand Geschl GeimpftGenesen  Anz\n0  BEZIMST-101  ALTGRIMST-1  GLIMST-1  C11-1         IMST-1    1\n1  BEZIMST-101  ALTGRIMST-1  GLIMST-1  C11-1         IMST-3   80\n2  BEZIMST-101  ALTGRIMST-1  GLIMST-1  C11-1         IMST-4  216\n3  BEZIMST-101  ALTGRIMST-1  GLIMST-1  C11-2         IMST-1    2\n4  BEZIMST-101  ALTGRIMST-1  GLIMST-1  C11-2         IMST-3   86",
      "text/html": "<div>\n<style scoped>\n    .dataframe tbody tr th:only-of-type {\n        vertical-align: middle;\n    }\n\n    .dataframe tbody tr th {\n        vertical-align: top;\n    }\n\n    .dataframe thead th {\n        text-align: right;\n    }\n</style>\n<table border=\"1\" class=\"dataframe\">\n  <thead>\n    <tr style=\"text-align: right;\">\n      <th></th>\n      <th>PolBez</th>\n      <th>Altersgr</th>\n      <th>GebLand</th>\n      <th>Geschl</th>\n      <th>GeimpftGenesen</th>\n      <th>Anz</th>\n    </tr>\n  </thead>\n  <tbody>\n    <tr>\n      <th>0</th>\n      <td>BEZIMST-101</td>\n      <td>ALTGRIMST-1</td>\n      <td>GLIMST-1</td>\n      <td>C11-1</td>\n      <td>IMST-1</td>\n      <td>1</td>\n    </tr>\n    <tr>\n      <th>1</th>\n      <td>BEZIMST-101</td>\n      <td>ALTGRIMST-1</td>\n      <td>GLIMST-1</td>\n      <td>C11-1</td>\n      <td>IMST-3</td>\n      <td>80</td>\n    </tr>\n    <tr>\n      <th>2</th>\n      <td>BEZIMST-101</td>\n      <td>ALTGRIMST-1</td>\n      <td>GLIMST-1</td>\n      <td>C11-1</td>\n      <td>IMST-4</td>\n      <td>216</td>\n    </tr>\n    <tr>\n      <th>3</th>\n      <td>BEZIMST-101</td>\n      <td>ALTGRIMST-1</td>\n      <td>GLIMST-1</td>\n      <td>C11-2</td>\n      <td>IMST-1</td>\n      <td>2</td>\n    </tr>\n    <tr>\n      <th>4</th>\n      <td>BEZIMST-101</td>\n      <td>ALTGRIMST-1</td>\n      <td>GLIMST-1</td>\n      <td>C11-2</td>\n      <td>IMST-3</td>\n      <td>86</td>\n    </tr>\n  </tbody>\n</table>\n</div>"
     },
     "execution_count": 65,
     "metadata": {},
     "output_type": "execute_result"
    }
   ],
   "source": [
    "dataset1.head(5)"
   ],
   "metadata": {
    "collapsed": false,
    "ExecuteTime": {
     "end_time": "2024-01-19T21:04:20.682006300Z",
     "start_time": "2024-01-19T21:04:20.649019900Z"
    }
   },
   "execution_count": 65
  },
  {
   "cell_type": "code",
   "outputs": [
    {
     "name": "stdout",
     "output_type": "stream",
     "text": [
      "<class 'pandas.core.frame.DataFrame'>\n",
      "RangeIndex: 53961 entries, 0 to 53960\n",
      "Data columns (total 6 columns):\n",
      " #   Column          Non-Null Count  Dtype \n",
      "---  ------          --------------  ----- \n",
      " 0   PolBez          53961 non-null  object\n",
      " 1   Altersgr        53961 non-null  object\n",
      " 2   GebLand         53961 non-null  object\n",
      " 3   Geschl          53961 non-null  object\n",
      " 4   GeimpftGenesen  53961 non-null  object\n",
      " 5   Anz             53961 non-null  int64 \n",
      "dtypes: int64(1), object(5)\n",
      "memory usage: 2.5+ MB\n"
     ]
    }
   ],
   "source": [
    "dataset1.info()"
   ],
   "metadata": {
    "collapsed": false,
    "ExecuteTime": {
     "end_time": "2024-01-19T21:04:20.753196100Z",
     "start_time": "2024-01-19T21:04:20.684004700Z"
    }
   },
   "execution_count": 66
  },
  {
   "cell_type": "markdown",
   "source": [
    "There are no null-values for this dataset, which is positive for future analysis."
   ],
   "metadata": {
    "collapsed": false
   }
  },
  {
   "cell_type": "code",
   "outputs": [
    {
     "data": {
      "text/plain": "                Anz\ncount  53961.000000\nmean     642.049703\nstd     2171.148389\nmin        1.000000\n25%       44.000000\n50%      169.000000\n75%      508.000000\nmax    70338.000000",
      "text/html": "<div>\n<style scoped>\n    .dataframe tbody tr th:only-of-type {\n        vertical-align: middle;\n    }\n\n    .dataframe tbody tr th {\n        vertical-align: top;\n    }\n\n    .dataframe thead th {\n        text-align: right;\n    }\n</style>\n<table border=\"1\" class=\"dataframe\">\n  <thead>\n    <tr style=\"text-align: right;\">\n      <th></th>\n      <th>Anz</th>\n    </tr>\n  </thead>\n  <tbody>\n    <tr>\n      <th>count</th>\n      <td>53961.000000</td>\n    </tr>\n    <tr>\n      <th>mean</th>\n      <td>642.049703</td>\n    </tr>\n    <tr>\n      <th>std</th>\n      <td>2171.148389</td>\n    </tr>\n    <tr>\n      <th>min</th>\n      <td>1.000000</td>\n    </tr>\n    <tr>\n      <th>25%</th>\n      <td>44.000000</td>\n    </tr>\n    <tr>\n      <th>50%</th>\n      <td>169.000000</td>\n    </tr>\n    <tr>\n      <th>75%</th>\n      <td>508.000000</td>\n    </tr>\n    <tr>\n      <th>max</th>\n      <td>70338.000000</td>\n    </tr>\n  </tbody>\n</table>\n</div>"
     },
     "execution_count": 67,
     "metadata": {},
     "output_type": "execute_result"
    }
   ],
   "source": [
    "dataset1.describe()"
   ],
   "metadata": {
    "collapsed": false,
    "ExecuteTime": {
     "end_time": "2024-01-19T21:04:20.807244600Z",
     "start_time": "2024-01-19T21:04:20.735972600Z"
    }
   },
   "execution_count": 67
  },
  {
   "cell_type": "markdown",
   "source": [
    "## Std-Analysis for Dataset 2"
   ],
   "metadata": {
    "collapsed": false
   }
  },
  {
   "cell_type": "code",
   "outputs": [
    {
     "data": {
      "text/plain": "     Bundesland     Bildung     Altersgr ErwerbStatus GeimpftGenesen   Anz\n936       B00-7   BILIMST-1  ALT10IMST-4     ESIMST-2         IMST-2   372\n384       B00-3   BILIMST-3  ALT10IMST-5     ESIMST-2         IMST-4  1064\n1373      B00-9  BILIMST-99  ALT10IMST-4     ESIMST-1         IMST-2    20\n798       B00-6   BILIMST-1  ALT10IMST-6     ESIMST-2         IMST-4  2045\n1004      B00-7   BILIMST-3  ALT10IMST-5     ESIMST-1         IMST-2  3514",
      "text/html": "<div>\n<style scoped>\n    .dataframe tbody tr th:only-of-type {\n        vertical-align: middle;\n    }\n\n    .dataframe tbody tr th {\n        vertical-align: top;\n    }\n\n    .dataframe thead th {\n        text-align: right;\n    }\n</style>\n<table border=\"1\" class=\"dataframe\">\n  <thead>\n    <tr style=\"text-align: right;\">\n      <th></th>\n      <th>Bundesland</th>\n      <th>Bildung</th>\n      <th>Altersgr</th>\n      <th>ErwerbStatus</th>\n      <th>GeimpftGenesen</th>\n      <th>Anz</th>\n    </tr>\n  </thead>\n  <tbody>\n    <tr>\n      <th>936</th>\n      <td>B00-7</td>\n      <td>BILIMST-1</td>\n      <td>ALT10IMST-4</td>\n      <td>ESIMST-2</td>\n      <td>IMST-2</td>\n      <td>372</td>\n    </tr>\n    <tr>\n      <th>384</th>\n      <td>B00-3</td>\n      <td>BILIMST-3</td>\n      <td>ALT10IMST-5</td>\n      <td>ESIMST-2</td>\n      <td>IMST-4</td>\n      <td>1064</td>\n    </tr>\n    <tr>\n      <th>1373</th>\n      <td>B00-9</td>\n      <td>BILIMST-99</td>\n      <td>ALT10IMST-4</td>\n      <td>ESIMST-1</td>\n      <td>IMST-2</td>\n      <td>20</td>\n    </tr>\n    <tr>\n      <th>798</th>\n      <td>B00-6</td>\n      <td>BILIMST-1</td>\n      <td>ALT10IMST-6</td>\n      <td>ESIMST-2</td>\n      <td>IMST-4</td>\n      <td>2045</td>\n    </tr>\n    <tr>\n      <th>1004</th>\n      <td>B00-7</td>\n      <td>BILIMST-3</td>\n      <td>ALT10IMST-5</td>\n      <td>ESIMST-1</td>\n      <td>IMST-2</td>\n      <td>3514</td>\n    </tr>\n  </tbody>\n</table>\n</div>"
     },
     "execution_count": 68,
     "metadata": {},
     "output_type": "execute_result"
    }
   ],
   "source": [
    "dataset2.sample(5)"
   ],
   "metadata": {
    "collapsed": false,
    "ExecuteTime": {
     "end_time": "2024-01-19T21:04:20.910303700Z",
     "start_time": "2024-01-19T21:04:20.809244500Z"
    }
   },
   "execution_count": 68
  },
  {
   "cell_type": "markdown",
   "source": [
    "Same here: Every value is its own code and needs to be converted, to understand the dataset better."
   ],
   "metadata": {
    "collapsed": false
   }
  },
  {
   "cell_type": "code",
   "outputs": [
    {
     "data": {
      "text/plain": "  Bundesland    Bildung     Altersgr ErwerbStatus GeimpftGenesen  Anz\n0      B00-1  BILIMST-1  ALT10IMST-4     ESIMST-1         IMST-1  611\n1      B00-1  BILIMST-1  ALT10IMST-4     ESIMST-1         IMST-2  285\n2      B00-1  BILIMST-1  ALT10IMST-4     ESIMST-1         IMST-3  396\n3      B00-1  BILIMST-1  ALT10IMST-4     ESIMST-1         IMST-4  472\n4      B00-1  BILIMST-1  ALT10IMST-4     ESIMST-2         IMST-1  471",
      "text/html": "<div>\n<style scoped>\n    .dataframe tbody tr th:only-of-type {\n        vertical-align: middle;\n    }\n\n    .dataframe tbody tr th {\n        vertical-align: top;\n    }\n\n    .dataframe thead th {\n        text-align: right;\n    }\n</style>\n<table border=\"1\" class=\"dataframe\">\n  <thead>\n    <tr style=\"text-align: right;\">\n      <th></th>\n      <th>Bundesland</th>\n      <th>Bildung</th>\n      <th>Altersgr</th>\n      <th>ErwerbStatus</th>\n      <th>GeimpftGenesen</th>\n      <th>Anz</th>\n    </tr>\n  </thead>\n  <tbody>\n    <tr>\n      <th>0</th>\n      <td>B00-1</td>\n      <td>BILIMST-1</td>\n      <td>ALT10IMST-4</td>\n      <td>ESIMST-1</td>\n      <td>IMST-1</td>\n      <td>611</td>\n    </tr>\n    <tr>\n      <th>1</th>\n      <td>B00-1</td>\n      <td>BILIMST-1</td>\n      <td>ALT10IMST-4</td>\n      <td>ESIMST-1</td>\n      <td>IMST-2</td>\n      <td>285</td>\n    </tr>\n    <tr>\n      <th>2</th>\n      <td>B00-1</td>\n      <td>BILIMST-1</td>\n      <td>ALT10IMST-4</td>\n      <td>ESIMST-1</td>\n      <td>IMST-3</td>\n      <td>396</td>\n    </tr>\n    <tr>\n      <th>3</th>\n      <td>B00-1</td>\n      <td>BILIMST-1</td>\n      <td>ALT10IMST-4</td>\n      <td>ESIMST-1</td>\n      <td>IMST-4</td>\n      <td>472</td>\n    </tr>\n    <tr>\n      <th>4</th>\n      <td>B00-1</td>\n      <td>BILIMST-1</td>\n      <td>ALT10IMST-4</td>\n      <td>ESIMST-2</td>\n      <td>IMST-1</td>\n      <td>471</td>\n    </tr>\n  </tbody>\n</table>\n</div>"
     },
     "execution_count": 69,
     "metadata": {},
     "output_type": "execute_result"
    }
   ],
   "source": [
    "dataset2.head(5)"
   ],
   "metadata": {
    "collapsed": false,
    "ExecuteTime": {
     "end_time": "2024-01-19T21:04:20.987306700Z",
     "start_time": "2024-01-19T21:04:20.911304700Z"
    }
   },
   "execution_count": 69
  },
  {
   "cell_type": "code",
   "outputs": [
    {
     "name": "stdout",
     "output_type": "stream",
     "text": [
      "<class 'pandas.core.frame.DataFrame'>\n",
      "RangeIndex: 1404 entries, 0 to 1403\n",
      "Data columns (total 6 columns):\n",
      " #   Column          Non-Null Count  Dtype \n",
      "---  ------          --------------  ----- \n",
      " 0   Bundesland      1404 non-null   object\n",
      " 1   Bildung         1404 non-null   object\n",
      " 2   Altersgr        1404 non-null   object\n",
      " 3   ErwerbStatus    1404 non-null   object\n",
      " 4   GeimpftGenesen  1404 non-null   object\n",
      " 5   Anz             1404 non-null   int64 \n",
      "dtypes: int64(1), object(5)\n",
      "memory usage: 65.9+ KB\n"
     ]
    }
   ],
   "source": [
    "dataset2.info()"
   ],
   "metadata": {
    "collapsed": false,
    "ExecuteTime": {
     "end_time": "2024-01-19T21:04:21.028253900Z",
     "start_time": "2024-01-19T21:04:20.967735400Z"
    }
   },
   "execution_count": 70
  },
  {
   "cell_type": "markdown",
   "source": [
    "No null-values in this dataset too."
   ],
   "metadata": {
    "collapsed": false
   }
  },
  {
   "cell_type": "code",
   "outputs": [
    {
     "data": {
      "text/plain": "                Anz\ncount   1404.000000\nmean    3414.423789\nstd     5746.310880\nmin        1.000000\n25%      310.500000\n50%     1375.500000\n75%     3926.000000\nmax    55581.000000",
      "text/html": "<div>\n<style scoped>\n    .dataframe tbody tr th:only-of-type {\n        vertical-align: middle;\n    }\n\n    .dataframe tbody tr th {\n        vertical-align: top;\n    }\n\n    .dataframe thead th {\n        text-align: right;\n    }\n</style>\n<table border=\"1\" class=\"dataframe\">\n  <thead>\n    <tr style=\"text-align: right;\">\n      <th></th>\n      <th>Anz</th>\n    </tr>\n  </thead>\n  <tbody>\n    <tr>\n      <th>count</th>\n      <td>1404.000000</td>\n    </tr>\n    <tr>\n      <th>mean</th>\n      <td>3414.423789</td>\n    </tr>\n    <tr>\n      <th>std</th>\n      <td>5746.310880</td>\n    </tr>\n    <tr>\n      <th>min</th>\n      <td>1.000000</td>\n    </tr>\n    <tr>\n      <th>25%</th>\n      <td>310.500000</td>\n    </tr>\n    <tr>\n      <th>50%</th>\n      <td>1375.500000</td>\n    </tr>\n    <tr>\n      <th>75%</th>\n      <td>3926.000000</td>\n    </tr>\n    <tr>\n      <th>max</th>\n      <td>55581.000000</td>\n    </tr>\n  </tbody>\n</table>\n</div>"
     },
     "execution_count": 71,
     "metadata": {},
     "output_type": "execute_result"
    }
   ],
   "source": [
    "dataset2.describe()"
   ],
   "metadata": {
    "collapsed": false,
    "ExecuteTime": {
     "end_time": "2024-01-19T21:04:21.127649300Z",
     "start_time": "2024-01-19T21:04:21.032254900Z"
    }
   },
   "execution_count": 71
  },
  {
   "cell_type": "markdown",
   "source": [
    "# Data Cleaning\n",
    "In this section, the input data will be cleaned. For this manner, any wrong, missing, or irrelevant informations will be treated accordingly.\n",
    "\n",
    "**To Be marked**\n",
    "The Column ``Altersgr`` uses an age gap interval of 10 years to inform us about the age of the adresses person. However, the first interval currently named ``ALT10IMST-1`` only has a 5 year gap (from 0 - 4 years) to especially adress babys and small children"
   ],
   "metadata": {
    "collapsed": false
   }
  },
  {
   "cell_type": "markdown",
   "source": [
    "### Dataset 1"
   ],
   "metadata": {
    "collapsed": false
   }
  },
  {
   "cell_type": "markdown",
   "source": [
    "There is already a csv which helps us convert these codes into values we can understand. The reason we do not import these values from the csv directly, is that the values are too long. We hereby keep the values steady and simple.\n",
    "* ``GeimpftGenesen`` is converted into more meaningful names\n",
    "* For ``Altersgr`` we type in the exact age group\n",
    "* For ``GebLand``: ``GLIMST-1`` stands for people born in Austria, and ``GLIMST-1`` for people born outside of Austria\n",
    "* ``Geschl`` is also being converted into m (male) and f (female)"
   ],
   "metadata": {
    "collapsed": false
   }
  },
  {
   "cell_type": "code",
   "outputs": [
    {
     "data": {
      "text/plain": "            PolBez Altersgr  GebLand Geschl GeimpftGenesen   Anz\n37696  BEZIMST-709      NaN  AUSLAND      f     IMPF + GEN    26\n45453  BEZIMST-913  25 - 34  AUSLAND      m     IMPF + GEN   166\n32290  BEZIMST-617    0 - 4  AUSLAND      m         NICHTS    18\n43826  BEZIMST-910      NaN   INLAND      f         NICHTS  1082\n48422  BEZIMST-920      NaN   INLAND      f         NICHTS   123\n17442  BEZIMST-323      NaN   INLAND      f         NICHTS   353\n50745        B00-2  15 - 24  AUSLAND      m            GEN   616\n12958  BEZIMST-313      NaN   INLAND      m            GEN   517\n10597  BEZIMST-307      NaN   INLAND      f            GEN    22\n10872  BEZIMST-308      NaN   INLAND      m         NICHTS   304",
      "text/html": "<div>\n<style scoped>\n    .dataframe tbody tr th:only-of-type {\n        vertical-align: middle;\n    }\n\n    .dataframe tbody tr th {\n        vertical-align: top;\n    }\n\n    .dataframe thead th {\n        text-align: right;\n    }\n</style>\n<table border=\"1\" class=\"dataframe\">\n  <thead>\n    <tr style=\"text-align: right;\">\n      <th></th>\n      <th>PolBez</th>\n      <th>Altersgr</th>\n      <th>GebLand</th>\n      <th>Geschl</th>\n      <th>GeimpftGenesen</th>\n      <th>Anz</th>\n    </tr>\n  </thead>\n  <tbody>\n    <tr>\n      <th>37696</th>\n      <td>BEZIMST-709</td>\n      <td>NaN</td>\n      <td>AUSLAND</td>\n      <td>f</td>\n      <td>IMPF + GEN</td>\n      <td>26</td>\n    </tr>\n    <tr>\n      <th>45453</th>\n      <td>BEZIMST-913</td>\n      <td>25 - 34</td>\n      <td>AUSLAND</td>\n      <td>m</td>\n      <td>IMPF + GEN</td>\n      <td>166</td>\n    </tr>\n    <tr>\n      <th>32290</th>\n      <td>BEZIMST-617</td>\n      <td>0 - 4</td>\n      <td>AUSLAND</td>\n      <td>m</td>\n      <td>NICHTS</td>\n      <td>18</td>\n    </tr>\n    <tr>\n      <th>43826</th>\n      <td>BEZIMST-910</td>\n      <td>NaN</td>\n      <td>INLAND</td>\n      <td>f</td>\n      <td>NICHTS</td>\n      <td>1082</td>\n    </tr>\n    <tr>\n      <th>48422</th>\n      <td>BEZIMST-920</td>\n      <td>NaN</td>\n      <td>INLAND</td>\n      <td>f</td>\n      <td>NICHTS</td>\n      <td>123</td>\n    </tr>\n    <tr>\n      <th>17442</th>\n      <td>BEZIMST-323</td>\n      <td>NaN</td>\n      <td>INLAND</td>\n      <td>f</td>\n      <td>NICHTS</td>\n      <td>353</td>\n    </tr>\n    <tr>\n      <th>50745</th>\n      <td>B00-2</td>\n      <td>15 - 24</td>\n      <td>AUSLAND</td>\n      <td>m</td>\n      <td>GEN</td>\n      <td>616</td>\n    </tr>\n    <tr>\n      <th>12958</th>\n      <td>BEZIMST-313</td>\n      <td>NaN</td>\n      <td>INLAND</td>\n      <td>m</td>\n      <td>GEN</td>\n      <td>517</td>\n    </tr>\n    <tr>\n      <th>10597</th>\n      <td>BEZIMST-307</td>\n      <td>NaN</td>\n      <td>INLAND</td>\n      <td>f</td>\n      <td>GEN</td>\n      <td>22</td>\n    </tr>\n    <tr>\n      <th>10872</th>\n      <td>BEZIMST-308</td>\n      <td>NaN</td>\n      <td>INLAND</td>\n      <td>m</td>\n      <td>NICHTS</td>\n      <td>304</td>\n    </tr>\n  </tbody>\n</table>\n</div>"
     },
     "execution_count": 72,
     "metadata": {},
     "output_type": "execute_result"
    }
   ],
   "source": [
    "geimpftGenesenDict = {\"IMST-4\": \"NICHTS\",  #nothing (NICHTS)\n",
    "                       \"IMST-1\": \"IMPF\",  #vaccinated (geIMPFt)\n",
    "                       \"IMST-3\": \"GEN\",  #recovered (GENesen)\n",
    "                       \"IMST-2\": \"IMPF + GEN\"} #vaccinated + recovered (geIMPFt und GENesen)\n",
    "\n",
    "ageGapDict = {\"ALT10IMST-1\": \"0 - 4\",\n",
    "              \"ALT10IMST-2\": \"5 - 14\",\n",
    "              \"ALT10IMST-3\": \"15 - 24\",\n",
    "              \"ALT10IMST-4\": \"25 - 34\",\n",
    "              \"ALT10IMST-5\": \"35 - 44\",\n",
    "              \"ALT10IMST-6\": \"45 - 54\",\n",
    "              \"ALT10IMST-7\": \"55 - 64\",\n",
    "              \"ALT10IMST-8\": \"65 - 74\",\n",
    "              \"ALT10IMST-9\": \"75 - 84\",\n",
    "              \"ALT10IMST-10\": \"85+\"}\n",
    "\n",
    "dataset1[\"GebLand\"] = dataset1[\"GebLand\"].map({\"GLIMST-1\": \"INLAND\",\n",
    "                                               \"GLIMST-2\": \"AUSLAND\"})\n",
    "\n",
    "dataset1[\"Geschl\"] = dataset1[\"Geschl\"].map({\"C11-1\": \"m\",\n",
    "                                             \"C11-2\": \"f\"})\n",
    "\n",
    "dataset1[\"GeimpftGenesen\"] = dataset1[\"GeimpftGenesen\"].map(geimpftGenesenDict)\n",
    "\n",
    "dataset1[\"Altersgr\"] = dataset1[\"Altersgr\"].map(ageGapDict)\n",
    "\n",
    "dataset1.sample(10)"
   ],
   "metadata": {
    "collapsed": false,
    "ExecuteTime": {
     "end_time": "2024-01-19T21:04:21.209988100Z",
     "start_time": "2024-01-19T21:04:21.112644100Z"
    }
   },
   "execution_count": 72
  },
  {
   "cell_type": "markdown",
   "source": [
    "### Dataset 2"
   ],
   "metadata": {
    "collapsed": false
   }
  },
  {
   "cell_type": "code",
   "outputs": [
    {
     "data": {
      "text/plain": "            Bundesland              Bildung Altersgr ErwerbStatus  \\\n780         Steiermark        Pflichtschule  25 - 34      inaktiv   \n1139        Vorarlberg    Lehrabschluss/BMS  45 - 54        aktiv   \n969              Tirol    Lehrabschluss/BMS  25 - 34      inaktiv   \n487     Oberösterreich        Pflichtschule  55 - 64        aktiv   \n455   Niederösterreich              Unknown  55 - 64        aktiv   \n1213        Vorarlberg  Akademie/Hochschule  55 - 64      inaktiv   \n938              Tirol        Pflichtschule  25 - 34      inaktiv   \n1161        Vorarlberg       BHS/AHS/Kolleg  35 - 44        aktiv   \n695           Salzburg       BHS/AHS/Kolleg  35 - 44      inaktiv   \n105         Burgenland  Akademie/Hochschule  35 - 44        aktiv   \n\n     GeimpftGenesen   Anz  \n780      IMPF + GEN   735  \n1139         NICHTS  4015  \n969             GEN  2118  \n487             GEN  2668  \n455            IMPF     4  \n1213     IMPF + GEN   228  \n938          NICHTS  1369  \n1161     IMPF + GEN  1991  \n695             GEN   317  \n105      IMPF + GEN  2336  ",
      "text/html": "<div>\n<style scoped>\n    .dataframe tbody tr th:only-of-type {\n        vertical-align: middle;\n    }\n\n    .dataframe tbody tr th {\n        vertical-align: top;\n    }\n\n    .dataframe thead th {\n        text-align: right;\n    }\n</style>\n<table border=\"1\" class=\"dataframe\">\n  <thead>\n    <tr style=\"text-align: right;\">\n      <th></th>\n      <th>Bundesland</th>\n      <th>Bildung</th>\n      <th>Altersgr</th>\n      <th>ErwerbStatus</th>\n      <th>GeimpftGenesen</th>\n      <th>Anz</th>\n    </tr>\n  </thead>\n  <tbody>\n    <tr>\n      <th>780</th>\n      <td>Steiermark</td>\n      <td>Pflichtschule</td>\n      <td>25 - 34</td>\n      <td>inaktiv</td>\n      <td>IMPF + GEN</td>\n      <td>735</td>\n    </tr>\n    <tr>\n      <th>1139</th>\n      <td>Vorarlberg</td>\n      <td>Lehrabschluss/BMS</td>\n      <td>45 - 54</td>\n      <td>aktiv</td>\n      <td>NICHTS</td>\n      <td>4015</td>\n    </tr>\n    <tr>\n      <th>969</th>\n      <td>Tirol</td>\n      <td>Lehrabschluss/BMS</td>\n      <td>25 - 34</td>\n      <td>inaktiv</td>\n      <td>GEN</td>\n      <td>2118</td>\n    </tr>\n    <tr>\n      <th>487</th>\n      <td>Oberösterreich</td>\n      <td>Pflichtschule</td>\n      <td>55 - 64</td>\n      <td>aktiv</td>\n      <td>GEN</td>\n      <td>2668</td>\n    </tr>\n    <tr>\n      <th>455</th>\n      <td>Niederösterreich</td>\n      <td>Unknown</td>\n      <td>55 - 64</td>\n      <td>aktiv</td>\n      <td>IMPF</td>\n      <td>4</td>\n    </tr>\n    <tr>\n      <th>1213</th>\n      <td>Vorarlberg</td>\n      <td>Akademie/Hochschule</td>\n      <td>55 - 64</td>\n      <td>inaktiv</td>\n      <td>IMPF + GEN</td>\n      <td>228</td>\n    </tr>\n    <tr>\n      <th>938</th>\n      <td>Tirol</td>\n      <td>Pflichtschule</td>\n      <td>25 - 34</td>\n      <td>inaktiv</td>\n      <td>NICHTS</td>\n      <td>1369</td>\n    </tr>\n    <tr>\n      <th>1161</th>\n      <td>Vorarlberg</td>\n      <td>BHS/AHS/Kolleg</td>\n      <td>35 - 44</td>\n      <td>aktiv</td>\n      <td>IMPF + GEN</td>\n      <td>1991</td>\n    </tr>\n    <tr>\n      <th>695</th>\n      <td>Salzburg</td>\n      <td>BHS/AHS/Kolleg</td>\n      <td>35 - 44</td>\n      <td>inaktiv</td>\n      <td>GEN</td>\n      <td>317</td>\n    </tr>\n    <tr>\n      <th>105</th>\n      <td>Burgenland</td>\n      <td>Akademie/Hochschule</td>\n      <td>35 - 44</td>\n      <td>aktiv</td>\n      <td>IMPF + GEN</td>\n      <td>2336</td>\n    </tr>\n  </tbody>\n</table>\n</div>"
     },
     "execution_count": 73,
     "metadata": {},
     "output_type": "execute_result"
    }
   ],
   "source": [
    "bundeslandDict = {\n",
    "    \"B00-1\": \"Burgenland\",\n",
    "    \"B00-2\": \"Kärnten\",\n",
    "    \"B00-3\": \"Niederösterreich\",\n",
    "    \"B00-4\": \"Oberösterreich\",\n",
    "    \"B00-5\": \"Salzburg\",\n",
    "    \"B00-6\": \"Steiermark\",\n",
    "    \"B00-7\": \"Tirol\",\n",
    "    \"B00-8\": \"Vorarlberg\",\n",
    "    \"B00-9\": \"Wien\"\n",
    "}\n",
    "\n",
    "dataset2[\"Bundesland\"] = dataset2[\"Bundesland\"].map(bundeslandDict)\n",
    "\n",
    "#uses the dictionary geimpftGenesenDict from the previous code block\n",
    "dataset2[\"GeimpftGenesen\"] = dataset2[\"GeimpftGenesen\"].map(geimpftGenesenDict)\n",
    "\n",
    "dataset2[\"Bildung\"] = dataset2[\"Bildung\"].map({\"BILIMST-1\": \"Pflichtschule\",\n",
    "                                               \"BILIMST-2\": \"Lehrabschluss/BMS\",\n",
    "                                               \"BILIMST-3\": \"BHS/AHS/Kolleg\",\n",
    "                                               \"BILIMST-4\": \"Akademie/Hochschule\",\n",
    "                                               \"BILIMST-99\": \"Unknown\"})\n",
    "\n",
    "dataset2[\"ErwerbStatus\"] = dataset2[\"ErwerbStatus\"].map({\"ESIMST-1\": \"aktiv\",\n",
    "                                                         \"ESIMST-2\": \"inaktiv\"})\n",
    "\n",
    "#uses the dictionary ageGapDict from the previous code block\n",
    "dataset2[\"Altersgr\"] = dataset2[\"Altersgr\"].map(ageGapDict)\n",
    "\n",
    "dataset2.sample(10)"
   ],
   "metadata": {
    "collapsed": false,
    "ExecuteTime": {
     "end_time": "2024-01-19T21:04:21.238031200Z",
     "start_time": "2024-01-19T21:04:21.182402700Z"
    }
   },
   "execution_count": 73
  },
  {
   "cell_type": "markdown",
   "source": [
    "## Duplicate Data"
   ],
   "metadata": {
    "collapsed": false
   }
  },
  {
   "cell_type": "code",
   "outputs": [
    {
     "data": {
      "text/plain": "34645644"
     },
     "execution_count": 74,
     "metadata": {},
     "output_type": "execute_result"
    }
   ],
   "source": [
    "dataset1[\"Anz\"].sum()"
   ],
   "metadata": {
    "collapsed": false,
    "ExecuteTime": {
     "end_time": "2024-01-19T21:04:21.358201100Z",
     "start_time": "2024-01-19T21:04:21.240919500Z"
    }
   },
   "execution_count": 74
  },
  {
   "cell_type": "markdown",
   "source": [
    "In the above code we can see that the sum of records is approximately 4 times the total population of Austria. This strongly suggests that there may be duplicate data. And exactly that is the case: In ``PolBez`` there are records for each province and also for each federal country. This duplicate is not necessary, since one province can easily be assigned to its federal country (e.g. ``BEZIMST-304`` (= Wiener Neustadt) must be in ``B00-3`` (=Niederoesterreich)). So the records for the federal countries can be removed."
   ],
   "metadata": {
    "collapsed": false
   }
  },
  {
   "cell_type": "code",
   "outputs": [
    {
     "data": {
      "text/plain": "17322822"
     },
     "execution_count": 75,
     "metadata": {},
     "output_type": "execute_result"
    }
   ],
   "source": [
    "dataset1 = dataset1.loc[dataset1[\"PolBez\"].map(lambda val: \"BEZIMST\" in val)] #only provinces have the prefix BEZIMST\n",
    "dataset1[\"Anz\"].sum()"
   ],
   "metadata": {
    "collapsed": false,
    "ExecuteTime": {
     "end_time": "2024-01-19T21:04:21.466724300Z",
     "start_time": "2024-01-19T21:04:21.328521900Z"
    }
   },
   "execution_count": 75
  },
  {
   "cell_type": "markdown",
   "source": [
    "The above code still returns an amount which is twice as big as Austria's population. Similarly, the column ``Altersgr`` has duplicate records for different age groups. Previously we mapped `Altersgr` to more readable strings, but left out the duplicate values that will be deleted in the next step. So we can simply drop the N/A records that emerge after mapping the column ``Altersgr``."
   ],
   "metadata": {
    "collapsed": false
   }
  },
  {
   "cell_type": "markdown",
   "source": [],
   "metadata": {
    "collapsed": false
   }
  },
  {
   "cell_type": "code",
   "outputs": [
    {
     "data": {
      "text/plain": "8661411"
     },
     "execution_count": 76,
     "metadata": {},
     "output_type": "execute_result"
    }
   ],
   "source": [
    "dataset1 = dataset1.dropna()\n",
    "dataset1[\"Anz\"].sum()"
   ],
   "metadata": {
    "collapsed": false,
    "ExecuteTime": {
     "end_time": "2024-01-19T21:04:21.500250900Z",
     "start_time": "2024-01-19T21:04:21.436715700Z"
    }
   },
   "execution_count": 76
  },
  {
   "cell_type": "markdown",
   "source": [
    "Now we have removed all duplicate values. Let's continue cleaning our data.\n",
    "## Null Values"
   ],
   "metadata": {
    "collapsed": false
   }
  },
  {
   "cell_type": "code",
   "outputs": [
    {
     "data": {
      "text/plain": "PolBez            0\nAltersgr          0\nGebLand           0\nGeschl            0\nGeimpftGenesen    0\nAnz               0\ndtype: int64"
     },
     "execution_count": 77,
     "metadata": {},
     "output_type": "execute_result"
    }
   ],
   "source": [
    "dataset1.isnull().sum()"
   ],
   "metadata": {
    "collapsed": false,
    "ExecuteTime": {
     "end_time": "2024-01-19T21:04:21.563101200Z",
     "start_time": "2024-01-19T21:04:21.503250700Z"
    }
   },
   "execution_count": 77
  },
  {
   "cell_type": "markdown",
   "source": [],
   "metadata": {
    "collapsed": false
   }
  },
  {
   "cell_type": "code",
   "outputs": [
    {
     "data": {
      "text/plain": "Bundesland        0\nBildung           0\nAltersgr          0\nErwerbStatus      0\nGeimpftGenesen    0\nAnz               0\ndtype: int64"
     },
     "execution_count": 78,
     "metadata": {},
     "output_type": "execute_result"
    }
   ],
   "source": [
    "dataset2.isnull().sum()"
   ],
   "metadata": {
    "collapsed": false,
    "ExecuteTime": {
     "end_time": "2024-01-19T21:04:21.586792Z",
     "start_time": "2024-01-19T21:04:21.565107Z"
    }
   },
   "execution_count": 78
  },
  {
   "cell_type": "markdown",
   "source": [
    "Since there are no null values, we are done cleaning our data and can save it into two datasets. ``korr1.csv`` for ``dataset1.csv`` and ``korr2.csv`` for ``dataset2.csv``"
   ],
   "metadata": {
    "collapsed": false
   }
  },
  {
   "cell_type": "code",
   "outputs": [],
   "source": [
    "dataset1.to_csv(\"./output/korr1.csv\", sep=\";\", index=False)\n",
    "dataset2.to_csv(\"./output/korr2.csv\", sep=\";\", index=False)"
   ],
   "metadata": {
    "collapsed": false,
    "ExecuteTime": {
     "end_time": "2024-01-19T21:04:21.669822400Z",
     "start_time": "2024-01-19T21:04:21.592305300Z"
    }
   },
   "execution_count": 80
  },
  {
   "cell_type": "markdown",
   "source": [
    "Now, lets look at our corrected values..."
   ],
   "metadata": {
    "collapsed": false
   }
  },
  {
   "cell_type": "code",
   "outputs": [
    {
     "data": {
      "text/plain": "        PolBez Altersgr GebLand Geschl GeimpftGenesen  Anz\n0  BEZIMST-101    0 - 4  INLAND      m           IMPF    1\n1  BEZIMST-101    0 - 4  INLAND      m            GEN   80\n2  BEZIMST-101    0 - 4  INLAND      m         NICHTS  216\n3  BEZIMST-101    0 - 4  INLAND      f           IMPF    2\n4  BEZIMST-101    0 - 4  INLAND      f            GEN   86",
      "text/html": "<div>\n<style scoped>\n    .dataframe tbody tr th:only-of-type {\n        vertical-align: middle;\n    }\n\n    .dataframe tbody tr th {\n        vertical-align: top;\n    }\n\n    .dataframe thead th {\n        text-align: right;\n    }\n</style>\n<table border=\"1\" class=\"dataframe\">\n  <thead>\n    <tr style=\"text-align: right;\">\n      <th></th>\n      <th>PolBez</th>\n      <th>Altersgr</th>\n      <th>GebLand</th>\n      <th>Geschl</th>\n      <th>GeimpftGenesen</th>\n      <th>Anz</th>\n    </tr>\n  </thead>\n  <tbody>\n    <tr>\n      <th>0</th>\n      <td>BEZIMST-101</td>\n      <td>0 - 4</td>\n      <td>INLAND</td>\n      <td>m</td>\n      <td>IMPF</td>\n      <td>1</td>\n    </tr>\n    <tr>\n      <th>1</th>\n      <td>BEZIMST-101</td>\n      <td>0 - 4</td>\n      <td>INLAND</td>\n      <td>m</td>\n      <td>GEN</td>\n      <td>80</td>\n    </tr>\n    <tr>\n      <th>2</th>\n      <td>BEZIMST-101</td>\n      <td>0 - 4</td>\n      <td>INLAND</td>\n      <td>m</td>\n      <td>NICHTS</td>\n      <td>216</td>\n    </tr>\n    <tr>\n      <th>3</th>\n      <td>BEZIMST-101</td>\n      <td>0 - 4</td>\n      <td>INLAND</td>\n      <td>f</td>\n      <td>IMPF</td>\n      <td>2</td>\n    </tr>\n    <tr>\n      <th>4</th>\n      <td>BEZIMST-101</td>\n      <td>0 - 4</td>\n      <td>INLAND</td>\n      <td>f</td>\n      <td>GEN</td>\n      <td>86</td>\n    </tr>\n  </tbody>\n</table>\n</div>"
     },
     "execution_count": 81,
     "metadata": {},
     "output_type": "execute_result"
    }
   ],
   "source": [
    "korr1 = pd.read_csv(\"./output/korr1.csv\", sep=\";\")\n",
    "korr2 = pd.read_csv(\"./output/korr2.csv\", sep=\";\")\n",
    "\n",
    "korr1.head(5)"
   ],
   "metadata": {
    "collapsed": false,
    "ExecuteTime": {
     "end_time": "2024-01-19T21:04:21.674827500Z",
     "start_time": "2024-01-19T21:04:21.634010100Z"
    }
   },
   "execution_count": 81
  },
  {
   "cell_type": "code",
   "outputs": [
    {
     "data": {
      "text/plain": "   Bundesland        Bildung Altersgr ErwerbStatus GeimpftGenesen  Anz\n0  Burgenland  Pflichtschule  25 - 34        aktiv           IMPF  611\n1  Burgenland  Pflichtschule  25 - 34        aktiv     IMPF + GEN  285\n2  Burgenland  Pflichtschule  25 - 34        aktiv            GEN  396\n3  Burgenland  Pflichtschule  25 - 34        aktiv         NICHTS  472\n4  Burgenland  Pflichtschule  25 - 34      inaktiv           IMPF  471",
      "text/html": "<div>\n<style scoped>\n    .dataframe tbody tr th:only-of-type {\n        vertical-align: middle;\n    }\n\n    .dataframe tbody tr th {\n        vertical-align: top;\n    }\n\n    .dataframe thead th {\n        text-align: right;\n    }\n</style>\n<table border=\"1\" class=\"dataframe\">\n  <thead>\n    <tr style=\"text-align: right;\">\n      <th></th>\n      <th>Bundesland</th>\n      <th>Bildung</th>\n      <th>Altersgr</th>\n      <th>ErwerbStatus</th>\n      <th>GeimpftGenesen</th>\n      <th>Anz</th>\n    </tr>\n  </thead>\n  <tbody>\n    <tr>\n      <th>0</th>\n      <td>Burgenland</td>\n      <td>Pflichtschule</td>\n      <td>25 - 34</td>\n      <td>aktiv</td>\n      <td>IMPF</td>\n      <td>611</td>\n    </tr>\n    <tr>\n      <th>1</th>\n      <td>Burgenland</td>\n      <td>Pflichtschule</td>\n      <td>25 - 34</td>\n      <td>aktiv</td>\n      <td>IMPF + GEN</td>\n      <td>285</td>\n    </tr>\n    <tr>\n      <th>2</th>\n      <td>Burgenland</td>\n      <td>Pflichtschule</td>\n      <td>25 - 34</td>\n      <td>aktiv</td>\n      <td>GEN</td>\n      <td>396</td>\n    </tr>\n    <tr>\n      <th>3</th>\n      <td>Burgenland</td>\n      <td>Pflichtschule</td>\n      <td>25 - 34</td>\n      <td>aktiv</td>\n      <td>NICHTS</td>\n      <td>472</td>\n    </tr>\n    <tr>\n      <th>4</th>\n      <td>Burgenland</td>\n      <td>Pflichtschule</td>\n      <td>25 - 34</td>\n      <td>inaktiv</td>\n      <td>IMPF</td>\n      <td>471</td>\n    </tr>\n  </tbody>\n</table>\n</div>"
     },
     "execution_count": 82,
     "metadata": {},
     "output_type": "execute_result"
    }
   ],
   "source": [
    "korr2.head(5)"
   ],
   "metadata": {
    "collapsed": false,
    "ExecuteTime": {
     "end_time": "2024-01-19T21:04:21.724823600Z",
     "start_time": "2024-01-19T21:04:21.679831400Z"
    }
   },
   "execution_count": 82
  },
  {
   "cell_type": "markdown",
   "source": [
    "# Data Preparation\n",
    "## Numerical Values\n",
    "### Dataset 1\n",
    "* For ``Polbez`` we take the number in the value code (so ``BEZIMST-340`` will be converted into ``340``)\n",
    "* For ``Altersgr`` we take the mean value from the min and max of the age group (except for 85, it will stay 85 since there is no max)\n",
    "* For ``GebLand`` we take 0 for ``INLAND`` and 1 for ``AUSLAND``\n",
    "* For ``Geschl`` we take 0 for ``m`` and 1 for ``f``\n",
    "* For ``GeimpftGenesen`` we take 0 for ``nothing``, 1 for vaccinated, 2 for recovered, and 3 (1+2) for both vaccinated and recovered\n"
   ],
   "metadata": {
    "collapsed": false
   }
  },
  {
   "cell_type": "code",
   "outputs": [
    {
     "data": {
      "text/plain": "       PolBez  Altersgr  GebLand  Geschl  GeimpftGenesen\n6803      403      49.5        0       1               3\n13170     708       9.5        0       0               1\n17597     923      29.5        1       1               0\n4049      309      49.5        1       0               3\n1248      201      19.5        0       0               2",
      "text/html": "<div>\n<style scoped>\n    .dataframe tbody tr th:only-of-type {\n        vertical-align: middle;\n    }\n\n    .dataframe tbody tr th {\n        vertical-align: top;\n    }\n\n    .dataframe thead th {\n        text-align: right;\n    }\n</style>\n<table border=\"1\" class=\"dataframe\">\n  <thead>\n    <tr style=\"text-align: right;\">\n      <th></th>\n      <th>PolBez</th>\n      <th>Altersgr</th>\n      <th>GebLand</th>\n      <th>Geschl</th>\n      <th>GeimpftGenesen</th>\n    </tr>\n  </thead>\n  <tbody>\n    <tr>\n      <th>6803</th>\n      <td>403</td>\n      <td>49.5</td>\n      <td>0</td>\n      <td>1</td>\n      <td>3</td>\n    </tr>\n    <tr>\n      <th>13170</th>\n      <td>708</td>\n      <td>9.5</td>\n      <td>0</td>\n      <td>0</td>\n      <td>1</td>\n    </tr>\n    <tr>\n      <th>17597</th>\n      <td>923</td>\n      <td>29.5</td>\n      <td>1</td>\n      <td>1</td>\n      <td>0</td>\n    </tr>\n    <tr>\n      <th>4049</th>\n      <td>309</td>\n      <td>49.5</td>\n      <td>1</td>\n      <td>0</td>\n      <td>3</td>\n    </tr>\n    <tr>\n      <th>1248</th>\n      <td>201</td>\n      <td>19.5</td>\n      <td>0</td>\n      <td>0</td>\n      <td>2</td>\n    </tr>\n  </tbody>\n</table>\n</div>"
     },
     "execution_count": 83,
     "metadata": {},
     "output_type": "execute_result"
    }
   ],
   "source": [
    "num1 = pd.DataFrame()\n",
    "\n",
    "altersgrToNumeric = {\"0 - 4\": 2.0,\n",
    "                     \"5 - 14\": 9.5,\n",
    "                     \"15 - 24\": 19.5,\n",
    "                     \"25 - 34\": 29.5,\n",
    "                     \"35 - 44\": 39.5,\n",
    "                     \"45 - 54\": 49.5,\n",
    "                     \"55 - 64\": 59.5,\n",
    "                     \"65 - 74\": 69.5,\n",
    "                     \"75 - 84\": 79.5,\n",
    "                     \"85+\": 85.0}\n",
    "\n",
    "geimpftGenesenToNumeric = {\"NICHTS\": 0,  #nothing\n",
    "                      \"IMPF\": 1,  #vacc\n",
    "                      \"GEN\": 2,  #recov\n",
    "                      \"IMPF + GEN\": 3} #vacc + recov\n",
    "\n",
    "geblandToNumeric = dict((v, k) for k, v in enumerate(korr1[\"GebLand\"].unique()))\n",
    "geschlToNumeric = dict((v, k) for k, v in enumerate(korr1[\"Geschl\"].unique()))\n",
    "\n",
    "num1[\"PolBez\"] = korr1[\"PolBez\"].map(lambda val: int(val[-3:]))\n",
    "num1[\"Altersgr\"] = korr1[\"Altersgr\"].map(altersgrToNumeric)\n",
    "num1[\"GebLand\"] = korr1[\"GebLand\"].map(geblandToNumeric)\n",
    "num1[\"Geschl\"] = korr1[\"Geschl\"].map(geschlToNumeric)\n",
    "num1[\"GeimpftGenesen\"] = korr1[\"GeimpftGenesen\"].map(geimpftGenesenToNumeric)\n",
    "\n",
    "num1.sample(5)\n"
   ],
   "metadata": {
    "collapsed": false,
    "ExecuteTime": {
     "end_time": "2024-01-19T21:04:21.814679Z",
     "start_time": "2024-01-19T21:04:21.716823700Z"
    }
   },
   "execution_count": 83
  },
  {
   "cell_type": "markdown",
   "source": [
    "Let's look if our values are truly numerical:"
   ],
   "metadata": {
    "collapsed": false
   }
  },
  {
   "cell_type": "code",
   "outputs": [
    {
     "name": "stdout",
     "output_type": "stream",
     "text": [
      "<class 'pandas.core.frame.DataFrame'>\n",
      "RangeIndex: 17694 entries, 0 to 17693\n",
      "Data columns (total 5 columns):\n",
      " #   Column          Non-Null Count  Dtype  \n",
      "---  ------          --------------  -----  \n",
      " 0   PolBez          17694 non-null  int64  \n",
      " 1   Altersgr        17694 non-null  float64\n",
      " 2   GebLand         17694 non-null  int64  \n",
      " 3   Geschl          17694 non-null  int64  \n",
      " 4   GeimpftGenesen  17694 non-null  int64  \n",
      "dtypes: float64(1), int64(4)\n",
      "memory usage: 691.3 KB\n"
     ]
    }
   ],
   "source": [
    "num1.info()"
   ],
   "metadata": {
    "collapsed": false,
    "ExecuteTime": {
     "end_time": "2024-01-19T21:04:21.842295500Z",
     "start_time": "2024-01-19T21:04:21.791188Z"
    }
   },
   "execution_count": 84
  },
  {
   "cell_type": "markdown",
   "source": [
    "So far so good: Everything's an int64 or float64, so we can do the same thing for dataset 2."
   ],
   "metadata": {
    "collapsed": false
   }
  },
  {
   "cell_type": "markdown",
   "source": [
    "### Dataset 2\n",
    "For ``Altersgr`` and ``GeimpftGenesen`` we used the same dict as above to map our values to numerical ones.\n",
    "* For ``Bundesland`` we should consider looking at the ``PolBez`` once more: As we already know, the first digit of the PolBez corresponds to the ``Bundesland``. Because of this, we should keep these numbers for the sake of having consistent values. (If we look closer, we can also see that the states are numbered alphabetically so that's also what we are going to do)\n",
    "* For ``ErwerbStatus`` we take 0 for inactive and 1 for active (common values to symbolize true/false)\n",
    "* For ``Bildung`` we are just going to enumerate the values. But we will make sure that ``Unknown`` corrsponds to 0"
   ],
   "metadata": {
    "collapsed": false
   }
  },
  {
   "cell_type": "code",
   "outputs": [
    {
     "data": {
      "text/plain": "          Bundesland              Bildung Altersgr ErwerbStatus  \\\n528   Oberösterreich       BHS/AHS/Kolleg  25 - 34        aktiv   \n507   Oberösterreich    Lehrabschluss/BMS  35 - 44      inaktiv   \n1199      Vorarlberg  Akademie/Hochschule  35 - 44      inaktiv   \n42        Burgenland    Lehrabschluss/BMS  35 - 44        aktiv   \n461   Oberösterreich        Pflichtschule  25 - 34        aktiv   \n\n     GeimpftGenesen   Anz  \n528          NICHTS  4403  \n507             GEN  2641  \n1199         NICHTS   288  \n42              GEN  2712  \n461            IMPF  5668  ",
      "text/html": "<div>\n<style scoped>\n    .dataframe tbody tr th:only-of-type {\n        vertical-align: middle;\n    }\n\n    .dataframe tbody tr th {\n        vertical-align: top;\n    }\n\n    .dataframe thead th {\n        text-align: right;\n    }\n</style>\n<table border=\"1\" class=\"dataframe\">\n  <thead>\n    <tr style=\"text-align: right;\">\n      <th></th>\n      <th>Bundesland</th>\n      <th>Bildung</th>\n      <th>Altersgr</th>\n      <th>ErwerbStatus</th>\n      <th>GeimpftGenesen</th>\n      <th>Anz</th>\n    </tr>\n  </thead>\n  <tbody>\n    <tr>\n      <th>528</th>\n      <td>Oberösterreich</td>\n      <td>BHS/AHS/Kolleg</td>\n      <td>25 - 34</td>\n      <td>aktiv</td>\n      <td>NICHTS</td>\n      <td>4403</td>\n    </tr>\n    <tr>\n      <th>507</th>\n      <td>Oberösterreich</td>\n      <td>Lehrabschluss/BMS</td>\n      <td>35 - 44</td>\n      <td>inaktiv</td>\n      <td>GEN</td>\n      <td>2641</td>\n    </tr>\n    <tr>\n      <th>1199</th>\n      <td>Vorarlberg</td>\n      <td>Akademie/Hochschule</td>\n      <td>35 - 44</td>\n      <td>inaktiv</td>\n      <td>NICHTS</td>\n      <td>288</td>\n    </tr>\n    <tr>\n      <th>42</th>\n      <td>Burgenland</td>\n      <td>Lehrabschluss/BMS</td>\n      <td>35 - 44</td>\n      <td>aktiv</td>\n      <td>GEN</td>\n      <td>2712</td>\n    </tr>\n    <tr>\n      <th>461</th>\n      <td>Oberösterreich</td>\n      <td>Pflichtschule</td>\n      <td>25 - 34</td>\n      <td>aktiv</td>\n      <td>IMPF</td>\n      <td>5668</td>\n    </tr>\n  </tbody>\n</table>\n</div>"
     },
     "execution_count": 85,
     "metadata": {},
     "output_type": "execute_result"
    }
   ],
   "source": [
    "num2 = pd.DataFrame()\n",
    "\n",
    "bundeslandToNumeric = dict((v, k + 1) for k, v in enumerate(np.sort(korr2[\"Bundesland\"].unique())))\n",
    "erwerbstatusToNumeric = {\"inaktiv\": 0, \"aktiv\": 1}\n",
    "\n",
    "bildungToNumeric = dict((v, k + 1) for k, v in enumerate(np.sort(korr2[\"Bildung\"].unique())))\n",
    "# make sure unknown corresponds to 0\n",
    "limit = bildungToNumeric[\"Unknown\"]\n",
    "bildungToNumeric[\"Unknown\"] = 0\n",
    "for key in bildungToNumeric.keys():\n",
    "    if bildungToNumeric[key] > limit:\n",
    "        bildungToNumeric[key] -= 1\n",
    "\n",
    "num2[\"Altersgr\"] = korr2[\"Altersgr\"].map(altersgrToNumeric)\n",
    "num2[\"GeimpftGenesen\"] = korr2[\"GeimpftGenesen\"].map(geimpftGenesenToNumeric)\n",
    "num2[\"Bundesland\"] = korr2[\"Bundesland\"].map(bundeslandToNumeric)\n",
    "num2[\"ErwerbStatus\"] = korr2[\"ErwerbStatus\"].map(erwerbstatusToNumeric)\n",
    "num2[\"Bildung\"] = korr2[\"Bildung\"].map(bildungToNumeric)\n",
    "\n",
    "num2.sample(5)"
   ],
   "metadata": {
    "collapsed": false,
    "ExecuteTime": {
     "end_time": "2024-01-19T21:04:21.970914600Z",
     "start_time": "2024-01-19T21:04:21.847832400Z"
    }
   },
   "execution_count": 85
  },
  {
   "cell_type": "markdown",
   "source": [
    "We need to check again if the values are all numeric:"
   ],
   "metadata": {
    "collapsed": false
   }
  },
  {
   "cell_type": "code",
   "outputs": [
    {
     "name": "stdout",
     "output_type": "stream",
     "text": [
      "<class 'pandas.core.frame.DataFrame'>\n",
      "RangeIndex: 1404 entries, 0 to 1403\n",
      "Data columns (total 5 columns):\n",
      " #   Column          Non-Null Count  Dtype  \n",
      "---  ------          --------------  -----  \n",
      " 0   Altersgr        1404 non-null   float64\n",
      " 1   GeimpftGenesen  1404 non-null   int64  \n",
      " 2   Bundesland      1404 non-null   int64  \n",
      " 3   ErwerbStatus    1404 non-null   int64  \n",
      " 4   Bildung         1404 non-null   int64  \n",
      "dtypes: float64(1), int64(4)\n",
      "memory usage: 55.0 KB\n"
     ]
    }
   ],
   "source": [
    "num2.info()"
   ],
   "metadata": {
    "collapsed": false,
    "ExecuteTime": {
     "end_time": "2024-01-19T21:04:22.003941400Z",
     "start_time": "2024-01-19T21:04:21.948452200Z"
    }
   },
   "execution_count": 86
  },
  {
   "cell_type": "markdown",
   "source": [
    "So let's save these numerical values into different csv-files."
   ],
   "metadata": {
    "collapsed": false
   }
  },
  {
   "cell_type": "code",
   "outputs": [],
   "source": [
    "num1.to_csv(\"./output/num1.csv\", index=False)\n",
    "num2.to_csv(\"./output/num2.csv\", index=False)"
   ],
   "metadata": {
    "collapsed": false,
    "ExecuteTime": {
     "end_time": "2024-01-19T21:04:22.108650800Z",
     "start_time": "2024-01-19T21:04:22.006939900Z"
    }
   },
   "execution_count": 87
  },
  {
   "cell_type": "markdown",
   "source": [
    "## Normalized Values\n",
    "In this section, we will adjust our numerical values so that all of them are in the range of 0 - 1 (each column). First, we need to import the csv with the numerical data."
   ],
   "metadata": {
    "collapsed": false
   }
  },
  {
   "cell_type": "code",
   "outputs": [],
   "source": [
    "num1 = pd.read_csv(\"./output/num1.csv\")\n",
    "num2 = pd.read_csv(\"./output/num2.csv\")"
   ],
   "metadata": {
    "collapsed": false,
    "ExecuteTime": {
     "end_time": "2024-01-19T21:04:22.123625100Z",
     "start_time": "2024-01-19T21:04:22.058499400Z"
    }
   },
   "execution_count": 88
  },
  {
   "cell_type": "markdown",
   "source": [
    "Let's apply our formula to get normalized values from 0 to 1:"
   ],
   "metadata": {
    "collapsed": false
   }
  },
  {
   "cell_type": "code",
   "outputs": [],
   "source": [
    "norm1 = (num1 - num1.min()) / (num1.max() - num1.min())\n",
    "norm2 = (num2 - num2.min()) / (num2.max() - num2.min())"
   ],
   "metadata": {
    "collapsed": false,
    "ExecuteTime": {
     "end_time": "2024-01-19T21:04:22.150851800Z",
     "start_time": "2024-01-19T21:04:22.126624300Z"
    }
   },
   "execution_count": 89
  },
  {
   "cell_type": "markdown",
   "source": [
    "Let's see if all of these values are within 0 and 1 with a simple pandas function:"
   ],
   "metadata": {
    "collapsed": false
   }
  },
  {
   "cell_type": "code",
   "outputs": [
    {
     "data": {
      "text/plain": "             PolBez      Altersgr       GebLand        Geschl  GeimpftGenesen\ncount  17694.000000  17694.000000  17694.000000  17694.000000    17694.000000\nmean       0.508211      0.525914      0.488584      0.501187        0.492012\nstd        0.318163      0.323962      0.499884      0.500013        0.372839\nmin        0.000000      0.000000      0.000000      0.000000        0.000000\n25%        0.256691      0.210843      0.000000      0.000000        0.000000\n50%        0.383212      0.572289      0.000000      1.000000        0.333333\n75%        0.738443      0.813253      1.000000      1.000000        0.666667\nmax        1.000000      1.000000      1.000000      1.000000        1.000000",
      "text/html": "<div>\n<style scoped>\n    .dataframe tbody tr th:only-of-type {\n        vertical-align: middle;\n    }\n\n    .dataframe tbody tr th {\n        vertical-align: top;\n    }\n\n    .dataframe thead th {\n        text-align: right;\n    }\n</style>\n<table border=\"1\" class=\"dataframe\">\n  <thead>\n    <tr style=\"text-align: right;\">\n      <th></th>\n      <th>PolBez</th>\n      <th>Altersgr</th>\n      <th>GebLand</th>\n      <th>Geschl</th>\n      <th>GeimpftGenesen</th>\n    </tr>\n  </thead>\n  <tbody>\n    <tr>\n      <th>count</th>\n      <td>17694.000000</td>\n      <td>17694.000000</td>\n      <td>17694.000000</td>\n      <td>17694.000000</td>\n      <td>17694.000000</td>\n    </tr>\n    <tr>\n      <th>mean</th>\n      <td>0.508211</td>\n      <td>0.525914</td>\n      <td>0.488584</td>\n      <td>0.501187</td>\n      <td>0.492012</td>\n    </tr>\n    <tr>\n      <th>std</th>\n      <td>0.318163</td>\n      <td>0.323962</td>\n      <td>0.499884</td>\n      <td>0.500013</td>\n      <td>0.372839</td>\n    </tr>\n    <tr>\n      <th>min</th>\n      <td>0.000000</td>\n      <td>0.000000</td>\n      <td>0.000000</td>\n      <td>0.000000</td>\n      <td>0.000000</td>\n    </tr>\n    <tr>\n      <th>25%</th>\n      <td>0.256691</td>\n      <td>0.210843</td>\n      <td>0.000000</td>\n      <td>0.000000</td>\n      <td>0.000000</td>\n    </tr>\n    <tr>\n      <th>50%</th>\n      <td>0.383212</td>\n      <td>0.572289</td>\n      <td>0.000000</td>\n      <td>1.000000</td>\n      <td>0.333333</td>\n    </tr>\n    <tr>\n      <th>75%</th>\n      <td>0.738443</td>\n      <td>0.813253</td>\n      <td>1.000000</td>\n      <td>1.000000</td>\n      <td>0.666667</td>\n    </tr>\n    <tr>\n      <th>max</th>\n      <td>1.000000</td>\n      <td>1.000000</td>\n      <td>1.000000</td>\n      <td>1.000000</td>\n      <td>1.000000</td>\n    </tr>\n  </tbody>\n</table>\n</div>"
     },
     "execution_count": 90,
     "metadata": {},
     "output_type": "execute_result"
    }
   ],
   "source": [
    "norm1.describe()"
   ],
   "metadata": {
    "collapsed": false,
    "ExecuteTime": {
     "end_time": "2024-01-19T21:04:22.193764800Z",
     "start_time": "2024-01-19T21:04:22.133798800Z"
    }
   },
   "execution_count": 90
  },
  {
   "cell_type": "markdown",
   "source": [
    "Looking good so far. Every min is 0 and every max is 1 (which was our goal). Now let's check norm2, too."
   ],
   "metadata": {
    "collapsed": false
   }
  },
  {
   "cell_type": "code",
   "outputs": [
    {
     "data": {
      "text/plain": "          Altersgr  GeimpftGenesen   Bundesland  ErwerbStatus      Bildung\ncount  1404.000000     1404.000000  1404.000000   1404.000000  1404.000000\nmean      0.493115        0.491690     0.504006      0.499288     0.512821\nstd       0.371470        0.372293     0.322200      0.500178     0.348880\nmin       0.000000        0.000000     0.000000      0.000000     0.000000\n25%       0.000000        0.000000     0.250000      0.000000     0.250000\n50%       0.333333        0.333333     0.500000      0.000000     0.500000\n75%       0.666667        0.666667     0.750000      1.000000     0.750000\nmax       1.000000        1.000000     1.000000      1.000000     1.000000",
      "text/html": "<div>\n<style scoped>\n    .dataframe tbody tr th:only-of-type {\n        vertical-align: middle;\n    }\n\n    .dataframe tbody tr th {\n        vertical-align: top;\n    }\n\n    .dataframe thead th {\n        text-align: right;\n    }\n</style>\n<table border=\"1\" class=\"dataframe\">\n  <thead>\n    <tr style=\"text-align: right;\">\n      <th></th>\n      <th>Altersgr</th>\n      <th>GeimpftGenesen</th>\n      <th>Bundesland</th>\n      <th>ErwerbStatus</th>\n      <th>Bildung</th>\n    </tr>\n  </thead>\n  <tbody>\n    <tr>\n      <th>count</th>\n      <td>1404.000000</td>\n      <td>1404.000000</td>\n      <td>1404.000000</td>\n      <td>1404.000000</td>\n      <td>1404.000000</td>\n    </tr>\n    <tr>\n      <th>mean</th>\n      <td>0.493115</td>\n      <td>0.491690</td>\n      <td>0.504006</td>\n      <td>0.499288</td>\n      <td>0.512821</td>\n    </tr>\n    <tr>\n      <th>std</th>\n      <td>0.371470</td>\n      <td>0.372293</td>\n      <td>0.322200</td>\n      <td>0.500178</td>\n      <td>0.348880</td>\n    </tr>\n    <tr>\n      <th>min</th>\n      <td>0.000000</td>\n      <td>0.000000</td>\n      <td>0.000000</td>\n      <td>0.000000</td>\n      <td>0.000000</td>\n    </tr>\n    <tr>\n      <th>25%</th>\n      <td>0.000000</td>\n      <td>0.000000</td>\n      <td>0.250000</td>\n      <td>0.000000</td>\n      <td>0.250000</td>\n    </tr>\n    <tr>\n      <th>50%</th>\n      <td>0.333333</td>\n      <td>0.333333</td>\n      <td>0.500000</td>\n      <td>0.000000</td>\n      <td>0.500000</td>\n    </tr>\n    <tr>\n      <th>75%</th>\n      <td>0.666667</td>\n      <td>0.666667</td>\n      <td>0.750000</td>\n      <td>1.000000</td>\n      <td>0.750000</td>\n    </tr>\n    <tr>\n      <th>max</th>\n      <td>1.000000</td>\n      <td>1.000000</td>\n      <td>1.000000</td>\n      <td>1.000000</td>\n      <td>1.000000</td>\n    </tr>\n  </tbody>\n</table>\n</div>"
     },
     "execution_count": 91,
     "metadata": {},
     "output_type": "execute_result"
    }
   ],
   "source": [
    "norm2.describe()"
   ],
   "metadata": {
    "collapsed": false,
    "ExecuteTime": {
     "end_time": "2024-01-19T21:04:22.212043900Z",
     "start_time": "2024-01-19T21:04:22.153852600Z"
    }
   },
   "execution_count": 91
  },
  {
   "cell_type": "markdown",
   "source": [
    "Now, it's time to save these datasets once more as ``norm1.csv`` and ``norm2.csv``."
   ],
   "metadata": {
    "collapsed": false
   }
  },
  {
   "cell_type": "code",
   "outputs": [],
   "source": [
    "norm1.to_csv(\"./output/norm1.csv\", index=False)\n",
    "norm2.to_csv(\"./output/norm2.csv\", index=False)"
   ],
   "metadata": {
    "collapsed": false,
    "ExecuteTime": {
     "end_time": "2024-01-19T21:08:13.160013100Z",
     "start_time": "2024-01-19T21:08:13.106436900Z"
    }
   },
   "execution_count": 93
  },
  {
   "cell_type": "markdown",
   "source": [
    "## Nominal Values\n",
    "In this section we will convert the values to only ordinal or nominal values and therefore get rid of any metric values. First, let's look at dataset 1.\n",
    "### Dataset 1\n",
    "We can actually keep the values in ``PolBez``, ``GebLand``, ``Geschl``, and ``GeimpftGenesen`` as they are from korr1 dataframe."
   ],
   "metadata": {
    "collapsed": false
   }
  },
  {
   "cell_type": "code",
   "outputs": [
    {
     "data": {
      "text/plain": "            PolBez Geschl  GebLand GeimpftGenesen\n2989   BEZIMST-302      m  AUSLAND            GEN\n13154  BEZIMST-707      m  AUSLAND     IMPF + GEN\n2075   BEZIMST-206      f   INLAND            GEN\n10969  BEZIMST-612      f  AUSLAND           IMPF\n6402   BEZIMST-325      f  AUSLAND         NICHTS",
      "text/html": "<div>\n<style scoped>\n    .dataframe tbody tr th:only-of-type {\n        vertical-align: middle;\n    }\n\n    .dataframe tbody tr th {\n        vertical-align: top;\n    }\n\n    .dataframe thead th {\n        text-align: right;\n    }\n</style>\n<table border=\"1\" class=\"dataframe\">\n  <thead>\n    <tr style=\"text-align: right;\">\n      <th></th>\n      <th>PolBez</th>\n      <th>Geschl</th>\n      <th>GebLand</th>\n      <th>GeimpftGenesen</th>\n    </tr>\n  </thead>\n  <tbody>\n    <tr>\n      <th>2989</th>\n      <td>BEZIMST-302</td>\n      <td>m</td>\n      <td>AUSLAND</td>\n      <td>GEN</td>\n    </tr>\n    <tr>\n      <th>13154</th>\n      <td>BEZIMST-707</td>\n      <td>m</td>\n      <td>AUSLAND</td>\n      <td>IMPF + GEN</td>\n    </tr>\n    <tr>\n      <th>2075</th>\n      <td>BEZIMST-206</td>\n      <td>f</td>\n      <td>INLAND</td>\n      <td>GEN</td>\n    </tr>\n    <tr>\n      <th>10969</th>\n      <td>BEZIMST-612</td>\n      <td>f</td>\n      <td>AUSLAND</td>\n      <td>IMPF</td>\n    </tr>\n    <tr>\n      <th>6402</th>\n      <td>BEZIMST-325</td>\n      <td>f</td>\n      <td>AUSLAND</td>\n      <td>NICHTS</td>\n    </tr>\n  </tbody>\n</table>\n</div>"
     },
     "execution_count": 94,
     "metadata": {},
     "output_type": "execute_result"
    }
   ],
   "source": [
    "nom1 = pd.DataFrame()\n",
    "\n",
    "nom1[\"PolBez\"] = korr1.PolBez\n",
    "nom1[\"GebLand\"] = korr1.GebLand\n",
    "nom1[\"Geschl\"] = korr1.Geschl\n",
    "nom1[\"GeimpftGenesen\"] = korr1.GeimpftGenesen\n",
    "\n",
    "nom1.sample(5)"
   ],
   "metadata": {
    "collapsed": false,
    "ExecuteTime": {
     "end_time": "2024-01-19T22:36:25.566400Z",
     "start_time": "2024-01-19T22:36:25.532933700Z"
    }
   },
   "execution_count": 94
  },
  {
   "cell_type": "markdown",
   "source": [
    "### Dataset 2\n",
    "Like the previous dataframe, we can leave ``Bundesland``, ``Bildung``, ``ErwerbStatus``, and ``GeimpftGenesen`` from korr2 dataframe unchanged:"
   ],
   "metadata": {
    "collapsed": false
   }
  },
  {
   "cell_type": "code",
   "outputs": [
    {
     "data": {
      "text/plain": "     Bundesland              Bildung ErwerbStatus GeimpftGenesen\n971       Tirol    Lehrabschluss/BMS        aktiv           IMPF\n788  Steiermark        Pflichtschule      inaktiv     IMPF + GEN\n693    Salzburg       BHS/AHS/Kolleg      inaktiv           IMPF\n835  Steiermark    Lehrabschluss/BMS      inaktiv           IMPF\n251     Kärnten  Akademie/Hochschule      inaktiv     IMPF + GEN",
      "text/html": "<div>\n<style scoped>\n    .dataframe tbody tr th:only-of-type {\n        vertical-align: middle;\n    }\n\n    .dataframe tbody tr th {\n        vertical-align: top;\n    }\n\n    .dataframe thead th {\n        text-align: right;\n    }\n</style>\n<table border=\"1\" class=\"dataframe\">\n  <thead>\n    <tr style=\"text-align: right;\">\n      <th></th>\n      <th>Bundesland</th>\n      <th>Bildung</th>\n      <th>ErwerbStatus</th>\n      <th>GeimpftGenesen</th>\n    </tr>\n  </thead>\n  <tbody>\n    <tr>\n      <th>971</th>\n      <td>Tirol</td>\n      <td>Lehrabschluss/BMS</td>\n      <td>aktiv</td>\n      <td>IMPF</td>\n    </tr>\n    <tr>\n      <th>788</th>\n      <td>Steiermark</td>\n      <td>Pflichtschule</td>\n      <td>inaktiv</td>\n      <td>IMPF + GEN</td>\n    </tr>\n    <tr>\n      <th>693</th>\n      <td>Salzburg</td>\n      <td>BHS/AHS/Kolleg</td>\n      <td>inaktiv</td>\n      <td>IMPF</td>\n    </tr>\n    <tr>\n      <th>835</th>\n      <td>Steiermark</td>\n      <td>Lehrabschluss/BMS</td>\n      <td>inaktiv</td>\n      <td>IMPF</td>\n    </tr>\n    <tr>\n      <th>251</th>\n      <td>Kärnten</td>\n      <td>Akademie/Hochschule</td>\n      <td>inaktiv</td>\n      <td>IMPF + GEN</td>\n    </tr>\n  </tbody>\n</table>\n</div>"
     },
     "execution_count": 96,
     "metadata": {},
     "output_type": "execute_result"
    }
   ],
   "source": [
    "nom2 = pd.DataFrame()\n",
    "\n",
    "nom2[\"Bundesland\"] = korr2.Bundesland\n",
    "nom2[\"Bildung\"] = korr2.Bildung\n",
    "nom2[\"ErwerbStatus\"] = korr2.ErwerbStatus\n",
    "nom2[\"GeimpftGenesen\"] = korr2.GeimpftGenesen\n",
    "\n",
    "nom2.sample(5)"
   ],
   "metadata": {
    "collapsed": false,
    "ExecuteTime": {
     "end_time": "2024-01-19T22:49:05.022060700Z",
     "start_time": "2024-01-19T22:49:05.014567600Z"
    }
   },
   "execution_count": 96
  },
  {
   "cell_type": "markdown",
   "source": [
    "# Visualization with Seaborn\n",
    "## Color Palette\n",
    "Generated custom selected color palette handpicked with the finest colors in the world just for you Mr. Wöhrer!"
   ],
   "metadata": {
    "collapsed": false
   }
  },
  {
   "cell_type": "code",
   "outputs": [
    {
     "data": {
      "text/plain": "<Figure size 600x100 with 1 Axes>",
      "image/png": "[encoded data removed]"
     },
     "metadata": {},
     "output_type": "display_data"
    }
   ],
   "source": [
    "colors = [\"#3772FF\", \"#9CFC97\", \"#F038FF\", \"#FF1053\", \"#F29E4C\", \"#14BDEB\"]\n",
    "colorPallet = sns.set_palette(colors)\n",
    "sns.palplot(sns.color_palette())\n",
    "plt.show()"
   ],
   "metadata": {
    "collapsed": false,
    "ExecuteTime": {
     "end_time": "2024-01-19T21:04:22.395641800Z",
     "start_time": "2024-01-19T21:04:22.271189700Z"
    }
   },
   "execution_count": 92
  },
  {
   "cell_type": "markdown",
   "source": [],
   "metadata": {
    "collapsed": false
   }
  }
 ]
}
