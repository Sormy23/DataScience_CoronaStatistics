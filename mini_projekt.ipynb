{
 "nbformat": 4,
 "nbformat_minor": 0,
 "metadata": {
  "colab": {
   "provenance": [],
   "toc_visible": true,
   "include_colab_link": true
  },
  "kernelspec": {
   "name": "python3",
   "language": "python",
   "display_name": "Python 3 (ipykernel)"
  },
  "language_info": {
   "name": "python"
  }
 },
 "cells": [
  {
   "cell_type": "markdown",
   "metadata": {
    "id": "view-in-github",
    "colab_type": "text"
   },
   "source": [
    "<a href=\"https://colab.research.google.com/github/Sormy23/DataScience_CoronaStatistics/blob/main/mini_projekt.ipynb\" target=\"_parent\"><img src=\"https://colab.research.google.com/assets/colab-badge.svg\" alt=\"Open In Colab\"/></a>"
   ]
  },
  {
   "cell_type": "markdown",
   "source": [
    "# Covid Status\n",
    "This Data Science project by Sven Oberwalder and Yasin Sahin analyzes the development of the corona pandemic based on input data provided by Statistik Austria\n",
    "\n",
    "The Datasets can be found here:\n",
    "### [Dataset 1](https://data.statistik.gv.at/web/meta.jsp?dataset=OGD_covidggstatus2_GGSTATUS_2)\n",
    "\n",
    "### [Dataset 2](https://data.statistik.gv.at/web/meta.jsp?dataset=OGD_covidggstatus_GGSTATUS_1)"
   ],
   "metadata": {
    "id": "M66WWyDhkRqD"
   }
  },
  {
   "cell_type": "code",
   "execution_count": 1,
   "metadata": {
    "id": "5L8DRvCTyJfY",
    "ExecuteTime": {
     "end_time": "2024-01-18T11:16:12.942440800Z",
     "start_time": "2024-01-18T11:16:12.936222Z"
    }
   },
   "outputs": [],
   "source": [
    "import numpy as np\n",
    "import pandas as pd\n",
    "\n",
    "import matplotlib.pyplot as plt\n",
    "import seaborn as sns"
   ]
  },
  {
   "cell_type": "markdown",
   "source": [
    "# Initial Data Analysis and Import\n",
    "Dataset 1 has following attributes:\n",
    "* **C-BEZIMST-0** Politischer Bezirk (PolBez)\n",
    "* **C-ALTGRIMST-0** 5-years age group (Altersgr)\n",
    "* **C-GLIMST-0** Country of Birth (GebLand)\n",
    "* **C-C11-0** Sex (Geschl)\n",
    "* **C-IMST-0** COVID-19 vaccinated-recovered-status (GeimpftGenesen)\n",
    "* **F-DATA** Number of records (Anz)\n",
    "\n",
    "Dataset 2 has following attributes:\n",
    "* **C-B00-0** Federal country (Bundesland)\n",
    "* **C-BILIMST-0** Education (Bildung)\n",
    "* **C-ALTGRIMST-0** 5-years age group (Altersgr)\n",
    "* **C-ESIMST-0** Economic status (ErwerbStatus)\n",
    "* **C-IMST-0** COVID-19 vaccinated-recovered-status (GeimpftGenesen)\n",
    "* **F-DATA** Number of records (Anz)\n",
    "\n",
    "In below code, the datasets need to be imported and the attributes must be renamed to more meaningful names. Since the data is separated by semi-colons (;), we need to specify that when importing the csv-files. Furthermore, a simple Std-Analysis has to be conducted, to ensure the progress."
   ],
   "metadata": {
    "id": "D9eIWSwXltfa"
   }
  },
  {
   "cell_type": "code",
   "source": [
    "#import databases\n",
    "dataset1 = pd.read_csv(\"./data/dataset1.csv\", sep=\";\")\n",
    "dataset2 = pd.read_csv(\"./data/dataset2.csv\", sep=\";\")\n",
    "\n",
    "#rename attributes\n",
    "dataset1.rename(columns={\"C-BEZIMST-0\": \"PolBez\",\n",
    "                         \"C-ALTGRIMST-0\": \"Altersgr\",\n",
    "                         \"C-GLIMST-0\": \"GebLand\",\n",
    "                         \"C-C11-0\": \"Geschl\",\n",
    "                         \"C-IMST-0\": \"GeimpftGenesen\",\n",
    "                         \"F-DATA\": \"Anz\"}, inplace=True)\n",
    "dataset2.rename(columns={\"C-B00-0\": \"Bundesland\",\n",
    "                         \"C-BILIMST-0\": \"Bildung\",\n",
    "                         \"C-ALTGRIMST-0\": \"Altersgr\",\n",
    "                         \"C-ESIMST-0\": \"ErwerbStatus\",\n",
    "                         \"C-IMST-0\": \"GeimpftGenesen\",\n",
    "                         \"F-DATA\": \"Anz\"}, inplace=True)\n"
   ],
   "metadata": {
    "id": "30kSCrTBjYaZ",
    "ExecuteTime": {
     "end_time": "2024-01-18T11:16:12.990540200Z",
     "start_time": "2024-01-18T11:16:12.941406400Z"
    }
   },
   "execution_count": 2,
   "outputs": []
  },
  {
   "cell_type": "markdown",
   "source": [
    "## Std-Analysis for Dataset 1"
   ],
   "metadata": {
    "id": "1Fmtt61qu7F6"
   }
  },
  {
   "cell_type": "code",
   "source": [
    "dataset1.sample(5)"
   ],
   "metadata": {
    "colab": {
     "base_uri": "https://localhost:8080/",
     "height": 206
    },
    "id": "Wdo4xvbhu_H-",
    "outputId": "240e451c-a46e-4534-c8f8-dd06f1ecdf83",
    "ExecuteTime": {
     "end_time": "2024-01-18T11:16:13.013379400Z",
     "start_time": "2024-01-18T11:16:12.983806100Z"
    }
   },
   "execution_count": 3,
   "outputs": [
    {
     "data": {
      "text/plain": "            PolBez      Altersgr   GebLand Geschl GeimpftGenesen  Anz\n8598   BEZIMST-302  ALT10IMST-10  GLIMST-2  C11-1         IMST-2    6\n7565   BEZIMST-210  ALTGRIMST-17  GLIMST-2  C11-1         IMST-2    2\n45158  BEZIMST-913   ALTGRIMST-3  GLIMST-2  C11-2         IMST-4   62\n15269  BEZIMST-318  ALTGRIMST-10  GLIMST-2  C11-1         IMST-1  197\n23798  BEZIMST-414   ALTGRIMST-2  GLIMST-2  C11-2         IMST-1   13",
      "text/html": "<div>\n<style scoped>\n    .dataframe tbody tr th:only-of-type {\n        vertical-align: middle;\n    }\n\n    .dataframe tbody tr th {\n        vertical-align: top;\n    }\n\n    .dataframe thead th {\n        text-align: right;\n    }\n</style>\n<table border=\"1\" class=\"dataframe\">\n  <thead>\n    <tr style=\"text-align: right;\">\n      <th></th>\n      <th>PolBez</th>\n      <th>Altersgr</th>\n      <th>GebLand</th>\n      <th>Geschl</th>\n      <th>GeimpftGenesen</th>\n      <th>Anz</th>\n    </tr>\n  </thead>\n  <tbody>\n    <tr>\n      <th>8598</th>\n      <td>BEZIMST-302</td>\n      <td>ALT10IMST-10</td>\n      <td>GLIMST-2</td>\n      <td>C11-1</td>\n      <td>IMST-2</td>\n      <td>6</td>\n    </tr>\n    <tr>\n      <th>7565</th>\n      <td>BEZIMST-210</td>\n      <td>ALTGRIMST-17</td>\n      <td>GLIMST-2</td>\n      <td>C11-1</td>\n      <td>IMST-2</td>\n      <td>2</td>\n    </tr>\n    <tr>\n      <th>45158</th>\n      <td>BEZIMST-913</td>\n      <td>ALTGRIMST-3</td>\n      <td>GLIMST-2</td>\n      <td>C11-2</td>\n      <td>IMST-4</td>\n      <td>62</td>\n    </tr>\n    <tr>\n      <th>15269</th>\n      <td>BEZIMST-318</td>\n      <td>ALTGRIMST-10</td>\n      <td>GLIMST-2</td>\n      <td>C11-1</td>\n      <td>IMST-1</td>\n      <td>197</td>\n    </tr>\n    <tr>\n      <th>23798</th>\n      <td>BEZIMST-414</td>\n      <td>ALTGRIMST-2</td>\n      <td>GLIMST-2</td>\n      <td>C11-2</td>\n      <td>IMST-1</td>\n      <td>13</td>\n    </tr>\n  </tbody>\n</table>\n</div>"
     },
     "execution_count": 3,
     "metadata": {},
     "output_type": "execute_result"
    }
   ]
  },
  {
   "cell_type": "code",
   "source": [
    "dataset1.head(5)"
   ],
   "metadata": {
    "colab": {
     "base_uri": "https://localhost:8080/",
     "height": 206
    },
    "id": "PmkZl8CSvhOH",
    "outputId": "a5eabb3f-d088-4977-bc9b-274daad12619",
    "ExecuteTime": {
     "end_time": "2024-01-18T11:16:13.016512400Z",
     "start_time": "2024-01-18T11:16:12.997230700Z"
    }
   },
   "execution_count": 4,
   "outputs": [
    {
     "data": {
      "text/plain": "        PolBez     Altersgr   GebLand Geschl GeimpftGenesen  Anz\n0  BEZIMST-101  ALTGRIMST-1  GLIMST-1  C11-1         IMST-1    1\n1  BEZIMST-101  ALTGRIMST-1  GLIMST-1  C11-1         IMST-3   80\n2  BEZIMST-101  ALTGRIMST-1  GLIMST-1  C11-1         IMST-4  216\n3  BEZIMST-101  ALTGRIMST-1  GLIMST-1  C11-2         IMST-1    2\n4  BEZIMST-101  ALTGRIMST-1  GLIMST-1  C11-2         IMST-3   86",
      "text/html": "<div>\n<style scoped>\n    .dataframe tbody tr th:only-of-type {\n        vertical-align: middle;\n    }\n\n    .dataframe tbody tr th {\n        vertical-align: top;\n    }\n\n    .dataframe thead th {\n        text-align: right;\n    }\n</style>\n<table border=\"1\" class=\"dataframe\">\n  <thead>\n    <tr style=\"text-align: right;\">\n      <th></th>\n      <th>PolBez</th>\n      <th>Altersgr</th>\n      <th>GebLand</th>\n      <th>Geschl</th>\n      <th>GeimpftGenesen</th>\n      <th>Anz</th>\n    </tr>\n  </thead>\n  <tbody>\n    <tr>\n      <th>0</th>\n      <td>BEZIMST-101</td>\n      <td>ALTGRIMST-1</td>\n      <td>GLIMST-1</td>\n      <td>C11-1</td>\n      <td>IMST-1</td>\n      <td>1</td>\n    </tr>\n    <tr>\n      <th>1</th>\n      <td>BEZIMST-101</td>\n      <td>ALTGRIMST-1</td>\n      <td>GLIMST-1</td>\n      <td>C11-1</td>\n      <td>IMST-3</td>\n      <td>80</td>\n    </tr>\n    <tr>\n      <th>2</th>\n      <td>BEZIMST-101</td>\n      <td>ALTGRIMST-1</td>\n      <td>GLIMST-1</td>\n      <td>C11-1</td>\n      <td>IMST-4</td>\n      <td>216</td>\n    </tr>\n    <tr>\n      <th>3</th>\n      <td>BEZIMST-101</td>\n      <td>ALTGRIMST-1</td>\n      <td>GLIMST-1</td>\n      <td>C11-2</td>\n      <td>IMST-1</td>\n      <td>2</td>\n    </tr>\n    <tr>\n      <th>4</th>\n      <td>BEZIMST-101</td>\n      <td>ALTGRIMST-1</td>\n      <td>GLIMST-1</td>\n      <td>C11-2</td>\n      <td>IMST-3</td>\n      <td>86</td>\n    </tr>\n  </tbody>\n</table>\n</div>"
     },
     "execution_count": 4,
     "metadata": {},
     "output_type": "execute_result"
    }
   ]
  },
  {
   "cell_type": "code",
   "source": [
    "dataset1.info()"
   ],
   "metadata": {
    "colab": {
     "base_uri": "https://localhost:8080/"
    },
    "id": "YW3nn_UQvkFH",
    "outputId": "3593f36e-c127-4d1a-855e-70620c5c1b63",
    "ExecuteTime": {
     "end_time": "2024-01-18T11:16:13.133480500Z",
     "start_time": "2024-01-18T11:16:13.008167300Z"
    }
   },
   "execution_count": 5,
   "outputs": [
    {
     "name": "stdout",
     "output_type": "stream",
     "text": [
      "<class 'pandas.core.frame.DataFrame'>\n",
      "RangeIndex: 53961 entries, 0 to 53960\n",
      "Data columns (total 6 columns):\n",
      " #   Column          Non-Null Count  Dtype \n",
      "---  ------          --------------  ----- \n",
      " 0   PolBez          53961 non-null  object\n",
      " 1   Altersgr        53961 non-null  object\n",
      " 2   GebLand         53961 non-null  object\n",
      " 3   Geschl          53961 non-null  object\n",
      " 4   GeimpftGenesen  53961 non-null  object\n",
      " 5   Anz             53961 non-null  int64 \n",
      "dtypes: int64(1), object(5)\n",
      "memory usage: 2.5+ MB\n"
     ]
    }
   ]
  },
  {
   "cell_type": "code",
   "source": [
    "dataset1.describe()"
   ],
   "metadata": {
    "colab": {
     "base_uri": "https://localhost:8080/",
     "height": 300
    },
    "id": "Xh-eOu75vm42",
    "outputId": "26e0d4b1-9ace-413b-f2a2-70927c2f22d5",
    "ExecuteTime": {
     "end_time": "2024-01-18T11:16:13.135567Z",
     "start_time": "2024-01-18T11:16:13.040707300Z"
    }
   },
   "execution_count": 6,
   "outputs": [
    {
     "data": {
      "text/plain": "                Anz\ncount  53961.000000\nmean     642.049703\nstd     2171.148389\nmin        1.000000\n25%       44.000000\n50%      169.000000\n75%      508.000000\nmax    70338.000000",
      "text/html": "<div>\n<style scoped>\n    .dataframe tbody tr th:only-of-type {\n        vertical-align: middle;\n    }\n\n    .dataframe tbody tr th {\n        vertical-align: top;\n    }\n\n    .dataframe thead th {\n        text-align: right;\n    }\n</style>\n<table border=\"1\" class=\"dataframe\">\n  <thead>\n    <tr style=\"text-align: right;\">\n      <th></th>\n      <th>Anz</th>\n    </tr>\n  </thead>\n  <tbody>\n    <tr>\n      <th>count</th>\n      <td>53961.000000</td>\n    </tr>\n    <tr>\n      <th>mean</th>\n      <td>642.049703</td>\n    </tr>\n    <tr>\n      <th>std</th>\n      <td>2171.148389</td>\n    </tr>\n    <tr>\n      <th>min</th>\n      <td>1.000000</td>\n    </tr>\n    <tr>\n      <th>25%</th>\n      <td>44.000000</td>\n    </tr>\n    <tr>\n      <th>50%</th>\n      <td>169.000000</td>\n    </tr>\n    <tr>\n      <th>75%</th>\n      <td>508.000000</td>\n    </tr>\n    <tr>\n      <th>max</th>\n      <td>70338.000000</td>\n    </tr>\n  </tbody>\n</table>\n</div>"
     },
     "execution_count": 6,
     "metadata": {},
     "output_type": "execute_result"
    }
   ]
  },
  {
   "cell_type": "markdown",
   "source": [
    "## Std-Analysis for Dataset 2"
   ],
   "metadata": {
    "id": "tyjCMpNnvs_L"
   }
  },
  {
   "cell_type": "code",
   "source": [
    "dataset2.sample(5)"
   ],
   "metadata": {
    "colab": {
     "base_uri": "https://localhost:8080/",
     "height": 206
    },
    "id": "9IkCAYv8vvy0",
    "outputId": "44ccad8b-af4a-4794-dc09-43fa24e2e459",
    "ExecuteTime": {
     "end_time": "2024-01-18T11:16:13.137653100Z",
     "start_time": "2024-01-18T11:16:13.052753200Z"
    }
   },
   "execution_count": 7,
   "outputs": [
    {
     "data": {
      "text/plain": "     Bundesland     Bildung     Altersgr ErwerbStatus GeimpftGenesen   Anz\n1033      B00-7   BILIMST-4  ALT10IMST-4     ESIMST-2         IMST-3   691\n104       B00-1   BILIMST-4  ALT10IMST-5     ESIMST-1         IMST-1  2558\n1146      B00-8   BILIMST-2  ALT10IMST-7     ESIMST-1         IMST-3  2073\n1080      B00-7  BILIMST-99  ALT10IMST-6     ESIMST-2         IMST-3     1\n490       B00-4   BILIMST-1  ALT10IMST-7     ESIMST-2         IMST-2  2678",
      "text/html": "<div>\n<style scoped>\n    .dataframe tbody tr th:only-of-type {\n        vertical-align: middle;\n    }\n\n    .dataframe tbody tr th {\n        vertical-align: top;\n    }\n\n    .dataframe thead th {\n        text-align: right;\n    }\n</style>\n<table border=\"1\" class=\"dataframe\">\n  <thead>\n    <tr style=\"text-align: right;\">\n      <th></th>\n      <th>Bundesland</th>\n      <th>Bildung</th>\n      <th>Altersgr</th>\n      <th>ErwerbStatus</th>\n      <th>GeimpftGenesen</th>\n      <th>Anz</th>\n    </tr>\n  </thead>\n  <tbody>\n    <tr>\n      <th>1033</th>\n      <td>B00-7</td>\n      <td>BILIMST-4</td>\n      <td>ALT10IMST-4</td>\n      <td>ESIMST-2</td>\n      <td>IMST-3</td>\n      <td>691</td>\n    </tr>\n    <tr>\n      <th>104</th>\n      <td>B00-1</td>\n      <td>BILIMST-4</td>\n      <td>ALT10IMST-5</td>\n      <td>ESIMST-1</td>\n      <td>IMST-1</td>\n      <td>2558</td>\n    </tr>\n    <tr>\n      <th>1146</th>\n      <td>B00-8</td>\n      <td>BILIMST-2</td>\n      <td>ALT10IMST-7</td>\n      <td>ESIMST-1</td>\n      <td>IMST-3</td>\n      <td>2073</td>\n    </tr>\n    <tr>\n      <th>1080</th>\n      <td>B00-7</td>\n      <td>BILIMST-99</td>\n      <td>ALT10IMST-6</td>\n      <td>ESIMST-2</td>\n      <td>IMST-3</td>\n      <td>1</td>\n    </tr>\n    <tr>\n      <th>490</th>\n      <td>B00-4</td>\n      <td>BILIMST-1</td>\n      <td>ALT10IMST-7</td>\n      <td>ESIMST-2</td>\n      <td>IMST-2</td>\n      <td>2678</td>\n    </tr>\n  </tbody>\n</table>\n</div>"
     },
     "execution_count": 7,
     "metadata": {},
     "output_type": "execute_result"
    }
   ]
  },
  {
   "cell_type": "code",
   "source": [
    "dataset2.head(5)"
   ],
   "metadata": {
    "colab": {
     "base_uri": "https://localhost:8080/",
     "height": 206
    },
    "id": "nEMpwqWmvzQW",
    "outputId": "88c4f279-3e85-47cb-f2e3-5f14bb5372b0",
    "ExecuteTime": {
     "end_time": "2024-01-18T11:16:13.237859500Z",
     "start_time": "2024-01-18T11:16:13.055369Z"
    }
   },
   "execution_count": 8,
   "outputs": [
    {
     "data": {
      "text/plain": "  Bundesland    Bildung     Altersgr ErwerbStatus GeimpftGenesen  Anz\n0      B00-1  BILIMST-1  ALT10IMST-4     ESIMST-1         IMST-1  611\n1      B00-1  BILIMST-1  ALT10IMST-4     ESIMST-1         IMST-2  285\n2      B00-1  BILIMST-1  ALT10IMST-4     ESIMST-1         IMST-3  396\n3      B00-1  BILIMST-1  ALT10IMST-4     ESIMST-1         IMST-4  472\n4      B00-1  BILIMST-1  ALT10IMST-4     ESIMST-2         IMST-1  471",
      "text/html": "<div>\n<style scoped>\n    .dataframe tbody tr th:only-of-type {\n        vertical-align: middle;\n    }\n\n    .dataframe tbody tr th {\n        vertical-align: top;\n    }\n\n    .dataframe thead th {\n        text-align: right;\n    }\n</style>\n<table border=\"1\" class=\"dataframe\">\n  <thead>\n    <tr style=\"text-align: right;\">\n      <th></th>\n      <th>Bundesland</th>\n      <th>Bildung</th>\n      <th>Altersgr</th>\n      <th>ErwerbStatus</th>\n      <th>GeimpftGenesen</th>\n      <th>Anz</th>\n    </tr>\n  </thead>\n  <tbody>\n    <tr>\n      <th>0</th>\n      <td>B00-1</td>\n      <td>BILIMST-1</td>\n      <td>ALT10IMST-4</td>\n      <td>ESIMST-1</td>\n      <td>IMST-1</td>\n      <td>611</td>\n    </tr>\n    <tr>\n      <th>1</th>\n      <td>B00-1</td>\n      <td>BILIMST-1</td>\n      <td>ALT10IMST-4</td>\n      <td>ESIMST-1</td>\n      <td>IMST-2</td>\n      <td>285</td>\n    </tr>\n    <tr>\n      <th>2</th>\n      <td>B00-1</td>\n      <td>BILIMST-1</td>\n      <td>ALT10IMST-4</td>\n      <td>ESIMST-1</td>\n      <td>IMST-3</td>\n      <td>396</td>\n    </tr>\n    <tr>\n      <th>3</th>\n      <td>B00-1</td>\n      <td>BILIMST-1</td>\n      <td>ALT10IMST-4</td>\n      <td>ESIMST-1</td>\n      <td>IMST-4</td>\n      <td>472</td>\n    </tr>\n    <tr>\n      <th>4</th>\n      <td>B00-1</td>\n      <td>BILIMST-1</td>\n      <td>ALT10IMST-4</td>\n      <td>ESIMST-2</td>\n      <td>IMST-1</td>\n      <td>471</td>\n    </tr>\n  </tbody>\n</table>\n</div>"
     },
     "execution_count": 8,
     "metadata": {},
     "output_type": "execute_result"
    }
   ]
  },
  {
   "cell_type": "code",
   "source": [
    "dataset2.info()"
   ],
   "metadata": {
    "colab": {
     "base_uri": "https://localhost:8080/"
    },
    "id": "SgvRkXo-v1EM",
    "outputId": "04bf6168-a572-48c7-d9f7-afb33be9e023",
    "ExecuteTime": {
     "end_time": "2024-01-18T11:16:13.239076500Z",
     "start_time": "2024-01-18T11:16:13.065154900Z"
    }
   },
   "execution_count": 9,
   "outputs": [
    {
     "name": "stdout",
     "output_type": "stream",
     "text": [
      "<class 'pandas.core.frame.DataFrame'>\n",
      "RangeIndex: 1404 entries, 0 to 1403\n",
      "Data columns (total 6 columns):\n",
      " #   Column          Non-Null Count  Dtype \n",
      "---  ------          --------------  ----- \n",
      " 0   Bundesland      1404 non-null   object\n",
      " 1   Bildung         1404 non-null   object\n",
      " 2   Altersgr        1404 non-null   object\n",
      " 3   ErwerbStatus    1404 non-null   object\n",
      " 4   GeimpftGenesen  1404 non-null   object\n",
      " 5   Anz             1404 non-null   int64 \n",
      "dtypes: int64(1), object(5)\n",
      "memory usage: 65.9+ KB\n"
     ]
    }
   ]
  },
  {
   "cell_type": "code",
   "source": [
    "dataset2.describe()"
   ],
   "metadata": {
    "colab": {
     "base_uri": "https://localhost:8080/",
     "height": 300
    },
    "id": "yPUQGcnIv2uu",
    "outputId": "2265a5d5-ff0f-4680-d060-f199cabe5139",
    "ExecuteTime": {
     "end_time": "2024-01-18T11:16:13.240187900Z",
     "start_time": "2024-01-18T11:16:13.074979100Z"
    }
   },
   "execution_count": 10,
   "outputs": [
    {
     "data": {
      "text/plain": "                Anz\ncount   1404.000000\nmean    3414.423789\nstd     5746.310880\nmin        1.000000\n25%      310.500000\n50%     1375.500000\n75%     3926.000000\nmax    55581.000000",
      "text/html": "<div>\n<style scoped>\n    .dataframe tbody tr th:only-of-type {\n        vertical-align: middle;\n    }\n\n    .dataframe tbody tr th {\n        vertical-align: top;\n    }\n\n    .dataframe thead th {\n        text-align: right;\n    }\n</style>\n<table border=\"1\" class=\"dataframe\">\n  <thead>\n    <tr style=\"text-align: right;\">\n      <th></th>\n      <th>Anz</th>\n    </tr>\n  </thead>\n  <tbody>\n    <tr>\n      <th>count</th>\n      <td>1404.000000</td>\n    </tr>\n    <tr>\n      <th>mean</th>\n      <td>3414.423789</td>\n    </tr>\n    <tr>\n      <th>std</th>\n      <td>5746.310880</td>\n    </tr>\n    <tr>\n      <th>min</th>\n      <td>1.000000</td>\n    </tr>\n    <tr>\n      <th>25%</th>\n      <td>310.500000</td>\n    </tr>\n    <tr>\n      <th>50%</th>\n      <td>1375.500000</td>\n    </tr>\n    <tr>\n      <th>75%</th>\n      <td>3926.000000</td>\n    </tr>\n    <tr>\n      <th>max</th>\n      <td>55581.000000</td>\n    </tr>\n  </tbody>\n</table>\n</div>"
     },
     "execution_count": 10,
     "metadata": {},
     "output_type": "execute_result"
    }
   ]
  },
  {
   "cell_type": "markdown",
   "source": [
    "# Data Cleaning\n",
    "In this section, the input data will be cleaned. For this manner, any wrong, missing, or irrelevant informations will be treated accordingly."
   ],
   "metadata": {
    "id": "gFobc4FLwEX_"
   }
  },
  {
   "cell_type": "markdown",
   "source": [
    "### Dataset 1"
   ],
   "metadata": {
    "id": "yivzJedFsp1X"
   }
  },
  {
   "cell_type": "code",
   "source": [
    "geimpftGenesenDict = {\"IMST-4\": 0, #nothing\n",
    "                      \"IMST-1\": 1, #vacc\n",
    "                      \"IMST-3\": 2, #recov\n",
    "                      \"IMST-2\": 3} #vacc + recov\n",
    "\n",
    "dataset1[\"GebLand\"] = dataset1[\"GebLand\"].map({\"GLIMST-1\": \"INLAND\",\n",
    "                                               \"GLIMST-2\": \"AUSLAND\"})\n",
    "\n",
    "dataset1[\"Geschl\"] = dataset1[\"Geschl\"].map({\"C11-1\": \"m\",\n",
    "                                             \"C11-2\": \"f\"})\n",
    "\n",
    "dataset1[\"GeimpftGenesen\"] = dataset1[\"GeimpftGenesen\"].map(geimpftGenesenDict)"
   ],
   "metadata": {
    "id": "MZQ3CBI2wjdy",
    "ExecuteTime": {
     "end_time": "2024-01-18T11:16:13.294503800Z",
     "start_time": "2024-01-18T11:16:13.082696600Z"
    }
   },
   "execution_count": 11,
   "outputs": []
  },
  {
   "cell_type": "markdown",
   "source": [
    "### Dataset 2"
   ],
   "metadata": {
    "id": "A3HIe4r6siHP"
   }
  },
  {
   "cell_type": "code",
   "source": [
    "bundeslandDict = {\n",
    "    \"B00-1\": \"Burgenland\",\n",
    "    \"B00-2\": \"Kärnten\",\n",
    "    \"B00-3\": \"Niederösterreich\",\n",
    "    \"B00-4\": \"Oberösterreich\",\n",
    "    \"B00-5\": \"Salzburg\",\n",
    "    \"B00-6\": \"Steiermark\",\n",
    "    \"B00-7\": \"Tirol\",\n",
    "    \"B00-8\": \"Vorarlberg\",\n",
    "    \"B00-9\": \"Wien\"\n",
    "}\n",
    "\n",
    "dataset2[\"Bundesland\"] = dataset2[\"Bundesland\"].map(bundeslandDict)\n",
    "\n",
    "dataset2[\"GeimpftGenesen\"] = dataset2[\"GeimpftGenesen\"].map(geimpftGenesenDict)\n",
    "\n",
    "dataset2[\"Bildung\"] = dataset2[\"Bildung\"].map({\"BILIMST-1\": \"Pflichtschule\",\n",
    "                                               \"BILIMST-2\": \"Lehrabschluss/BMS\",\n",
    "                                               \"BILIMST-3\": \"BHS/AHS/Kolleg\",\n",
    "                                               \"BILIMST-4\": \"Akademie/Hochschule\",\n",
    "                                               \"BILIMST-99\": \"N/A\"})\n",
    "\n",
    "dataset2[\"ErwerbStatus\"] = dataset2[\"ErwerbStatus\"].map({\"ESIMST-1\": 1,\n",
    "                                                         \"ESIMST-2\": 0})\n",
    "\n",
    "dataset2.sample(10)"
   ],
   "metadata": {
    "colab": {
     "base_uri": "https://localhost:8080/",
     "height": 363
    },
    "id": "nQFq6Pmxs2i-",
    "outputId": "a0c5ff3e-77fd-4ab4-e7e2-205ad5a27eab",
    "ExecuteTime": {
     "end_time": "2024-01-18T11:16:13.297631600Z",
     "start_time": "2024-01-18T11:16:13.102191100Z"
    }
   },
   "execution_count": 12,
   "outputs": [
    {
     "data": {
      "text/plain": "      Bundesland              Bildung     Altersgr  ErwerbStatus  \\\n794   Steiermark        Pflichtschule  ALT10IMST-6             1   \n683     Salzburg       BHS/AHS/Kolleg  ALT10IMST-4             1   \n1144  Vorarlberg    Lehrabschluss/BMS  ALT10IMST-7             1   \n1309        Wien       BHS/AHS/Kolleg  ALT10IMST-4             1   \n123   Burgenland  Akademie/Hochschule  ALT10IMST-7             1   \n647     Salzburg        Pflichtschule  ALT10IMST-7             0   \n741     Salzburg  Akademie/Hochschule  ALT10IMST-7             0   \n37    Burgenland    Lehrabschluss/BMS  ALT10IMST-4             0   \n42    Burgenland    Lehrabschluss/BMS  ALT10IMST-5             1   \n1197  Vorarlberg  Akademie/Hochschule  ALT10IMST-5             0   \n\n      GeimpftGenesen    Anz  \n794                0   3424  \n683                2   2831  \n1144               1  11471  \n1309               3  16730  \n123                0    290  \n647                2    553  \n741                1   1110  \n37                 3    341  \n42                 2   2712  \n1197               3    282  ",
      "text/html": "<div>\n<style scoped>\n    .dataframe tbody tr th:only-of-type {\n        vertical-align: middle;\n    }\n\n    .dataframe tbody tr th {\n        vertical-align: top;\n    }\n\n    .dataframe thead th {\n        text-align: right;\n    }\n</style>\n<table border=\"1\" class=\"dataframe\">\n  <thead>\n    <tr style=\"text-align: right;\">\n      <th></th>\n      <th>Bundesland</th>\n      <th>Bildung</th>\n      <th>Altersgr</th>\n      <th>ErwerbStatus</th>\n      <th>GeimpftGenesen</th>\n      <th>Anz</th>\n    </tr>\n  </thead>\n  <tbody>\n    <tr>\n      <th>794</th>\n      <td>Steiermark</td>\n      <td>Pflichtschule</td>\n      <td>ALT10IMST-6</td>\n      <td>1</td>\n      <td>0</td>\n      <td>3424</td>\n    </tr>\n    <tr>\n      <th>683</th>\n      <td>Salzburg</td>\n      <td>BHS/AHS/Kolleg</td>\n      <td>ALT10IMST-4</td>\n      <td>1</td>\n      <td>2</td>\n      <td>2831</td>\n    </tr>\n    <tr>\n      <th>1144</th>\n      <td>Vorarlberg</td>\n      <td>Lehrabschluss/BMS</td>\n      <td>ALT10IMST-7</td>\n      <td>1</td>\n      <td>1</td>\n      <td>11471</td>\n    </tr>\n    <tr>\n      <th>1309</th>\n      <td>Wien</td>\n      <td>BHS/AHS/Kolleg</td>\n      <td>ALT10IMST-4</td>\n      <td>1</td>\n      <td>3</td>\n      <td>16730</td>\n    </tr>\n    <tr>\n      <th>123</th>\n      <td>Burgenland</td>\n      <td>Akademie/Hochschule</td>\n      <td>ALT10IMST-7</td>\n      <td>1</td>\n      <td>0</td>\n      <td>290</td>\n    </tr>\n    <tr>\n      <th>647</th>\n      <td>Salzburg</td>\n      <td>Pflichtschule</td>\n      <td>ALT10IMST-7</td>\n      <td>0</td>\n      <td>2</td>\n      <td>553</td>\n    </tr>\n    <tr>\n      <th>741</th>\n      <td>Salzburg</td>\n      <td>Akademie/Hochschule</td>\n      <td>ALT10IMST-7</td>\n      <td>0</td>\n      <td>1</td>\n      <td>1110</td>\n    </tr>\n    <tr>\n      <th>37</th>\n      <td>Burgenland</td>\n      <td>Lehrabschluss/BMS</td>\n      <td>ALT10IMST-4</td>\n      <td>0</td>\n      <td>3</td>\n      <td>341</td>\n    </tr>\n    <tr>\n      <th>42</th>\n      <td>Burgenland</td>\n      <td>Lehrabschluss/BMS</td>\n      <td>ALT10IMST-5</td>\n      <td>1</td>\n      <td>2</td>\n      <td>2712</td>\n    </tr>\n    <tr>\n      <th>1197</th>\n      <td>Vorarlberg</td>\n      <td>Akademie/Hochschule</td>\n      <td>ALT10IMST-5</td>\n      <td>0</td>\n      <td>3</td>\n      <td>282</td>\n    </tr>\n  </tbody>\n</table>\n</div>"
     },
     "execution_count": 12,
     "metadata": {},
     "output_type": "execute_result"
    }
   ]
  },
  {
   "cell_type": "markdown",
   "source": [
    "## Duplicate Data"
   ],
   "metadata": {
    "id": "uIajRH5HATLm"
   }
  },
  {
   "cell_type": "code",
   "source": [
    "dataset1[\"Anz\"].sum()"
   ],
   "metadata": {
    "colab": {
     "base_uri": "https://localhost:8080/"
    },
    "id": "dSlWSzYR7e9f",
    "outputId": "54f21b48-4cde-4b90-cc5a-a1f52cff8cc5",
    "ExecuteTime": {
     "end_time": "2024-01-18T11:16:13.303903200Z",
     "start_time": "2024-01-18T11:16:13.110731800Z"
    }
   },
   "execution_count": 13,
   "outputs": [
    {
     "data": {
      "text/plain": "34645644"
     },
     "execution_count": 13,
     "metadata": {},
     "output_type": "execute_result"
    }
   ]
  },
  {
   "cell_type": "markdown",
   "source": [
    "In the above code we can see that the sum of records is approximately 4 times the total population of Austria. This strongly suggests that there may be duplicate data. And exactly that is the case: In ``PolBez`` there are records for each province and also for each federal country. This duplicate is not necessary, since one province can easily be assigned to its federal country (e.g. ``BEZIMST-304`` (= Wiener Neustadt) must be in ``B00-3`` (=Niederoesterreich)). So the records for the federal countries can be removed."
   ],
   "metadata": {
    "id": "dEn-2wDz7jUL"
   }
  },
  {
   "cell_type": "code",
   "source": [
    "dataset1 = dataset1.loc[dataset1[\"PolBez\"].map(lambda val: \"BEZIMST\" in val)] #only provinces have the prefix BEZIMST\n",
    "dataset1[\"Anz\"].sum()"
   ],
   "metadata": {
    "colab": {
     "base_uri": "https://localhost:8080/"
    },
    "id": "UhduHT9j9hkT",
    "outputId": "c97cf443-a8a8-45c1-d750-e94aa8a84dfc",
    "ExecuteTime": {
     "end_time": "2024-01-18T11:16:13.347696500Z",
     "start_time": "2024-01-18T11:16:13.115244700Z"
    }
   },
   "execution_count": 14,
   "outputs": [
    {
     "data": {
      "text/plain": "17322822"
     },
     "execution_count": 14,
     "metadata": {},
     "output_type": "execute_result"
    }
   ]
  },
  {
   "cell_type": "markdown",
   "source": [
    "The above code still returns an amount which is twice as big as Austria's population. Similairly, the column ``Altersgr`` has duplicate records for different age groups. We can remove the non-specific records."
   ],
   "metadata": {
    "id": "9YqvKyrt-8pM"
   }
  },
  {
   "cell_type": "code",
   "source": [
    "dataset1 = dataset1.loc[dataset1[\"Altersgr\"].map(lambda val: \"ALT10IMST\" in val)] #only groups with prefix ALTGRIMST\n",
    "dataset1[\"Anz\"].sum()"
   ],
   "metadata": {
    "colab": {
     "base_uri": "https://localhost:8080/"
    },
    "id": "ix7rrnHc_xZ9",
    "outputId": "dea7debe-d63d-40cd-cd3c-bb7c68f86bbe",
    "ExecuteTime": {
     "end_time": "2024-01-18T11:16:13.366831400Z",
     "start_time": "2024-01-18T11:16:13.135567Z"
    }
   },
   "execution_count": 15,
   "outputs": [
    {
     "data": {
      "text/plain": "8661411"
     },
     "execution_count": 15,
     "metadata": {},
     "output_type": "execute_result"
    }
   ]
  },
  {
   "cell_type": "markdown",
   "source": [
    "Now we have removed all duplicate values. Let's continue cleaning our data.\n",
    "## Null Values"
   ],
   "metadata": {
    "id": "DFirC0vsAKcb"
   }
  },
  {
   "cell_type": "code",
   "source": [
    "dataset1.isnull().sum()"
   ],
   "metadata": {
    "colab": {
     "base_uri": "https://localhost:8080/"
    },
    "id": "47idnUU9Ak3n",
    "outputId": "c0532026-d848-41fd-c4e8-846dc1f0c816",
    "ExecuteTime": {
     "end_time": "2024-01-18T11:16:13.368943100Z",
     "start_time": "2024-01-18T11:16:13.147044100Z"
    }
   },
   "execution_count": 16,
   "outputs": [
    {
     "data": {
      "text/plain": "PolBez            0\nAltersgr          0\nGebLand           0\nGeschl            0\nGeimpftGenesen    0\nAnz               0\ndtype: int64"
     },
     "execution_count": 16,
     "metadata": {},
     "output_type": "execute_result"
    }
   ]
  },
  {
   "cell_type": "markdown",
   "source": [],
   "metadata": {
    "id": "IBCfoU-PIhKr"
   }
  },
  {
   "cell_type": "code",
   "source": [
    "dataset2.isnull().sum()"
   ],
   "metadata": {
    "colab": {
     "base_uri": "https://localhost:8080/"
    },
    "id": "_BVxuSZ0BT-7",
    "outputId": "8f743b02-7811-47c9-b47d-df8069152447",
    "ExecuteTime": {
     "end_time": "2024-01-18T11:16:13.369986600Z",
     "start_time": "2024-01-18T11:16:13.160299Z"
    }
   },
   "execution_count": 17,
   "outputs": [
    {
     "data": {
      "text/plain": "Bundesland        0\nBildung           0\nAltersgr          0\nErwerbStatus      0\nGeimpftGenesen    0\nAnz               0\ndtype: int64"
     },
     "execution_count": 17,
     "metadata": {},
     "output_type": "execute_result"
    }
   ]
  },
  {
   "cell_type": "markdown",
   "source": [
    "Since there are no null values, we can continue. (Es gibt null values in Bildung -- gekennzeichnet mit ``BILIMST-99`` siehe unten, KA wie behandeln (°~°))"
   ],
   "metadata": {
    "id": "FtMMCEh1BY42"
   }
  },
  {
   "cell_type": "code",
   "source": [
    "dataset2[\"Bildung\"].value_counts()"
   ],
   "metadata": {
    "colab": {
     "base_uri": "https://localhost:8080/"
    },
    "id": "Suy_qulEBdES",
    "outputId": "7a968a1f-042d-4859-a6e4-f3c59a69c64a",
    "ExecuteTime": {
     "end_time": "2024-01-18T11:16:13.385071300Z",
     "start_time": "2024-01-18T11:16:13.166906200Z"
    }
   },
   "execution_count": 18,
   "outputs": [
    {
     "data": {
      "text/plain": "Pflichtschule          288\nLehrabschluss/BMS      288\nBHS/AHS/Kolleg         288\nAkademie/Hochschule    288\nN/A                    252\nName: Bildung, dtype: int64"
     },
     "execution_count": 18,
     "metadata": {},
     "output_type": "execute_result"
    }
   ]
  },
  {
   "cell_type": "markdown",
   "source": [
    "After this we are done cleaning our data and can save it into two datasets. ``korr1.csv`` for ``dataset1.csv`` and ``korr2.csv`` for ``dataset2.csv``"
   ],
   "metadata": {
    "id": "zEgugeGcH7A-"
   }
  },
  {
   "cell_type": "code",
   "source": [
    "dataset1.to_csv(\"/content/drive/MyDrive/output/korr1.csv\", sep=\";\")\n",
    "dataset2.to_csv(\"/content/drive/MyDrive/output/korr2.csv\", sep=\";\")"
   ],
   "metadata": {
    "id": "DdTWt4OsW48V",
    "ExecuteTime": {
     "end_time": "2024-01-18T11:16:14.848213200Z",
     "start_time": "2024-01-18T11:16:13.175381200Z"
    }
   },
   "execution_count": 19,
   "outputs": [
    {
     "ename": "OSError",
     "evalue": "Cannot save file into a non-existent directory: '\\content\\drive\\MyDrive\\output'",
     "output_type": "error",
     "traceback": [
      "\u001B[1;31m---------------------------------------------------------------------------\u001B[0m",
      "\u001B[1;31mOSError\u001B[0m                                   Traceback (most recent call last)",
      "Cell \u001B[1;32mIn[19], line 1\u001B[0m\n\u001B[1;32m----> 1\u001B[0m dataset1\u001B[38;5;241m.\u001B[39mto_csv(\u001B[38;5;124m\"\u001B[39m\u001B[38;5;124m/content/drive/MyDrive/output/korr1.csv\u001B[39m\u001B[38;5;124m\"\u001B[39m, sep\u001B[38;5;241m=\u001B[39m\u001B[38;5;124m\"\u001B[39m\u001B[38;5;124m;\u001B[39m\u001B[38;5;124m\"\u001B[39m)\n\u001B[0;32m      2\u001B[0m dataset2\u001B[38;5;241m.\u001B[39mto_csv(\u001B[38;5;124m\"\u001B[39m\u001B[38;5;124m/content/drive/MyDrive/output/korr2.csv\u001B[39m\u001B[38;5;124m\"\u001B[39m, sep\u001B[38;5;241m=\u001B[39m\u001B[38;5;124m\"\u001B[39m\u001B[38;5;124m;\u001B[39m\u001B[38;5;124m\"\u001B[39m)\n",
      "File \u001B[1;32m~\\anaconda3\\Lib\\site-packages\\pandas\\util\\_decorators.py:211\u001B[0m, in \u001B[0;36mdeprecate_kwarg.<locals>._deprecate_kwarg.<locals>.wrapper\u001B[1;34m(*args, **kwargs)\u001B[0m\n\u001B[0;32m    209\u001B[0m     \u001B[38;5;28;01melse\u001B[39;00m:\n\u001B[0;32m    210\u001B[0m         kwargs[new_arg_name] \u001B[38;5;241m=\u001B[39m new_arg_value\n\u001B[1;32m--> 211\u001B[0m \u001B[38;5;28;01mreturn\u001B[39;00m func(\u001B[38;5;241m*\u001B[39margs, \u001B[38;5;241m*\u001B[39m\u001B[38;5;241m*\u001B[39mkwargs)\n",
      "File \u001B[1;32m~\\anaconda3\\Lib\\site-packages\\pandas\\core\\generic.py:3720\u001B[0m, in \u001B[0;36mNDFrame.to_csv\u001B[1;34m(self, path_or_buf, sep, na_rep, float_format, columns, header, index, index_label, mode, encoding, compression, quoting, quotechar, lineterminator, chunksize, date_format, doublequote, escapechar, decimal, errors, storage_options)\u001B[0m\n\u001B[0;32m   3709\u001B[0m df \u001B[38;5;241m=\u001B[39m \u001B[38;5;28mself\u001B[39m \u001B[38;5;28;01mif\u001B[39;00m \u001B[38;5;28misinstance\u001B[39m(\u001B[38;5;28mself\u001B[39m, ABCDataFrame) \u001B[38;5;28;01melse\u001B[39;00m \u001B[38;5;28mself\u001B[39m\u001B[38;5;241m.\u001B[39mto_frame()\n\u001B[0;32m   3711\u001B[0m formatter \u001B[38;5;241m=\u001B[39m DataFrameFormatter(\n\u001B[0;32m   3712\u001B[0m     frame\u001B[38;5;241m=\u001B[39mdf,\n\u001B[0;32m   3713\u001B[0m     header\u001B[38;5;241m=\u001B[39mheader,\n\u001B[1;32m   (...)\u001B[0m\n\u001B[0;32m   3717\u001B[0m     decimal\u001B[38;5;241m=\u001B[39mdecimal,\n\u001B[0;32m   3718\u001B[0m )\n\u001B[1;32m-> 3720\u001B[0m \u001B[38;5;28;01mreturn\u001B[39;00m DataFrameRenderer(formatter)\u001B[38;5;241m.\u001B[39mto_csv(\n\u001B[0;32m   3721\u001B[0m     path_or_buf,\n\u001B[0;32m   3722\u001B[0m     lineterminator\u001B[38;5;241m=\u001B[39mlineterminator,\n\u001B[0;32m   3723\u001B[0m     sep\u001B[38;5;241m=\u001B[39msep,\n\u001B[0;32m   3724\u001B[0m     encoding\u001B[38;5;241m=\u001B[39mencoding,\n\u001B[0;32m   3725\u001B[0m     errors\u001B[38;5;241m=\u001B[39merrors,\n\u001B[0;32m   3726\u001B[0m     compression\u001B[38;5;241m=\u001B[39mcompression,\n\u001B[0;32m   3727\u001B[0m     quoting\u001B[38;5;241m=\u001B[39mquoting,\n\u001B[0;32m   3728\u001B[0m     columns\u001B[38;5;241m=\u001B[39mcolumns,\n\u001B[0;32m   3729\u001B[0m     index_label\u001B[38;5;241m=\u001B[39mindex_label,\n\u001B[0;32m   3730\u001B[0m     mode\u001B[38;5;241m=\u001B[39mmode,\n\u001B[0;32m   3731\u001B[0m     chunksize\u001B[38;5;241m=\u001B[39mchunksize,\n\u001B[0;32m   3732\u001B[0m     quotechar\u001B[38;5;241m=\u001B[39mquotechar,\n\u001B[0;32m   3733\u001B[0m     date_format\u001B[38;5;241m=\u001B[39mdate_format,\n\u001B[0;32m   3734\u001B[0m     doublequote\u001B[38;5;241m=\u001B[39mdoublequote,\n\u001B[0;32m   3735\u001B[0m     escapechar\u001B[38;5;241m=\u001B[39mescapechar,\n\u001B[0;32m   3736\u001B[0m     storage_options\u001B[38;5;241m=\u001B[39mstorage_options,\n\u001B[0;32m   3737\u001B[0m )\n",
      "File \u001B[1;32m~\\anaconda3\\Lib\\site-packages\\pandas\\util\\_decorators.py:211\u001B[0m, in \u001B[0;36mdeprecate_kwarg.<locals>._deprecate_kwarg.<locals>.wrapper\u001B[1;34m(*args, **kwargs)\u001B[0m\n\u001B[0;32m    209\u001B[0m     \u001B[38;5;28;01melse\u001B[39;00m:\n\u001B[0;32m    210\u001B[0m         kwargs[new_arg_name] \u001B[38;5;241m=\u001B[39m new_arg_value\n\u001B[1;32m--> 211\u001B[0m \u001B[38;5;28;01mreturn\u001B[39;00m func(\u001B[38;5;241m*\u001B[39margs, \u001B[38;5;241m*\u001B[39m\u001B[38;5;241m*\u001B[39mkwargs)\n",
      "File \u001B[1;32m~\\anaconda3\\Lib\\site-packages\\pandas\\io\\formats\\format.py:1189\u001B[0m, in \u001B[0;36mDataFrameRenderer.to_csv\u001B[1;34m(self, path_or_buf, encoding, sep, columns, index_label, mode, compression, quoting, quotechar, lineterminator, chunksize, date_format, doublequote, escapechar, errors, storage_options)\u001B[0m\n\u001B[0;32m   1168\u001B[0m     created_buffer \u001B[38;5;241m=\u001B[39m \u001B[38;5;28;01mFalse\u001B[39;00m\n\u001B[0;32m   1170\u001B[0m csv_formatter \u001B[38;5;241m=\u001B[39m CSVFormatter(\n\u001B[0;32m   1171\u001B[0m     path_or_buf\u001B[38;5;241m=\u001B[39mpath_or_buf,\n\u001B[0;32m   1172\u001B[0m     lineterminator\u001B[38;5;241m=\u001B[39mlineterminator,\n\u001B[1;32m   (...)\u001B[0m\n\u001B[0;32m   1187\u001B[0m     formatter\u001B[38;5;241m=\u001B[39m\u001B[38;5;28mself\u001B[39m\u001B[38;5;241m.\u001B[39mfmt,\n\u001B[0;32m   1188\u001B[0m )\n\u001B[1;32m-> 1189\u001B[0m csv_formatter\u001B[38;5;241m.\u001B[39msave()\n\u001B[0;32m   1191\u001B[0m \u001B[38;5;28;01mif\u001B[39;00m created_buffer:\n\u001B[0;32m   1192\u001B[0m     \u001B[38;5;28;01massert\u001B[39;00m \u001B[38;5;28misinstance\u001B[39m(path_or_buf, StringIO)\n",
      "File \u001B[1;32m~\\anaconda3\\Lib\\site-packages\\pandas\\io\\formats\\csvs.py:241\u001B[0m, in \u001B[0;36mCSVFormatter.save\u001B[1;34m(self)\u001B[0m\n\u001B[0;32m    237\u001B[0m \u001B[38;5;250m\u001B[39m\u001B[38;5;124;03m\"\"\"\u001B[39;00m\n\u001B[0;32m    238\u001B[0m \u001B[38;5;124;03mCreate the writer & save.\u001B[39;00m\n\u001B[0;32m    239\u001B[0m \u001B[38;5;124;03m\"\"\"\u001B[39;00m\n\u001B[0;32m    240\u001B[0m \u001B[38;5;66;03m# apply compression and byte/text conversion\u001B[39;00m\n\u001B[1;32m--> 241\u001B[0m \u001B[38;5;28;01mwith\u001B[39;00m get_handle(\n\u001B[0;32m    242\u001B[0m     \u001B[38;5;28mself\u001B[39m\u001B[38;5;241m.\u001B[39mfilepath_or_buffer,\n\u001B[0;32m    243\u001B[0m     \u001B[38;5;28mself\u001B[39m\u001B[38;5;241m.\u001B[39mmode,\n\u001B[0;32m    244\u001B[0m     encoding\u001B[38;5;241m=\u001B[39m\u001B[38;5;28mself\u001B[39m\u001B[38;5;241m.\u001B[39mencoding,\n\u001B[0;32m    245\u001B[0m     errors\u001B[38;5;241m=\u001B[39m\u001B[38;5;28mself\u001B[39m\u001B[38;5;241m.\u001B[39merrors,\n\u001B[0;32m    246\u001B[0m     compression\u001B[38;5;241m=\u001B[39m\u001B[38;5;28mself\u001B[39m\u001B[38;5;241m.\u001B[39mcompression,\n\u001B[0;32m    247\u001B[0m     storage_options\u001B[38;5;241m=\u001B[39m\u001B[38;5;28mself\u001B[39m\u001B[38;5;241m.\u001B[39mstorage_options,\n\u001B[0;32m    248\u001B[0m ) \u001B[38;5;28;01mas\u001B[39;00m handles:\n\u001B[0;32m    249\u001B[0m \n\u001B[0;32m    250\u001B[0m     \u001B[38;5;66;03m# Note: self.encoding is irrelevant here\u001B[39;00m\n\u001B[0;32m    251\u001B[0m     \u001B[38;5;28mself\u001B[39m\u001B[38;5;241m.\u001B[39mwriter \u001B[38;5;241m=\u001B[39m csvlib\u001B[38;5;241m.\u001B[39mwriter(\n\u001B[0;32m    252\u001B[0m         handles\u001B[38;5;241m.\u001B[39mhandle,\n\u001B[0;32m    253\u001B[0m         lineterminator\u001B[38;5;241m=\u001B[39m\u001B[38;5;28mself\u001B[39m\u001B[38;5;241m.\u001B[39mlineterminator,\n\u001B[1;32m   (...)\u001B[0m\n\u001B[0;32m    258\u001B[0m         quotechar\u001B[38;5;241m=\u001B[39m\u001B[38;5;28mself\u001B[39m\u001B[38;5;241m.\u001B[39mquotechar,\n\u001B[0;32m    259\u001B[0m     )\n\u001B[0;32m    261\u001B[0m     \u001B[38;5;28mself\u001B[39m\u001B[38;5;241m.\u001B[39m_save()\n",
      "File \u001B[1;32m~\\anaconda3\\Lib\\site-packages\\pandas\\io\\common.py:734\u001B[0m, in \u001B[0;36mget_handle\u001B[1;34m(path_or_buf, mode, encoding, compression, memory_map, is_text, errors, storage_options)\u001B[0m\n\u001B[0;32m    732\u001B[0m \u001B[38;5;66;03m# Only for write methods\u001B[39;00m\n\u001B[0;32m    733\u001B[0m \u001B[38;5;28;01mif\u001B[39;00m \u001B[38;5;124m\"\u001B[39m\u001B[38;5;124mr\u001B[39m\u001B[38;5;124m\"\u001B[39m \u001B[38;5;129;01mnot\u001B[39;00m \u001B[38;5;129;01min\u001B[39;00m mode \u001B[38;5;129;01mand\u001B[39;00m is_path:\n\u001B[1;32m--> 734\u001B[0m     check_parent_directory(\u001B[38;5;28mstr\u001B[39m(handle))\n\u001B[0;32m    736\u001B[0m \u001B[38;5;28;01mif\u001B[39;00m compression:\n\u001B[0;32m    737\u001B[0m     \u001B[38;5;28;01mif\u001B[39;00m compression \u001B[38;5;241m!=\u001B[39m \u001B[38;5;124m\"\u001B[39m\u001B[38;5;124mzstd\u001B[39m\u001B[38;5;124m\"\u001B[39m:\n\u001B[0;32m    738\u001B[0m         \u001B[38;5;66;03m# compression libraries do not like an explicit text-mode\u001B[39;00m\n",
      "File \u001B[1;32m~\\anaconda3\\Lib\\site-packages\\pandas\\io\\common.py:597\u001B[0m, in \u001B[0;36mcheck_parent_directory\u001B[1;34m(path)\u001B[0m\n\u001B[0;32m    595\u001B[0m parent \u001B[38;5;241m=\u001B[39m Path(path)\u001B[38;5;241m.\u001B[39mparent\n\u001B[0;32m    596\u001B[0m \u001B[38;5;28;01mif\u001B[39;00m \u001B[38;5;129;01mnot\u001B[39;00m parent\u001B[38;5;241m.\u001B[39mis_dir():\n\u001B[1;32m--> 597\u001B[0m     \u001B[38;5;28;01mraise\u001B[39;00m \u001B[38;5;167;01mOSError\u001B[39;00m(\u001B[38;5;124mrf\u001B[39m\u001B[38;5;124m\"\u001B[39m\u001B[38;5;124mCannot save file into a non-existent directory: \u001B[39m\u001B[38;5;124m'\u001B[39m\u001B[38;5;132;01m{\u001B[39;00mparent\u001B[38;5;132;01m}\u001B[39;00m\u001B[38;5;124m'\u001B[39m\u001B[38;5;124m\"\u001B[39m)\n",
      "\u001B[1;31mOSError\u001B[0m: Cannot save file into a non-existent directory: '\\content\\drive\\MyDrive\\output'"
     ]
    }
   ]
  },
  {
   "cell_type": "markdown",
   "source": [
    "# Data Preparation\n",
    "## Numerical Values"
   ],
   "metadata": {
    "id": "5aTnxhnNXthS"
   }
  },
  {
   "cell_type": "code",
   "source": [
    "dataset1.info()"
   ],
   "metadata": {
    "colab": {
     "base_uri": "https://localhost:8080/"
    },
    "id": "-ALRqVH3gHiW",
    "outputId": "38e67ddb-45e3-486e-c225-08d4639bc310",
    "ExecuteTime": {
     "start_time": "2024-01-18T11:16:14.850311100Z"
    }
   },
   "execution_count": null,
   "outputs": []
  },
  {
   "cell_type": "code",
   "source": [],
   "metadata": {
    "id": "1nbi5Ma3uNqM",
    "ExecuteTime": {
     "start_time": "2024-01-18T11:16:14.851328700Z"
    }
   },
   "execution_count": null,
   "outputs": []
  },
  {
   "cell_type": "code",
   "source": [],
   "metadata": {
    "id": "lE5oev0GuQAe",
    "ExecuteTime": {
     "start_time": "2024-01-18T11:16:14.852342300Z"
    }
   },
   "execution_count": null,
   "outputs": []
  }
 ]
}
